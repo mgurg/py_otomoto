{
 "cells": [
  {
   "cell_type": "markdown",
   "metadata": {},
   "source": [
    "# Toyota Yaris II -  price prediction (draft)\n"
   ]
  },
  {
   "cell_type": "markdown",
   "metadata": {},
   "source": [
    "Notebook do analizy cen samochodu Yaris II"
   ]
  },
  {
   "cell_type": "markdown",
   "metadata": {},
   "source": [
    "## Wczytanie i przegląd danych"
   ]
  },
  {
   "cell_type": "code",
   "execution_count": 172,
   "metadata": {},
   "outputs": [
    {
     "name": "stdout",
     "output_type": "stream",
     "text": [
      "Wall time: 17 ms\n"
     ]
    },
    {
     "data": {
      "text/html": [
       "<div>\n",
       "<style scoped>\n",
       "    .dataframe tbody tr th:only-of-type {\n",
       "        vertical-align: middle;\n",
       "    }\n",
       "\n",
       "    .dataframe tbody tr th {\n",
       "        vertical-align: top;\n",
       "    }\n",
       "\n",
       "    .dataframe thead th {\n",
       "        text-align: right;\n",
       "    }\n",
       "</style>\n",
       "<table border=\"1\" class=\"dataframe\">\n",
       "  <thead>\n",
       "    <tr style=\"text-align: right;\">\n",
       "      <th></th>\n",
       "      <th>offer_id</th>\n",
       "      <th>s_date</th>\n",
       "      <th>e_date</th>\n",
       "      <th>private_business</th>\n",
       "      <th>region</th>\n",
       "      <th>city</th>\n",
       "      <th>model</th>\n",
       "      <th>year</th>\n",
       "      <th>mileage</th>\n",
       "      <th>engine_capacity</th>\n",
       "      <th>...</th>\n",
       "      <th>transmission</th>\n",
       "      <th>door_count</th>\n",
       "      <th>nr_seats</th>\n",
       "      <th>color</th>\n",
       "      <th>features</th>\n",
       "      <th>price</th>\n",
       "      <th>price_raw</th>\n",
       "      <th>currency</th>\n",
       "      <th>country_origin</th>\n",
       "      <th>registration</th>\n",
       "    </tr>\n",
       "  </thead>\n",
       "  <tbody>\n",
       "    <tr>\n",
       "      <th>0</th>\n",
       "      <td>6005738641</td>\n",
       "      <td>2020-04-17</td>\n",
       "      <td>2020-05-11</td>\n",
       "      <td>business</td>\n",
       "      <td>malopolskie</td>\n",
       "      <td>krakow</td>\n",
       "      <td>yaris</td>\n",
       "      <td>2009</td>\n",
       "      <td>111000</td>\n",
       "      <td>1000</td>\n",
       "      <td>...</td>\n",
       "      <td>front-wheel</td>\n",
       "      <td>5</td>\n",
       "      <td>5</td>\n",
       "      <td>grey</td>\n",
       "      <td>0</td>\n",
       "      <td>6200</td>\n",
       "      <td>6200.0</td>\n",
       "      <td>0</td>\n",
       "      <td>f</td>\n",
       "      <td>0</td>\n",
       "    </tr>\n",
       "    <tr>\n",
       "      <th>1</th>\n",
       "      <td>6018694885</td>\n",
       "      <td>2020-04-17</td>\n",
       "      <td>2020-05-11</td>\n",
       "      <td>business</td>\n",
       "      <td>warminsko-mazurskie</td>\n",
       "      <td>ostroda</td>\n",
       "      <td>yaris</td>\n",
       "      <td>2008</td>\n",
       "      <td>45706</td>\n",
       "      <td>998</td>\n",
       "      <td>...</td>\n",
       "      <td>0</td>\n",
       "      <td>3</td>\n",
       "      <td>5</td>\n",
       "      <td>white</td>\n",
       "      <td>abs central-lock electronic-immobiliser front-...</td>\n",
       "      <td>4700</td>\n",
       "      <td>4700.0</td>\n",
       "      <td>0</td>\n",
       "      <td>pl</td>\n",
       "      <td>0</td>\n",
       "    </tr>\n",
       "    <tr>\n",
       "      <th>2</th>\n",
       "      <td>6025678407</td>\n",
       "      <td>2020-04-17</td>\n",
       "      <td>2020-05-11</td>\n",
       "      <td>business</td>\n",
       "      <td>mazowieckie</td>\n",
       "      <td>milanowek</td>\n",
       "      <td>yaris</td>\n",
       "      <td>2009</td>\n",
       "      <td>174000</td>\n",
       "      <td>1300</td>\n",
       "      <td>...</td>\n",
       "      <td>0</td>\n",
       "      <td>5</td>\n",
       "      <td>5</td>\n",
       "      <td>silver</td>\n",
       "      <td>abs cd central-lock front-electric-windows ele...</td>\n",
       "      <td>19800</td>\n",
       "      <td>19800.0</td>\n",
       "      <td>0</td>\n",
       "      <td>0</td>\n",
       "      <td>0</td>\n",
       "    </tr>\n",
       "  </tbody>\n",
       "</table>\n",
       "<p>3 rows × 24 columns</p>\n",
       "</div>"
      ],
      "text/plain": [
       "     offer_id      s_date      e_date private_business               region  \\\n",
       "0  6005738641  2020-04-17  2020-05-11         business          malopolskie   \n",
       "1  6018694885  2020-04-17  2020-05-11         business  warminsko-mazurskie   \n",
       "2  6025678407  2020-04-17  2020-05-11         business          mazowieckie   \n",
       "\n",
       "        city  model  year  mileage  engine_capacity  ... transmission  \\\n",
       "0     krakow  yaris  2009   111000             1000  ...  front-wheel   \n",
       "1    ostroda  yaris  2008    45706              998  ...            0   \n",
       "2  milanowek  yaris  2009   174000             1300  ...            0   \n",
       "\n",
       "  door_count  nr_seats   color  \\\n",
       "0          5         5    grey   \n",
       "1          3         5   white   \n",
       "2          5         5  silver   \n",
       "\n",
       "                                            features  price  price_raw  \\\n",
       "0                                                  0   6200     6200.0   \n",
       "1  abs central-lock electronic-immobiliser front-...   4700     4700.0   \n",
       "2  abs cd central-lock front-electric-windows ele...  19800    19800.0   \n",
       "\n",
       "  currency country_origin  registration  \n",
       "0        0              f             0  \n",
       "1        0             pl             0  \n",
       "2        0              0             0  \n",
       "\n",
       "[3 rows x 24 columns]"
      ]
     },
     "execution_count": 172,
     "metadata": {},
     "output_type": "execute_result"
    }
   ],
   "source": [
    "import pandas as pd\n",
    "import numpy as np\n",
    "import sqlite3\n",
    "\n",
    "import warnings\n",
    "warnings.filterwarnings(\"ignore\")\n",
    "\n",
    "%matplotlib inline\n",
    "import matplotlib.pyplot as plt\n",
    "import seaborn as sns\n",
    "\n",
    "def get_view_data():\n",
    "    sql_query = \"\"\"SELECT * FROM v_cars\"\"\"\n",
    "    conn = sqlite3.connect(\"pythonsqlite.db\")\n",
    "    data = pd.read_sql_query(sql_query, conn)\n",
    "    conn.close()\n",
    "    return data\n",
    "\n",
    "def get_data():\n",
    "    sql_query =\"\"\"\n",
    "SELECT \n",
    "    all_offers.offer_id,otomoto_all.s_date, otomoto_all.e_date, all_offers.private_business, all_offers.region,\n",
    "    all_offers.city, all_offers.model, all_offers.year, all_offers.mileage, all_offers.engine_capacity, all_offers.vin,\n",
    "    all_offers.fuel_type, all_offers.engine_power, all_offers.gearbox, all_offers.transmission, all_offers.door_count,\n",
    "    all_offers.nr_seats, all_offers.color, all_offers.features,otomoto_all.price, all_offers.price_raw, all_offers.currency, \n",
    "    all_offers.country_origin, all_offers.registration\n",
    "FROM \n",
    "    otomoto_all, all_offers\n",
    "WHERE \n",
    "    otomoto_all.uid = all_offers.uid; \n",
    "\"\"\"\n",
    "\n",
    "    conn = sqlite3.connect(\"pythonsqlite.db\")\n",
    "    data = pd.read_sql_query(sql_query, conn)\n",
    "    conn.close()\n",
    "    return data\n",
    "\n",
    "#%time df = get_data() #~13 ms\n",
    "%time df = get_view_data() #~13 ms\n",
    "\n",
    "#%time for i in range(3000): df = get_data()\n",
    "\n",
    "df.head(3)"
   ]
  },
  {
   "cell_type": "code",
   "execution_count": 173,
   "metadata": {},
   "outputs": [
    {
     "name": "stdout",
     "output_type": "stream",
     "text": [
      "<class 'pandas.core.frame.DataFrame'>\n",
      "RangeIndex: 357 entries, 0 to 356\n",
      "Data columns (total 24 columns):\n",
      " #   Column            Non-Null Count  Dtype  \n",
      "---  ------            --------------  -----  \n",
      " 0   offer_id          357 non-null    int64  \n",
      " 1   s_date            357 non-null    object \n",
      " 2   e_date            357 non-null    object \n",
      " 3   private_business  357 non-null    object \n",
      " 4   region            357 non-null    object \n",
      " 5   city              357 non-null    object \n",
      " 6   model             357 non-null    object \n",
      " 7   year              357 non-null    int64  \n",
      " 8   mileage           357 non-null    int64  \n",
      " 9   engine_capacity   357 non-null    int64  \n",
      " 10  vin               357 non-null    object \n",
      " 11  fuel_type         357 non-null    object \n",
      " 12  engine_power      357 non-null    int64  \n",
      " 13  gearbox           357 non-null    object \n",
      " 14  transmission      357 non-null    object \n",
      " 15  door_count        357 non-null    int64  \n",
      " 16  nr_seats          357 non-null    int64  \n",
      " 17  color             357 non-null    object \n",
      " 18  features          357 non-null    object \n",
      " 19  price             357 non-null    int64  \n",
      " 20  price_raw         357 non-null    float64\n",
      " 21  currency          357 non-null    object \n",
      " 22  country_origin    357 non-null    object \n",
      " 23  registration      357 non-null    object \n",
      "dtypes: float64(1), int64(8), object(15)\n",
      "memory usage: 67.1+ KB\n"
     ]
    }
   ],
   "source": [
    "df.info()"
   ]
  },
  {
   "cell_type": "code",
   "execution_count": 174,
   "metadata": {},
   "outputs": [],
   "source": [
    "def check_missing():\n",
    "    for column in df.columns:\n",
    "        missing = column, df[column].isnull().sum()\n",
    "        if missing[1] == 0: continue\n",
    "\n",
    "        print(missing)\n",
    "        \n",
    "check_missing()"
   ]
  },
  {
   "cell_type": "markdown",
   "metadata": {},
   "source": [
    "## Porządkowanie danych"
   ]
  },
  {
   "cell_type": "code",
   "execution_count": 120,
   "metadata": {},
   "outputs": [
    {
     "name": "stdout",
     "output_type": "stream",
     "text": [
      "offer_id:  int64\n",
      "offer_id:  303 MIN: 6005738641 MAX: 6074411247\n"
     ]
    }
   ],
   "source": [
    "# offer_id - numer oferty\n",
    "print('offer_id: ', df['offer_id'].dtypes)\n",
    "print('offer_id: ', df['offer_id'].nunique(), 'MIN:', df['offer_id'].min(), 'MAX:', df['offer_id'].max())\n",
    "\n",
    "df['offer_id'] = pd.to_numeric (df['offer_id'], downcast='unsigned')"
   ]
  },
  {
   "cell_type": "markdown",
   "metadata": {},
   "source": [
    "### s_date / e_date"
   ]
  },
  {
   "cell_type": "code",
   "execution_count": 121,
   "metadata": {},
   "outputs": [
    {
     "name": "stdout",
     "output_type": "stream",
     "text": [
      "s_date:  object\n",
      "e_date:  object\n"
     ]
    }
   ],
   "source": [
    "# s_date - data publikacji ogłoszenia \n",
    "# e_date - data końca ogłoszenia\n",
    "\n",
    "print('s_date: ', df['s_date'].dtypes)\n",
    "print('e_date: ', df['e_date'].dtypes)"
   ]
  },
  {
   "cell_type": "code",
   "execution_count": 122,
   "metadata": {},
   "outputs": [
    {
     "name": "stdout",
     "output_type": "stream",
     "text": [
      "s_date:  datetime64[ns]\n",
      "e_date:  datetime64[ns]\n"
     ]
    }
   ],
   "source": [
    "df['s_date'] = pd.to_datetime(df['s_date']) \n",
    "df['e_date'] = pd.to_datetime(df['e_date'])\n",
    "print('s_date: ', df['s_date'].dtypes)\n",
    "print('e_date: ', df['e_date'].dtypes)"
   ]
  },
  {
   "cell_type": "markdown",
   "metadata": {},
   "source": [
    "### private_business"
   ]
  },
  {
   "cell_type": "code",
   "execution_count": 123,
   "metadata": {},
   "outputs": [
    {
     "name": "stdout",
     "output_type": "stream",
     "text": [
      "private_business:  object\n",
      "private_business:  ['business' 'private']\n"
     ]
    }
   ],
   "source": [
    "# private_business\n",
    "\n",
    "print('private_business: ', df['private_business'].dtypes)\n",
    "print('private_business: ', df['private_business'].unique())"
   ]
  },
  {
   "cell_type": "code",
   "execution_count": 124,
   "metadata": {},
   "outputs": [
    {
     "name": "stdout",
     "output_type": "stream",
     "text": [
      "private_business:  int32\n",
      "private_business:  [1 0]\n"
     ]
    }
   ],
   "source": [
    "# business : 1\n",
    "# private : 0\n",
    "\n",
    "df['private_business'] = df['private_business'].apply(lambda x : str(x) == 'business' )\n",
    "df['private_business'] = df['private_business'].astype(int)\n",
    "\n",
    "print('private_business: ', df['private_business'].dtypes)\n",
    "print('private_business: ', df['private_business'].unique())"
   ]
  },
  {
   "cell_type": "markdown",
   "metadata": {},
   "source": [
    "### Region / City / Model"
   ]
  },
  {
   "cell_type": "code",
   "execution_count": 125,
   "metadata": {},
   "outputs": [
    {
     "name": "stdout",
     "output_type": "stream",
     "text": [
      "region:  object\n",
      "region:  ['malopolskie' 'warminsko-mazurskie' 'mazowieckie' 'dolnoslaskie'\n",
      " 'wielkopolskie' 'slaskie' 'podkarpackie' 'podlaskie' 'lodzkie'\n",
      " 'zachodniopomorskie' 'lubelskie' 'swietokrzyskie' 'opolskie'\n",
      " 'kujawsko-pomorskie' 'lubuskie' 'pomorskie']\n"
     ]
    }
   ],
   "source": [
    "# region \n",
    "print('region: ', df['region'].dtypes)\n",
    "print('region: ', df['region'].unique())"
   ]
  },
  {
   "cell_type": "code",
   "execution_count": 126,
   "metadata": {},
   "outputs": [
    {
     "name": "stdout",
     "output_type": "stream",
     "text": [
      "city:  object\n",
      "city:  159\n"
     ]
    }
   ],
   "source": [
    "# city\n",
    "print('city: ', df['city'].dtypes)\n",
    "print('city: ', df['city'].nunique())"
   ]
  },
  {
   "cell_type": "code",
   "execution_count": 127,
   "metadata": {},
   "outputs": [
    {
     "name": "stdout",
     "output_type": "stream",
     "text": [
      "model:  object\n",
      "model:  ['yaris']\n"
     ]
    }
   ],
   "source": [
    "# model\n",
    "print('model: ', df['model'].dtypes)\n",
    "print('model: ', df['model'].unique())"
   ]
  },
  {
   "cell_type": "code",
   "execution_count": 128,
   "metadata": {},
   "outputs": [
    {
     "name": "stdout",
     "output_type": "stream",
     "text": [
      "year:  int64\n",
      "year:  [2009 2008 2006 2005 2007 2010 2011 2002 2014 2016]\n"
     ]
    }
   ],
   "source": [
    "# year - lata produkcji Yaris II: 2005 - 2011\n",
    "print('year: ', df['year'].dtypes)\n",
    "print('year: ', df['year'].unique())"
   ]
  },
  {
   "cell_type": "code",
   "execution_count": 129,
   "metadata": {},
   "outputs": [
    {
     "name": "stdout",
     "output_type": "stream",
     "text": [
      "mileage:  int64\n",
      "mileage:  217\n",
      "MIN:  9100 MAX:  410000\n"
     ]
    }
   ],
   "source": [
    "# mileage\n",
    "print('mileage: ', df['mileage'].dtypes)\n",
    "print('mileage: ', df['mileage'].nunique())\n",
    "print('MIN: ', df['mileage'].min(), 'MAX: ', df['mileage'].max())"
   ]
  },
  {
   "cell_type": "markdown",
   "metadata": {},
   "source": [
    "### Engine Capacity"
   ]
  },
  {
   "cell_type": "code",
   "execution_count": 130,
   "metadata": {},
   "outputs": [
    {
     "name": "stdout",
     "output_type": "stream",
     "text": [
      "engine_capacity:  int64\n",
      "engine_capacity:  [1000  998 1300 1364 1298 1400 1398 1329    0 1798 1323  966 1324  996\n",
      "  988 1332 1296  999 1290 1335 1333]\n"
     ]
    }
   ],
   "source": [
    "# engine capacity\n",
    "print('engine_capacity: ', df['engine_capacity'].dtypes)\n",
    "print('engine_capacity: ', df['engine_capacity'].unique())"
   ]
  },
  {
   "cell_type": "markdown",
   "metadata": {},
   "source": [
    "Wg portalu Autocentrum w tym modelu były dostępne następujące wersje silnikowe:\n",
    "\n",
    "Benzyna:\n",
    "- 1.0  VVT-i      69KM 51kW (2005-2011) - 998 cm3, 5MT\n",
    "\n",
    "- 1.3i VVT-i      86KM 63kW (2005-2010) - 1296 cm3, 5MT\n",
    "\n",
    "- 1.33 Dual VVT-i 101KM 74kW (2009-2011) - 1329 cm3, 6MT\n",
    "\n",
    "- 1.8i VVT-i      133KM 98kW (2005-2010) - 1798 cm3, 6MT\n",
    "\n",
    "Diesel:\n",
    "- 1.4 D-4D 90KM 66kW (2005-2011) - 1364 cm3, 5MT"
   ]
  },
  {
   "cell_type": "markdown",
   "metadata": {},
   "source": [
    "### VIN"
   ]
  },
  {
   "cell_type": "code",
   "execution_count": 131,
   "metadata": {},
   "outputs": [
    {
     "name": "stdout",
     "output_type": "stream",
     "text": [
      "vin:  object\n",
      "vin:  ['0']\n"
     ]
    }
   ],
   "source": [
    "# vin\n",
    "print('vin: ', df['vin'].dtypes)\n",
    "print('vin: ', df['vin'].unique())"
   ]
  },
  {
   "cell_type": "markdown",
   "metadata": {},
   "source": [
    "W żadnym ogłoszeniu nie był podany numer VIN"
   ]
  },
  {
   "cell_type": "code",
   "execution_count": 132,
   "metadata": {},
   "outputs": [
    {
     "name": "stdout",
     "output_type": "stream",
     "text": [
      "fuel_type:  object\n",
      "fuel_type:  ['petrol' 'diesel' 'petrol-lpg']\n"
     ]
    }
   ],
   "source": [
    "# fuel_type\n",
    "print('fuel_type: ', df['fuel_type'].dtypes)\n",
    "print('fuel_type: ', df['fuel_type'].unique())"
   ]
  },
  {
   "cell_type": "code",
   "execution_count": 133,
   "metadata": {},
   "outputs": [
    {
     "name": "stdout",
     "output_type": "stream",
     "text": [
      "engine_power:  int64\n",
      "engine_power:  [  0 100  87  90  86  69 101  70  82 133  68  88  80  66  99  72  65 103\n",
      "  85  97  67  51]\n"
     ]
    }
   ],
   "source": [
    "# engine_power - Moc W KM\n",
    "# 1kW = 1,36 KM\n",
    "# Powinno być: Benzyna: 69, 86, 101,133 Diesel: 90 \n",
    "\n",
    "print('engine_power: ', df['engine_power'].dtypes)\n",
    "print('engine_power: ', df['engine_power'].unique())\n"
   ]
  },
  {
   "cell_type": "code",
   "execution_count": 134,
   "metadata": {},
   "outputs": [
    {
     "name": "stdout",
     "output_type": "stream",
     "text": [
      "gearbox:  object\n",
      "gearbox:  ['manual' 'semi-automatic' '0' 'automatic' 'automatic-sequential']\n"
     ]
    }
   ],
   "source": [
    "# gearbox\n",
    "\n",
    "print('gearbox: ', df['gearbox'].dtypes)\n",
    "print('gearbox: ', df['gearbox'].unique())"
   ]
  },
  {
   "cell_type": "code",
   "execution_count": 135,
   "metadata": {},
   "outputs": [
    {
     "name": "stdout",
     "output_type": "stream",
     "text": [
      "transmission:  object\n",
      "transmission:  ['front-wheel' '0' 'rear-wheel']\n"
     ]
    }
   ],
   "source": [
    "# transmission\n",
    "# Yaris II występował wyłącznie z napędem na przód\n",
    "\n",
    "print('transmission: ', df['transmission'].dtypes)\n",
    "print('transmission: ', df['transmission'].unique())"
   ]
  },
  {
   "cell_type": "code",
   "execution_count": 136,
   "metadata": {},
   "outputs": [
    {
     "name": "stdout",
     "output_type": "stream",
     "text": [
      "door_count:  int64\n",
      "door_count:  [5 3 0 4]\n"
     ]
    }
   ],
   "source": [
    "# door_count\n",
    "print('door_count: ', df['door_count'].dtypes)\n",
    "print('door_count: ', df['door_count'].unique())"
   ]
  },
  {
   "cell_type": "code",
   "execution_count": 137,
   "metadata": {},
   "outputs": [
    {
     "name": "stdout",
     "output_type": "stream",
     "text": [
      "nr_seats:  int64\n",
      "nr_seats:  [5 0 6 4 2]\n"
     ]
    }
   ],
   "source": [
    "# nr_seats\n",
    "print('nr_seats: ', df['nr_seats'].dtypes)\n",
    "print('nr_seats: ', df['nr_seats'].unique())"
   ]
  },
  {
   "cell_type": "code",
   "execution_count": 138,
   "metadata": {},
   "outputs": [
    {
     "name": "stdout",
     "output_type": "stream",
     "text": [
      "color:  object\n",
      "color:  ['grey' 'white' 'silver' 'red' 'blue' 'other' 'black' 'yellow-gold'\n",
      " 'green' 'yellow' 'brown-beige']\n"
     ]
    }
   ],
   "source": [
    "# color\n",
    "print('color: ', df['color'].dtypes)\n",
    "print('color: ', df['color'].unique())"
   ]
  },
  {
   "cell_type": "code",
   "execution_count": 139,
   "metadata": {},
   "outputs": [
    {
     "name": "stdout",
     "output_type": "stream",
     "text": [
      "price:  int64\n",
      "price:  102\n",
      "price_raw:  float64\n",
      "price_raw:  113\n"
     ]
    }
   ],
   "source": [
    "# price\n",
    "print('price: ', df['price'].dtypes)\n",
    "print('price: ', df['price'].nunique())\n",
    "\n",
    "# price_raw\n",
    "print('price_raw: ', df['price_raw'].dtypes)\n",
    "print('price_raw: ', df['price_raw'].nunique())"
   ]
  },
  {
   "cell_type": "code",
   "execution_count": 140,
   "metadata": {},
   "outputs": [
    {
     "name": "stdout",
     "output_type": "stream",
     "text": [
      "currency:  object\n",
      "currency:  ['0']\n"
     ]
    }
   ],
   "source": [
    "# currency\n",
    "print('currency: ', df['currency'].dtypes)\n",
    "print('currency: ', df['currency'].unique())"
   ]
  },
  {
   "cell_type": "code",
   "execution_count": 141,
   "metadata": {},
   "outputs": [
    {
     "name": "stdout",
     "output_type": "stream",
     "text": [
      "country_origin:  object\n",
      "country_origin:  ['f' 'pl' '0' 'd' 'b' 'nl' 'a' 'i' 'gb' 'dk' 's']\n"
     ]
    }
   ],
   "source": [
    "# country_origin\n",
    "print('country_origin: ', df['country_origin'].dtypes)\n",
    "print('country_origin: ', df['country_origin'].unique())\n",
    "\n",
    "countries = {\n",
    "    'f' : 'France',\n",
    "    'pl' : 'Poland',\n",
    "    'd' : 'Germany',\n",
    "    'b' : 'Belgium',\n",
    "    'nl' : 'Nederlands',\n",
    "    'a': 'Austria',\n",
    "    'i' : 'Italy',\n",
    "    'gb' : 'Great Britan',\n",
    "    'dk' : 'Denmark',\n",
    "    's' : 'Sweden'\n",
    "}"
   ]
  },
  {
   "cell_type": "code",
   "execution_count": 142,
   "metadata": {},
   "outputs": [
    {
     "name": "stdout",
     "output_type": "stream",
     "text": [
      "registration:  object\n",
      "registration:  ['0' 'RST19536' 'ZGR VH37' 'RZE68062' 'FZ7305M' 'FZ7556M' 'ZDR 16488'\n",
      " 'FZ7496M' 'K WV2222' 'LRY 84LR' 'KBC 72163' 'DJ91837' 'TKI8551A' 'XGK506'\n",
      " 'RZE 74732' 'CG34523' 'RBR28917' 'ZMY 705AJ' 'XUM146' 'FNW53TF'\n",
      " 'WY 98871' 'FMI 54886' 'WZY11627' 'TK 2396F' 'PK6174K']\n"
     ]
    }
   ],
   "source": [
    "# registration\n",
    "print('registration: ', df['registration'].dtypes)\n",
    "print('registration: ', df['registration'].unique())"
   ]
  },
  {
   "cell_type": "markdown",
   "metadata": {},
   "source": [
    "---"
   ]
  },
  {
   "cell_type": "code",
   "execution_count": 143,
   "metadata": {},
   "outputs": [
    {
     "data": {
      "image/png": "[encoded data removed]",
      "text/plain": [
       "<Figure size 1440x1080 with 12 Axes>"
      ]
     },
     "metadata": {
      "needs_background": "light"
     },
     "output_type": "display_data"
    }
   ],
   "source": [
    "df.hist(bins=50,figsize=(20,15))\n",
    "plt.show()"
   ]
  },
  {
   "cell_type": "code",
   "execution_count": 144,
   "metadata": {},
   "outputs": [
    {
     "name": "stdout",
     "output_type": "stream",
     "text": [
      "Wall time: 19 ms\n"
     ]
    }
   ],
   "source": [
    "def optimize_df():\n",
    "    #df['offer_id'] = df['offer_id'].astype(np.uint32)\n",
    "    df['offer_id'] = pd.to_numeric (df['offer_id'], downcast='unsigned')\n",
    "    df['s_date'] = pd.to_datetime(df['s_date']) \n",
    "    df['e_date'] = pd.to_datetime(df['e_date']) \n",
    "    df['private_business'] = df['private_business'].apply(lambda x : str(x) == 'business')\n",
    "    df['year'] = pd.to_numeric(df['year'], downcast='unsigned')\n",
    "    df['mileage'] = pd.to_numeric(df['mileage'], downcast='unsigned')\n",
    "    df['engine_capacity'] = pd.to_numeric(df['engine_capacity'], downcast='unsigned')\n",
    "    df['engine_power'] = pd.to_numeric(df['engine_power'], downcast='unsigned')\n",
    "    df['door_count'] = pd.to_numeric(df['door_count'], downcast='unsigned')\n",
    "    df['nr_seats'] = pd.to_numeric(df['nr_seats'], downcast='unsigned')\n",
    "    df['price'] = pd.to_numeric(df['price'], downcast='float')\n",
    "    df['price_raw'] = pd.to_numeric(df['price_raw'], downcast='float')\n",
    "    \n",
    "%time optimize_df()    "
   ]
  },
  {
   "cell_type": "markdown",
   "metadata": {},
   "source": [
    "## Feature engineering"
   ]
  },
  {
   "cell_type": "code",
   "execution_count": 145,
   "metadata": {},
   "outputs": [
    {
     "name": "stdout",
     "output_type": "stream",
     "text": [
      "Wall time: 38.6 ms\n"
     ]
    }
   ],
   "source": [
    "def general_features():\n",
    "    df['duration'] = (df['e_date'] - df['s_date']).dt.days.astype(np.uint16)\n",
    "    df['price_chng'] = (df['price'] - df['price_raw'])\n",
    "    #df['active'] = df['duration'].apply()\n",
    "    \n",
    "%time general_features()"
   ]
  },
  {
   "cell_type": "code",
   "execution_count": 146,
   "metadata": {},
   "outputs": [
    {
     "data": {
      "text/html": [
       "<div>\n",
       "<style scoped>\n",
       "    .dataframe tbody tr th:only-of-type {\n",
       "        vertical-align: middle;\n",
       "    }\n",
       "\n",
       "    .dataframe tbody tr th {\n",
       "        vertical-align: top;\n",
       "    }\n",
       "\n",
       "    .dataframe thead th {\n",
       "        text-align: right;\n",
       "    }\n",
       "</style>\n",
       "<table border=\"1\" class=\"dataframe\">\n",
       "  <thead>\n",
       "    <tr style=\"text-align: right;\">\n",
       "      <th></th>\n",
       "      <th>offer_id</th>\n",
       "      <th>s_date</th>\n",
       "      <th>e_date</th>\n",
       "      <th>private_business</th>\n",
       "      <th>region</th>\n",
       "      <th>city</th>\n",
       "      <th>model</th>\n",
       "      <th>year</th>\n",
       "      <th>mileage</th>\n",
       "      <th>engine_capacity</th>\n",
       "      <th>...</th>\n",
       "      <th>nr_seats</th>\n",
       "      <th>color</th>\n",
       "      <th>features</th>\n",
       "      <th>price</th>\n",
       "      <th>price_raw</th>\n",
       "      <th>currency</th>\n",
       "      <th>country_origin</th>\n",
       "      <th>registration</th>\n",
       "      <th>duration</th>\n",
       "      <th>price_chng</th>\n",
       "    </tr>\n",
       "  </thead>\n",
       "  <tbody>\n",
       "    <tr>\n",
       "      <th>24</th>\n",
       "      <td>6057452887</td>\n",
       "      <td>2020-04-17</td>\n",
       "      <td>2020-05-06</td>\n",
       "      <td>False</td>\n",
       "      <td>malopolskie</td>\n",
       "      <td>miechow</td>\n",
       "      <td>yaris</td>\n",
       "      <td>2006</td>\n",
       "      <td>172000</td>\n",
       "      <td>998</td>\n",
       "      <td>...</td>\n",
       "      <td>5</td>\n",
       "      <td>silver</td>\n",
       "      <td>abs cd central-lock front-electric-windows ele...</td>\n",
       "      <td>14900.0</td>\n",
       "      <td>14900.0</td>\n",
       "      <td>0</td>\n",
       "      <td>0</td>\n",
       "      <td>0</td>\n",
       "      <td>19</td>\n",
       "      <td>0.0</td>\n",
       "    </tr>\n",
       "    <tr>\n",
       "      <th>227</th>\n",
       "      <td>6071058634</td>\n",
       "      <td>2020-04-17</td>\n",
       "      <td>2020-05-09</td>\n",
       "      <td>False</td>\n",
       "      <td>malopolskie</td>\n",
       "      <td>nowy-sacz</td>\n",
       "      <td>yaris</td>\n",
       "      <td>2011</td>\n",
       "      <td>190464</td>\n",
       "      <td>1329</td>\n",
       "      <td>...</td>\n",
       "      <td>5</td>\n",
       "      <td>black</td>\n",
       "      <td>abs cd central-lock front-electric-windows ele...</td>\n",
       "      <td>17899.0</td>\n",
       "      <td>17900.0</td>\n",
       "      <td>0</td>\n",
       "      <td>d</td>\n",
       "      <td>0</td>\n",
       "      <td>22</td>\n",
       "      <td>-1.0</td>\n",
       "    </tr>\n",
       "    <tr>\n",
       "      <th>43</th>\n",
       "      <td>6062169696</td>\n",
       "      <td>2020-04-17</td>\n",
       "      <td>2020-05-09</td>\n",
       "      <td>False</td>\n",
       "      <td>zachodniopomorskie</td>\n",
       "      <td>szczecin</td>\n",
       "      <td>yaris</td>\n",
       "      <td>2008</td>\n",
       "      <td>250000</td>\n",
       "      <td>998</td>\n",
       "      <td>...</td>\n",
       "      <td>5</td>\n",
       "      <td>silver</td>\n",
       "      <td>abs cd central-lock front-electric-windows ele...</td>\n",
       "      <td>11900.0</td>\n",
       "      <td>11900.0</td>\n",
       "      <td>0</td>\n",
       "      <td>pl</td>\n",
       "      <td>0</td>\n",
       "      <td>22</td>\n",
       "      <td>0.0</td>\n",
       "    </tr>\n",
       "  </tbody>\n",
       "</table>\n",
       "<p>3 rows × 26 columns</p>\n",
       "</div>"
      ],
      "text/plain": [
       "       offer_id     s_date     e_date  private_business              region  \\\n",
       "24   6057452887 2020-04-17 2020-05-06             False         malopolskie   \n",
       "227  6071058634 2020-04-17 2020-05-09             False         malopolskie   \n",
       "43   6062169696 2020-04-17 2020-05-09             False  zachodniopomorskie   \n",
       "\n",
       "          city  model  year  mileage  engine_capacity  ... nr_seats   color  \\\n",
       "24     miechow  yaris  2006   172000              998  ...        5  silver   \n",
       "227  nowy-sacz  yaris  2011   190464             1329  ...        5   black   \n",
       "43    szczecin  yaris  2008   250000              998  ...        5  silver   \n",
       "\n",
       "                                              features    price price_raw  \\\n",
       "24   abs cd central-lock front-electric-windows ele...  14900.0   14900.0   \n",
       "227  abs cd central-lock front-electric-windows ele...  17899.0   17900.0   \n",
       "43   abs cd central-lock front-electric-windows ele...  11900.0   11900.0   \n",
       "\n",
       "     currency  country_origin registration duration  price_chng  \n",
       "24          0               0            0       19         0.0  \n",
       "227         0               d            0       22        -1.0  \n",
       "43          0              pl            0       22         0.0  \n",
       "\n",
       "[3 rows x 26 columns]"
      ]
     },
     "execution_count": 146,
     "metadata": {},
     "output_type": "execute_result"
    }
   ],
   "source": [
    "df.sample(3)"
   ]
  },
  {
   "cell_type": "code",
   "execution_count": 147,
   "metadata": {},
   "outputs": [
    {
     "data": {
      "text/html": [
       "<div>\n",
       "<style scoped>\n",
       "    .dataframe tbody tr th:only-of-type {\n",
       "        vertical-align: middle;\n",
       "    }\n",
       "\n",
       "    .dataframe tbody tr th {\n",
       "        vertical-align: top;\n",
       "    }\n",
       "\n",
       "    .dataframe thead th {\n",
       "        text-align: right;\n",
       "    }\n",
       "</style>\n",
       "<table border=\"1\" class=\"dataframe\">\n",
       "  <thead>\n",
       "    <tr style=\"text-align: right;\">\n",
       "      <th></th>\n",
       "      <th>offer_id</th>\n",
       "      <th>s_date</th>\n",
       "      <th>e_date</th>\n",
       "      <th>private_business</th>\n",
       "      <th>region</th>\n",
       "      <th>city</th>\n",
       "      <th>model</th>\n",
       "      <th>year</th>\n",
       "      <th>mileage</th>\n",
       "      <th>engine_capacity</th>\n",
       "      <th>...</th>\n",
       "      <th>nr_seats</th>\n",
       "      <th>color</th>\n",
       "      <th>features</th>\n",
       "      <th>price</th>\n",
       "      <th>price_raw</th>\n",
       "      <th>currency</th>\n",
       "      <th>country_origin</th>\n",
       "      <th>registration</th>\n",
       "      <th>duration</th>\n",
       "      <th>price_chng</th>\n",
       "    </tr>\n",
       "  </thead>\n",
       "  <tbody>\n",
       "    <tr>\n",
       "      <th>6</th>\n",
       "      <td>6036867722</td>\n",
       "      <td>2020-04-17</td>\n",
       "      <td>2020-05-09</td>\n",
       "      <td>False</td>\n",
       "      <td>slaskie</td>\n",
       "      <td>raciborz</td>\n",
       "      <td>yaris</td>\n",
       "      <td>2008</td>\n",
       "      <td>153000</td>\n",
       "      <td>1298</td>\n",
       "      <td>...</td>\n",
       "      <td>5</td>\n",
       "      <td>red</td>\n",
       "      <td>abs cd central-lock front-electric-windows ele...</td>\n",
       "      <td>13900.0</td>\n",
       "      <td>14900.000000</td>\n",
       "      <td>0</td>\n",
       "      <td>d</td>\n",
       "      <td>0</td>\n",
       "      <td>22</td>\n",
       "      <td>-1000.000000</td>\n",
       "    </tr>\n",
       "    <tr>\n",
       "      <th>13</th>\n",
       "      <td>6054649805</td>\n",
       "      <td>2020-04-20</td>\n",
       "      <td>2020-05-11</td>\n",
       "      <td>False</td>\n",
       "      <td>podlaskie</td>\n",
       "      <td>suwalki</td>\n",
       "      <td>yaris</td>\n",
       "      <td>2007</td>\n",
       "      <td>178560</td>\n",
       "      <td>1300</td>\n",
       "      <td>...</td>\n",
       "      <td>5</td>\n",
       "      <td>silver</td>\n",
       "      <td>abs cd central-lock front-electric-windows ele...</td>\n",
       "      <td>15900.0</td>\n",
       "      <td>16600.000000</td>\n",
       "      <td>0</td>\n",
       "      <td>d</td>\n",
       "      <td>0</td>\n",
       "      <td>21</td>\n",
       "      <td>-700.000000</td>\n",
       "    </tr>\n",
       "    <tr>\n",
       "      <th>45</th>\n",
       "      <td>6064542261</td>\n",
       "      <td>2020-04-17</td>\n",
       "      <td>2020-05-05</td>\n",
       "      <td>False</td>\n",
       "      <td>malopolskie</td>\n",
       "      <td>tarnow</td>\n",
       "      <td>yaris</td>\n",
       "      <td>2008</td>\n",
       "      <td>157000</td>\n",
       "      <td>1300</td>\n",
       "      <td>...</td>\n",
       "      <td>0</td>\n",
       "      <td>grey</td>\n",
       "      <td>abs cd central-lock front-electric-windows ele...</td>\n",
       "      <td>21900.0</td>\n",
       "      <td>14999.000000</td>\n",
       "      <td>0</td>\n",
       "      <td>d</td>\n",
       "      <td>0</td>\n",
       "      <td>18</td>\n",
       "      <td>6901.000000</td>\n",
       "    </tr>\n",
       "    <tr>\n",
       "      <th>60</th>\n",
       "      <td>6065857762</td>\n",
       "      <td>2020-04-19</td>\n",
       "      <td>2020-05-11</td>\n",
       "      <td>False</td>\n",
       "      <td>lodzkie</td>\n",
       "      <td>sieradz</td>\n",
       "      <td>yaris</td>\n",
       "      <td>2008</td>\n",
       "      <td>270981</td>\n",
       "      <td>998</td>\n",
       "      <td>...</td>\n",
       "      <td>5</td>\n",
       "      <td>silver</td>\n",
       "      <td>abs cd electronic-rearview-mirrors electronic-...</td>\n",
       "      <td>10999.0</td>\n",
       "      <td>11500.000000</td>\n",
       "      <td>0</td>\n",
       "      <td>0</td>\n",
       "      <td>0</td>\n",
       "      <td>22</td>\n",
       "      <td>-501.000000</td>\n",
       "    </tr>\n",
       "    <tr>\n",
       "      <th>85</th>\n",
       "      <td>6067672282</td>\n",
       "      <td>2020-04-17</td>\n",
       "      <td>2020-05-09</td>\n",
       "      <td>False</td>\n",
       "      <td>wielkopolskie</td>\n",
       "      <td>ostrzeszow</td>\n",
       "      <td>yaris</td>\n",
       "      <td>2007</td>\n",
       "      <td>410000</td>\n",
       "      <td>998</td>\n",
       "      <td>...</td>\n",
       "      <td>2</td>\n",
       "      <td>silver</td>\n",
       "      <td>abs cd central-lock electronic-immobiliser fro...</td>\n",
       "      <td>5400.0</td>\n",
       "      <td>4390.240234</td>\n",
       "      <td>0</td>\n",
       "      <td>pl</td>\n",
       "      <td>0</td>\n",
       "      <td>22</td>\n",
       "      <td>1009.759766</td>\n",
       "    </tr>\n",
       "  </tbody>\n",
       "</table>\n",
       "<p>5 rows × 26 columns</p>\n",
       "</div>"
      ],
      "text/plain": [
       "      offer_id     s_date     e_date  private_business         region  \\\n",
       "6   6036867722 2020-04-17 2020-05-09             False        slaskie   \n",
       "13  6054649805 2020-04-20 2020-05-11             False      podlaskie   \n",
       "45  6064542261 2020-04-17 2020-05-05             False    malopolskie   \n",
       "60  6065857762 2020-04-19 2020-05-11             False        lodzkie   \n",
       "85  6067672282 2020-04-17 2020-05-09             False  wielkopolskie   \n",
       "\n",
       "          city  model  year  mileage  engine_capacity  ... nr_seats   color  \\\n",
       "6     raciborz  yaris  2008   153000             1298  ...        5     red   \n",
       "13     suwalki  yaris  2007   178560             1300  ...        5  silver   \n",
       "45      tarnow  yaris  2008   157000             1300  ...        0    grey   \n",
       "60     sieradz  yaris  2008   270981              998  ...        5  silver   \n",
       "85  ostrzeszow  yaris  2007   410000              998  ...        2  silver   \n",
       "\n",
       "                                             features    price     price_raw  \\\n",
       "6   abs cd central-lock front-electric-windows ele...  13900.0  14900.000000   \n",
       "13  abs cd central-lock front-electric-windows ele...  15900.0  16600.000000   \n",
       "45  abs cd central-lock front-electric-windows ele...  21900.0  14999.000000   \n",
       "60  abs cd electronic-rearview-mirrors electronic-...  10999.0  11500.000000   \n",
       "85  abs cd central-lock electronic-immobiliser fro...   5400.0   4390.240234   \n",
       "\n",
       "    currency  country_origin registration duration   price_chng  \n",
       "6          0               d            0       22 -1000.000000  \n",
       "13         0               d            0       21  -700.000000  \n",
       "45         0               d            0       18  6901.000000  \n",
       "60         0               0            0       22  -501.000000  \n",
       "85         0              pl            0       22  1009.759766  \n",
       "\n",
       "[5 rows x 26 columns]"
      ]
     },
     "execution_count": 147,
     "metadata": {},
     "output_type": "execute_result"
    }
   ],
   "source": [
    "# Price change\n",
    "df[df['price_chng']!=0].head()"
   ]
  },
  {
   "cell_type": "code",
   "execution_count": 148,
   "metadata": {},
   "outputs": [
    {
     "name": "stdout",
     "output_type": "stream",
     "text": [
      "Wall time: 60 ms\n"
     ]
    },
    {
     "data": {
      "image/png": "[encoded data removed]",
      "text/plain": [
       "<Figure size 1440x1440 with 56 Axes>"
      ]
     },
     "metadata": {
      "needs_background": "light"
     },
     "output_type": "display_data"
    }
   ],
   "source": [
    "#car features\n",
    "def benefits_to_set(value):\n",
    "    if str(value) == 'nan': return set([\"nan\"])\n",
    "    return {attr.lower().strip() for attr in value}\n",
    "    \n",
    "def norm_name(name):\n",
    "    return 'f_{0}'.format( name.lower().strip() )\n",
    "\n",
    "def feature_columns(): \n",
    "    benefits_series = df['features'].str.split(' ').map(benefits_to_set)\n",
    "    all_benefits = {benefit for row in benefits_series for benefit in row}\n",
    "    \n",
    "    feat_names = [norm_name(x) for x in all_benefits]\n",
    "    \n",
    "    for benefit in all_benefits:\n",
    "        df[ norm_name(benefit) ] = benefits_series.map(lambda x: benefit in x).astype(np.int8)\n",
    "    \n",
    "    return feat_names\n",
    "\n",
    "%time f = feature_columns()\n",
    "\n",
    "\n",
    "df[f].hist(bins=2,figsize=(20,20))\n",
    "plt.show()"
   ]
  },
  {
   "cell_type": "code",
   "execution_count": 149,
   "metadata": {},
   "outputs": [],
   "source": [
    "#df[df['f_head-display']==1]"
   ]
  },
  {
   "cell_type": "code",
   "execution_count": 150,
   "metadata": {},
   "outputs": [],
   "source": [
    "# return only not empty columns\n",
    "def non_empty_feats():\n",
    "    for col in df.columns: \n",
    "        if col[0:2] == 'f_':\n",
    "            if df[col].nunique() != 0:\n",
    "                print(col)\n",
    "                \n",
    "#non_empty_feats()                "
   ]
  },
  {
   "cell_type": "code",
   "execution_count": 151,
   "metadata": {},
   "outputs": [
    {
     "data": {
      "text/html": [
       "<div>\n",
       "<style scoped>\n",
       "    .dataframe tbody tr th:only-of-type {\n",
       "        vertical-align: middle;\n",
       "    }\n",
       "\n",
       "    .dataframe tbody tr th {\n",
       "        vertical-align: top;\n",
       "    }\n",
       "\n",
       "    .dataframe thead th {\n",
       "        text-align: right;\n",
       "    }\n",
       "</style>\n",
       "<table border=\"1\" class=\"dataframe\">\n",
       "  <thead>\n",
       "    <tr style=\"text-align: right;\">\n",
       "      <th></th>\n",
       "      <th>offer_id</th>\n",
       "      <th>s_date</th>\n",
       "      <th>e_date</th>\n",
       "      <th>private_business</th>\n",
       "      <th>region</th>\n",
       "      <th>city</th>\n",
       "      <th>model</th>\n",
       "      <th>year</th>\n",
       "      <th>mileage</th>\n",
       "      <th>engine_capacity</th>\n",
       "      <th>...</th>\n",
       "      <th>f_alloy-wheels</th>\n",
       "      <th>f_mp3</th>\n",
       "      <th>f_leds</th>\n",
       "      <th>f_system-start-stop</th>\n",
       "      <th>f_shift-paddles</th>\n",
       "      <th>f_front-side-airbags</th>\n",
       "      <th>f_electric-adjustable-seats</th>\n",
       "      <th>f_tinted-windows</th>\n",
       "      <th>f_air-conditioning</th>\n",
       "      <th>f_electric-interior-mirror</th>\n",
       "    </tr>\n",
       "  </thead>\n",
       "  <tbody>\n",
       "    <tr>\n",
       "      <th>176</th>\n",
       "      <td>6070011917</td>\n",
       "      <td>2020-04-17</td>\n",
       "      <td>2020-04-29</td>\n",
       "      <td>False</td>\n",
       "      <td>wielkopolskie</td>\n",
       "      <td>krotoszyn</td>\n",
       "      <td>yaris</td>\n",
       "      <td>2007</td>\n",
       "      <td>220400</td>\n",
       "      <td>1400</td>\n",
       "      <td>...</td>\n",
       "      <td>0</td>\n",
       "      <td>0</td>\n",
       "      <td>0</td>\n",
       "      <td>0</td>\n",
       "      <td>0</td>\n",
       "      <td>1</td>\n",
       "      <td>0</td>\n",
       "      <td>0</td>\n",
       "      <td>1</td>\n",
       "      <td>0</td>\n",
       "    </tr>\n",
       "    <tr>\n",
       "      <th>50</th>\n",
       "      <td>6064879479</td>\n",
       "      <td>2020-04-17</td>\n",
       "      <td>2020-05-11</td>\n",
       "      <td>False</td>\n",
       "      <td>podkarpackie</td>\n",
       "      <td>stalowa-wola</td>\n",
       "      <td>yaris</td>\n",
       "      <td>2009</td>\n",
       "      <td>163000</td>\n",
       "      <td>1329</td>\n",
       "      <td>...</td>\n",
       "      <td>0</td>\n",
       "      <td>1</td>\n",
       "      <td>0</td>\n",
       "      <td>0</td>\n",
       "      <td>0</td>\n",
       "      <td>0</td>\n",
       "      <td>0</td>\n",
       "      <td>0</td>\n",
       "      <td>1</td>\n",
       "      <td>0</td>\n",
       "    </tr>\n",
       "    <tr>\n",
       "      <th>183</th>\n",
       "      <td>6070083942</td>\n",
       "      <td>2020-04-17</td>\n",
       "      <td>2020-05-11</td>\n",
       "      <td>False</td>\n",
       "      <td>wielkopolskie</td>\n",
       "      <td>poznan</td>\n",
       "      <td>yaris</td>\n",
       "      <td>2006</td>\n",
       "      <td>176000</td>\n",
       "      <td>1298</td>\n",
       "      <td>...</td>\n",
       "      <td>0</td>\n",
       "      <td>0</td>\n",
       "      <td>0</td>\n",
       "      <td>0</td>\n",
       "      <td>0</td>\n",
       "      <td>1</td>\n",
       "      <td>0</td>\n",
       "      <td>0</td>\n",
       "      <td>1</td>\n",
       "      <td>0</td>\n",
       "    </tr>\n",
       "  </tbody>\n",
       "</table>\n",
       "<p>3 rows × 80 columns</p>\n",
       "</div>"
      ],
      "text/plain": [
       "       offer_id     s_date     e_date  private_business         region  \\\n",
       "176  6070011917 2020-04-17 2020-04-29             False  wielkopolskie   \n",
       "50   6064879479 2020-04-17 2020-05-11             False   podkarpackie   \n",
       "183  6070083942 2020-04-17 2020-05-11             False  wielkopolskie   \n",
       "\n",
       "             city  model  year  mileage  engine_capacity  ... f_alloy-wheels  \\\n",
       "176     krotoszyn  yaris  2007   220400             1400  ...              0   \n",
       "50   stalowa-wola  yaris  2009   163000             1329  ...              0   \n",
       "183        poznan  yaris  2006   176000             1298  ...              0   \n",
       "\n",
       "    f_mp3  f_leds f_system-start-stop f_shift-paddles  f_front-side-airbags  \\\n",
       "176     0       0                   0               0                     1   \n",
       "50      1       0                   0               0                     0   \n",
       "183     0       0                   0               0                     1   \n",
       "\n",
       "     f_electric-adjustable-seats f_tinted-windows f_air-conditioning  \\\n",
       "176                            0                0                  1   \n",
       "50                             0                0                  1   \n",
       "183                            0                0                  1   \n",
       "\n",
       "     f_electric-interior-mirror  \n",
       "176                           0  \n",
       "50                            0  \n",
       "183                           0  \n",
       "\n",
       "[3 rows x 80 columns]"
      ]
     },
     "execution_count": 151,
     "metadata": {},
     "output_type": "execute_result"
    }
   ],
   "source": [
    "df.sample(3)"
   ]
  },
  {
   "cell_type": "markdown",
   "metadata": {},
   "source": [
    "## Wizualizacja"
   ]
  },
  {
   "cell_type": "code",
   "execution_count": 152,
   "metadata": {},
   "outputs": [
    {
     "data": {
      "application/javascript": [
       "\n",
       "(function(root) {\n",
       "  function now() {\n",
       "    return new Date();\n",
       "  }\n",
       "\n",
       "  var force = true;\n",
       "\n",
       "  if (typeof root._bokeh_onload_callbacks === \"undefined\" || force === true) {\n",
       "    root._bokeh_onload_callbacks = [];\n",
       "    root._bokeh_is_loading = undefined;\n",
       "  }\n",
       "\n",
       "  var JS_MIME_TYPE = 'application/javascript';\n",
       "  var HTML_MIME_TYPE = 'text/html';\n",
       "  var EXEC_MIME_TYPE = 'application/vnd.bokehjs_exec.v0+json';\n",
       "  var CLASS_NAME = 'output_bokeh rendered_html';\n",
       "\n",
       "  /**\n",
       "   * Render data to the DOM node\n",
       "   */\n",
       "  function render(props, node) {\n",
       "    var script = document.createElement(\"script\");\n",
       "    node.appendChild(script);\n",
       "  }\n",
       "\n",
       "  /**\n",
       "   * Handle when an output is cleared or removed\n",
       "   */\n",
       "  function handleClearOutput(event, handle) {\n",
       "    var cell = handle.cell;\n",
       "\n",
       "    var id = cell.output_area._bokeh_element_id;\n",
       "    var server_id = cell.output_area._bokeh_server_id;\n",
       "    // Clean up Bokeh references\n",
       "    if (id != null && id in Bokeh.index) {\n",
       "      Bokeh.index[id].model.document.clear();\n",
       "      delete Bokeh.index[id];\n",
       "    }\n",
       "\n",
       "    if (server_id !== undefined) {\n",
       "      // Clean up Bokeh references\n",
       "      var cmd = \"from bokeh.io.state import curstate; print(curstate().uuid_to_server['\" + server_id + \"'].get_sessions()[0].document.roots[0]._id)\";\n",
       "      cell.notebook.kernel.execute(cmd, {\n",
       "        iopub: {\n",
       "          output: function(msg) {\n",
       "            var id = msg.content.text.trim();\n",
       "            if (id in Bokeh.index) {\n",
       "              Bokeh.index[id].model.document.clear();\n",
       "              delete Bokeh.index[id];\n",
       "            }\n",
       "          }\n",
       "        }\n",
       "      });\n",
       "      // Destroy server and session\n",
       "      var cmd = \"import bokeh.io.notebook as ion; ion.destroy_server('\" + server_id + \"')\";\n",
       "      cell.notebook.kernel.execute(cmd);\n",
       "    }\n",
       "  }\n",
       "\n",
       "  /**\n",
       "   * Handle when a new output is added\n",
       "   */\n",
       "  function handleAddOutput(event, handle) {\n",
       "    var output_area = handle.output_area;\n",
       "    var output = handle.output;\n",
       "\n",
       "    // limit handleAddOutput to display_data with EXEC_MIME_TYPE content only\n",
       "    if ((output.output_type != \"display_data\") || (!output.data.hasOwnProperty(EXEC_MIME_TYPE))) {\n",
       "      return\n",
       "    }\n",
       "\n",
       "    var toinsert = output_area.element.find(\".\" + CLASS_NAME.split(' ')[0]);\n",
       "\n",
       "    if (output.metadata[EXEC_MIME_TYPE][\"id\"] !== undefined) {\n",
       "      toinsert[toinsert.length - 1].firstChild.textContent = output.data[JS_MIME_TYPE];\n",
       "      // store reference to embed id on output_area\n",
       "      output_area._bokeh_element_id = output.metadata[EXEC_MIME_TYPE][\"id\"];\n",
       "    }\n",
       "    if (output.metadata[EXEC_MIME_TYPE][\"server_id\"] !== undefined) {\n",
       "      var bk_div = document.createElement(\"div\");\n",
       "      bk_div.innerHTML = output.data[HTML_MIME_TYPE];\n",
       "      var script_attrs = bk_div.children[0].attributes;\n",
       "      for (var i = 0; i < script_attrs.length; i++) {\n",
       "        toinsert[toinsert.length - 1].firstChild.setAttribute(script_attrs[i].name, script_attrs[i].value);\n",
       "        toinsert[toinsert.length - 1].firstChild.textContent = bk_div.children[0].textContent\n",
       "      }\n",
       "      // store reference to server id on output_area\n",
       "      output_area._bokeh_server_id = output.metadata[EXEC_MIME_TYPE][\"server_id\"];\n",
       "    }\n",
       "  }\n",
       "\n",
       "  function register_renderer(events, OutputArea) {\n",
       "\n",
       "    function append_mime(data, metadata, element) {\n",
       "      // create a DOM node to render to\n",
       "      var toinsert = this.create_output_subarea(\n",
       "        metadata,\n",
       "        CLASS_NAME,\n",
       "        EXEC_MIME_TYPE\n",
       "      );\n",
       "      this.keyboard_manager.register_events(toinsert);\n",
       "      // Render to node\n",
       "      var props = {data: data, metadata: metadata[EXEC_MIME_TYPE]};\n",
       "      render(props, toinsert[toinsert.length - 1]);\n",
       "      element.append(toinsert);\n",
       "      return toinsert\n",
       "    }\n",
       "\n",
       "    /* Handle when an output is cleared or removed */\n",
       "    events.on('clear_output.CodeCell', handleClearOutput);\n",
       "    events.on('delete.Cell', handleClearOutput);\n",
       "\n",
       "    /* Handle when a new output is added */\n",
       "    events.on('output_added.OutputArea', handleAddOutput);\n",
       "\n",
       "    /**\n",
       "     * Register the mime type and append_mime function with output_area\n",
       "     */\n",
       "    OutputArea.prototype.register_mime_type(EXEC_MIME_TYPE, append_mime, {\n",
       "      /* Is output safe? */\n",
       "      safe: true,\n",
       "      /* Index of renderer in `output_area.display_order` */\n",
       "      index: 0\n",
       "    });\n",
       "  }\n",
       "\n",
       "  // register the mime type if in Jupyter Notebook environment and previously unregistered\n",
       "  if (root.Jupyter !== undefined) {\n",
       "    var events = require('base/js/events');\n",
       "    var OutputArea = require('notebook/js/outputarea').OutputArea;\n",
       "\n",
       "    if (OutputArea.prototype.mime_types().indexOf(EXEC_MIME_TYPE) == -1) {\n",
       "      register_renderer(events, OutputArea);\n",
       "    }\n",
       "  }\n",
       "\n",
       "  \n",
       "  if (typeof (root._bokeh_timeout) === \"undefined\" || force === true) {\n",
       "    root._bokeh_timeout = Date.now() + 5000;\n",
       "    root._bokeh_failed_load = false;\n",
       "  }\n",
       "\n",
       "  var NB_LOAD_WARNING = {'data': {'text/html':\n",
       "     \"<div style='background-color: #fdd'>\\n\"+\n",
       "     \"<p>\\n\"+\n",
       "     \"BokehJS does not appear to have successfully loaded. If loading BokehJS from CDN, this \\n\"+\n",
       "     \"may be due to a slow or bad network connection. Possible fixes:\\n\"+\n",
       "     \"</p>\\n\"+\n",
       "     \"<ul>\\n\"+\n",
       "     \"<li>re-rerun `output_notebook()` to attempt to load from CDN again, or</li>\\n\"+\n",
       "     \"<li>use INLINE resources instead, as so:</li>\\n\"+\n",
       "     \"</ul>\\n\"+\n",
       "     \"<code>\\n\"+\n",
       "     \"from bokeh.resources import INLINE\\n\"+\n",
       "     \"output_notebook(resources=INLINE)\\n\"+\n",
       "     \"</code>\\n\"+\n",
       "     \"</div>\"}};\n",
       "\n",
       "  function display_loaded() {\n",
       "    var el = document.getElementById(null);\n",
       "    if (el != null) {\n",
       "      el.textContent = \"BokehJS is loading...\";\n",
       "    }\n",
       "    if (root.Bokeh !== undefined) {\n",
       "      if (el != null) {\n",
       "        el.textContent = \"BokehJS \" + root.Bokeh.version + \" successfully loaded.\";\n",
       "      }\n",
       "    } else if (Date.now() < root._bokeh_timeout) {\n",
       "      setTimeout(display_loaded, 100)\n",
       "    }\n",
       "  }\n",
       "\n",
       "\n",
       "  function run_callbacks() {\n",
       "    try {\n",
       "      root._bokeh_onload_callbacks.forEach(function(callback) {\n",
       "        if (callback != null)\n",
       "          callback();\n",
       "      });\n",
       "    } finally {\n",
       "      delete root._bokeh_onload_callbacks\n",
       "    }\n",
       "    console.debug(\"Bokeh: all callbacks have finished\");\n",
       "  }\n",
       "\n",
       "  function load_libs(css_urls, js_urls, callback) {\n",
       "    if (css_urls == null) css_urls = [];\n",
       "    if (js_urls == null) js_urls = [];\n",
       "\n",
       "    root._bokeh_onload_callbacks.push(callback);\n",
       "    if (root._bokeh_is_loading > 0) {\n",
       "      console.debug(\"Bokeh: BokehJS is being loaded, scheduling callback at\", now());\n",
       "      return null;\n",
       "    }\n",
       "    if (js_urls == null || js_urls.length === 0) {\n",
       "      run_callbacks();\n",
       "      return null;\n",
       "    }\n",
       "    console.debug(\"Bokeh: BokehJS not loaded, scheduling load and callback at\", now());\n",
       "    root._bokeh_is_loading = css_urls.length + js_urls.length;\n",
       "\n",
       "    function on_load() {\n",
       "      root._bokeh_is_loading--;\n",
       "      if (root._bokeh_is_loading === 0) {\n",
       "        console.debug(\"Bokeh: all BokehJS libraries/stylesheets loaded\");\n",
       "        run_callbacks()\n",
       "      }\n",
       "    }\n",
       "\n",
       "    function on_error() {\n",
       "      console.error(\"failed to load \" + url);\n",
       "    }\n",
       "\n",
       "    for (var i = 0; i < css_urls.length; i++) {\n",
       "      var url = css_urls[i];\n",
       "      const element = document.createElement(\"link\");\n",
       "      element.onload = on_load;\n",
       "      element.onerror = on_error;\n",
       "      element.rel = \"stylesheet\";\n",
       "      element.type = \"text/css\";\n",
       "      element.href = url;\n",
       "      console.debug(\"Bokeh: injecting link tag for BokehJS stylesheet: \", url);\n",
       "      document.body.appendChild(element);\n",
       "    }\n",
       "\n",
       "    const hashes = {\"https://cdn.bokeh.org/bokeh/release/bokeh-2.0.2.min.js\": \"ufR9RFnRs6lniiaFvtJziE0YeidtAgBRH6ux2oUItHw5WTvE1zuk9uzhUU/FJXDp\", \"https://cdn.bokeh.org/bokeh/release/bokeh-widgets-2.0.2.min.js\": \"8QM/PGWBT+IssZuRcDcjzwIh1mkOmJSoNMmyYDZbCfXJg3Ap1lEvdVgFuSAwhb/J\", \"https://cdn.bokeh.org/bokeh/release/bokeh-tables-2.0.2.min.js\": \"Jm8cH3Rg0P6UeZhVY5cLy1WzKajUT9KImCY+76hEqrcJt59/d8GPvFHjCkYgnSIn\", \"https://cdn.bokeh.org/bokeh/release/bokeh-gl-2.0.2.min.js\": \"Ozhzj+SI7ywm74aOI/UajcWz+C0NjsPunEVyVIrxzYkB+jA+2tUw8x5xJCbVtK5I\"};\n",
       "\n",
       "    for (var i = 0; i < js_urls.length; i++) {\n",
       "      var url = js_urls[i];\n",
       "      var element = document.createElement('script');\n",
       "      element.onload = on_load;\n",
       "      element.onerror = on_error;\n",
       "      element.async = false;\n",
       "      element.src = url;\n",
       "      if (url in hashes) {\n",
       "        element.crossOrigin = \"anonymous\";\n",
       "        element.integrity = \"sha384-\" + hashes[url];\n",
       "      }\n",
       "      console.debug(\"Bokeh: injecting script tag for BokehJS library: \", url);\n",
       "      document.head.appendChild(element);\n",
       "    }\n",
       "  };\n",
       "\n",
       "  function inject_raw_css(css) {\n",
       "    const element = document.createElement(\"style\");\n",
       "    element.appendChild(document.createTextNode(css));\n",
       "    document.body.appendChild(element);\n",
       "  }\n",
       "\n",
       "  \n",
       "  var js_urls = [\"https://cdn.bokeh.org/bokeh/release/bokeh-2.0.2.min.js\", \"https://cdn.bokeh.org/bokeh/release/bokeh-widgets-2.0.2.min.js\", \"https://cdn.bokeh.org/bokeh/release/bokeh-tables-2.0.2.min.js\", \"https://cdn.bokeh.org/bokeh/release/bokeh-gl-2.0.2.min.js\"];\n",
       "  var css_urls = [];\n",
       "  \n",
       "\n",
       "  var inline_js = [\n",
       "    function(Bokeh) {\n",
       "      Bokeh.set_log_level(\"info\");\n",
       "    },\n",
       "    function(Bokeh) {\n",
       "    \n",
       "    \n",
       "    }\n",
       "  ];\n",
       "\n",
       "  function run_inline_js() {\n",
       "    \n",
       "    if (root.Bokeh !== undefined || force === true) {\n",
       "      \n",
       "    for (var i = 0; i < inline_js.length; i++) {\n",
       "      inline_js[i].call(root, root.Bokeh);\n",
       "    }\n",
       "    } else if (Date.now() < root._bokeh_timeout) {\n",
       "      setTimeout(run_inline_js, 100);\n",
       "    } else if (!root._bokeh_failed_load) {\n",
       "      console.log(\"Bokeh: BokehJS failed to load within specified timeout.\");\n",
       "      root._bokeh_failed_load = true;\n",
       "    } else if (force !== true) {\n",
       "      var cell = $(document.getElementById(null)).parents('.cell').data().cell;\n",
       "      cell.output_area.append_execute_result(NB_LOAD_WARNING)\n",
       "    }\n",
       "\n",
       "  }\n",
       "\n",
       "  if (root._bokeh_is_loading === 0) {\n",
       "    console.debug(\"Bokeh: BokehJS loaded, going straight to plotting\");\n",
       "    run_inline_js();\n",
       "  } else {\n",
       "    load_libs(css_urls, js_urls, function() {\n",
       "      console.debug(\"Bokeh: BokehJS plotting callback run at\", now());\n",
       "      run_inline_js();\n",
       "    });\n",
       "  }\n",
       "}(window));"
      ],
      "application/vnd.bokehjs_load.v0+json": "\n(function(root) {\n  function now() {\n    return new Date();\n  }\n\n  var force = true;\n\n  if (typeof root._bokeh_onload_callbacks === \"undefined\" || force === true) {\n    root._bokeh_onload_callbacks = [];\n    root._bokeh_is_loading = undefined;\n  }\n\n  \n\n  \n  if (typeof (root._bokeh_timeout) === \"undefined\" || force === true) {\n    root._bokeh_timeout = Date.now() + 5000;\n    root._bokeh_failed_load = false;\n  }\n\n  var NB_LOAD_WARNING = {'data': {'text/html':\n     \"<div style='background-color: #fdd'>\\n\"+\n     \"<p>\\n\"+\n     \"BokehJS does not appear to have successfully loaded. If loading BokehJS from CDN, this \\n\"+\n     \"may be due to a slow or bad network connection. Possible fixes:\\n\"+\n     \"</p>\\n\"+\n     \"<ul>\\n\"+\n     \"<li>re-rerun `output_notebook()` to attempt to load from CDN again, or</li>\\n\"+\n     \"<li>use INLINE resources instead, as so:</li>\\n\"+\n     \"</ul>\\n\"+\n     \"<code>\\n\"+\n     \"from bokeh.resources import INLINE\\n\"+\n     \"output_notebook(resources=INLINE)\\n\"+\n     \"</code>\\n\"+\n     \"</div>\"}};\n\n  function display_loaded() {\n    var el = document.getElementById(null);\n    if (el != null) {\n      el.textContent = \"BokehJS is loading...\";\n    }\n    if (root.Bokeh !== undefined) {\n      if (el != null) {\n        el.textContent = \"BokehJS \" + root.Bokeh.version + \" successfully loaded.\";\n      }\n    } else if (Date.now() < root._bokeh_timeout) {\n      setTimeout(display_loaded, 100)\n    }\n  }\n\n\n  function run_callbacks() {\n    try {\n      root._bokeh_onload_callbacks.forEach(function(callback) {\n        if (callback != null)\n          callback();\n      });\n    } finally {\n      delete root._bokeh_onload_callbacks\n    }\n    console.debug(\"Bokeh: all callbacks have finished\");\n  }\n\n  function load_libs(css_urls, js_urls, callback) {\n    if (css_urls == null) css_urls = [];\n    if (js_urls == null) js_urls = [];\n\n    root._bokeh_onload_callbacks.push(callback);\n    if (root._bokeh_is_loading > 0) {\n      console.debug(\"Bokeh: BokehJS is being loaded, scheduling callback at\", now());\n      return null;\n    }\n    if (js_urls == null || js_urls.length === 0) {\n      run_callbacks();\n      return null;\n    }\n    console.debug(\"Bokeh: BokehJS not loaded, scheduling load and callback at\", now());\n    root._bokeh_is_loading = css_urls.length + js_urls.length;\n\n    function on_load() {\n      root._bokeh_is_loading--;\n      if (root._bokeh_is_loading === 0) {\n        console.debug(\"Bokeh: all BokehJS libraries/stylesheets loaded\");\n        run_callbacks()\n      }\n    }\n\n    function on_error() {\n      console.error(\"failed to load \" + url);\n    }\n\n    for (var i = 0; i < css_urls.length; i++) {\n      var url = css_urls[i];\n      const element = document.createElement(\"link\");\n      element.onload = on_load;\n      element.onerror = on_error;\n      element.rel = \"stylesheet\";\n      element.type = \"text/css\";\n      element.href = url;\n      console.debug(\"Bokeh: injecting link tag for BokehJS stylesheet: \", url);\n      document.body.appendChild(element);\n    }\n\n    const hashes = {\"https://cdn.bokeh.org/bokeh/release/bokeh-2.0.2.min.js\": \"ufR9RFnRs6lniiaFvtJziE0YeidtAgBRH6ux2oUItHw5WTvE1zuk9uzhUU/FJXDp\", \"https://cdn.bokeh.org/bokeh/release/bokeh-widgets-2.0.2.min.js\": \"8QM/PGWBT+IssZuRcDcjzwIh1mkOmJSoNMmyYDZbCfXJg3Ap1lEvdVgFuSAwhb/J\", \"https://cdn.bokeh.org/bokeh/release/bokeh-tables-2.0.2.min.js\": \"Jm8cH3Rg0P6UeZhVY5cLy1WzKajUT9KImCY+76hEqrcJt59/d8GPvFHjCkYgnSIn\", \"https://cdn.bokeh.org/bokeh/release/bokeh-gl-2.0.2.min.js\": \"Ozhzj+SI7ywm74aOI/UajcWz+C0NjsPunEVyVIrxzYkB+jA+2tUw8x5xJCbVtK5I\"};\n\n    for (var i = 0; i < js_urls.length; i++) {\n      var url = js_urls[i];\n      var element = document.createElement('script');\n      element.onload = on_load;\n      element.onerror = on_error;\n      element.async = false;\n      element.src = url;\n      if (url in hashes) {\n        element.crossOrigin = \"anonymous\";\n        element.integrity = \"sha384-\" + hashes[url];\n      }\n      console.debug(\"Bokeh: injecting script tag for BokehJS library: \", url);\n      document.head.appendChild(element);\n    }\n  };\n\n  function inject_raw_css(css) {\n    const element = document.createElement(\"style\");\n    element.appendChild(document.createTextNode(css));\n    document.body.appendChild(element);\n  }\n\n  \n  var js_urls = [\"https://cdn.bokeh.org/bokeh/release/bokeh-2.0.2.min.js\", \"https://cdn.bokeh.org/bokeh/release/bokeh-widgets-2.0.2.min.js\", \"https://cdn.bokeh.org/bokeh/release/bokeh-tables-2.0.2.min.js\", \"https://cdn.bokeh.org/bokeh/release/bokeh-gl-2.0.2.min.js\"];\n  var css_urls = [];\n  \n\n  var inline_js = [\n    function(Bokeh) {\n      Bokeh.set_log_level(\"info\");\n    },\n    function(Bokeh) {\n    \n    \n    }\n  ];\n\n  function run_inline_js() {\n    \n    if (root.Bokeh !== undefined || force === true) {\n      \n    for (var i = 0; i < inline_js.length; i++) {\n      inline_js[i].call(root, root.Bokeh);\n    }\n    } else if (Date.now() < root._bokeh_timeout) {\n      setTimeout(run_inline_js, 100);\n    } else if (!root._bokeh_failed_load) {\n      console.log(\"Bokeh: BokehJS failed to load within specified timeout.\");\n      root._bokeh_failed_load = true;\n    } else if (force !== true) {\n      var cell = $(document.getElementById(null)).parents('.cell').data().cell;\n      cell.output_area.append_execute_result(NB_LOAD_WARNING)\n    }\n\n  }\n\n  if (root._bokeh_is_loading === 0) {\n    console.debug(\"Bokeh: BokehJS loaded, going straight to plotting\");\n    run_inline_js();\n  } else {\n    load_libs(css_urls, js_urls, function() {\n      console.debug(\"Bokeh: BokehJS plotting callback run at\", now());\n      run_inline_js();\n    });\n  }\n}(window));"
     },
     "metadata": {},
     "output_type": "display_data"
    }
   ],
   "source": [
    "import pandas as pd\n",
    "import numpy as np\n",
    "\n",
    "%matplotlib inline\n",
    "import matplotlib.pyplot as plt\n",
    "import seaborn as sns\n",
    "\n",
    "from bokeh.plotting import figure \n",
    "import bokeh_catplot\n",
    "from bokeh.io import output_notebook, show\n",
    "\n",
    "\n",
    "output_notebook(resources=None, verbose=False, hide_banner=True)"
   ]
  },
  {
   "cell_type": "markdown",
   "metadata": {},
   "source": [
    "### Plotly"
   ]
  },
  {
   "cell_type": "code",
   "execution_count": 177,
   "metadata": {},
   "outputs": [
    {
     "name": "stdout",
     "output_type": "stream",
     "text": [
      "Templates configuration\n",
      "-----------------------\n",
      "    Default template: 'plotly'\n",
      "    Available templates:\n",
      "        ['ggplot2', 'seaborn', 'simple_white', 'plotly',\n",
      "         'plotly_white', 'plotly_dark', 'presentation', 'xgridoff',\n",
      "         'ygridoff', 'gridon', 'none']\n",
      "\n"
     ]
    }
   ],
   "source": [
    "# \"Regular\" Plotly\n",
    "\n",
    "import plotly.graph_objects as go\n",
    "import plotly.io as pio\n",
    "print(pio.templates)\n"
   ]
  },
  {
   "cell_type": "code",
   "execution_count": 184,
   "metadata": {},
   "outputs": [
    {
     "data": {
      "application/vnd.plotly.v1+json": {
       "config": {
        "plotlyServerURL": "https://plot.ly"
       },
       "data": [
        {
         "type": "bar",
         "y": [
          2,
          3,
          1
         ]
        }
       ],
       "layout": {
        "template": {
         "data": {
          "bar": [
           {
            "error_x": {
             "color": "#2a3f5f"
            },
            "error_y": {
             "color": "#2a3f5f"
            },
            "marker": {
             "line": {
              "color": "#E5ECF6",
              "width": 0.5
             }
            },
            "type": "bar"
           }
          ],
          "barpolar": [
           {
            "marker": {
             "line": {
              "color": "#E5ECF6",
              "width": 0.5
             }
            },
            "type": "barpolar"
           }
          ],
          "carpet": [
           {
            "aaxis": {
             "endlinecolor": "#2a3f5f",
             "gridcolor": "white",
             "linecolor": "white",
             "minorgridcolor": "white",
             "startlinecolor": "#2a3f5f"
            },
            "baxis": {
             "endlinecolor": "#2a3f5f",
             "gridcolor": "white",
             "linecolor": "white",
             "minorgridcolor": "white",
             "startlinecolor": "#2a3f5f"
            },
            "type": "carpet"
           }
          ],
          "choropleth": [
           {
            "colorbar": {
             "outlinewidth": 0,
             "ticks": ""
            },
            "type": "choropleth"
           }
          ],
          "contour": [
           {
            "colorbar": {
             "outlinewidth": 0,
             "ticks": ""
            },
            "colorscale": [
             [
              0,
              "#0d0887"
             ],
             [
              0.1111111111111111,
              "#46039f"
             ],
             [
              0.2222222222222222,
              "#7201a8"
             ],
             [
              0.3333333333333333,
              "#9c179e"
             ],
             [
              0.4444444444444444,
              "#bd3786"
             ],
             [
              0.5555555555555556,
              "#d8576b"
             ],
             [
              0.6666666666666666,
              "#ed7953"
             ],
             [
              0.7777777777777778,
              "#fb9f3a"
             ],
             [
              0.8888888888888888,
              "#fdca26"
             ],
             [
              1,
              "#f0f921"
             ]
            ],
            "type": "contour"
           }
          ],
          "contourcarpet": [
           {
            "colorbar": {
             "outlinewidth": 0,
             "ticks": ""
            },
            "type": "contourcarpet"
           }
          ],
          "heatmap": [
           {
            "colorbar": {
             "outlinewidth": 0,
             "ticks": ""
            },
            "colorscale": [
             [
              0,
              "#0d0887"
             ],
             [
              0.1111111111111111,
              "#46039f"
             ],
             [
              0.2222222222222222,
              "#7201a8"
             ],
             [
              0.3333333333333333,
              "#9c179e"
             ],
             [
              0.4444444444444444,
              "#bd3786"
             ],
             [
              0.5555555555555556,
              "#d8576b"
             ],
             [
              0.6666666666666666,
              "#ed7953"
             ],
             [
              0.7777777777777778,
              "#fb9f3a"
             ],
             [
              0.8888888888888888,
              "#fdca26"
             ],
             [
              1,
              "#f0f921"
             ]
            ],
            "type": "heatmap"
           }
          ],
          "heatmapgl": [
           {
            "colorbar": {
             "outlinewidth": 0,
             "ticks": ""
            },
            "colorscale": [
             [
              0,
              "#0d0887"
             ],
             [
              0.1111111111111111,
              "#46039f"
             ],
             [
              0.2222222222222222,
              "#7201a8"
             ],
             [
              0.3333333333333333,
              "#9c179e"
             ],
             [
              0.4444444444444444,
              "#bd3786"
             ],
             [
              0.5555555555555556,
              "#d8576b"
             ],
             [
              0.6666666666666666,
              "#ed7953"
             ],
             [
              0.7777777777777778,
              "#fb9f3a"
             ],
             [
              0.8888888888888888,
              "#fdca26"
             ],
             [
              1,
              "#f0f921"
             ]
            ],
            "type": "heatmapgl"
           }
          ],
          "histogram": [
           {
            "marker": {
             "colorbar": {
              "outlinewidth": 0,
              "ticks": ""
             }
            },
            "type": "histogram"
           }
          ],
          "histogram2d": [
           {
            "colorbar": {
             "outlinewidth": 0,
             "ticks": ""
            },
            "colorscale": [
             [
              0,
              "#0d0887"
             ],
             [
              0.1111111111111111,
              "#46039f"
             ],
             [
              0.2222222222222222,
              "#7201a8"
             ],
             [
              0.3333333333333333,
              "#9c179e"
             ],
             [
              0.4444444444444444,
              "#bd3786"
             ],
             [
              0.5555555555555556,
              "#d8576b"
             ],
             [
              0.6666666666666666,
              "#ed7953"
             ],
             [
              0.7777777777777778,
              "#fb9f3a"
             ],
             [
              0.8888888888888888,
              "#fdca26"
             ],
             [
              1,
              "#f0f921"
             ]
            ],
            "type": "histogram2d"
           }
          ],
          "histogram2dcontour": [
           {
            "colorbar": {
             "outlinewidth": 0,
             "ticks": ""
            },
            "colorscale": [
             [
              0,
              "#0d0887"
             ],
             [
              0.1111111111111111,
              "#46039f"
             ],
             [
              0.2222222222222222,
              "#7201a8"
             ],
             [
              0.3333333333333333,
              "#9c179e"
             ],
             [
              0.4444444444444444,
              "#bd3786"
             ],
             [
              0.5555555555555556,
              "#d8576b"
             ],
             [
              0.6666666666666666,
              "#ed7953"
             ],
             [
              0.7777777777777778,
              "#fb9f3a"
             ],
             [
              0.8888888888888888,
              "#fdca26"
             ],
             [
              1,
              "#f0f921"
             ]
            ],
            "type": "histogram2dcontour"
           }
          ],
          "mesh3d": [
           {
            "colorbar": {
             "outlinewidth": 0,
             "ticks": ""
            },
            "type": "mesh3d"
           }
          ],
          "parcoords": [
           {
            "line": {
             "colorbar": {
              "outlinewidth": 0,
              "ticks": ""
             }
            },
            "type": "parcoords"
           }
          ],
          "pie": [
           {
            "automargin": true,
            "type": "pie"
           }
          ],
          "scatter": [
           {
            "marker": {
             "colorbar": {
              "outlinewidth": 0,
              "ticks": ""
             }
            },
            "type": "scatter"
           }
          ],
          "scatter3d": [
           {
            "line": {
             "colorbar": {
              "outlinewidth": 0,
              "ticks": ""
             }
            },
            "marker": {
             "colorbar": {
              "outlinewidth": 0,
              "ticks": ""
             }
            },
            "type": "scatter3d"
           }
          ],
          "scattercarpet": [
           {
            "marker": {
             "colorbar": {
              "outlinewidth": 0,
              "ticks": ""
             }
            },
            "type": "scattercarpet"
           }
          ],
          "scattergeo": [
           {
            "marker": {
             "colorbar": {
              "outlinewidth": 0,
              "ticks": ""
             }
            },
            "type": "scattergeo"
           }
          ],
          "scattergl": [
           {
            "marker": {
             "colorbar": {
              "outlinewidth": 0,
              "ticks": ""
             }
            },
            "type": "scattergl"
           }
          ],
          "scattermapbox": [
           {
            "marker": {
             "colorbar": {
              "outlinewidth": 0,
              "ticks": ""
             }
            },
            "type": "scattermapbox"
           }
          ],
          "scatterpolar": [
           {
            "marker": {
             "colorbar": {
              "outlinewidth": 0,
              "ticks": ""
             }
            },
            "type": "scatterpolar"
           }
          ],
          "scatterpolargl": [
           {
            "marker": {
             "colorbar": {
              "outlinewidth": 0,
              "ticks": ""
             }
            },
            "type": "scatterpolargl"
           }
          ],
          "scatterternary": [
           {
            "marker": {
             "colorbar": {
              "outlinewidth": 0,
              "ticks": ""
             }
            },
            "type": "scatterternary"
           }
          ],
          "surface": [
           {
            "colorbar": {
             "outlinewidth": 0,
             "ticks": ""
            },
            "colorscale": [
             [
              0,
              "#0d0887"
             ],
             [
              0.1111111111111111,
              "#46039f"
             ],
             [
              0.2222222222222222,
              "#7201a8"
             ],
             [
              0.3333333333333333,
              "#9c179e"
             ],
             [
              0.4444444444444444,
              "#bd3786"
             ],
             [
              0.5555555555555556,
              "#d8576b"
             ],
             [
              0.6666666666666666,
              "#ed7953"
             ],
             [
              0.7777777777777778,
              "#fb9f3a"
             ],
             [
              0.8888888888888888,
              "#fdca26"
             ],
             [
              1,
              "#f0f921"
             ]
            ],
            "type": "surface"
           }
          ],
          "table": [
           {
            "cells": {
             "fill": {
              "color": "#EBF0F8"
             },
             "line": {
              "color": "white"
             }
            },
            "header": {
             "fill": {
              "color": "#C8D4E3"
             },
             "line": {
              "color": "white"
             }
            },
            "type": "table"
           }
          ]
         },
         "layout": {
          "annotationdefaults": {
           "arrowcolor": "#2a3f5f",
           "arrowhead": 0,
           "arrowwidth": 1
          },
          "coloraxis": {
           "colorbar": {
            "outlinewidth": 0,
            "ticks": ""
           }
          },
          "colorscale": {
           "diverging": [
            [
             0,
             "#8e0152"
            ],
            [
             0.1,
             "#c51b7d"
            ],
            [
             0.2,
             "#de77ae"
            ],
            [
             0.3,
             "#f1b6da"
            ],
            [
             0.4,
             "#fde0ef"
            ],
            [
             0.5,
             "#f7f7f7"
            ],
            [
             0.6,
             "#e6f5d0"
            ],
            [
             0.7,
             "#b8e186"
            ],
            [
             0.8,
             "#7fbc41"
            ],
            [
             0.9,
             "#4d9221"
            ],
            [
             1,
             "#276419"
            ]
           ],
           "sequential": [
            [
             0,
             "#0d0887"
            ],
            [
             0.1111111111111111,
             "#46039f"
            ],
            [
             0.2222222222222222,
             "#7201a8"
            ],
            [
             0.3333333333333333,
             "#9c179e"
            ],
            [
             0.4444444444444444,
             "#bd3786"
            ],
            [
             0.5555555555555556,
             "#d8576b"
            ],
            [
             0.6666666666666666,
             "#ed7953"
            ],
            [
             0.7777777777777778,
             "#fb9f3a"
            ],
            [
             0.8888888888888888,
             "#fdca26"
            ],
            [
             1,
             "#f0f921"
            ]
           ],
           "sequentialminus": [
            [
             0,
             "#0d0887"
            ],
            [
             0.1111111111111111,
             "#46039f"
            ],
            [
             0.2222222222222222,
             "#7201a8"
            ],
            [
             0.3333333333333333,
             "#9c179e"
            ],
            [
             0.4444444444444444,
             "#bd3786"
            ],
            [
             0.5555555555555556,
             "#d8576b"
            ],
            [
             0.6666666666666666,
             "#ed7953"
            ],
            [
             0.7777777777777778,
             "#fb9f3a"
            ],
            [
             0.8888888888888888,
             "#fdca26"
            ],
            [
             1,
             "#f0f921"
            ]
           ]
          },
          "colorway": [
           "#636efa",
           "#EF553B",
           "#00cc96",
           "#ab63fa",
           "#FFA15A",
           "#19d3f3",
           "#FF6692",
           "#B6E880",
           "#FF97FF",
           "#FECB52"
          ],
          "font": {
           "color": "#2a3f5f"
          },
          "geo": {
           "bgcolor": "white",
           "lakecolor": "white",
           "landcolor": "#E5ECF6",
           "showlakes": true,
           "showland": true,
           "subunitcolor": "white"
          },
          "hoverlabel": {
           "align": "left"
          },
          "hovermode": "closest",
          "mapbox": {
           "style": "light"
          },
          "paper_bgcolor": "white",
          "plot_bgcolor": "#E5ECF6",
          "polar": {
           "angularaxis": {
            "gridcolor": "white",
            "linecolor": "white",
            "ticks": ""
           },
           "bgcolor": "#E5ECF6",
           "radialaxis": {
            "gridcolor": "white",
            "linecolor": "white",
            "ticks": ""
           }
          },
          "scene": {
           "xaxis": {
            "backgroundcolor": "#E5ECF6",
            "gridcolor": "white",
            "gridwidth": 2,
            "linecolor": "white",
            "showbackground": true,
            "ticks": "",
            "zerolinecolor": "white"
           },
           "yaxis": {
            "backgroundcolor": "#E5ECF6",
            "gridcolor": "white",
            "gridwidth": 2,
            "linecolor": "white",
            "showbackground": true,
            "ticks": "",
            "zerolinecolor": "white"
           },
           "zaxis": {
            "backgroundcolor": "#E5ECF6",
            "gridcolor": "white",
            "gridwidth": 2,
            "linecolor": "white",
            "showbackground": true,
            "ticks": "",
            "zerolinecolor": "white"
           }
          },
          "shapedefaults": {
           "line": {
            "color": "#2a3f5f"
           }
          },
          "ternary": {
           "aaxis": {
            "gridcolor": "white",
            "linecolor": "white",
            "ticks": ""
           },
           "baxis": {
            "gridcolor": "white",
            "linecolor": "white",
            "ticks": ""
           },
           "bgcolor": "#E5ECF6",
           "caxis": {
            "gridcolor": "white",
            "linecolor": "white",
            "ticks": ""
           }
          },
          "title": {
           "x": 0.05
          },
          "xaxis": {
           "automargin": true,
           "gridcolor": "white",
           "linecolor": "white",
           "ticks": "",
           "title": {
            "standoff": 15
           },
           "zerolinecolor": "white",
           "zerolinewidth": 2
          },
          "yaxis": {
           "automargin": true,
           "gridcolor": "white",
           "linecolor": "white",
           "ticks": "",
           "title": {
            "standoff": 15
           },
           "zerolinecolor": "white",
           "zerolinewidth": 2
          }
         }
        }
       }
      },
      "text/html": [
       "<div>\n",
       "        \n",
       "        \n",
       "            <div id=\"25e2dddb-daca-42e6-9f21-f9de2e9d86f0\" class=\"plotly-graph-div\" style=\"height:525px; width:100%;\"></div>\n",
       "            <script type=\"text/javascript\">\n",
       "                require([\"plotly\"], function(Plotly) {\n",
       "                    window.PLOTLYENV=window.PLOTLYENV || {};\n",
       "                    \n",
       "                if (document.getElementById(\"25e2dddb-daca-42e6-9f21-f9de2e9d86f0\")) {\n",
       "                    Plotly.newPlot(\n",
       "                        '25e2dddb-daca-42e6-9f21-f9de2e9d86f0',\n",
       "                        [{\"type\": \"bar\", \"y\": [2, 3, 1]}],\n",
       "                        {\"template\": {\"data\": {\"bar\": [{\"error_x\": {\"color\": \"#2a3f5f\"}, \"error_y\": {\"color\": \"#2a3f5f\"}, \"marker\": {\"line\": {\"color\": \"#E5ECF6\", \"width\": 0.5}}, \"type\": \"bar\"}], \"barpolar\": [{\"marker\": {\"line\": {\"color\": \"#E5ECF6\", \"width\": 0.5}}, \"type\": \"barpolar\"}], \"carpet\": [{\"aaxis\": {\"endlinecolor\": \"#2a3f5f\", \"gridcolor\": \"white\", \"linecolor\": \"white\", \"minorgridcolor\": \"white\", \"startlinecolor\": \"#2a3f5f\"}, \"baxis\": {\"endlinecolor\": \"#2a3f5f\", \"gridcolor\": \"white\", \"linecolor\": \"white\", \"minorgridcolor\": \"white\", \"startlinecolor\": \"#2a3f5f\"}, \"type\": \"carpet\"}], \"choropleth\": [{\"colorbar\": {\"outlinewidth\": 0, \"ticks\": \"\"}, \"type\": \"choropleth\"}], \"contour\": [{\"colorbar\": {\"outlinewidth\": 0, \"ticks\": \"\"}, \"colorscale\": [[0.0, \"#0d0887\"], [0.1111111111111111, \"#46039f\"], [0.2222222222222222, \"#7201a8\"], [0.3333333333333333, \"#9c179e\"], [0.4444444444444444, \"#bd3786\"], [0.5555555555555556, \"#d8576b\"], [0.6666666666666666, \"#ed7953\"], [0.7777777777777778, \"#fb9f3a\"], [0.8888888888888888, \"#fdca26\"], [1.0, \"#f0f921\"]], \"type\": \"contour\"}], \"contourcarpet\": [{\"colorbar\": {\"outlinewidth\": 0, \"ticks\": \"\"}, \"type\": \"contourcarpet\"}], \"heatmap\": [{\"colorbar\": {\"outlinewidth\": 0, \"ticks\": \"\"}, \"colorscale\": [[0.0, \"#0d0887\"], [0.1111111111111111, \"#46039f\"], [0.2222222222222222, \"#7201a8\"], [0.3333333333333333, \"#9c179e\"], [0.4444444444444444, \"#bd3786\"], [0.5555555555555556, \"#d8576b\"], [0.6666666666666666, \"#ed7953\"], [0.7777777777777778, \"#fb9f3a\"], [0.8888888888888888, \"#fdca26\"], [1.0, \"#f0f921\"]], \"type\": \"heatmap\"}], \"heatmapgl\": [{\"colorbar\": {\"outlinewidth\": 0, \"ticks\": \"\"}, \"colorscale\": [[0.0, \"#0d0887\"], [0.1111111111111111, \"#46039f\"], [0.2222222222222222, \"#7201a8\"], [0.3333333333333333, \"#9c179e\"], [0.4444444444444444, \"#bd3786\"], [0.5555555555555556, \"#d8576b\"], [0.6666666666666666, \"#ed7953\"], [0.7777777777777778, \"#fb9f3a\"], [0.8888888888888888, \"#fdca26\"], [1.0, \"#f0f921\"]], \"type\": \"heatmapgl\"}], \"histogram\": [{\"marker\": {\"colorbar\": {\"outlinewidth\": 0, \"ticks\": \"\"}}, \"type\": \"histogram\"}], \"histogram2d\": [{\"colorbar\": {\"outlinewidth\": 0, \"ticks\": \"\"}, \"colorscale\": [[0.0, \"#0d0887\"], [0.1111111111111111, \"#46039f\"], [0.2222222222222222, \"#7201a8\"], [0.3333333333333333, \"#9c179e\"], [0.4444444444444444, \"#bd3786\"], [0.5555555555555556, \"#d8576b\"], [0.6666666666666666, \"#ed7953\"], [0.7777777777777778, \"#fb9f3a\"], [0.8888888888888888, \"#fdca26\"], [1.0, \"#f0f921\"]], \"type\": \"histogram2d\"}], \"histogram2dcontour\": [{\"colorbar\": {\"outlinewidth\": 0, \"ticks\": \"\"}, \"colorscale\": [[0.0, \"#0d0887\"], [0.1111111111111111, \"#46039f\"], [0.2222222222222222, \"#7201a8\"], [0.3333333333333333, \"#9c179e\"], [0.4444444444444444, \"#bd3786\"], [0.5555555555555556, \"#d8576b\"], [0.6666666666666666, \"#ed7953\"], [0.7777777777777778, \"#fb9f3a\"], [0.8888888888888888, \"#fdca26\"], [1.0, \"#f0f921\"]], \"type\": \"histogram2dcontour\"}], \"mesh3d\": [{\"colorbar\": {\"outlinewidth\": 0, \"ticks\": \"\"}, \"type\": \"mesh3d\"}], \"parcoords\": [{\"line\": {\"colorbar\": {\"outlinewidth\": 0, \"ticks\": \"\"}}, \"type\": \"parcoords\"}], \"pie\": [{\"automargin\": true, \"type\": \"pie\"}], \"scatter\": [{\"marker\": {\"colorbar\": {\"outlinewidth\": 0, \"ticks\": \"\"}}, \"type\": \"scatter\"}], \"scatter3d\": [{\"line\": {\"colorbar\": {\"outlinewidth\": 0, \"ticks\": \"\"}}, \"marker\": {\"colorbar\": {\"outlinewidth\": 0, \"ticks\": \"\"}}, \"type\": \"scatter3d\"}], \"scattercarpet\": [{\"marker\": {\"colorbar\": {\"outlinewidth\": 0, \"ticks\": \"\"}}, \"type\": \"scattercarpet\"}], \"scattergeo\": [{\"marker\": {\"colorbar\": {\"outlinewidth\": 0, \"ticks\": \"\"}}, \"type\": \"scattergeo\"}], \"scattergl\": [{\"marker\": {\"colorbar\": {\"outlinewidth\": 0, \"ticks\": \"\"}}, \"type\": \"scattergl\"}], \"scattermapbox\": [{\"marker\": {\"colorbar\": {\"outlinewidth\": 0, \"ticks\": \"\"}}, \"type\": \"scattermapbox\"}], \"scatterpolar\": [{\"marker\": {\"colorbar\": {\"outlinewidth\": 0, \"ticks\": \"\"}}, \"type\": \"scatterpolar\"}], \"scatterpolargl\": [{\"marker\": {\"colorbar\": {\"outlinewidth\": 0, \"ticks\": \"\"}}, \"type\": \"scatterpolargl\"}], \"scatterternary\": [{\"marker\": {\"colorbar\": {\"outlinewidth\": 0, \"ticks\": \"\"}}, \"type\": \"scatterternary\"}], \"surface\": [{\"colorbar\": {\"outlinewidth\": 0, \"ticks\": \"\"}, \"colorscale\": [[0.0, \"#0d0887\"], [0.1111111111111111, \"#46039f\"], [0.2222222222222222, \"#7201a8\"], [0.3333333333333333, \"#9c179e\"], [0.4444444444444444, \"#bd3786\"], [0.5555555555555556, \"#d8576b\"], [0.6666666666666666, \"#ed7953\"], [0.7777777777777778, \"#fb9f3a\"], [0.8888888888888888, \"#fdca26\"], [1.0, \"#f0f921\"]], \"type\": \"surface\"}], \"table\": [{\"cells\": {\"fill\": {\"color\": \"#EBF0F8\"}, \"line\": {\"color\": \"white\"}}, \"header\": {\"fill\": {\"color\": \"#C8D4E3\"}, \"line\": {\"color\": \"white\"}}, \"type\": \"table\"}]}, \"layout\": {\"annotationdefaults\": {\"arrowcolor\": \"#2a3f5f\", \"arrowhead\": 0, \"arrowwidth\": 1}, \"coloraxis\": {\"colorbar\": {\"outlinewidth\": 0, \"ticks\": \"\"}}, \"colorscale\": {\"diverging\": [[0, \"#8e0152\"], [0.1, \"#c51b7d\"], [0.2, \"#de77ae\"], [0.3, \"#f1b6da\"], [0.4, \"#fde0ef\"], [0.5, \"#f7f7f7\"], [0.6, \"#e6f5d0\"], [0.7, \"#b8e186\"], [0.8, \"#7fbc41\"], [0.9, \"#4d9221\"], [1, \"#276419\"]], \"sequential\": [[0.0, \"#0d0887\"], [0.1111111111111111, \"#46039f\"], [0.2222222222222222, \"#7201a8\"], [0.3333333333333333, \"#9c179e\"], [0.4444444444444444, \"#bd3786\"], [0.5555555555555556, \"#d8576b\"], [0.6666666666666666, \"#ed7953\"], [0.7777777777777778, \"#fb9f3a\"], [0.8888888888888888, \"#fdca26\"], [1.0, \"#f0f921\"]], \"sequentialminus\": [[0.0, \"#0d0887\"], [0.1111111111111111, \"#46039f\"], [0.2222222222222222, \"#7201a8\"], [0.3333333333333333, \"#9c179e\"], [0.4444444444444444, \"#bd3786\"], [0.5555555555555556, \"#d8576b\"], [0.6666666666666666, \"#ed7953\"], [0.7777777777777778, \"#fb9f3a\"], [0.8888888888888888, \"#fdca26\"], [1.0, \"#f0f921\"]]}, \"colorway\": [\"#636efa\", \"#EF553B\", \"#00cc96\", \"#ab63fa\", \"#FFA15A\", \"#19d3f3\", \"#FF6692\", \"#B6E880\", \"#FF97FF\", \"#FECB52\"], \"font\": {\"color\": \"#2a3f5f\"}, \"geo\": {\"bgcolor\": \"white\", \"lakecolor\": \"white\", \"landcolor\": \"#E5ECF6\", \"showlakes\": true, \"showland\": true, \"subunitcolor\": \"white\"}, \"hoverlabel\": {\"align\": \"left\"}, \"hovermode\": \"closest\", \"mapbox\": {\"style\": \"light\"}, \"paper_bgcolor\": \"white\", \"plot_bgcolor\": \"#E5ECF6\", \"polar\": {\"angularaxis\": {\"gridcolor\": \"white\", \"linecolor\": \"white\", \"ticks\": \"\"}, \"bgcolor\": \"#E5ECF6\", \"radialaxis\": {\"gridcolor\": \"white\", \"linecolor\": \"white\", \"ticks\": \"\"}}, \"scene\": {\"xaxis\": {\"backgroundcolor\": \"#E5ECF6\", \"gridcolor\": \"white\", \"gridwidth\": 2, \"linecolor\": \"white\", \"showbackground\": true, \"ticks\": \"\", \"zerolinecolor\": \"white\"}, \"yaxis\": {\"backgroundcolor\": \"#E5ECF6\", \"gridcolor\": \"white\", \"gridwidth\": 2, \"linecolor\": \"white\", \"showbackground\": true, \"ticks\": \"\", \"zerolinecolor\": \"white\"}, \"zaxis\": {\"backgroundcolor\": \"#E5ECF6\", \"gridcolor\": \"white\", \"gridwidth\": 2, \"linecolor\": \"white\", \"showbackground\": true, \"ticks\": \"\", \"zerolinecolor\": \"white\"}}, \"shapedefaults\": {\"line\": {\"color\": \"#2a3f5f\"}}, \"ternary\": {\"aaxis\": {\"gridcolor\": \"white\", \"linecolor\": \"white\", \"ticks\": \"\"}, \"baxis\": {\"gridcolor\": \"white\", \"linecolor\": \"white\", \"ticks\": \"\"}, \"bgcolor\": \"#E5ECF6\", \"caxis\": {\"gridcolor\": \"white\", \"linecolor\": \"white\", \"ticks\": \"\"}}, \"title\": {\"x\": 0.05}, \"xaxis\": {\"automargin\": true, \"gridcolor\": \"white\", \"linecolor\": \"white\", \"ticks\": \"\", \"title\": {\"standoff\": 15}, \"zerolinecolor\": \"white\", \"zerolinewidth\": 2}, \"yaxis\": {\"automargin\": true, \"gridcolor\": \"white\", \"linecolor\": \"white\", \"ticks\": \"\", \"title\": {\"standoff\": 15}, \"zerolinecolor\": \"white\", \"zerolinewidth\": 2}}}},\n",
       "                        {\"responsive\": true}\n",
       "                    ).then(function(){\n",
       "                            \n",
       "var gd = document.getElementById('25e2dddb-daca-42e6-9f21-f9de2e9d86f0');\n",
       "var x = new MutationObserver(function (mutations, observer) {{\n",
       "        var display = window.getComputedStyle(gd).display;\n",
       "        if (!display || display === 'none') {{\n",
       "            console.log([gd, 'removed!']);\n",
       "            Plotly.purge(gd);\n",
       "            observer.disconnect();\n",
       "        }}\n",
       "}});\n",
       "\n",
       "// Listen for the removal of the full notebook cells\n",
       "var notebookContainer = gd.closest('#notebook-container');\n",
       "if (notebookContainer) {{\n",
       "    x.observe(notebookContainer, {childList: true});\n",
       "}}\n",
       "\n",
       "// Listen for the clearing of the current output cell\n",
       "var outputEl = gd.closest('.output');\n",
       "if (outputEl) {{\n",
       "    x.observe(outputEl, {childList: true});\n",
       "}}\n",
       "\n",
       "                        })\n",
       "                };\n",
       "                });\n",
       "            </script>\n",
       "        </div>"
      ]
     },
     "metadata": {},
     "output_type": "display_data"
    }
   ],
   "source": [
    "fig = go.Figure(data=go.Bar(y=[2, 3, 1]))\n",
    "fig.show()"
   ]
  },
  {
   "cell_type": "markdown",
   "metadata": {},
   "source": [
    "### Plotly express"
   ]
  },
  {
   "cell_type": "code",
   "execution_count": 204,
   "metadata": {},
   "outputs": [
    {
     "data": {
      "application/vnd.plotly.v1+json": {
       "config": {
        "plotlyServerURL": "https://plot.ly"
       },
       "data": [
        {
         "hovertemplate": "year=%{x}<br>price_raw=%{y}<extra></extra>",
         "legendgroup": "",
         "marker": {
          "color": "#1F77B4",
          "symbol": "circle"
         },
         "mode": "markers",
         "name": "",
         "showlegend": false,
         "type": "scatter",
         "x": [
          2009,
          2008,
          2009,
          2009,
          2006,
          2008,
          2008,
          2009,
          2008,
          2009,
          2006,
          2005,
          2007,
          2007,
          2010,
          2008,
          2006,
          2006,
          2010,
          2009,
          2009,
          2006,
          2008,
          2010,
          2006,
          2010,
          2006,
          2008,
          2008,
          2010,
          2009,
          2008,
          2008,
          2007,
          2008,
          2007,
          2011,
          2008,
          2009,
          2008,
          2006,
          2007,
          2010,
          2008,
          2011,
          2008,
          2010,
          2009,
          2007,
          2006,
          2009,
          2007,
          2007,
          2009,
          2006,
          2006,
          2007,
          2009,
          2010,
          2008,
          2008,
          2006,
          2009,
          2009,
          2007,
          2007,
          2010,
          2008,
          2007,
          2010,
          2007,
          2009,
          2011,
          2010,
          2010,
          2009,
          2008,
          2006,
          2011,
          2007,
          2006,
          2011,
          2008,
          2011,
          2008,
          2007,
          2010,
          2010,
          2009,
          2010,
          2006,
          2006,
          2007,
          2006,
          2010,
          2007,
          2008,
          2009,
          2009,
          2007,
          2007,
          2008,
          2010,
          2007,
          2007,
          2010,
          2009,
          2006,
          2006,
          2009,
          2009,
          2006,
          2006,
          2006,
          2006,
          2008,
          2008,
          2008,
          2008,
          2009,
          2009,
          2011,
          2009,
          2009,
          2006,
          2009,
          2010,
          2010,
          2006,
          2010,
          2008,
          2006,
          2006,
          2006,
          2006,
          2009,
          2009,
          2009,
          2008,
          2009,
          2006,
          2009,
          2009,
          2008,
          2008,
          2010,
          2007,
          2007,
          2009,
          2007,
          2011,
          2009,
          2007,
          2006,
          2007,
          2006,
          2009,
          2009,
          2009,
          2010,
          2007,
          2007,
          2009,
          2011,
          2008,
          2008,
          2010,
          2008,
          2009,
          2008,
          2007,
          2006,
          2006,
          2007,
          2008,
          2009,
          2007,
          2006,
          2006,
          2010,
          2008,
          2006,
          2006,
          2006,
          2007,
          2006,
          2008,
          2006,
          2008,
          2007,
          2008,
          2002,
          2009,
          2006,
          2007,
          2007,
          2010,
          2010,
          2010,
          2010,
          2008,
          2008,
          2009,
          2011,
          2006,
          2007,
          2006,
          2006,
          2009,
          2008,
          2007,
          2008,
          2007,
          2009,
          2009,
          2011,
          2010,
          2009,
          2011,
          2011,
          2005,
          2008,
          2006,
          2008,
          2011,
          2009,
          2011,
          2011,
          2008,
          2007,
          2010,
          2007,
          2007,
          2010,
          2010,
          2010,
          2006,
          2006,
          2006,
          2006,
          2006,
          2006,
          2008,
          2008,
          2009,
          2006,
          2009,
          2009,
          2008,
          2010,
          2011,
          2008,
          2010,
          2006,
          2009,
          2008,
          2009,
          2005,
          2009,
          2010,
          2009,
          2009,
          2008,
          2006,
          2009,
          2008,
          2009,
          2007,
          2008,
          2007,
          2007,
          2009,
          2009,
          2009,
          2006,
          2007,
          2009,
          2009,
          2006,
          2007,
          2007,
          2007,
          2006,
          2007,
          2009,
          2006,
          2006,
          2006,
          2008,
          2006,
          2011,
          2009,
          2009,
          2007,
          2006,
          2006,
          2010,
          2010,
          2008,
          2008,
          2009,
          2009,
          2006,
          2009,
          2008,
          2007,
          2006,
          2008,
          2008,
          2009,
          2007,
          2007,
          2010,
          2007,
          2007,
          2009,
          2009,
          2009,
          2014,
          2016,
          2007,
          2010,
          2010,
          2010,
          2010,
          2010,
          2010,
          2010,
          2010,
          2010,
          2010,
          2010,
          2006,
          2008,
          2010,
          2009,
          2006,
          2006,
          2006,
          2006,
          2006,
          2007,
          2010,
          2010,
          2009,
          2009,
          2008,
          2006,
          2009,
          2011,
          2010,
          2009,
          2008,
          2006,
          2006,
          2008,
          2008
         ],
         "xaxis": "x",
         "y": [
          6200,
          4700,
          19800,
          14900,
          9500,
          13900,
          14900,
          15900,
          16900,
          6900,
          16900,
          16500,
          15900,
          16600,
          17900,
          14900,
          15900,
          11900,
          18999,
          16900,
          18800,
          9900,
          9900,
          22500,
          14900,
          15900,
          13600,
          15900,
          14200,
          19900,
          14900,
          12900,
          13800,
          13900,
          14800,
          10999,
          17900,
          18900,
          13700,
          15500,
          9999,
          9500,
          18800,
          11900,
          19900,
          14999,
          21900,
          13900,
          17900,
          16900,
          18900,
          16900,
          9900,
          15900,
          13200,
          10500,
          21900,
          19900,
          16800,
          10999,
          11500,
          11900,
          8200,
          18888,
          9900,
          16400,
          17999,
          17400,
          15900,
          4100,
          13600,
          15999,
          19900,
          16900,
          22000,
          21000,
          16900,
          16900,
          17400,
          18300,
          13800,
          20999,
          15500,
          21999,
          9200,
          4390.24,
          12900,
          14990,
          17500,
          16500,
          14500,
          14900,
          15999,
          11700,
          10500,
          10999,
          12999,
          12880,
          16900,
          9999,
          12900,
          11900,
          22000,
          14900,
          15900,
          18500,
          17900,
          15900,
          16900,
          16999,
          18900,
          12000,
          13200,
          12300,
          14200,
          12900,
          13500,
          13900,
          11500,
          14990,
          15900,
          19900,
          18900,
          21900,
          13300,
          14900,
          15900,
          16900,
          11900,
          16801,
          16900,
          11700,
          13200,
          14100,
          15000,
          18900,
          19900,
          20900,
          16999,
          17500,
          9900,
          18900,
          20900,
          8300,
          12250,
          13900,
          11500,
          15900,
          13900,
          13900,
          15900,
          18900,
          13800,
          10999,
          11000,
          10500,
          15500,
          15900,
          18900,
          15500,
          16200,
          16999,
          18800,
          15900,
          18900,
          12900,
          19900,
          12900,
          18900,
          15900,
          15900,
          10900,
          11500,
          10900,
          11900,
          18900,
          12200,
          13300,
          9900,
          20900,
          14900,
          12900,
          16900,
          13800,
          13800,
          13900,
          13999,
          13900,
          13800,
          15500,
          15900,
          8700,
          20800,
          12900,
          14999,
          15999,
          17000,
          17500,
          17900,
          18500,
          14900,
          2900,
          17900,
          20900,
          10400,
          16900,
          11900,
          12900,
          17900,
          18500,
          15500,
          16900,
          15900,
          14500,
          14800,
          15900,
          15000,
          8500,
          18900,
          19800,
          12900,
          15900,
          11200,
          4799,
          17500,
          15700,
          17899,
          17900,
          13900,
          20900,
          17500,
          12900,
          17900,
          17500,
          17600,
          16600,
          15700,
          13999,
          14499,
          14500,
          12900,
          13500,
          16999,
          17900,
          10400,
          15200,
          18900,
          19500,
          16900,
          17900,
          16300,
          16900,
          18600,
          14500,
          18900,
          16900,
          14500,
          5500,
          13499,
          10500,
          16900,
          17900,
          19900,
          10500,
          15999,
          15900,
          15900,
          13800,
          15900,
          10900,
          11900,
          14900,
          15400,
          15900,
          12500,
          17500,
          15500,
          14900,
          14400,
          12600,
          13400,
          15500,
          9900,
          16900,
          19900,
          17800,
          18600,
          13300,
          17900,
          15600,
          21999,
          12900,
          14900,
          6900,
          9999,
          10000,
          16800,
          16900,
          13250,
          17900,
          14500,
          15500,
          16900,
          5609.76,
          12500,
          14900,
          11900,
          16400,
          17900,
          17700,
          13900,
          14700,
          17800,
          11999,
          12999,
          14500,
          12000,
          11900,
          25900,
          28900,
          14900,
          14600,
          14900,
          15300,
          15600,
          13900,
          14200,
          14900,
          15500,
          17500,
          15200,
          15900,
          11900,
          12900,
          21999,
          17800,
          7900,
          8200,
          8300,
          8500,
          8900,
          15900,
          12900,
          14900,
          13000,
          16600,
          11600,
          13900,
          17700,
          15900,
          17700,
          17900,
          8000,
          9300,
          9900,
          15100,
          17900
         ],
         "yaxis": "y"
        }
       ],
       "layout": {
        "legend": {
         "tracegroupgap": 0
        },
        "margin": {
         "t": 60
        },
        "template": {
         "data": {
          "pie": [
           {
            "automargin": true,
            "type": "pie"
           }
          ],
          "scatter": [
           {
            "line": {
             "width": 3
            },
            "marker": {
             "size": 9
            },
            "type": "scatter"
           }
          ],
          "scatter3d": [
           {
            "line": {
             "width": 3
            },
            "marker": {
             "size": 9
            },
            "type": "scatter3d"
           }
          ],
          "scattergeo": [
           {
            "line": {
             "width": 3
            },
            "marker": {
             "size": 9
            },
            "type": "scattergeo"
           }
          ],
          "scattergl": [
           {
            "line": {
             "width": 3
            },
            "marker": {
             "size": 9
            },
            "type": "scattergl"
           }
          ],
          "scatterpolar": [
           {
            "line": {
             "width": 3
            },
            "marker": {
             "size": 9
            },
            "type": "scatterpolar"
           }
          ],
          "scatterpolargl": [
           {
            "line": {
             "width": 3
            },
            "marker": {
             "size": 9
            },
            "type": "scatterpolargl"
           }
          ],
          "scatterternary": [
           {
            "line": {
             "width": 3
            },
            "marker": {
             "size": 9
            },
            "type": "scatterternary"
           }
          ],
          "table": [
           {
            "cells": {
             "height": 30
            },
            "header": {
             "height": 36
            },
            "type": "table"
           }
          ]
         },
         "layout": {
          "font": {
           "size": 18
          },
          "xaxis": {
           "title": {
            "standoff": 15
           }
          },
          "yaxis": {
           "title": {
            "standoff": 15
           }
          }
         }
        },
        "xaxis": {
         "anchor": "y",
         "domain": [
          0,
          1
         ],
         "title": {
          "text": "year"
         }
        },
        "yaxis": {
         "anchor": "x",
         "domain": [
          0,
          1
         ],
         "title": {
          "text": "price_raw"
         }
        }
       }
      },
      "text/html": [
       "<div>\n",
       "        \n",
       "        \n",
       "            <div id=\"b7c9e974-93e8-475d-a06e-9b603c33dc81\" class=\"plotly-graph-div\" style=\"height:525px; width:100%;\"></div>\n",
       "            <script type=\"text/javascript\">\n",
       "                require([\"plotly\"], function(Plotly) {\n",
       "                    window.PLOTLYENV=window.PLOTLYENV || {};\n",
       "                    \n",
       "                if (document.getElementById(\"b7c9e974-93e8-475d-a06e-9b603c33dc81\")) {\n",
       "                    Plotly.newPlot(\n",
       "                        'b7c9e974-93e8-475d-a06e-9b603c33dc81',\n",
       "                        [{\"hovertemplate\": \"year=%{x}<br>price_raw=%{y}<extra></extra>\", \"legendgroup\": \"\", \"marker\": {\"color\": \"#1F77B4\", \"symbol\": \"circle\"}, \"mode\": \"markers\", \"name\": \"\", \"showlegend\": false, \"type\": \"scatter\", \"x\": [2009, 2008, 2009, 2009, 2006, 2008, 2008, 2009, 2008, 2009, 2006, 2005, 2007, 2007, 2010, 2008, 2006, 2006, 2010, 2009, 2009, 2006, 2008, 2010, 2006, 2010, 2006, 2008, 2008, 2010, 2009, 2008, 2008, 2007, 2008, 2007, 2011, 2008, 2009, 2008, 2006, 2007, 2010, 2008, 2011, 2008, 2010, 2009, 2007, 2006, 2009, 2007, 2007, 2009, 2006, 2006, 2007, 2009, 2010, 2008, 2008, 2006, 2009, 2009, 2007, 2007, 2010, 2008, 2007, 2010, 2007, 2009, 2011, 2010, 2010, 2009, 2008, 2006, 2011, 2007, 2006, 2011, 2008, 2011, 2008, 2007, 2010, 2010, 2009, 2010, 2006, 2006, 2007, 2006, 2010, 2007, 2008, 2009, 2009, 2007, 2007, 2008, 2010, 2007, 2007, 2010, 2009, 2006, 2006, 2009, 2009, 2006, 2006, 2006, 2006, 2008, 2008, 2008, 2008, 2009, 2009, 2011, 2009, 2009, 2006, 2009, 2010, 2010, 2006, 2010, 2008, 2006, 2006, 2006, 2006, 2009, 2009, 2009, 2008, 2009, 2006, 2009, 2009, 2008, 2008, 2010, 2007, 2007, 2009, 2007, 2011, 2009, 2007, 2006, 2007, 2006, 2009, 2009, 2009, 2010, 2007, 2007, 2009, 2011, 2008, 2008, 2010, 2008, 2009, 2008, 2007, 2006, 2006, 2007, 2008, 2009, 2007, 2006, 2006, 2010, 2008, 2006, 2006, 2006, 2007, 2006, 2008, 2006, 2008, 2007, 2008, 2002, 2009, 2006, 2007, 2007, 2010, 2010, 2010, 2010, 2008, 2008, 2009, 2011, 2006, 2007, 2006, 2006, 2009, 2008, 2007, 2008, 2007, 2009, 2009, 2011, 2010, 2009, 2011, 2011, 2005, 2008, 2006, 2008, 2011, 2009, 2011, 2011, 2008, 2007, 2010, 2007, 2007, 2010, 2010, 2010, 2006, 2006, 2006, 2006, 2006, 2006, 2008, 2008, 2009, 2006, 2009, 2009, 2008, 2010, 2011, 2008, 2010, 2006, 2009, 2008, 2009, 2005, 2009, 2010, 2009, 2009, 2008, 2006, 2009, 2008, 2009, 2007, 2008, 2007, 2007, 2009, 2009, 2009, 2006, 2007, 2009, 2009, 2006, 2007, 2007, 2007, 2006, 2007, 2009, 2006, 2006, 2006, 2008, 2006, 2011, 2009, 2009, 2007, 2006, 2006, 2010, 2010, 2008, 2008, 2009, 2009, 2006, 2009, 2008, 2007, 2006, 2008, 2008, 2009, 2007, 2007, 2010, 2007, 2007, 2009, 2009, 2009, 2014, 2016, 2007, 2010, 2010, 2010, 2010, 2010, 2010, 2010, 2010, 2010, 2010, 2010, 2006, 2008, 2010, 2009, 2006, 2006, 2006, 2006, 2006, 2007, 2010, 2010, 2009, 2009, 2008, 2006, 2009, 2011, 2010, 2009, 2008, 2006, 2006, 2008, 2008], \"xaxis\": \"x\", \"y\": [6200.0, 4700.0, 19800.0, 14900.0, 9500.0, 13900.0, 14900.0, 15900.0, 16900.0, 6900.0, 16900.0, 16500.0, 15900.0, 16600.0, 17900.0, 14900.0, 15900.0, 11900.0, 18999.0, 16900.0, 18800.0, 9900.0, 9900.0, 22500.0, 14900.0, 15900.0, 13600.0, 15900.0, 14200.0, 19900.0, 14900.0, 12900.0, 13800.0, 13900.0, 14800.0, 10999.0, 17900.0, 18900.0, 13700.0, 15500.0, 9999.0, 9500.0, 18800.0, 11900.0, 19900.0, 14999.0, 21900.0, 13900.0, 17900.0, 16900.0, 18900.0, 16900.0, 9900.0, 15900.0, 13200.0, 10500.0, 21900.0, 19900.0, 16800.0, 10999.0, 11500.0, 11900.0, 8200.0, 18888.0, 9900.0, 16400.0, 17999.0, 17400.0, 15900.0, 4100.0, 13600.0, 15999.0, 19900.0, 16900.0, 22000.0, 21000.0, 16900.0, 16900.0, 17400.0, 18300.0, 13800.0, 20999.0, 15500.0, 21999.0, 9200.0, 4390.24, 12900.0, 14990.0, 17500.0, 16500.0, 14500.0, 14900.0, 15999.0, 11700.0, 10500.0, 10999.0, 12999.0, 12880.0, 16900.0, 9999.0, 12900.0, 11900.0, 22000.0, 14900.0, 15900.0, 18500.0, 17900.0, 15900.0, 16900.0, 16999.0, 18900.0, 12000.0, 13200.0, 12300.0, 14200.0, 12900.0, 13500.0, 13900.0, 11500.0, 14990.0, 15900.0, 19900.0, 18900.0, 21900.0, 13300.0, 14900.0, 15900.0, 16900.0, 11900.0, 16801.0, 16900.0, 11700.0, 13200.0, 14100.0, 15000.0, 18900.0, 19900.0, 20900.0, 16999.0, 17500.0, 9900.0, 18900.0, 20900.0, 8300.0, 12250.0, 13900.0, 11500.0, 15900.0, 13900.0, 13900.0, 15900.0, 18900.0, 13800.0, 10999.0, 11000.0, 10500.0, 15500.0, 15900.0, 18900.0, 15500.0, 16200.0, 16999.0, 18800.0, 15900.0, 18900.0, 12900.0, 19900.0, 12900.0, 18900.0, 15900.0, 15900.0, 10900.0, 11500.0, 10900.0, 11900.0, 18900.0, 12200.0, 13300.0, 9900.0, 20900.0, 14900.0, 12900.0, 16900.0, 13800.0, 13800.0, 13900.0, 13999.0, 13900.0, 13800.0, 15500.0, 15900.0, 8700.0, 20800.0, 12900.0, 14999.0, 15999.0, 17000.0, 17500.0, 17900.0, 18500.0, 14900.0, 2900.0, 17900.0, 20900.0, 10400.0, 16900.0, 11900.0, 12900.0, 17900.0, 18500.0, 15500.0, 16900.0, 15900.0, 14500.0, 14800.0, 15900.0, 15000.0, 8500.0, 18900.0, 19800.0, 12900.0, 15900.0, 11200.0, 4799.0, 17500.0, 15700.0, 17899.0, 17900.0, 13900.0, 20900.0, 17500.0, 12900.0, 17900.0, 17500.0, 17600.0, 16600.0, 15700.0, 13999.0, 14499.0, 14500.0, 12900.0, 13500.0, 16999.0, 17900.0, 10400.0, 15200.0, 18900.0, 19500.0, 16900.0, 17900.0, 16300.0, 16900.0, 18600.0, 14500.0, 18900.0, 16900.0, 14500.0, 5500.0, 13499.0, 10500.0, 16900.0, 17900.0, 19900.0, 10500.0, 15999.0, 15900.0, 15900.0, 13800.0, 15900.0, 10900.0, 11900.0, 14900.0, 15400.0, 15900.0, 12500.0, 17500.0, 15500.0, 14900.0, 14400.0, 12600.0, 13400.0, 15500.0, 9900.0, 16900.0, 19900.0, 17800.0, 18600.0, 13300.0, 17900.0, 15600.0, 21999.0, 12900.0, 14900.0, 6900.0, 9999.0, 10000.0, 16800.0, 16900.0, 13250.0, 17900.0, 14500.0, 15500.0, 16900.0, 5609.76, 12500.0, 14900.0, 11900.0, 16400.0, 17900.0, 17700.0, 13900.0, 14700.0, 17800.0, 11999.0, 12999.0, 14500.0, 12000.0, 11900.0, 25900.0, 28900.0, 14900.0, 14600.0, 14900.0, 15300.0, 15600.0, 13900.0, 14200.0, 14900.0, 15500.0, 17500.0, 15200.0, 15900.0, 11900.0, 12900.0, 21999.0, 17800.0, 7900.0, 8200.0, 8300.0, 8500.0, 8900.0, 15900.0, 12900.0, 14900.0, 13000.0, 16600.0, 11600.0, 13900.0, 17700.0, 15900.0, 17700.0, 17900.0, 8000.0, 9300.0, 9900.0, 15100.0, 17900.0], \"yaxis\": \"y\"}],\n",
       "                        {\"legend\": {\"tracegroupgap\": 0}, \"margin\": {\"t\": 60}, \"template\": {\"data\": {\"pie\": [{\"automargin\": true, \"type\": \"pie\"}], \"scatter\": [{\"line\": {\"width\": 3}, \"marker\": {\"size\": 9}, \"type\": \"scatter\"}], \"scatter3d\": [{\"line\": {\"width\": 3}, \"marker\": {\"size\": 9}, \"type\": \"scatter3d\"}], \"scattergeo\": [{\"line\": {\"width\": 3}, \"marker\": {\"size\": 9}, \"type\": \"scattergeo\"}], \"scattergl\": [{\"line\": {\"width\": 3}, \"marker\": {\"size\": 9}, \"type\": \"scattergl\"}], \"scatterpolar\": [{\"line\": {\"width\": 3}, \"marker\": {\"size\": 9}, \"type\": \"scatterpolar\"}], \"scatterpolargl\": [{\"line\": {\"width\": 3}, \"marker\": {\"size\": 9}, \"type\": \"scatterpolargl\"}], \"scatterternary\": [{\"line\": {\"width\": 3}, \"marker\": {\"size\": 9}, \"type\": \"scatterternary\"}], \"table\": [{\"cells\": {\"height\": 30}, \"header\": {\"height\": 36}, \"type\": \"table\"}]}, \"layout\": {\"font\": {\"size\": 18}, \"xaxis\": {\"title\": {\"standoff\": 15}}, \"yaxis\": {\"title\": {\"standoff\": 15}}}}, \"xaxis\": {\"anchor\": \"y\", \"domain\": [0.0, 1.0], \"title\": {\"text\": \"year\"}}, \"yaxis\": {\"anchor\": \"x\", \"domain\": [0.0, 1.0], \"title\": {\"text\": \"price_raw\"}}},\n",
       "                        {\"responsive\": true}\n",
       "                    ).then(function(){\n",
       "                            \n",
       "var gd = document.getElementById('b7c9e974-93e8-475d-a06e-9b603c33dc81');\n",
       "var x = new MutationObserver(function (mutations, observer) {{\n",
       "        var display = window.getComputedStyle(gd).display;\n",
       "        if (!display || display === 'none') {{\n",
       "            console.log([gd, 'removed!']);\n",
       "            Plotly.purge(gd);\n",
       "            observer.disconnect();\n",
       "        }}\n",
       "}});\n",
       "\n",
       "// Listen for the removal of the full notebook cells\n",
       "var notebookContainer = gd.closest('#notebook-container');\n",
       "if (notebookContainer) {{\n",
       "    x.observe(notebookContainer, {childList: true});\n",
       "}}\n",
       "\n",
       "// Listen for the clearing of the current output cell\n",
       "var outputEl = gd.closest('.output');\n",
       "if (outputEl) {{\n",
       "    x.observe(outputEl, {childList: true});\n",
       "}}\n",
       "\n",
       "                        })\n",
       "                };\n",
       "                });\n",
       "            </script>\n",
       "        </div>"
      ]
     },
     "metadata": {},
     "output_type": "display_data"
    },
    {
     "name": "stdout",
     "output_type": "stream",
     "text": [
      "Wall time: 524 ms\n"
     ]
    }
   ],
   "source": [
    "import plotly\n",
    "import plotly.express as px\n",
    "\n",
    "\n",
    "def px_to_file():\n",
    "    # Use directly Columns as argument. You can use tab completion for this!\n",
    "    plt_sca_year = px.scatter(df, x=df.year, y=df.price_raw, template=\"presentation\")\n",
    "    plt_sca_year.show()\n",
    "\n",
    "    #plotly.offline.plot(fig, \"file.html\")\n",
    "    pio.write_html(plt_sca_year, file='./img/plt_sca_year.html', full_html=False, include_plotlyjs='cdn', auto_open=False)\n",
    "    \n",
    "%time px_to_file() "
   ]
  },
  {
   "cell_type": "code",
   "execution_count": 205,
   "metadata": {},
   "outputs": [
    {
     "data": {
      "application/vnd.plotly.v1+json": {
       "config": {
        "plotlyServerURL": "https://plot.ly"
       },
       "data": [
        {
         "alignmentgroup": "True",
         "bingroup": "x",
         "hovertemplate": "price=%{x}<br>count=%{y}<extra></extra>",
         "legendgroup": "",
         "marker": {
          "color": "#1F77B4"
         },
         "name": "",
         "offsetgroup": "",
         "orientation": "v",
         "showlegend": false,
         "type": "histogram",
         "x": [
          6200,
          4700,
          19800,
          14900,
          9500,
          13900,
          13900,
          15900,
          16900,
          6900,
          16900,
          16500,
          15900,
          15900,
          17900,
          14900,
          15900,
          11900,
          18999,
          16900,
          18800,
          9900,
          9900,
          22500,
          14900,
          15900,
          13600,
          15900,
          14200,
          19900,
          14900,
          12900,
          13800,
          13900,
          14800,
          10999,
          17900,
          18900,
          13700,
          15500,
          9999,
          9500,
          18800,
          11900,
          19900,
          21900,
          21900,
          13900,
          17900,
          16900,
          18900,
          16900,
          9900,
          15900,
          13200,
          10500,
          21900,
          19900,
          16800,
          10999,
          10999,
          11900,
          8200,
          18888,
          9900,
          16400,
          17999,
          17400,
          15900,
          4100,
          13600,
          15999,
          19900,
          16900,
          22000,
          21000,
          16900,
          16900,
          17400,
          18300,
          13800,
          20999,
          15500,
          21999,
          9200,
          5400,
          12900,
          14990,
          17500,
          16500,
          14500,
          14500,
          15999,
          11700,
          10500,
          10999,
          12999,
          12880,
          16900,
          9999,
          12900,
          11900,
          22000,
          14900,
          14900,
          18500,
          17900,
          15900,
          16900,
          16999,
          18900,
          12000,
          13200,
          13200,
          13200,
          13500,
          13500,
          13500,
          11500,
          14990,
          15900,
          19900,
          18900,
          21900,
          13300,
          14900,
          15900,
          15900,
          11900,
          16801,
          16900,
          11700,
          14100,
          14100,
          14100,
          18900,
          18900,
          18900,
          16999,
          17500,
          9900,
          18900,
          20900,
          8300,
          12250,
          13900,
          11500,
          15900,
          13900,
          13900,
          15900,
          18900,
          13800,
          10999,
          11000,
          10500,
          15500,
          15500,
          18900,
          15500,
          16200,
          16200,
          18800,
          15900,
          18900,
          18900,
          19900,
          12900,
          18900,
          15900,
          15900,
          10900,
          11500,
          10900,
          11900,
          18900,
          12200,
          13300,
          9900,
          20900,
          14900,
          12900,
          16900,
          13800,
          13800,
          13900,
          13999,
          13900,
          13800,
          15500,
          15900,
          8700,
          20800,
          12900,
          14999,
          14999,
          17900,
          17900,
          17900,
          17900,
          14900,
          2900,
          17900,
          20900,
          10400,
          16900,
          11900,
          11900,
          17900,
          18500,
          15500,
          16900,
          15900,
          14500,
          14800,
          15900,
          15000,
          8500,
          18900,
          19800,
          12900,
          15900,
          11200,
          4799,
          17500,
          15700,
          17899,
          17899,
          13900,
          20900,
          17500,
          12900,
          17900,
          17500,
          17600,
          16600,
          15700,
          13999,
          13999,
          14500,
          12900,
          12900,
          16999,
          17900,
          10400,
          15200,
          18900,
          18900,
          16900,
          17900,
          16300,
          16900,
          18600,
          14500,
          18900,
          16900,
          14500,
          5500,
          13499,
          10500,
          16900,
          17900,
          19900,
          10500,
          15999,
          15900,
          15900,
          13800,
          15900,
          10900,
          10900,
          14900,
          14900,
          14900,
          12500,
          17500,
          15500,
          14900,
          14400,
          12600,
          12600,
          15500,
          9900,
          16900,
          19900,
          17800,
          17800,
          13300,
          17900,
          15600,
          21999,
          12900,
          14900,
          6900,
          10000,
          10000,
          16800,
          16900,
          13250,
          17900,
          14500,
          14500,
          16900,
          6900,
          12500,
          14900,
          11900,
          16400,
          16400,
          17700,
          13900,
          13900,
          17800,
          11999,
          11999,
          14500,
          28900,
          28900,
          28900,
          28900,
          14900,
          14600,
          14600,
          14600,
          14600,
          15200,
          15200,
          15200,
          15200,
          15200,
          15200,
          15200,
          11900,
          12900,
          21999,
          17800,
          7900,
          7900,
          7900,
          7900,
          7900,
          15900,
          12900,
          14900,
          13000,
          16600,
          11600,
          13900,
          17700,
          15900,
          17700,
          17900,
          8000,
          9300,
          9300,
          15100,
          17900
         ],
         "xaxis": "x",
         "yaxis": "y"
        }
       ],
       "layout": {
        "barmode": "relative",
        "legend": {
         "tracegroupgap": 0
        },
        "margin": {
         "t": 60
        },
        "template": {
         "data": {
          "pie": [
           {
            "automargin": true,
            "type": "pie"
           }
          ],
          "scatter": [
           {
            "line": {
             "width": 3
            },
            "marker": {
             "size": 9
            },
            "type": "scatter"
           }
          ],
          "scatter3d": [
           {
            "line": {
             "width": 3
            },
            "marker": {
             "size": 9
            },
            "type": "scatter3d"
           }
          ],
          "scattergeo": [
           {
            "line": {
             "width": 3
            },
            "marker": {
             "size": 9
            },
            "type": "scattergeo"
           }
          ],
          "scattergl": [
           {
            "line": {
             "width": 3
            },
            "marker": {
             "size": 9
            },
            "type": "scattergl"
           }
          ],
          "scatterpolar": [
           {
            "line": {
             "width": 3
            },
            "marker": {
             "size": 9
            },
            "type": "scatterpolar"
           }
          ],
          "scatterpolargl": [
           {
            "line": {
             "width": 3
            },
            "marker": {
             "size": 9
            },
            "type": "scatterpolargl"
           }
          ],
          "scatterternary": [
           {
            "line": {
             "width": 3
            },
            "marker": {
             "size": 9
            },
            "type": "scatterternary"
           }
          ],
          "table": [
           {
            "cells": {
             "height": 30
            },
            "header": {
             "height": 36
            },
            "type": "table"
           }
          ]
         },
         "layout": {
          "font": {
           "size": 18
          },
          "xaxis": {
           "title": {
            "standoff": 15
           }
          },
          "yaxis": {
           "title": {
            "standoff": 15
           }
          }
         }
        },
        "xaxis": {
         "anchor": "y",
         "domain": [
          0,
          1
         ],
         "title": {
          "text": "price"
         }
        },
        "yaxis": {
         "anchor": "x",
         "domain": [
          0,
          1
         ],
         "title": {
          "text": "count"
         }
        }
       }
      },
      "text/html": [
       "<div>\n",
       "        \n",
       "        \n",
       "            <div id=\"c922909a-ab35-4152-aa79-501fab4fc055\" class=\"plotly-graph-div\" style=\"height:525px; width:100%;\"></div>\n",
       "            <script type=\"text/javascript\">\n",
       "                require([\"plotly\"], function(Plotly) {\n",
       "                    window.PLOTLYENV=window.PLOTLYENV || {};\n",
       "                    \n",
       "                if (document.getElementById(\"c922909a-ab35-4152-aa79-501fab4fc055\")) {\n",
       "                    Plotly.newPlot(\n",
       "                        'c922909a-ab35-4152-aa79-501fab4fc055',\n",
       "                        [{\"alignmentgroup\": \"True\", \"bingroup\": \"x\", \"hovertemplate\": \"price=%{x}<br>count=%{y}<extra></extra>\", \"legendgroup\": \"\", \"marker\": {\"color\": \"#1F77B4\"}, \"name\": \"\", \"offsetgroup\": \"\", \"orientation\": \"v\", \"showlegend\": false, \"type\": \"histogram\", \"x\": [6200, 4700, 19800, 14900, 9500, 13900, 13900, 15900, 16900, 6900, 16900, 16500, 15900, 15900, 17900, 14900, 15900, 11900, 18999, 16900, 18800, 9900, 9900, 22500, 14900, 15900, 13600, 15900, 14200, 19900, 14900, 12900, 13800, 13900, 14800, 10999, 17900, 18900, 13700, 15500, 9999, 9500, 18800, 11900, 19900, 21900, 21900, 13900, 17900, 16900, 18900, 16900, 9900, 15900, 13200, 10500, 21900, 19900, 16800, 10999, 10999, 11900, 8200, 18888, 9900, 16400, 17999, 17400, 15900, 4100, 13600, 15999, 19900, 16900, 22000, 21000, 16900, 16900, 17400, 18300, 13800, 20999, 15500, 21999, 9200, 5400, 12900, 14990, 17500, 16500, 14500, 14500, 15999, 11700, 10500, 10999, 12999, 12880, 16900, 9999, 12900, 11900, 22000, 14900, 14900, 18500, 17900, 15900, 16900, 16999, 18900, 12000, 13200, 13200, 13200, 13500, 13500, 13500, 11500, 14990, 15900, 19900, 18900, 21900, 13300, 14900, 15900, 15900, 11900, 16801, 16900, 11700, 14100, 14100, 14100, 18900, 18900, 18900, 16999, 17500, 9900, 18900, 20900, 8300, 12250, 13900, 11500, 15900, 13900, 13900, 15900, 18900, 13800, 10999, 11000, 10500, 15500, 15500, 18900, 15500, 16200, 16200, 18800, 15900, 18900, 18900, 19900, 12900, 18900, 15900, 15900, 10900, 11500, 10900, 11900, 18900, 12200, 13300, 9900, 20900, 14900, 12900, 16900, 13800, 13800, 13900, 13999, 13900, 13800, 15500, 15900, 8700, 20800, 12900, 14999, 14999, 17900, 17900, 17900, 17900, 14900, 2900, 17900, 20900, 10400, 16900, 11900, 11900, 17900, 18500, 15500, 16900, 15900, 14500, 14800, 15900, 15000, 8500, 18900, 19800, 12900, 15900, 11200, 4799, 17500, 15700, 17899, 17899, 13900, 20900, 17500, 12900, 17900, 17500, 17600, 16600, 15700, 13999, 13999, 14500, 12900, 12900, 16999, 17900, 10400, 15200, 18900, 18900, 16900, 17900, 16300, 16900, 18600, 14500, 18900, 16900, 14500, 5500, 13499, 10500, 16900, 17900, 19900, 10500, 15999, 15900, 15900, 13800, 15900, 10900, 10900, 14900, 14900, 14900, 12500, 17500, 15500, 14900, 14400, 12600, 12600, 15500, 9900, 16900, 19900, 17800, 17800, 13300, 17900, 15600, 21999, 12900, 14900, 6900, 10000, 10000, 16800, 16900, 13250, 17900, 14500, 14500, 16900, 6900, 12500, 14900, 11900, 16400, 16400, 17700, 13900, 13900, 17800, 11999, 11999, 14500, 28900, 28900, 28900, 28900, 14900, 14600, 14600, 14600, 14600, 15200, 15200, 15200, 15200, 15200, 15200, 15200, 11900, 12900, 21999, 17800, 7900, 7900, 7900, 7900, 7900, 15900, 12900, 14900, 13000, 16600, 11600, 13900, 17700, 15900, 17700, 17900, 8000, 9300, 9300, 15100, 17900], \"xaxis\": \"x\", \"yaxis\": \"y\"}],\n",
       "                        {\"barmode\": \"relative\", \"legend\": {\"tracegroupgap\": 0}, \"margin\": {\"t\": 60}, \"template\": {\"data\": {\"pie\": [{\"automargin\": true, \"type\": \"pie\"}], \"scatter\": [{\"line\": {\"width\": 3}, \"marker\": {\"size\": 9}, \"type\": \"scatter\"}], \"scatter3d\": [{\"line\": {\"width\": 3}, \"marker\": {\"size\": 9}, \"type\": \"scatter3d\"}], \"scattergeo\": [{\"line\": {\"width\": 3}, \"marker\": {\"size\": 9}, \"type\": \"scattergeo\"}], \"scattergl\": [{\"line\": {\"width\": 3}, \"marker\": {\"size\": 9}, \"type\": \"scattergl\"}], \"scatterpolar\": [{\"line\": {\"width\": 3}, \"marker\": {\"size\": 9}, \"type\": \"scatterpolar\"}], \"scatterpolargl\": [{\"line\": {\"width\": 3}, \"marker\": {\"size\": 9}, \"type\": \"scatterpolargl\"}], \"scatterternary\": [{\"line\": {\"width\": 3}, \"marker\": {\"size\": 9}, \"type\": \"scatterternary\"}], \"table\": [{\"cells\": {\"height\": 30}, \"header\": {\"height\": 36}, \"type\": \"table\"}]}, \"layout\": {\"font\": {\"size\": 18}, \"xaxis\": {\"title\": {\"standoff\": 15}}, \"yaxis\": {\"title\": {\"standoff\": 15}}}}, \"xaxis\": {\"anchor\": \"y\", \"domain\": [0.0, 1.0], \"title\": {\"text\": \"price\"}}, \"yaxis\": {\"anchor\": \"x\", \"domain\": [0.0, 1.0], \"title\": {\"text\": \"count\"}}},\n",
       "                        {\"responsive\": true}\n",
       "                    ).then(function(){\n",
       "                            \n",
       "var gd = document.getElementById('c922909a-ab35-4152-aa79-501fab4fc055');\n",
       "var x = new MutationObserver(function (mutations, observer) {{\n",
       "        var display = window.getComputedStyle(gd).display;\n",
       "        if (!display || display === 'none') {{\n",
       "            console.log([gd, 'removed!']);\n",
       "            Plotly.purge(gd);\n",
       "            observer.disconnect();\n",
       "        }}\n",
       "}});\n",
       "\n",
       "// Listen for the removal of the full notebook cells\n",
       "var notebookContainer = gd.closest('#notebook-container');\n",
       "if (notebookContainer) {{\n",
       "    x.observe(notebookContainer, {childList: true});\n",
       "}}\n",
       "\n",
       "// Listen for the clearing of the current output cell\n",
       "var outputEl = gd.closest('.output');\n",
       "if (outputEl) {{\n",
       "    x.observe(outputEl, {childList: true});\n",
       "}}\n",
       "\n",
       "                        })\n",
       "                };\n",
       "                });\n",
       "            </script>\n",
       "        </div>"
      ]
     },
     "metadata": {},
     "output_type": "display_data"
    }
   ],
   "source": [
    "plt_price = px.histogram(df, x=df.price, template=\"presentation\")\n",
    "plt_price.show()\n",
    "\n",
    "pio.write_html(plt_price, file='./img/plt_price.html', full_html=False, include_plotlyjs='cdn', auto_open=False)"
   ]
  },
  {
   "cell_type": "code",
   "execution_count": 206,
   "metadata": {},
   "outputs": [
    {
     "data": {
      "application/vnd.plotly.v1+json": {
       "config": {
        "plotlyServerURL": "https://plot.ly"
       },
       "data": [
        {
         "alignmentgroup": "True",
         "bingroup": "x",
         "hovertemplate": "mileage=%{x}<br>count=%{y}<extra></extra>",
         "legendgroup": "",
         "marker": {
          "color": "#1F77B4"
         },
         "name": "",
         "offsetgroup": "",
         "orientation": "v",
         "showlegend": false,
         "type": "histogram",
         "x": [
          111000,
          45706,
          174000,
          187000,
          180000,
          153000,
          153000,
          182000,
          162000,
          134000,
          141117,
          155000,
          178560,
          178560,
          106000,
          140112,
          171000,
          132000,
          159500,
          160000,
          165000,
          222527,
          174000,
          149000,
          172000,
          157922,
          77000,
          162000,
          180000,
          155000,
          123214,
          104000,
          187000,
          189500,
          154000,
          259000,
          139000,
          195000,
          178222,
          156669,
          230000,
          251000,
          166567,
          250000,
          104000,
          157000,
          172000,
          162500,
          159000,
          71000,
          163000,
          161300,
          195000,
          151000,
          197000,
          220000,
          112000,
          101100,
          157000,
          270981,
          270981,
          159000,
          410000,
          90000,
          176000,
          200000,
          146250,
          145400,
          183000,
          372000,
          142137,
          213285,
          175000,
          269687,
          165441,
          143308,
          76000,
          126000,
          173453,
          184960,
          168000,
          99000,
          190000,
          149000,
          108000,
          410000,
          199000,
          199000,
          153500,
          130500,
          112000,
          112000,
          200000,
          211000,
          162641,
          195000,
          132000,
          189000,
          124100,
          119000,
          149000,
          178254,
          147218,
          100000,
          100000,
          170000,
          110000,
          145000,
          72000,
          188000,
          133000,
          122000,
          131500,
          131500,
          131500,
          171239,
          171239,
          171239,
          163700,
          128915,
          154000,
          120000,
          100000,
          145594,
          144000,
          143000,
          138000,
          138000,
          180000,
          168690,
          75000,
          65000,
          178206,
          178206,
          178206,
          86500,
          86500,
          86500,
          154288,
          85000,
          177100,
          164000,
          136000,
          249900,
          149987,
          178000,
          204000,
          163000,
          127300,
          112000,
          185000,
          82000,
          170000,
          213654,
          235900,
          208000,
          190000,
          190000,
          132000,
          190000,
          136367,
          136367,
          129000,
          170000,
          83000,
          153000,
          105000,
          119000,
          96000,
          170000,
          130221,
          169000,
          186000,
          169000,
          179847,
          94000,
          220400,
          163000,
          203000,
          117000,
          124500,
          138000,
          130000,
          176000,
          109000,
          176000,
          226000,
          150000,
          125000,
          170000,
          130000,
          206261,
          74000,
          189000,
          164440,
          164440,
          109000,
          109000,
          109000,
          109000,
          112000,
          165000,
          110000,
          67522,
          232900,
          105700,
          72000,
          72000,
          186239,
          167000,
          210000,
          117000,
          168000,
          169540,
          170000,
          196500,
          239000,
          194000,
          193413,
          124000,
          212000,
          129000,
          133000,
          104734,
          117000,
          128000,
          190464,
          190464,
          147245,
          47000,
          90500,
          177000,
          143000,
          219585,
          247000,
          103000,
          156680,
          202910,
          202910,
          95000,
          141203,
          141203,
          93000,
          154000,
          116000,
          9100,
          133000,
          133000,
          104966,
          172000,
          260000,
          219000,
          94000,
          62000,
          119000,
          124000,
          181000,
          242605,
          222000,
          213000,
          150000,
          152145,
          105037,
          165000,
          155000,
          151000,
          165000,
          207000,
          152282,
          175000,
          175000,
          130000,
          130000,
          130000,
          160350,
          19200,
          171000,
          81000,
          152000,
          215000,
          215000,
          128000,
          277800,
          117000,
          157142,
          82450,
          82450,
          170000,
          175000,
          112365,
          152000,
          165000,
          90200,
          128000,
          152000,
          152000,
          163135,
          189000,
          223000,
          101420,
          163000,
          163000,
          86000,
          390000,
          212010,
          164000,
          141000,
          70000,
          70000,
          76000,
          147000,
          147000,
          175000,
          116000,
          116000,
          196245,
          115000,
          115000,
          115000,
          68000,
          135200,
          205000,
          205000,
          205000,
          205000,
          150000,
          150000,
          150000,
          150000,
          150000,
          150000,
          150000,
          120566,
          163000,
          144263,
          102000,
          200000,
          200000,
          200000,
          200000,
          200000,
          170000,
          166000,
          193000,
          73000,
          139957,
          47000,
          150000,
          76000,
          196500,
          197777,
          101200,
          200000,
          252500,
          252500,
          131000,
          83000
         ],
         "xaxis": "x",
         "yaxis": "y"
        }
       ],
       "layout": {
        "barmode": "relative",
        "legend": {
         "tracegroupgap": 0
        },
        "margin": {
         "t": 60
        },
        "template": {
         "data": {
          "pie": [
           {
            "automargin": true,
            "type": "pie"
           }
          ],
          "scatter": [
           {
            "line": {
             "width": 3
            },
            "marker": {
             "size": 9
            },
            "type": "scatter"
           }
          ],
          "scatter3d": [
           {
            "line": {
             "width": 3
            },
            "marker": {
             "size": 9
            },
            "type": "scatter3d"
           }
          ],
          "scattergeo": [
           {
            "line": {
             "width": 3
            },
            "marker": {
             "size": 9
            },
            "type": "scattergeo"
           }
          ],
          "scattergl": [
           {
            "line": {
             "width": 3
            },
            "marker": {
             "size": 9
            },
            "type": "scattergl"
           }
          ],
          "scatterpolar": [
           {
            "line": {
             "width": 3
            },
            "marker": {
             "size": 9
            },
            "type": "scatterpolar"
           }
          ],
          "scatterpolargl": [
           {
            "line": {
             "width": 3
            },
            "marker": {
             "size": 9
            },
            "type": "scatterpolargl"
           }
          ],
          "scatterternary": [
           {
            "line": {
             "width": 3
            },
            "marker": {
             "size": 9
            },
            "type": "scatterternary"
           }
          ],
          "table": [
           {
            "cells": {
             "height": 30
            },
            "header": {
             "height": 36
            },
            "type": "table"
           }
          ]
         },
         "layout": {
          "font": {
           "size": 18
          },
          "xaxis": {
           "title": {
            "standoff": 15
           }
          },
          "yaxis": {
           "title": {
            "standoff": 15
           }
          }
         }
        },
        "xaxis": {
         "anchor": "y",
         "domain": [
          0,
          1
         ],
         "title": {
          "text": "mileage"
         }
        },
        "yaxis": {
         "anchor": "x",
         "domain": [
          0,
          1
         ],
         "title": {
          "text": "count"
         }
        }
       }
      },
      "text/html": [
       "<div>\n",
       "        \n",
       "        \n",
       "            <div id=\"257d0352-5562-40c7-90f8-e11822ac51e9\" class=\"plotly-graph-div\" style=\"height:525px; width:100%;\"></div>\n",
       "            <script type=\"text/javascript\">\n",
       "                require([\"plotly\"], function(Plotly) {\n",
       "                    window.PLOTLYENV=window.PLOTLYENV || {};\n",
       "                    \n",
       "                if (document.getElementById(\"257d0352-5562-40c7-90f8-e11822ac51e9\")) {\n",
       "                    Plotly.newPlot(\n",
       "                        '257d0352-5562-40c7-90f8-e11822ac51e9',\n",
       "                        [{\"alignmentgroup\": \"True\", \"bingroup\": \"x\", \"hovertemplate\": \"mileage=%{x}<br>count=%{y}<extra></extra>\", \"legendgroup\": \"\", \"marker\": {\"color\": \"#1F77B4\"}, \"name\": \"\", \"offsetgroup\": \"\", \"orientation\": \"v\", \"showlegend\": false, \"type\": \"histogram\", \"x\": [111000, 45706, 174000, 187000, 180000, 153000, 153000, 182000, 162000, 134000, 141117, 155000, 178560, 178560, 106000, 140112, 171000, 132000, 159500, 160000, 165000, 222527, 174000, 149000, 172000, 157922, 77000, 162000, 180000, 155000, 123214, 104000, 187000, 189500, 154000, 259000, 139000, 195000, 178222, 156669, 230000, 251000, 166567, 250000, 104000, 157000, 172000, 162500, 159000, 71000, 163000, 161300, 195000, 151000, 197000, 220000, 112000, 101100, 157000, 270981, 270981, 159000, 410000, 90000, 176000, 200000, 146250, 145400, 183000, 372000, 142137, 213285, 175000, 269687, 165441, 143308, 76000, 126000, 173453, 184960, 168000, 99000, 190000, 149000, 108000, 410000, 199000, 199000, 153500, 130500, 112000, 112000, 200000, 211000, 162641, 195000, 132000, 189000, 124100, 119000, 149000, 178254, 147218, 100000, 100000, 170000, 110000, 145000, 72000, 188000, 133000, 122000, 131500, 131500, 131500, 171239, 171239, 171239, 163700, 128915, 154000, 120000, 100000, 145594, 144000, 143000, 138000, 138000, 180000, 168690, 75000, 65000, 178206, 178206, 178206, 86500, 86500, 86500, 154288, 85000, 177100, 164000, 136000, 249900, 149987, 178000, 204000, 163000, 127300, 112000, 185000, 82000, 170000, 213654, 235900, 208000, 190000, 190000, 132000, 190000, 136367, 136367, 129000, 170000, 83000, 153000, 105000, 119000, 96000, 170000, 130221, 169000, 186000, 169000, 179847, 94000, 220400, 163000, 203000, 117000, 124500, 138000, 130000, 176000, 109000, 176000, 226000, 150000, 125000, 170000, 130000, 206261, 74000, 189000, 164440, 164440, 109000, 109000, 109000, 109000, 112000, 165000, 110000, 67522, 232900, 105700, 72000, 72000, 186239, 167000, 210000, 117000, 168000, 169540, 170000, 196500, 239000, 194000, 193413, 124000, 212000, 129000, 133000, 104734, 117000, 128000, 190464, 190464, 147245, 47000, 90500, 177000, 143000, 219585, 247000, 103000, 156680, 202910, 202910, 95000, 141203, 141203, 93000, 154000, 116000, 9100, 133000, 133000, 104966, 172000, 260000, 219000, 94000, 62000, 119000, 124000, 181000, 242605, 222000, 213000, 150000, 152145, 105037, 165000, 155000, 151000, 165000, 207000, 152282, 175000, 175000, 130000, 130000, 130000, 160350, 19200, 171000, 81000, 152000, 215000, 215000, 128000, 277800, 117000, 157142, 82450, 82450, 170000, 175000, 112365, 152000, 165000, 90200, 128000, 152000, 152000, 163135, 189000, 223000, 101420, 163000, 163000, 86000, 390000, 212010, 164000, 141000, 70000, 70000, 76000, 147000, 147000, 175000, 116000, 116000, 196245, 115000, 115000, 115000, 68000, 135200, 205000, 205000, 205000, 205000, 150000, 150000, 150000, 150000, 150000, 150000, 150000, 120566, 163000, 144263, 102000, 200000, 200000, 200000, 200000, 200000, 170000, 166000, 193000, 73000, 139957, 47000, 150000, 76000, 196500, 197777, 101200, 200000, 252500, 252500, 131000, 83000], \"xaxis\": \"x\", \"yaxis\": \"y\"}],\n",
       "                        {\"barmode\": \"relative\", \"legend\": {\"tracegroupgap\": 0}, \"margin\": {\"t\": 60}, \"template\": {\"data\": {\"pie\": [{\"automargin\": true, \"type\": \"pie\"}], \"scatter\": [{\"line\": {\"width\": 3}, \"marker\": {\"size\": 9}, \"type\": \"scatter\"}], \"scatter3d\": [{\"line\": {\"width\": 3}, \"marker\": {\"size\": 9}, \"type\": \"scatter3d\"}], \"scattergeo\": [{\"line\": {\"width\": 3}, \"marker\": {\"size\": 9}, \"type\": \"scattergeo\"}], \"scattergl\": [{\"line\": {\"width\": 3}, \"marker\": {\"size\": 9}, \"type\": \"scattergl\"}], \"scatterpolar\": [{\"line\": {\"width\": 3}, \"marker\": {\"size\": 9}, \"type\": \"scatterpolar\"}], \"scatterpolargl\": [{\"line\": {\"width\": 3}, \"marker\": {\"size\": 9}, \"type\": \"scatterpolargl\"}], \"scatterternary\": [{\"line\": {\"width\": 3}, \"marker\": {\"size\": 9}, \"type\": \"scatterternary\"}], \"table\": [{\"cells\": {\"height\": 30}, \"header\": {\"height\": 36}, \"type\": \"table\"}]}, \"layout\": {\"font\": {\"size\": 18}, \"xaxis\": {\"title\": {\"standoff\": 15}}, \"yaxis\": {\"title\": {\"standoff\": 15}}}}, \"xaxis\": {\"anchor\": \"y\", \"domain\": [0.0, 1.0], \"title\": {\"text\": \"mileage\"}}, \"yaxis\": {\"anchor\": \"x\", \"domain\": [0.0, 1.0], \"title\": {\"text\": \"count\"}}},\n",
       "                        {\"responsive\": true}\n",
       "                    ).then(function(){\n",
       "                            \n",
       "var gd = document.getElementById('257d0352-5562-40c7-90f8-e11822ac51e9');\n",
       "var x = new MutationObserver(function (mutations, observer) {{\n",
       "        var display = window.getComputedStyle(gd).display;\n",
       "        if (!display || display === 'none') {{\n",
       "            console.log([gd, 'removed!']);\n",
       "            Plotly.purge(gd);\n",
       "            observer.disconnect();\n",
       "        }}\n",
       "}});\n",
       "\n",
       "// Listen for the removal of the full notebook cells\n",
       "var notebookContainer = gd.closest('#notebook-container');\n",
       "if (notebookContainer) {{\n",
       "    x.observe(notebookContainer, {childList: true});\n",
       "}}\n",
       "\n",
       "// Listen for the clearing of the current output cell\n",
       "var outputEl = gd.closest('.output');\n",
       "if (outputEl) {{\n",
       "    x.observe(outputEl, {childList: true});\n",
       "}}\n",
       "\n",
       "                        })\n",
       "                };\n",
       "                });\n",
       "            </script>\n",
       "        </div>"
      ]
     },
     "metadata": {},
     "output_type": "display_data"
    }
   ],
   "source": [
    "plt_mileage = px.histogram(df, x=df.mileage, template=\"presentation\")\n",
    "plt_mileage.show()\n",
    "\n",
    "pio.write_html(plt_mileage, file='./img/plt_mileage.html', full_html=False, include_plotlyjs='cdn', auto_open=False)"
   ]
  },
  {
   "cell_type": "code",
   "execution_count": 155,
   "metadata": {},
   "outputs": [
    {
     "data": {
      "text/html": [
       "\n",
       "\n",
       "\n",
       "\n",
       "\n",
       "\n",
       "  <div class=\"bk-root\" id=\"e8f53f6d-6eaf-4af2-8893-0a96c5362cfd\" data-root-id=\"1002\"></div>\n"
      ]
     },
     "metadata": {},
     "output_type": "display_data"
    },
    {
     "data": {
      "application/javascript": [
       "(function(root) {\n",
       "  function embed_document(root) {\n",
       "    \n",
       "  var docs_json = {\"20065875-7465-4e80-95f4-87c11ce30ef2\":{\"roots\":{\"references\":[{\"attributes\":{\"below\":[{\"id\":\"1010\"}],\"center\":[{\"id\":\"1013\"},{\"id\":\"1017\"},{\"id\":\"1044\"}],\"left\":[{\"id\":\"1014\"}],\"plot_height\":300,\"plot_width\":400,\"renderers\":[{\"id\":\"1035\"},{\"id\":\"1049\"}],\"title\":{\"id\":\"1037\"},\"toolbar\":{\"id\":\"1025\"},\"x_range\":{\"id\":\"1003\"},\"x_scale\":{\"id\":\"1006\"},\"y_range\":{\"id\":\"1001\"},\"y_scale\":{\"id\":\"1008\"}},\"id\":\"1002\",\"subtype\":\"Figure\",\"type\":\"Plot\"},{\"attributes\":{},\"id\":\"1003\",\"type\":\"DataRange1d\"},{\"attributes\":{},\"id\":\"1068\",\"type\":\"UnionRenderers\"},{\"attributes\":{\"fill_alpha\":0.1,\"fill_color\":\"#1f77b3\",\"line_alpha\":0.1,\"line_color\":\"#1f77b3\",\"x\":{\"field\":\"x\"},\"y\":{\"field\":\"y\"}},\"id\":\"1048\",\"type\":\"Patch\"},{\"attributes\":{\"label\":{\"value\":\" \"},\"renderers\":[{\"id\":\"1035\"},{\"id\":\"1049\"}]},\"id\":\"1045\",\"type\":\"LegendItem\"},{\"attributes\":{},\"id\":\"1021\",\"type\":\"SaveTool\"},{\"attributes\":{\"overlay\":{\"id\":\"1024\"}},\"id\":\"1020\",\"type\":\"BoxZoomTool\"},{\"attributes\":{},\"id\":\"1008\",\"type\":\"LinearScale\"},{\"attributes\":{\"active_drag\":\"auto\",\"active_inspect\":\"auto\",\"active_multi\":null,\"active_scroll\":\"auto\",\"active_tap\":\"auto\",\"tools\":[{\"id\":\"1018\"},{\"id\":\"1019\"},{\"id\":\"1020\"},{\"id\":\"1021\"},{\"id\":\"1022\"},{\"id\":\"1023\"}]},\"id\":\"1025\",\"type\":\"Toolbar\"},{\"attributes\":{},\"id\":\"1069\",\"type\":\"Selection\"},{\"attributes\":{\"axis_label\":\"count\",\"formatter\":{\"id\":\"1042\"},\"ticker\":{\"id\":\"1015\"}},\"id\":\"1014\",\"type\":\"LinearAxis\"},{\"attributes\":{\"bottom_units\":\"screen\",\"fill_alpha\":0.5,\"fill_color\":\"lightgrey\",\"left_units\":\"screen\",\"level\":\"overlay\",\"line_alpha\":1.0,\"line_color\":\"black\",\"line_dash\":[4,4],\"line_width\":2,\"render_mode\":\"css\",\"right_units\":\"screen\",\"top_units\":\"screen\"},\"id\":\"1024\",\"type\":\"BoxAnnotation\"},{\"attributes\":{\"line_color\":\"#1f77b3\",\"line_width\":2,\"x\":{\"field\":\"x\"},\"y\":{\"field\":\"y\"}},\"id\":\"1033\",\"type\":\"Line\"},{\"attributes\":{},\"id\":\"1006\",\"type\":\"LinearScale\"},{\"attributes\":{\"data_source\":{\"id\":\"1032\"},\"glyph\":{\"id\":\"1033\"},\"hover_glyph\":null,\"muted_glyph\":null,\"nonselection_glyph\":{\"id\":\"1034\"},\"selection_glyph\":null,\"view\":{\"id\":\"1036\"}},\"id\":\"1035\",\"type\":\"GlyphRenderer\"},{\"attributes\":{\"source\":{\"id\":\"1032\"}},\"id\":\"1036\",\"type\":\"CDSView\"},{\"attributes\":{\"start\":0},\"id\":\"1001\",\"type\":\"DataRange1d\"},{\"attributes\":{\"source\":{\"id\":\"1046\"}},\"id\":\"1050\",\"type\":\"CDSView\"},{\"attributes\":{\"text\":\"\"},\"id\":\"1037\",\"type\":\"Title\"},{\"attributes\":{},\"id\":\"1019\",\"type\":\"WheelZoomTool\"},{\"attributes\":{\"line_alpha\":0.1,\"line_color\":\"#1f77b3\",\"line_width\":2,\"x\":{\"field\":\"x\"},\"y\":{\"field\":\"y\"}},\"id\":\"1034\",\"type\":\"Line\"},{\"attributes\":{\"data\":{\"x\":{\"__ndarray__\":\"AAAAAACopkAAAAAAAKimQAAAAAAAaLBAAAAAAABosEAAAAAAAHy1QAAAAAAAfLVAAAAAAACQukAAAAAAAJC6QAAAAAAApL9AAAAAAACkv0AAAAAAAFzCQAAAAAAAXMJAAAAAAADmxEAAAAAAAObEQAAAAAAAcMdAAAAAAABwx0AAAAAAAPrJQAAAAAAA+slAAAAAAACEzEAAAAAAAITMQAAAAAAADs9AAAAAAAAOz0AAAAAAAMzQQAAAAAAAzNBAAAAAAAAR0kAAAAAAABHSQAAAAAAAVtNAAAAAAABW00AAAAAAAJvUQAAAAAAAm9RAAAAAAADg1UAAAAAAAODVQAAAAAAAJddAAAAAAAAl10AAAAAAAGrYQAAAAAAAathAAAAAAACv2UAAAAAAAK/ZQAAAAAAA9NpAAAAAAAD02kAAAAAAADncQAAAAAAAOdxA\",\"dtype\":\"float64\",\"shape\":[42]},\"y\":{\"__ndarray__\":\"AAAAAAAAAAAAAAAAAAAAQAAAAAAAAABAAAAAAAAACEAAAAAAAAAIQAAAAAAAAABAAAAAAAAAAEAAAAAAAAAiQAAAAAAAACJAAAAAAAAAHEAAAAAAAAAcQAAAAAAAADRAAAAAAAAANEAAAAAAAAA9QAAAAAAAAD1AAAAAAAAAPEAAAAAAAAA8QAAAAAAAgEdAAAAAAACAR0AAAAAAAIBIQAAAAAAAgEhAAAAAAACAUEAAAAAAAIBQQAAAAAAAAENAAAAAAAAAQ0AAAAAAAAA6QAAAAAAAADpAAAAAAAAAMUAAAAAAAAAxQAAAAAAAACJAAAAAAAAAIkAAAAAAAADwPwAAAAAAAPA/AAAAAAAAAAAAAAAAAAAAAAAAAAAAAAAAAAAAAAAAAAAAAAAAAAAAAAAAAAAAAAAAAAAAAAAAEEAAAAAAAAAQQAAAAAAAAAAA\",\"dtype\":\"float64\",\"shape\":[42]}},\"selected\":{\"id\":\"1058\"},\"selection_policy\":{\"id\":\"1057\"}},\"id\":\"1032\",\"type\":\"ColumnDataSource\"},{\"attributes\":{\"axis\":{\"id\":\"1010\"},\"ticker\":null},\"id\":\"1013\",\"type\":\"Grid\"},{\"attributes\":{},\"id\":\"1057\",\"type\":\"UnionRenderers\"},{\"attributes\":{\"items\":[{\"id\":\"1045\"}],\"visible\":false},\"id\":\"1044\",\"type\":\"Legend\"},{\"attributes\":{\"axis_label\":\"price\",\"formatter\":{\"id\":\"1040\"},\"ticker\":{\"id\":\"1011\"}},\"id\":\"1010\",\"type\":\"LinearAxis\"},{\"attributes\":{},\"id\":\"1018\",\"type\":\"PanTool\"},{\"attributes\":{},\"id\":\"1042\",\"type\":\"BasicTickFormatter\"},{\"attributes\":{},\"id\":\"1022\",\"type\":\"ResetTool\"},{\"attributes\":{},\"id\":\"1058\",\"type\":\"Selection\"},{\"attributes\":{},\"id\":\"1023\",\"type\":\"HelpTool\"},{\"attributes\":{\"fill_alpha\":0.3,\"fill_color\":\"#1f77b3\",\"line_alpha\":0,\"line_color\":\"#1f77b3\",\"x\":{\"field\":\"x\"},\"y\":{\"field\":\"y\"}},\"id\":\"1047\",\"type\":\"Patch\"},{\"attributes\":{\"axis\":{\"id\":\"1014\"},\"dimension\":1,\"ticker\":null},\"id\":\"1017\",\"type\":\"Grid\"},{\"attributes\":{\"data\":{\"x\":{\"__ndarray__\":\"AAAAAACopkAAAAAAAKimQAAAAAAAaLBAAAAAAABosEAAAAAAAHy1QAAAAAAAfLVAAAAAAACQukAAAAAAAJC6QAAAAAAApL9AAAAAAACkv0AAAAAAAFzCQAAAAAAAXMJAAAAAAADmxEAAAAAAAObEQAAAAAAAcMdAAAAAAABwx0AAAAAAAPrJQAAAAAAA+slAAAAAAACEzEAAAAAAAITMQAAAAAAADs9AAAAAAAAOz0AAAAAAAMzQQAAAAAAAzNBAAAAAAAAR0kAAAAAAABHSQAAAAAAAVtNAAAAAAABW00AAAAAAAJvUQAAAAAAAm9RAAAAAAADg1UAAAAAAAODVQAAAAAAAJddAAAAAAAAl10AAAAAAAGrYQAAAAAAAathAAAAAAACv2UAAAAAAAK/ZQAAAAAAA9NpAAAAAAAD02kAAAAAAADncQAAAAAAAOdxAAAAAAAA53EAAAAAAAKimQA==\",\"dtype\":\"float64\",\"shape\":[44]},\"y\":{\"__ndarray__\":\"AAAAAAAAAAAAAAAAAAAAQAAAAAAAAABAAAAAAAAACEAAAAAAAAAIQAAAAAAAAABAAAAAAAAAAEAAAAAAAAAiQAAAAAAAACJAAAAAAAAAHEAAAAAAAAAcQAAAAAAAADRAAAAAAAAANEAAAAAAAAA9QAAAAAAAAD1AAAAAAAAAPEAAAAAAAAA8QAAAAAAAgEdAAAAAAACAR0AAAAAAAIBIQAAAAAAAgEhAAAAAAACAUEAAAAAAAIBQQAAAAAAAAENAAAAAAAAAQ0AAAAAAAAA6QAAAAAAAADpAAAAAAAAAMUAAAAAAAAAxQAAAAAAAACJAAAAAAAAAIkAAAAAAAADwPwAAAAAAAPA/AAAAAAAAAAAAAAAAAAAAAAAAAAAAAAAAAAAAAAAAAAAAAAAAAAAAAAAAAAAAAAAAAAAAAAAAEEAAAAAAAAAQQAAAAAAAAAAAAAAAAAAAAAAAAAAAAAAAAA==\",\"dtype\":\"float64\",\"shape\":[44]}},\"selected\":{\"id\":\"1069\"},\"selection_policy\":{\"id\":\"1068\"}},\"id\":\"1046\",\"type\":\"ColumnDataSource\"},{\"attributes\":{},\"id\":\"1011\",\"type\":\"BasicTicker\"},{\"attributes\":{},\"id\":\"1040\",\"type\":\"BasicTickFormatter\"},{\"attributes\":{\"data_source\":{\"id\":\"1046\"},\"glyph\":{\"id\":\"1047\"},\"hover_glyph\":null,\"muted_glyph\":null,\"nonselection_glyph\":{\"id\":\"1048\"},\"selection_glyph\":null,\"view\":{\"id\":\"1050\"}},\"id\":\"1049\",\"type\":\"GlyphRenderer\"},{\"attributes\":{},\"id\":\"1015\",\"type\":\"BasicTicker\"}],\"root_ids\":[\"1002\"]},\"title\":\"Bokeh Application\",\"version\":\"2.0.2\"}};\n",
       "  var render_items = [{\"docid\":\"20065875-7465-4e80-95f4-87c11ce30ef2\",\"root_ids\":[\"1002\"],\"roots\":{\"1002\":\"e8f53f6d-6eaf-4af2-8893-0a96c5362cfd\"}}];\n",
       "  root.Bokeh.embed.embed_items_notebook(docs_json, render_items);\n",
       "\n",
       "  }\n",
       "  if (root.Bokeh !== undefined) {\n",
       "    embed_document(root);\n",
       "  } else {\n",
       "    var attempts = 0;\n",
       "    var timer = setInterval(function(root) {\n",
       "      if (root.Bokeh !== undefined) {\n",
       "        clearInterval(timer);\n",
       "        embed_document(root);\n",
       "      } else {\n",
       "        attempts++;\n",
       "        if (attempts > 100) {\n",
       "          clearInterval(timer);\n",
       "          console.log(\"Bokeh: ERROR: Unable to run BokehJS code because BokehJS library is missing\");\n",
       "        }\n",
       "      }\n",
       "    }, 10, root)\n",
       "  }\n",
       "})(window);"
      ],
      "application/vnd.bokehjs_exec.v0+json": ""
     },
     "metadata": {
      "application/vnd.bokehjs_exec.v0+json": {
       "id": "1002"
      }
     },
     "output_type": "display_data"
    },
    {
     "name": "stdout",
     "output_type": "stream",
     "text": [
      "Wall time: 47 ms\n"
     ]
    }
   ],
   "source": [
    "def plot_bokeh():\n",
    "    p = figure(plot_width=400, plot_height=400)\n",
    "\n",
    "    # add a circle renderer with a size, color, and alpha\n",
    "    p.circle([1, 2, 3, 4, 5], [6, 7, 2, 4, 5], size=20, color=\"navy\", alpha=0.5)\n",
    "\n",
    "    \n",
    "    # show the results\n",
    "    show(p)\n",
    "\n",
    "def plot_hist():\n",
    "    # http://justinbois.github.io/bootcamp/2019/lessons/l23_high_level_plotting.html\n",
    "    # https://github.com/justinbois/bokeh-catplot\n",
    "    p = bokeh_catplot.histogram(data=df['price'],cats=None,val='price', bins=20)\n",
    "    show(p)\n",
    "#%time plot_bokeh() \n",
    "\n",
    "%time plot_hist()"
   ]
  },
  {
   "cell_type": "markdown",
   "metadata": {},
   "source": [
    "### Cena"
   ]
  },
  {
   "cell_type": "code",
   "execution_count": 156,
   "metadata": {},
   "outputs": [
    {
     "data": {
      "image/png": "[encoded data removed]",
      "text/plain": [
       "<Figure size 1296x504 with 1 Axes>"
      ]
     },
     "metadata": {},
     "output_type": "display_data"
    }
   ],
   "source": [
    "sns.set_style(\"darkgrid\")\n",
    "plt.figure(figsize=(18,7))\n",
    "chart = sns.distplot(df['price'], bins=20, kde=False, rug=True)\n",
    "chart.set(xlabel='Cena', ylabel='liczba ogłoszeń');"
   ]
  },
  {
   "cell_type": "code",
   "execution_count": 157,
   "metadata": {},
   "outputs": [
    {
     "data": {
      "image/png": "[encoded data removed]",
      "text/plain": [
       "<Figure size 1440x504 with 1 Axes>"
      ]
     },
     "metadata": {},
     "output_type": "display_data"
    }
   ],
   "source": [
    "plt.figure(figsize=(20, 7))\n",
    "plt.title('price vs year')  \n",
    "plt.xlabel('year')  \n",
    "plt.ylabel('price') \n",
    "sns.stripplot(x=\"year\", y=\"price_raw\", data=df);\n"
   ]
  },
  {
   "cell_type": "code",
   "execution_count": 158,
   "metadata": {},
   "outputs": [
    {
     "data": {
      "image/png": "[encoded data removed]",
      "text/plain": [
       "<Figure size 1080x504 with 1 Axes>"
      ]
     },
     "metadata": {},
     "output_type": "display_data"
    }
   ],
   "source": [
    "df.plot(x='year', y='price_raw', style='o', figsize=(15,7)) \n",
    "plt.title('price vs year')  \n",
    "plt.xlabel('year')  \n",
    "plt.ylabel('price')  \n",
    "plt.show()"
   ]
  },
  {
   "cell_type": "markdown",
   "metadata": {},
   "source": [
    "### przebieg"
   ]
  },
  {
   "cell_type": "code",
   "execution_count": 159,
   "metadata": {},
   "outputs": [
    {
     "data": {
      "image/png": "[encoded data removed]",
      "text/plain": [
       "<Figure size 1296x504 with 1 Axes>"
      ]
     },
     "metadata": {},
     "output_type": "display_data"
    }
   ],
   "source": [
    "sns.set_style(\"darkgrid\")\n",
    "plt.figure(figsize=(18,7))\n",
    "chart = sns.distplot(df['mileage'], bins=40, kde=False, rug=True)\n",
    "chart.set(xlabel='Przebieg', ylabel='liczba ogłoszeń');"
   ]
  },
  {
   "cell_type": "markdown",
   "metadata": {},
   "source": [
    "### Czas trwania ogłoszenia"
   ]
  },
  {
   "cell_type": "code",
   "execution_count": 160,
   "metadata": {},
   "outputs": [
    {
     "data": {
      "image/png": "[encoded data removed]",
      "text/plain": [
       "<Figure size 1440x360 with 1 Axes>"
      ]
     },
     "metadata": {},
     "output_type": "display_data"
    }
   ],
   "source": [
    "offer_duration = df['duration'].max()\n",
    "df['duration'].hist(bins=offer_duration,figsize=(20,5))\n",
    "plt.show()"
   ]
  },
  {
   "cell_type": "markdown",
   "metadata": {},
   "source": [
    "### Cena końcowa - 99 percentyl"
   ]
  },
  {
   "cell_type": "code",
   "execution_count": 161,
   "metadata": {},
   "outputs": [
    {
     "data": {
      "text/plain": [
       "25315.999999999985"
      ]
     },
     "execution_count": 161,
     "metadata": {},
     "output_type": "execute_result"
    }
   ],
   "source": [
    "filter_max = np.percentile(df['price'],99)\n",
    "filter_max"
   ]
  },
  {
   "cell_type": "code",
   "execution_count": 162,
   "metadata": {},
   "outputs": [
    {
     "data": {
      "image/png": "[encoded data removed]",
      "text/plain": [
       "<Figure size 1440x360 with 1 Axes>"
      ]
     },
     "metadata": {},
     "output_type": "display_data"
    }
   ],
   "source": [
    "df_filter = df[df['price'] < filter_max]\n",
    "df_filter['price'].hist(bins=50,figsize=(20,5))\n",
    "plt.show()"
   ]
  },
  {
   "cell_type": "markdown",
   "metadata": {},
   "source": [
    "### Przebieg"
   ]
  },
  {
   "cell_type": "code",
   "execution_count": 163,
   "metadata": {},
   "outputs": [
    {
     "data": {
      "image/png": "[encoded data removed]",
      "text/plain": [
       "<Figure size 1440x360 with 1 Axes>"
      ]
     },
     "metadata": {},
     "output_type": "display_data"
    }
   ],
   "source": [
    "df['mileage'].hist(bins=150,figsize=(20,5))\n",
    "plt.show()"
   ]
  },
  {
   "cell_type": "markdown",
   "metadata": {},
   "source": [
    "### Przebieg - 99 percentyl"
   ]
  },
  {
   "cell_type": "code",
   "execution_count": 164,
   "metadata": {},
   "outputs": [
    {
     "data": {
      "image/png": "[encoded data removed]",
      "text/plain": [
       "<Figure size 1440x360 with 1 Axes>"
      ]
     },
     "metadata": {},
     "output_type": "display_data"
    }
   ],
   "source": [
    "df_mileage = df[df['mileage'] < np.percentile(df['mileage'],99)]\n",
    "df_mileage['mileage'].hist(bins=150,figsize=(20,5))\n",
    "plt.show()"
   ]
  },
  {
   "cell_type": "code",
   "execution_count": 165,
   "metadata": {},
   "outputs": [
    {
     "data": {
      "text/plain": [
       "79"
      ]
     },
     "execution_count": 165,
     "metadata": {},
     "output_type": "execute_result"
    }
   ],
   "source": [
    "df[df['year'] == 2009 ].shape[0]"
   ]
  },
  {
   "cell_type": "code",
   "execution_count": 166,
   "metadata": {},
   "outputs": [
    {
     "name": "stdout",
     "output_type": "stream",
     "text": [
      "Wall time: 151 ms\n"
     ]
    },
    {
     "data": {
      "image/png": "[encoded data removed]",
      "text/plain": [
       "<Figure size 1440x360 with 1 Axes>"
      ]
     },
     "metadata": {},
     "output_type": "display_data"
    }
   ],
   "source": [
    "def plot_year():\n",
    "    year_list = df['year'].unique()\n",
    "\n",
    "    x = []\n",
    "    y = []\n",
    "    for i in year_list:\n",
    "        x.append(i)\n",
    "        y.append(df[df['year'] == i ].shape[0])\n",
    "    \n",
    "    sdf = pd.DataFrame(dict(x=x, y=y)).sort_values(by=['x'])\n",
    "\n",
    "    sns.set_style(\"darkgrid\")  \n",
    "    plt.figure(figsize=(20,5))\n",
    "    ax = sns.barplot(x=x, y=y, data=sdf, palette=(\"YlGnBu\"))\n",
    "    ax.set(xlabel='rocznik', ylabel='liczba ogłoszeń')\n",
    "    sns.set_context(\"talk\")\n",
    "    plt.savefig('sns.png')\n",
    "    \n",
    "%time plot_year()\n"
   ]
  },
  {
   "cell_type": "code",
   "execution_count": 167,
   "metadata": {},
   "outputs": [
    {
     "name": "stdout",
     "output_type": "stream",
     "text": [
      "Wall time: 269 ms\n"
     ]
    },
    {
     "data": {
      "image/png": "[encoded data removed]",
      "text/plain": [
       "<Figure size 1440x360 with 1 Axes>"
      ]
     },
     "metadata": {},
     "output_type": "display_data"
    }
   ],
   "source": [
    "def plot_duration():\n",
    "    year_list = df['duration'].unique()\n",
    "\n",
    "    x = []\n",
    "    y = []\n",
    "    for i in year_list:\n",
    "        x.append(i)\n",
    "        y.append(df[df['duration'] == i ].shape[0])\n",
    "    \n",
    "    sdf = pd.DataFrame(dict(x=x, y=y)).sort_values(by=['x'])\n",
    "\n",
    "    sns.set_style(\"darkgrid\")  \n",
    "    plt.figure(figsize=(20,5))\n",
    "    ax = sns.barplot(x=x, y=y, data=sdf, palette=(\"YlGnBu\"))\n",
    "    ax.set(xlabel='długość trwania ogłoszeń (w dniach)', ylabel='liczba ogłoszeń')\n",
    "    sns.set_context(\"talk\")\n",
    "    plt.savefig('sns_duration.png')\n",
    "    \n",
    "%time plot_duration()"
   ]
  },
  {
   "cell_type": "markdown",
   "metadata": {},
   "source": [
    "---"
   ]
  },
  {
   "cell_type": "markdown",
   "metadata": {},
   "source": [
    "## TODO: ML"
   ]
  },
  {
   "cell_type": "code",
   "execution_count": 168,
   "metadata": {},
   "outputs": [],
   "source": [
    "import random as rn\n",
    "import xgboost as xgb\n",
    "\n",
    "from sklearn.model_selection import train_test_split, KFold, StratifiedKFold, cross_val_score, cross_validate, cross_val_predict\n",
    "from sklearn.metrics import accuracy_score, recall_score, confusion_matrix, classification_report\n",
    "import scikitplot as skplt\n",
    "\n",
    "import joblib\n",
    "\n",
    "seed = 0\n",
    "np.random.seed(seed)\n",
    "rn.seed(seed)\n",
    "\n",
    "xgb_params = {\n",
    "    'max_depth' : 5, \n",
    "    'n_estimators' : 100, \n",
    "    'learning_rate' : 0.3, \n",
    "    'random_state' : 0\n",
    "}\n",
    "\n",
    "model = xgb.XGBRegressor(**xgb_params, objective ='reg:squarederror')"
   ]
  },
  {
   "cell_type": "code",
   "execution_count": 37,
   "metadata": {},
   "outputs": [
    {
     "data": {
      "text/plain": [
       "'1.0.2'"
      ]
     },
     "execution_count": 37,
     "metadata": {},
     "output_type": "execute_result"
    }
   ],
   "source": [
    "xgb.__version__"
   ]
  },
  {
   "cell_type": "code",
   "execution_count": 170,
   "metadata": {},
   "outputs": [
    {
     "name": "stdout",
     "output_type": "stream",
     "text": [
      "['private_business', 'year', 'mileage', 'engine_capacity', 'engine_power', 'door_count', 'nr_seats', 'duration', 'price_chng', 'f_automatic-air-conditioning', 'f_automatic-lights', 'f_sd-socket', 'f_front-heated-seats', 'f_onboard-computer', 'f_original-radio', 'f_abs', 'f_bluetooth', 'f_electronic-immobiliser', 'f_front-airbags', 'f_electronic-rearview-mirrors', 'f_central-lock', 'f_assisted-steering', 'f_side-window-airbags', 'f_cruise-control', 'f_automatic-wipers', 'f_rear-parking-sensors', 'f_heated-windshield', 'f_heated-rearview-mirrors', 'f_roof-bars', 'f_alarm', 'f_park-assist', 'f_cd', 'f_front-passenger-airbags', 'f_0', 'f_fog-lights', 'f_electric-exterior-mirror', 'f_gps', 'f_rear-electric-windows', 'f_head-display', 'f_towing-hook', 'f_driver-knee-airbag', 'f_aux-in', 'f_steering-whell-comands', 'f_asr', 'f_rear-passenger-airbags', 'f_velour-interior', 'f_cd-changer', 'f_dual-air-conditioning', 'f_front-electric-windows', 'f_daytime-lights', 'f_esp', 'f_usb-socket', 'f_isofix', 'f_alloy-wheels', 'f_mp3', 'f_leds', 'f_system-start-stop', 'f_shift-paddles', 'f_front-side-airbags', 'f_electric-adjustable-seats', 'f_tinted-windows', 'f_air-conditioning', 'f_electric-interior-mirror']\n",
      "Wall time: 190 ms\n"
     ]
    },
    {
     "data": {
      "image/png": "[encoded data removed]",
      "text/plain": [
       "<Figure size 1080x360 with 1 Axes>"
      ]
     },
     "metadata": {},
     "output_type": "display_data"
    }
   ],
   "source": [
    "def get_feats(df):\n",
    "    feats = df.select_dtypes([np.number, np.bool]).columns\n",
    "    black_list = ['price', 'price_raw', 'offer_id']\n",
    "    return [x for x in feats if x not in black_list]\n",
    "\n",
    "def get_cat_feats(df):\n",
    "    cat_feats = df.select_dtypes(include=[np.object]).columns\n",
    "    black_list = ['features', 'model']\n",
    "    cat_feats_list =  [x for x in cat_feats if x not in black_list]\n",
    "\n",
    "    for cat_feat in cat_feats_list:\n",
    "        df['{0}_cat'.format(cat_feat)] = pd.factorize( df[cat_feat] )[0]\n",
    "\n",
    "    \n",
    "feats = get_feats(df)\n",
    "print(feats)\n",
    "\n",
    "X = df[feats].values\n",
    "y = df['price'].values\n",
    "\n",
    "\n",
    "def simple_split_model(model, X,y):\n",
    "    #train and predict\n",
    "    X_train, X_test, y_train, y_test = train_test_split(X, y, test_size=0.2)\n",
    "    \n",
    "    model.fit(X_train, y_train)\n",
    "    y_pred = model.predict(X_test)\n",
    "    \n",
    "    #print(confusion_matrix(y_test.astype(int), y_pred.astype(int)))\n",
    "    #print(classification_report(y_test.astype(int), y_pred.astype(int)))   \n",
    "    #print(mean_squared_error(y_test.astype(int), y_pred.astype(int)))\n",
    "    \n",
    "    skplt.estimators.plot_feature_importances(model, feature_names=feats, title='Features importance', x_tick_rotation=90, figsize=(15, 5));\n",
    "    #skplt.estimators.plot_learning_curve(model, X_train, y_train,'Learning Curve',cv=5);\n",
    "    #xgb.plot_importance(model.get_booster(), importance_type='gain')\n",
    "\n",
    "%time simple_split_model(model, X, y)"
   ]
  },
  {
   "cell_type": "code",
   "execution_count": 43,
   "metadata": {},
   "outputs": [
    {
     "data": {
      "text/html": [
       "<div>\n",
       "<style scoped>\n",
       "    .dataframe tbody tr th:only-of-type {\n",
       "        vertical-align: middle;\n",
       "    }\n",
       "\n",
       "    .dataframe tbody tr th {\n",
       "        vertical-align: top;\n",
       "    }\n",
       "\n",
       "    .dataframe thead th {\n",
       "        text-align: right;\n",
       "    }\n",
       "</style>\n",
       "<table border=\"1\" class=\"dataframe\">\n",
       "  <thead>\n",
       "    <tr style=\"text-align: right;\">\n",
       "      <th></th>\n",
       "      <th>year</th>\n",
       "      <th>mileage</th>\n",
       "      <th>engine_capacity</th>\n",
       "      <th>engine_power</th>\n",
       "      <th>door_count</th>\n",
       "      <th>nr_seats</th>\n",
       "      <th>duration</th>\n",
       "      <th>price_chng</th>\n",
       "      <th>f_0</th>\n",
       "      <th>f_system-start-stop</th>\n",
       "      <th>...</th>\n",
       "      <th>f_driver-knee-airbag</th>\n",
       "      <th>f_alarm</th>\n",
       "      <th>f_cruise-control</th>\n",
       "      <th>f_towing-hook</th>\n",
       "      <th>f_steering-whell-comands</th>\n",
       "      <th>f_shift-paddles</th>\n",
       "      <th>f_isofix</th>\n",
       "      <th>f_dual-air-conditioning</th>\n",
       "      <th>f_abs</th>\n",
       "      <th>f_asr</th>\n",
       "    </tr>\n",
       "  </thead>\n",
       "  <tbody>\n",
       "    <tr>\n",
       "      <th>0</th>\n",
       "      <td>2009</td>\n",
       "      <td>111000</td>\n",
       "      <td>1000</td>\n",
       "      <td>0</td>\n",
       "      <td>5</td>\n",
       "      <td>5</td>\n",
       "      <td>7</td>\n",
       "      <td>0.0</td>\n",
       "      <td>1</td>\n",
       "      <td>0</td>\n",
       "      <td>...</td>\n",
       "      <td>0</td>\n",
       "      <td>0</td>\n",
       "      <td>0</td>\n",
       "      <td>0</td>\n",
       "      <td>0</td>\n",
       "      <td>0</td>\n",
       "      <td>0</td>\n",
       "      <td>0</td>\n",
       "      <td>0</td>\n",
       "      <td>0</td>\n",
       "    </tr>\n",
       "  </tbody>\n",
       "</table>\n",
       "<p>1 rows × 62 columns</p>\n",
       "</div>"
      ],
      "text/plain": [
       "   year  mileage  engine_capacity  engine_power  door_count  nr_seats  \\\n",
       "0  2009   111000             1000             0           5         5   \n",
       "\n",
       "   duration  price_chng  f_0  f_system-start-stop  ...  f_driver-knee-airbag  \\\n",
       "0         7         0.0    1                    0  ...                     0   \n",
       "\n",
       "   f_alarm  f_cruise-control  f_towing-hook  f_steering-whell-comands  \\\n",
       "0        0                 0              0                         0   \n",
       "\n",
       "   f_shift-paddles  f_isofix  f_dual-air-conditioning  f_abs  f_asr  \n",
       "0                0         0                        0      0      0  \n",
       "\n",
       "[1 rows x 62 columns]"
      ]
     },
     "execution_count": 43,
     "metadata": {},
     "output_type": "execute_result"
    }
   ],
   "source": [
    "df[feats].head(1)"
   ]
  },
  {
   "cell_type": "code",
   "execution_count": 39,
   "metadata": {},
   "outputs": [
    {
     "data": {
      "text/plain": [
       "['./models/yaris_200405.pkl']"
      ]
     },
     "execution_count": 39,
     "metadata": {},
     "output_type": "execute_result"
    }
   ],
   "source": [
    "# save model\n",
    "joblib.dump(model, './models/yaris_200405.pkl') \n"
   ]
  },
  {
   "cell_type": "code",
   "execution_count": 46,
   "metadata": {},
   "outputs": [],
   "source": [
    "model.save_model('./models/yaris.json')"
   ]
  },
  {
   "cell_type": "code",
   "execution_count": 41,
   "metadata": {},
   "outputs": [
    {
     "data": {
      "text/html": [
       "<div>\n",
       "<style scoped>\n",
       "    .dataframe tbody tr th:only-of-type {\n",
       "        vertical-align: middle;\n",
       "    }\n",
       "\n",
       "    .dataframe tbody tr th {\n",
       "        vertical-align: top;\n",
       "    }\n",
       "\n",
       "    .dataframe thead th {\n",
       "        text-align: right;\n",
       "    }\n",
       "</style>\n",
       "<table border=\"1\" class=\"dataframe\">\n",
       "  <thead>\n",
       "    <tr style=\"text-align: right;\">\n",
       "      <th></th>\n",
       "      <th>year</th>\n",
       "      <th>mileage</th>\n",
       "      <th>engine_capacity</th>\n",
       "      <th>engine_power</th>\n",
       "      <th>door_count</th>\n",
       "      <th>nr_seats</th>\n",
       "      <th>duration</th>\n",
       "      <th>price_chng</th>\n",
       "      <th>f_front-side-airbags</th>\n",
       "      <th>f_velour-interior</th>\n",
       "      <th>...</th>\n",
       "      <th>f_bluetooth</th>\n",
       "      <th>f_central-lock</th>\n",
       "      <th>f_0</th>\n",
       "      <th>f_isofix</th>\n",
       "      <th>f_rear-parking-sensors</th>\n",
       "      <th>f_leds</th>\n",
       "      <th>f_cruise-control</th>\n",
       "      <th>f_system-start-stop</th>\n",
       "      <th>f_heated-windshield</th>\n",
       "      <th>f_mp3</th>\n",
       "    </tr>\n",
       "  </thead>\n",
       "  <tbody>\n",
       "    <tr>\n",
       "      <th>0</th>\n",
       "      <td>2008</td>\n",
       "      <td>145000</td>\n",
       "      <td>NaN</td>\n",
       "      <td>NaN</td>\n",
       "      <td>NaN</td>\n",
       "      <td>NaN</td>\n",
       "      <td>NaN</td>\n",
       "      <td>NaN</td>\n",
       "      <td>NaN</td>\n",
       "      <td>NaN</td>\n",
       "      <td>...</td>\n",
       "      <td>NaN</td>\n",
       "      <td>NaN</td>\n",
       "      <td>NaN</td>\n",
       "      <td>NaN</td>\n",
       "      <td>NaN</td>\n",
       "      <td>NaN</td>\n",
       "      <td>NaN</td>\n",
       "      <td>NaN</td>\n",
       "      <td>NaN</td>\n",
       "      <td>NaN</td>\n",
       "    </tr>\n",
       "  </tbody>\n",
       "</table>\n",
       "<p>1 rows × 62 columns</p>\n",
       "</div>"
      ],
      "text/plain": [
       "   year mileage engine_capacity engine_power door_count nr_seats duration  \\\n",
       "0  2008  145000             NaN          NaN        NaN      NaN      NaN   \n",
       "\n",
       "  price_chng f_front-side-airbags f_velour-interior  ... f_bluetooth  \\\n",
       "0        NaN                  NaN               NaN  ...         NaN   \n",
       "\n",
       "  f_central-lock  f_0 f_isofix f_rear-parking-sensors f_leds f_cruise-control  \\\n",
       "0            NaN  NaN      NaN                    NaN    NaN              NaN   \n",
       "\n",
       "  f_system-start-stop f_heated-windshield f_mp3  \n",
       "0                 NaN                 NaN   NaN  \n",
       "\n",
       "[1 rows x 62 columns]"
      ]
     },
     "execution_count": 41,
     "metadata": {},
     "output_type": "execute_result"
    }
   ],
   "source": [
    "car_info = pd.DataFrame(columns = feats)\n",
    "car_info = car_info.append({'year' : '2008' , 'mileage' : 145000, 'f_gps':0 } , ignore_index=True)\n",
    "car_info"
   ]
  },
  {
   "cell_type": "code",
   "execution_count": 42,
   "metadata": {},
   "outputs": [
    {
     "data": {
      "text/plain": [
       "array([15963.209], dtype=float32)"
      ]
     },
     "execution_count": 42,
     "metadata": {},
     "output_type": "execute_result"
    }
   ],
   "source": [
    "y_pred = model.predict(car_info.values)\n",
    "y_pred"
   ]
  },
  {
   "cell_type": "code",
   "execution_count": 43,
   "metadata": {},
   "outputs": [
    {
     "name": "stdout",
     "output_type": "stream",
     "text": [
      "Cena powinna wynosić:  15963.209\n"
     ]
    }
   ],
   "source": [
    "#load model & predict\n",
    "loaded_model = joblib.load('./models/yaris_200405.pkl')\n",
    "result = loaded_model.predict(car_info.values)\n",
    "print('Cena powinna wynosić: ',result[0])"
   ]
  },
  {
   "cell_type": "code",
   "execution_count": 37,
   "metadata": {},
   "outputs": [
    {
     "name": "stdout",
     "output_type": "stream",
     "text": [
      "(62,)\n"
     ]
    }
   ],
   "source": [
    "print(X[0].shape)"
   ]
  },
  {
   "cell_type": "code",
   "execution_count": 80,
   "metadata": {},
   "outputs": [
    {
     "name": "stdout",
     "output_type": "stream",
     "text": [
      "['year', 'mileage', 'engine_capacity', 'engine_power', 'door_count', 'nr_seats', 'duration', 'price_chng', 'f_onboard-computer', 'f_0', 'f_asr', 'f_esp', 'f_head-display', 'f_park-assist', 'f_roof-bars', 'f_bluetooth', 'f_daytime-lights', 'f_electric-interior-mirror', 'f_sd-socket', 'f_side-window-airbags', 'f_heated-rearview-mirrors', 'f_automatic-air-conditioning', 'f_aux-in', 'f_automatic-wipers', 'f_front-electric-windows', 'f_front-passenger-airbags', 'f_gps', 'f_front-heated-seats', 'f_isofix', 'f_central-lock', 'f_driver-knee-airbag', 'f_alarm', 'f_alloy-wheels', 'f_heated-windshield', 'f_electronic-rearview-mirrors', 'f_electronic-immobiliser', 'f_assisted-steering', 'f_leds', 'f_fog-lights', 'f_rear-electric-windows', 'f_shift-paddles', 'f_velour-interior', 'f_electric-adjustable-seats', 'f_cd-changer', 'f_mp3', 'f_front-airbags', 'f_rear-parking-sensors', 'f_cd', 'f_rear-passenger-airbags', 'f_steering-whell-comands', 'f_tinted-windows', 'f_system-start-stop', 'f_dual-air-conditioning', 'f_original-radio', 'f_cruise-control', 'f_usb-socket', 'f_air-conditioning', 'f_abs', 'f_towing-hook', 'f_front-side-airbags', 'f_electric-exterior-mirror', 'f_automatic-lights', 'private_business_cat', 'region_cat', 'city_cat', 'vin_cat', 'fuel_type_cat', 'gearbox_cat', 'transmission_cat', 'color_cat', 'currency_cat', 'country_origin_cat', 'registration_cat']\n"
     ]
    }
   ],
   "source": [
    "get_cat_feats(df)\n",
    "feats = get_feats(df)\n",
    "print(feats)"
   ]
  },
  {
   "cell_type": "code",
   "execution_count": 74,
   "metadata": {},
   "outputs": [
    {
     "data": {
      "text/html": [
       "<div>\n",
       "<style scoped>\n",
       "    .dataframe tbody tr th:only-of-type {\n",
       "        vertical-align: middle;\n",
       "    }\n",
       "\n",
       "    .dataframe tbody tr th {\n",
       "        vertical-align: top;\n",
       "    }\n",
       "\n",
       "    .dataframe thead th {\n",
       "        text-align: right;\n",
       "    }\n",
       "</style>\n",
       "<table border=\"1\" class=\"dataframe\">\n",
       "  <thead>\n",
       "    <tr style=\"text-align: right;\">\n",
       "      <th></th>\n",
       "      <th>offer_id</th>\n",
       "      <th>s_date</th>\n",
       "      <th>e_date</th>\n",
       "      <th>private_business</th>\n",
       "      <th>region</th>\n",
       "      <th>city</th>\n",
       "      <th>model</th>\n",
       "      <th>year</th>\n",
       "      <th>mileage</th>\n",
       "      <th>engine_capacity</th>\n",
       "      <th>...</th>\n",
       "      <th>f_driver-knee-airbag</th>\n",
       "      <th>f_alarm</th>\n",
       "      <th>f_cruise-control</th>\n",
       "      <th>f_towing-hook</th>\n",
       "      <th>f_steering-whell-comands</th>\n",
       "      <th>f_shift-paddles</th>\n",
       "      <th>f_isofix</th>\n",
       "      <th>f_dual-air-conditioning</th>\n",
       "      <th>f_abs</th>\n",
       "      <th>f_asr</th>\n",
       "    </tr>\n",
       "  </thead>\n",
       "  <tbody>\n",
       "    <tr>\n",
       "      <th>14</th>\n",
       "      <td>6055607995</td>\n",
       "      <td>2020-04-23</td>\n",
       "      <td>2020-04-24</td>\n",
       "      <td>business</td>\n",
       "      <td>slaskie</td>\n",
       "      <td>zawiercie</td>\n",
       "      <td>yaris</td>\n",
       "      <td>2010</td>\n",
       "      <td>159500</td>\n",
       "      <td>1300</td>\n",
       "      <td>...</td>\n",
       "      <td>0</td>\n",
       "      <td>1</td>\n",
       "      <td>1</td>\n",
       "      <td>1</td>\n",
       "      <td>0</td>\n",
       "      <td>0</td>\n",
       "      <td>1</td>\n",
       "      <td>0</td>\n",
       "      <td>1</td>\n",
       "      <td>1</td>\n",
       "    </tr>\n",
       "    <tr>\n",
       "      <th>36</th>\n",
       "      <td>6061613472</td>\n",
       "      <td>2020-04-17</td>\n",
       "      <td>2020-04-22</td>\n",
       "      <td>business</td>\n",
       "      <td>opolskie</td>\n",
       "      <td>nysa</td>\n",
       "      <td>yaris</td>\n",
       "      <td>2010</td>\n",
       "      <td>166567</td>\n",
       "      <td>1300</td>\n",
       "      <td>...</td>\n",
       "      <td>0</td>\n",
       "      <td>1</td>\n",
       "      <td>0</td>\n",
       "      <td>0</td>\n",
       "      <td>0</td>\n",
       "      <td>0</td>\n",
       "      <td>1</td>\n",
       "      <td>0</td>\n",
       "      <td>1</td>\n",
       "      <td>1</td>\n",
       "    </tr>\n",
       "    <tr>\n",
       "      <th>57</th>\n",
       "      <td>6066265253</td>\n",
       "      <td>2020-04-17</td>\n",
       "      <td>2020-04-24</td>\n",
       "      <td>business</td>\n",
       "      <td>pomorskie</td>\n",
       "      <td>lebork</td>\n",
       "      <td>yaris</td>\n",
       "      <td>2010</td>\n",
       "      <td>146250</td>\n",
       "      <td>998</td>\n",
       "      <td>...</td>\n",
       "      <td>0</td>\n",
       "      <td>1</td>\n",
       "      <td>0</td>\n",
       "      <td>0</td>\n",
       "      <td>0</td>\n",
       "      <td>0</td>\n",
       "      <td>0</td>\n",
       "      <td>0</td>\n",
       "      <td>1</td>\n",
       "      <td>1</td>\n",
       "    </tr>\n",
       "    <tr>\n",
       "      <th>62</th>\n",
       "      <td>6066936383</td>\n",
       "      <td>2020-04-17</td>\n",
       "      <td>2020-04-24</td>\n",
       "      <td>private</td>\n",
       "      <td>pomorskie</td>\n",
       "      <td>koscierzyna</td>\n",
       "      <td>yaris</td>\n",
       "      <td>2009</td>\n",
       "      <td>213285</td>\n",
       "      <td>1329</td>\n",
       "      <td>...</td>\n",
       "      <td>0</td>\n",
       "      <td>0</td>\n",
       "      <td>0</td>\n",
       "      <td>0</td>\n",
       "      <td>0</td>\n",
       "      <td>0</td>\n",
       "      <td>1</td>\n",
       "      <td>0</td>\n",
       "      <td>1</td>\n",
       "      <td>1</td>\n",
       "    </tr>\n",
       "    <tr>\n",
       "      <th>69</th>\n",
       "      <td>6067468696</td>\n",
       "      <td>2020-04-17</td>\n",
       "      <td>2020-04-21</td>\n",
       "      <td>business</td>\n",
       "      <td>wielkopolskie</td>\n",
       "      <td>pila</td>\n",
       "      <td>yaris</td>\n",
       "      <td>2011</td>\n",
       "      <td>173453</td>\n",
       "      <td>1400</td>\n",
       "      <td>...</td>\n",
       "      <td>1</td>\n",
       "      <td>1</td>\n",
       "      <td>0</td>\n",
       "      <td>0</td>\n",
       "      <td>1</td>\n",
       "      <td>0</td>\n",
       "      <td>1</td>\n",
       "      <td>0</td>\n",
       "      <td>1</td>\n",
       "      <td>1</td>\n",
       "    </tr>\n",
       "    <tr>\n",
       "      <th>85</th>\n",
       "      <td>6068055441</td>\n",
       "      <td>2020-04-22</td>\n",
       "      <td>2020-04-24</td>\n",
       "      <td>business</td>\n",
       "      <td>wielkopolskie</td>\n",
       "      <td>pleszew</td>\n",
       "      <td>yaris</td>\n",
       "      <td>2010</td>\n",
       "      <td>162641</td>\n",
       "      <td>1400</td>\n",
       "      <td>...</td>\n",
       "      <td>0</td>\n",
       "      <td>1</td>\n",
       "      <td>1</td>\n",
       "      <td>0</td>\n",
       "      <td>1</td>\n",
       "      <td>0</td>\n",
       "      <td>1</td>\n",
       "      <td>0</td>\n",
       "      <td>1</td>\n",
       "      <td>0</td>\n",
       "    </tr>\n",
       "    <tr>\n",
       "      <th>141</th>\n",
       "      <td>6069777341</td>\n",
       "      <td>2020-04-17</td>\n",
       "      <td>2020-04-24</td>\n",
       "      <td>business</td>\n",
       "      <td>dolnoslaskie</td>\n",
       "      <td>zabkowice-slaskie</td>\n",
       "      <td>yaris</td>\n",
       "      <td>2008</td>\n",
       "      <td>119000</td>\n",
       "      <td>998</td>\n",
       "      <td>...</td>\n",
       "      <td>1</td>\n",
       "      <td>0</td>\n",
       "      <td>0</td>\n",
       "      <td>0</td>\n",
       "      <td>1</td>\n",
       "      <td>0</td>\n",
       "      <td>1</td>\n",
       "      <td>0</td>\n",
       "      <td>1</td>\n",
       "      <td>0</td>\n",
       "    </tr>\n",
       "    <tr>\n",
       "      <th>165</th>\n",
       "      <td>6070704518</td>\n",
       "      <td>2020-04-17</td>\n",
       "      <td>2020-04-24</td>\n",
       "      <td>private</td>\n",
       "      <td>swietokrzyskie</td>\n",
       "      <td>staszow</td>\n",
       "      <td>yaris</td>\n",
       "      <td>2002</td>\n",
       "      <td>206261</td>\n",
       "      <td>1400</td>\n",
       "      <td>...</td>\n",
       "      <td>1</td>\n",
       "      <td>1</td>\n",
       "      <td>0</td>\n",
       "      <td>0</td>\n",
       "      <td>1</td>\n",
       "      <td>0</td>\n",
       "      <td>1</td>\n",
       "      <td>0</td>\n",
       "      <td>1</td>\n",
       "      <td>1</td>\n",
       "    </tr>\n",
       "    <tr>\n",
       "      <th>171</th>\n",
       "      <td>6070774728</td>\n",
       "      <td>2020-04-17</td>\n",
       "      <td>2020-04-24</td>\n",
       "      <td>business</td>\n",
       "      <td>malopolskie</td>\n",
       "      <td>krakow</td>\n",
       "      <td>yaris</td>\n",
       "      <td>2008</td>\n",
       "      <td>165000</td>\n",
       "      <td>1296</td>\n",
       "      <td>...</td>\n",
       "      <td>0</td>\n",
       "      <td>0</td>\n",
       "      <td>0</td>\n",
       "      <td>0</td>\n",
       "      <td>1</td>\n",
       "      <td>0</td>\n",
       "      <td>1</td>\n",
       "      <td>0</td>\n",
       "      <td>1</td>\n",
       "      <td>0</td>\n",
       "    </tr>\n",
       "    <tr>\n",
       "      <th>173</th>\n",
       "      <td>6070820213</td>\n",
       "      <td>2020-04-17</td>\n",
       "      <td>2020-04-24</td>\n",
       "      <td>private</td>\n",
       "      <td>mazowieckie</td>\n",
       "      <td>zyrardow</td>\n",
       "      <td>yaris</td>\n",
       "      <td>2011</td>\n",
       "      <td>67522</td>\n",
       "      <td>1329</td>\n",
       "      <td>...</td>\n",
       "      <td>1</td>\n",
       "      <td>1</td>\n",
       "      <td>0</td>\n",
       "      <td>0</td>\n",
       "      <td>1</td>\n",
       "      <td>0</td>\n",
       "      <td>1</td>\n",
       "      <td>0</td>\n",
       "      <td>1</td>\n",
       "      <td>1</td>\n",
       "    </tr>\n",
       "    <tr>\n",
       "      <th>186</th>\n",
       "      <td>6070902433</td>\n",
       "      <td>2020-04-17</td>\n",
       "      <td>2020-04-24</td>\n",
       "      <td>business</td>\n",
       "      <td>wielkopolskie</td>\n",
       "      <td>konin</td>\n",
       "      <td>yaris</td>\n",
       "      <td>2011</td>\n",
       "      <td>193413</td>\n",
       "      <td>1364</td>\n",
       "      <td>...</td>\n",
       "      <td>0</td>\n",
       "      <td>0</td>\n",
       "      <td>0</td>\n",
       "      <td>0</td>\n",
       "      <td>1</td>\n",
       "      <td>0</td>\n",
       "      <td>1</td>\n",
       "      <td>0</td>\n",
       "      <td>1</td>\n",
       "      <td>0</td>\n",
       "    </tr>\n",
       "    <tr>\n",
       "      <th>187</th>\n",
       "      <td>6070908254</td>\n",
       "      <td>2020-04-17</td>\n",
       "      <td>2020-04-24</td>\n",
       "      <td>business</td>\n",
       "      <td>lubelskie</td>\n",
       "      <td>lukow</td>\n",
       "      <td>yaris</td>\n",
       "      <td>2011</td>\n",
       "      <td>124000</td>\n",
       "      <td>1329</td>\n",
       "      <td>...</td>\n",
       "      <td>0</td>\n",
       "      <td>1</td>\n",
       "      <td>0</td>\n",
       "      <td>0</td>\n",
       "      <td>1</td>\n",
       "      <td>0</td>\n",
       "      <td>1</td>\n",
       "      <td>0</td>\n",
       "      <td>1</td>\n",
       "      <td>1</td>\n",
       "    </tr>\n",
       "    <tr>\n",
       "      <th>196</th>\n",
       "      <td>6071277816</td>\n",
       "      <td>2020-04-17</td>\n",
       "      <td>2020-04-24</td>\n",
       "      <td>private</td>\n",
       "      <td>slaskie</td>\n",
       "      <td>orzesze</td>\n",
       "      <td>yaris</td>\n",
       "      <td>2010</td>\n",
       "      <td>90500</td>\n",
       "      <td>998</td>\n",
       "      <td>...</td>\n",
       "      <td>0</td>\n",
       "      <td>0</td>\n",
       "      <td>0</td>\n",
       "      <td>0</td>\n",
       "      <td>1</td>\n",
       "      <td>0</td>\n",
       "      <td>0</td>\n",
       "      <td>0</td>\n",
       "      <td>1</td>\n",
       "      <td>1</td>\n",
       "    </tr>\n",
       "    <tr>\n",
       "      <th>224</th>\n",
       "      <td>6071810147</td>\n",
       "      <td>2020-04-17</td>\n",
       "      <td>2020-04-24</td>\n",
       "      <td>business</td>\n",
       "      <td>wielkopolskie</td>\n",
       "      <td>konin</td>\n",
       "      <td>yaris</td>\n",
       "      <td>2008</td>\n",
       "      <td>105037</td>\n",
       "      <td>1329</td>\n",
       "      <td>...</td>\n",
       "      <td>0</td>\n",
       "      <td>0</td>\n",
       "      <td>0</td>\n",
       "      <td>0</td>\n",
       "      <td>0</td>\n",
       "      <td>0</td>\n",
       "      <td>0</td>\n",
       "      <td>0</td>\n",
       "      <td>1</td>\n",
       "      <td>0</td>\n",
       "    </tr>\n",
       "    <tr>\n",
       "      <th>269</th>\n",
       "      <td>6073135396</td>\n",
       "      <td>2020-04-17</td>\n",
       "      <td>2020-04-24</td>\n",
       "      <td>private</td>\n",
       "      <td>malopolskie</td>\n",
       "      <td>gorlice</td>\n",
       "      <td>yaris</td>\n",
       "      <td>2007</td>\n",
       "      <td>135200</td>\n",
       "      <td>1400</td>\n",
       "      <td>...</td>\n",
       "      <td>0</td>\n",
       "      <td>0</td>\n",
       "      <td>0</td>\n",
       "      <td>1</td>\n",
       "      <td>0</td>\n",
       "      <td>0</td>\n",
       "      <td>1</td>\n",
       "      <td>0</td>\n",
       "      <td>1</td>\n",
       "      <td>1</td>\n",
       "    </tr>\n",
       "  </tbody>\n",
       "</table>\n",
       "<p>15 rows × 80 columns</p>\n",
       "</div>"
      ],
      "text/plain": [
       "       offer_id     s_date     e_date private_business          region  \\\n",
       "14   6055607995 2020-04-23 2020-04-24         business         slaskie   \n",
       "36   6061613472 2020-04-17 2020-04-22         business        opolskie   \n",
       "57   6066265253 2020-04-17 2020-04-24         business       pomorskie   \n",
       "62   6066936383 2020-04-17 2020-04-24          private       pomorskie   \n",
       "69   6067468696 2020-04-17 2020-04-21         business   wielkopolskie   \n",
       "85   6068055441 2020-04-22 2020-04-24         business   wielkopolskie   \n",
       "141  6069777341 2020-04-17 2020-04-24         business    dolnoslaskie   \n",
       "165  6070704518 2020-04-17 2020-04-24          private  swietokrzyskie   \n",
       "171  6070774728 2020-04-17 2020-04-24         business     malopolskie   \n",
       "173  6070820213 2020-04-17 2020-04-24          private     mazowieckie   \n",
       "186  6070902433 2020-04-17 2020-04-24         business   wielkopolskie   \n",
       "187  6070908254 2020-04-17 2020-04-24         business       lubelskie   \n",
       "196  6071277816 2020-04-17 2020-04-24          private         slaskie   \n",
       "224  6071810147 2020-04-17 2020-04-24         business   wielkopolskie   \n",
       "269  6073135396 2020-04-17 2020-04-24          private     malopolskie   \n",
       "\n",
       "                  city  model  year  mileage  engine_capacity  ...  \\\n",
       "14           zawiercie  yaris  2010   159500             1300  ...   \n",
       "36                nysa  yaris  2010   166567             1300  ...   \n",
       "57              lebork  yaris  2010   146250              998  ...   \n",
       "62         koscierzyna  yaris  2009   213285             1329  ...   \n",
       "69                pila  yaris  2011   173453             1400  ...   \n",
       "85             pleszew  yaris  2010   162641             1400  ...   \n",
       "141  zabkowice-slaskie  yaris  2008   119000              998  ...   \n",
       "165            staszow  yaris  2002   206261             1400  ...   \n",
       "171             krakow  yaris  2008   165000             1296  ...   \n",
       "173           zyrardow  yaris  2011    67522             1329  ...   \n",
       "186              konin  yaris  2011   193413             1364  ...   \n",
       "187              lukow  yaris  2011   124000             1329  ...   \n",
       "196            orzesze  yaris  2010    90500              998  ...   \n",
       "224              konin  yaris  2008   105037             1329  ...   \n",
       "269            gorlice  yaris  2007   135200             1400  ...   \n",
       "\n",
       "    f_driver-knee-airbag f_alarm  f_cruise-control f_towing-hook  \\\n",
       "14                     0       1                 1             1   \n",
       "36                     0       1                 0             0   \n",
       "57                     0       1                 0             0   \n",
       "62                     0       0                 0             0   \n",
       "69                     1       1                 0             0   \n",
       "85                     0       1                 1             0   \n",
       "141                    1       0                 0             0   \n",
       "165                    1       1                 0             0   \n",
       "171                    0       0                 0             0   \n",
       "173                    1       1                 0             0   \n",
       "186                    0       0                 0             0   \n",
       "187                    0       1                 0             0   \n",
       "196                    0       0                 0             0   \n",
       "224                    0       0                 0             0   \n",
       "269                    0       0                 0             1   \n",
       "\n",
       "    f_steering-whell-comands  f_shift-paddles  f_isofix  \\\n",
       "14                         0                0         1   \n",
       "36                         0                0         1   \n",
       "57                         0                0         0   \n",
       "62                         0                0         1   \n",
       "69                         1                0         1   \n",
       "85                         1                0         1   \n",
       "141                        1                0         1   \n",
       "165                        1                0         1   \n",
       "171                        1                0         1   \n",
       "173                        1                0         1   \n",
       "186                        1                0         1   \n",
       "187                        1                0         1   \n",
       "196                        1                0         0   \n",
       "224                        0                0         0   \n",
       "269                        0                0         1   \n",
       "\n",
       "    f_dual-air-conditioning f_abs  f_asr  \n",
       "14                        0     1      1  \n",
       "36                        0     1      1  \n",
       "57                        0     1      1  \n",
       "62                        0     1      1  \n",
       "69                        0     1      1  \n",
       "85                        0     1      0  \n",
       "141                       0     1      0  \n",
       "165                       0     1      1  \n",
       "171                       0     1      0  \n",
       "173                       0     1      1  \n",
       "186                       0     1      0  \n",
       "187                       0     1      1  \n",
       "196                       0     1      1  \n",
       "224                       0     1      0  \n",
       "269                       0     1      1  \n",
       "\n",
       "[15 rows x 80 columns]"
      ]
     },
     "execution_count": 74,
     "metadata": {},
     "output_type": "execute_result"
    }
   ],
   "source": [
    "df[df['f_usb-socket'] == 1]"
   ]
  }
 ],
 "metadata": {
  "kernelspec": {
   "display_name": "Python 3",
   "language": "python",
   "name": "python3"
  },
  "language_info": {
   "codemirror_mode": {
    "name": "ipython",
    "version": 3
   },
   "file_extension": ".py",
   "mimetype": "text/x-python",
   "name": "python",
   "nbconvert_exporter": "python",
   "pygments_lexer": "ipython3",
   "version": "3.7.7"
  }
 },
 "nbformat": 4,
 "nbformat_minor": 2
}
