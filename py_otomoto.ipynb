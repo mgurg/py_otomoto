{
 "cells": [
  {
   "cell_type": "markdown",
   "metadata": {},
   "source": [
    "# Toyota Yaris II -  price prediction (draft)\n"
   ]
  },
  {
   "cell_type": "markdown",
   "metadata": {},
   "source": [
    "Notebook do analizy cen samochodu Yaris II\n",
    "\n",
    "Podstawowe informacje:\n",
    " - rok produkcji: 2005–2011\n",
    " - silniki Benzyna, Diesel, Benzyna + LPG\n",
    " - Skrzynia biegów: 5MT, 6MT"
   ]
  },
  {
   "cell_type": "markdown",
   "metadata": {},
   "source": [
    "| Model              | Pojemność | Cylindry | Moc                             | Moment obrotowy             | Skrzynia biegów    | Rok             |\n",
    "|--------------------|-----------|----------|---------------------------------|-----------------------------|--------------------|-----------------|\n",
    "| 1.0 VVT-i          | 998 cm³   | 3        | 51 kW (69 PS) przy 6000 min−1   | 93 Nm przy 3600 min−1       | 5MT                | 2005–2011       |\n",
    "| 1.3 VVT-i          | 1298 cm³  | 4        | 64 kW (87 PS) przy 6000 min−1   | 121 Nm przy 4200 min−1      | 5MT / 5AT          | 2005–2008       |\n",
    "| 1.33 Dual VVT-i    | 1329 cm³  | 4        | 73 kW (99 PS) przy 6000 min−1   | 128 Nm przy 3800 min−1      | 6MT / 6AT          | 09/2010–2011    |\n",
    "|                    |           | 4        | 74 kW (101 PS) przy 6000 min−1  | 132 Nm przy 3800 min−1      | 6MT / 6AT          | 2009–09/2010    |\n",
    "| 1.8 TS VVT-i       | 1798 cm³  | 4        | 98 kW (133 PS) przy 6000 min−1  | 173 Nm przy 4400 min−1      | 5MT / 6AT (Import) | 01/2007–01/2009 |\n",
    "| 1.8 TS Bemani (CH) | 1798 cm³  | 4        | 158 kW (215 PS) przy 6000 min−1 | 270 Nm przy 4800 min−1      | 6MT                | 03/2009–2010    |\n",
    "| 1.4 D-4D           | 1364 cm³  | 4        | 66 kW (90 PS) przy 3800 min−1   | 190 Nm przy 1800–3000 min−1 | 5MT / 5AT          | 2006–2009       |"
   ]
  },
  {
   "cell_type": "markdown",
   "metadata": {},
   "source": [
    "## Wczytanie i przegląd danych"
   ]
  },
  {
   "cell_type": "code",
   "execution_count": 398,
   "metadata": {},
   "outputs": [
    {
     "name": "stdout",
     "output_type": "stream",
     "text": [
      "Wall time: 19 ms\n"
     ]
    },
    {
     "data": {
      "text/html": [
       "<div>\n",
       "<style scoped>\n",
       "    .dataframe tbody tr th:only-of-type {\n",
       "        vertical-align: middle;\n",
       "    }\n",
       "\n",
       "    .dataframe tbody tr th {\n",
       "        vertical-align: top;\n",
       "    }\n",
       "\n",
       "    .dataframe thead th {\n",
       "        text-align: right;\n",
       "    }\n",
       "</style>\n",
       "<table border=\"1\" class=\"dataframe\">\n",
       "  <thead>\n",
       "    <tr style=\"text-align: right;\">\n",
       "      <th></th>\n",
       "      <th>offer_id</th>\n",
       "      <th>s_date</th>\n",
       "      <th>e_date</th>\n",
       "      <th>private_business</th>\n",
       "      <th>region</th>\n",
       "      <th>city</th>\n",
       "      <th>model</th>\n",
       "      <th>year</th>\n",
       "      <th>mileage</th>\n",
       "      <th>engine_capacity</th>\n",
       "      <th>...</th>\n",
       "      <th>transmission</th>\n",
       "      <th>door_count</th>\n",
       "      <th>nr_seats</th>\n",
       "      <th>color</th>\n",
       "      <th>features</th>\n",
       "      <th>price</th>\n",
       "      <th>price_raw</th>\n",
       "      <th>currency</th>\n",
       "      <th>country_origin</th>\n",
       "      <th>registration</th>\n",
       "    </tr>\n",
       "  </thead>\n",
       "  <tbody>\n",
       "    <tr>\n",
       "      <th>0</th>\n",
       "      <td>6005738641</td>\n",
       "      <td>2020-04-17</td>\n",
       "      <td>2020-05-26</td>\n",
       "      <td>business</td>\n",
       "      <td>malopolskie</td>\n",
       "      <td>krakow</td>\n",
       "      <td>yaris</td>\n",
       "      <td>2009</td>\n",
       "      <td>111000</td>\n",
       "      <td>1000</td>\n",
       "      <td>...</td>\n",
       "      <td>front-wheel</td>\n",
       "      <td>5</td>\n",
       "      <td>5</td>\n",
       "      <td>grey</td>\n",
       "      <td>0</td>\n",
       "      <td>6200</td>\n",
       "      <td>6200.0</td>\n",
       "      <td>0</td>\n",
       "      <td>f</td>\n",
       "      <td>0</td>\n",
       "    </tr>\n",
       "    <tr>\n",
       "      <th>1</th>\n",
       "      <td>6018694885</td>\n",
       "      <td>2020-04-17</td>\n",
       "      <td>2020-05-26</td>\n",
       "      <td>business</td>\n",
       "      <td>warminsko-mazurskie</td>\n",
       "      <td>ostroda</td>\n",
       "      <td>yaris</td>\n",
       "      <td>2008</td>\n",
       "      <td>45706</td>\n",
       "      <td>998</td>\n",
       "      <td>...</td>\n",
       "      <td>0</td>\n",
       "      <td>3</td>\n",
       "      <td>5</td>\n",
       "      <td>white</td>\n",
       "      <td>abs central-lock electronic-immobiliser front-...</td>\n",
       "      <td>4700</td>\n",
       "      <td>4700.0</td>\n",
       "      <td>0</td>\n",
       "      <td>pl</td>\n",
       "      <td>0</td>\n",
       "    </tr>\n",
       "    <tr>\n",
       "      <th>2</th>\n",
       "      <td>6025678407</td>\n",
       "      <td>2020-04-17</td>\n",
       "      <td>2020-05-26</td>\n",
       "      <td>business</td>\n",
       "      <td>mazowieckie</td>\n",
       "      <td>milanowek</td>\n",
       "      <td>yaris</td>\n",
       "      <td>2009</td>\n",
       "      <td>174000</td>\n",
       "      <td>1300</td>\n",
       "      <td>...</td>\n",
       "      <td>0</td>\n",
       "      <td>5</td>\n",
       "      <td>5</td>\n",
       "      <td>silver</td>\n",
       "      <td>abs cd central-lock front-electric-windows ele...</td>\n",
       "      <td>19800</td>\n",
       "      <td>19800.0</td>\n",
       "      <td>0</td>\n",
       "      <td>0</td>\n",
       "      <td>0</td>\n",
       "    </tr>\n",
       "  </tbody>\n",
       "</table>\n",
       "<p>3 rows × 24 columns</p>\n",
       "</div>"
      ],
      "text/plain": [
       "     offer_id      s_date      e_date private_business               region  \\\n",
       "0  6005738641  2020-04-17  2020-05-26         business          malopolskie   \n",
       "1  6018694885  2020-04-17  2020-05-26         business  warminsko-mazurskie   \n",
       "2  6025678407  2020-04-17  2020-05-26         business          mazowieckie   \n",
       "\n",
       "        city  model  year  mileage  engine_capacity  ... transmission  \\\n",
       "0     krakow  yaris  2009   111000             1000  ...  front-wheel   \n",
       "1    ostroda  yaris  2008    45706              998  ...            0   \n",
       "2  milanowek  yaris  2009   174000             1300  ...            0   \n",
       "\n",
       "  door_count  nr_seats   color  \\\n",
       "0          5         5    grey   \n",
       "1          3         5   white   \n",
       "2          5         5  silver   \n",
       "\n",
       "                                            features  price  price_raw  \\\n",
       "0                                                  0   6200     6200.0   \n",
       "1  abs central-lock electronic-immobiliser front-...   4700     4700.0   \n",
       "2  abs cd central-lock front-electric-windows ele...  19800    19800.0   \n",
       "\n",
       "  currency country_origin  registration  \n",
       "0        0              f             0  \n",
       "1        0             pl             0  \n",
       "2        0              0             0  \n",
       "\n",
       "[3 rows x 24 columns]"
      ]
     },
     "execution_count": 398,
     "metadata": {},
     "output_type": "execute_result"
    }
   ],
   "source": [
    "import pandas as pd\n",
    "import numpy as np\n",
    "import sqlite3\n",
    "\n",
    "import warnings\n",
    "warnings.filterwarnings(\"ignore\")\n",
    "\n",
    "%matplotlib inline\n",
    "import matplotlib.pyplot as plt\n",
    "import seaborn as sns\n",
    "\n",
    "def get_view_data():\n",
    "    sql_query = \"\"\"SELECT * FROM v_cars\"\"\"\n",
    "    conn = sqlite3.connect(\"pythonsqlite.db\")\n",
    "    data = pd.read_sql_query(sql_query, conn)\n",
    "    conn.close()\n",
    "    return data\n",
    "\n",
    "def get_data():\n",
    "    sql_query =\"\"\"\n",
    "SELECT \n",
    "    all_offers.offer_id,otomoto_all.s_date, otomoto_all.e_date, all_offers.private_business, all_offers.region,\n",
    "    all_offers.city, all_offers.model, all_offers.year, all_offers.mileage, all_offers.engine_capacity, all_offers.vin,\n",
    "    all_offers.fuel_type, all_offers.engine_power, all_offers.gearbox, all_offers.transmission, all_offers.door_count,\n",
    "    all_offers.nr_seats, all_offers.color, all_offers.features,otomoto_all.price, all_offers.price_raw, all_offers.currency, \n",
    "    all_offers.country_origin, all_offers.registration\n",
    "FROM \n",
    "    otomoto_all, all_offers\n",
    "WHERE \n",
    "    otomoto_all.uid = all_offers.uid; \n",
    "\"\"\"\n",
    "\n",
    "    conn = sqlite3.connect(\"pythonsqlite.db\")\n",
    "    data = pd.read_sql_query(sql_query, conn)\n",
    "    conn.close()\n",
    "    return data\n",
    "\n",
    "#%time df = get_data() #~13 ms\n",
    "%time df = get_view_data() #~13 ms\n",
    "\n",
    "#%time for i in range(3000): df = get_data()\n",
    "\n",
    "df.head(3)"
   ]
  },
  {
   "cell_type": "code",
   "execution_count": 399,
   "metadata": {},
   "outputs": [
    {
     "name": "stdout",
     "output_type": "stream",
     "text": [
      "<class 'pandas.core.frame.DataFrame'>\n",
      "RangeIndex: 423 entries, 0 to 422\n",
      "Data columns (total 24 columns):\n",
      " #   Column            Non-Null Count  Dtype  \n",
      "---  ------            --------------  -----  \n",
      " 0   offer_id          423 non-null    int64  \n",
      " 1   s_date            423 non-null    object \n",
      " 2   e_date            423 non-null    object \n",
      " 3   private_business  423 non-null    object \n",
      " 4   region            423 non-null    object \n",
      " 5   city              423 non-null    object \n",
      " 6   model             423 non-null    object \n",
      " 7   year              423 non-null    int64  \n",
      " 8   mileage           423 non-null    int64  \n",
      " 9   engine_capacity   423 non-null    int64  \n",
      " 10  vin               423 non-null    object \n",
      " 11  fuel_type         423 non-null    object \n",
      " 12  engine_power      423 non-null    int64  \n",
      " 13  gearbox           423 non-null    object \n",
      " 14  transmission      423 non-null    object \n",
      " 15  door_count        423 non-null    int64  \n",
      " 16  nr_seats          423 non-null    int64  \n",
      " 17  color             423 non-null    object \n",
      " 18  features          423 non-null    object \n",
      " 19  price             423 non-null    int64  \n",
      " 20  price_raw         423 non-null    float64\n",
      " 21  currency          423 non-null    object \n",
      " 22  country_origin    423 non-null    object \n",
      " 23  registration      423 non-null    object \n",
      "dtypes: float64(1), int64(8), object(15)\n",
      "memory usage: 79.4+ KB\n"
     ]
    }
   ],
   "source": [
    "df.info()"
   ]
  },
  {
   "cell_type": "code",
   "execution_count": 400,
   "metadata": {},
   "outputs": [],
   "source": [
    "def check_missing():\n",
    "    for column in df.columns:\n",
    "        missing = column, df[column].isnull().sum()\n",
    "        if missing[1] == 0: continue\n",
    "\n",
    "        print(missing)\n",
    "        \n",
    "check_missing()"
   ]
  },
  {
   "cell_type": "code",
   "execution_count": 489,
   "metadata": {},
   "outputs": [],
   "source": [
    "feat_en_pl = {\n",
    "    \"abs\" : \"ABS\",\n",
    "    \"cd\" : \"CD\",\n",
    "    \"central-lock\" : \"Centralny zamek\",\n",
    "    \"front-electric-windows\" : \"Elektryczne szyby przednie\",\n",
    "    \"electronic-rearview-mirrors\" : \"Elektrycznie ustawiane lusterka\",\n",
    "    \"electronic-immobiliser\" : \"Immobilizer\",\n",
    "    \"front-airbags\" : \"Poduszka powietrzna kierowcy\",\n",
    "    \"front-passenger-airbags\" : \"Poduszka powietrzna pasażera\",\n",
    "    \"original-radio\" : \"Radio fabryczne\",\n",
    "    \"assisted-steering\" : \"Wspomaganie kierownicy\",\n",
    "    \"alarm\" : \"Alarm\",\n",
    "    \"alloy-wheels\" : \"Alufelgi\",\n",
    "    \"asr\" : \"ASR (kontrola trakcji)\",\n",
    "    \"park-assist\" : \"Asystent parkowania\",\n",
    "    \"lane-assist\" : \"Asystent pasa ruchu\",\n",
    "    \"bluetooth\" : \"Bluetooth\",\n",
    "    \"automatic-wipers\" : \"Czujnik deszczu\",\n",
    "    \"blind-spot-sensor\" : \"Czujnik martwego pola\",\n",
    "    \"automatic-lights\" : \"Czujnik zmierzchu\",\n",
    "    \"both-parking-sensors\" : \"Czujniki parkowania przednie\",\n",
    "    \"rear-parking-sensors\" : \"Czujniki parkowania tylne\",\n",
    "    \"panoramic-sunroof\" : \"Dach panoramiczny\",\n",
    "    \"electric-exterior-mirror\" : \"Elektrochromatyczne lusterka boczne\",\n",
    "    \"electric-interior-mirror\" : \"Elektrochromatyczne lusterko wsteczne\",\n",
    "    \"rear-electric-windows\" : \"Elektryczne szyby tylne\",\n",
    "    \"electric-adjustable-seats\" : \"Elektrycznie ustawiane fotele\",\n",
    "    \"esp\" : \"ESP (stabilizacja toru jazdy)\",\n",
    "    \"aux-in\" : \"Gniazdo AUX\",\n",
    "    \"sd-socket\" : \"Gniazdo SD\",\n",
    "    \"usb-socket\" : \"Gniazdo USB\",\n",
    "    \"towing-hook\" : \"Hak\",\n",
    "    \"head-display\" : \"HUD (wyświetlacz przezierny)\",\n",
    "    \"isofix\" : \"Isofix\",\n",
    "    \"rearview-camera\" : \"Kamera cofania\",\n",
    "    \"automatic-air-conditioning\" : \"Klimatyzacja automatyczna\",\n",
    "    \"quad-air-conditioning\" : \"Klimatyzacja czterostrefowa\",\n",
    "    \"dual-air-conditioning\" : \"Klimatyzacja dwustrefowa\",\n",
    "    \"air-conditioning\" : \"Klimatyzacja manualna\",\n",
    "    \"onboard-computer\" : \"Komputer pokładowy\",\n",
    "    \"side-window-airbags\" : \"Kurtyny powietrzne\",\n",
    "    \"shift-paddles\" : \"Łopatki zmiany biegów\",\n",
    "    \"mp3\" : \"MP3\",\n",
    "    \"gps\" : \"Nawigacja GPS\",\n",
    "    \"dvd\" : \"Odtwarzacz DVD\",\n",
    "    \"speed-limiter\" : \"Ogranicznik prędkości\",\n",
    "    \"auxiliary-heating\" : \"Ogrzewanie postojowe\",\n",
    "    \"heated-windshield\" : \"Podgrzewana przednia szyba\",\n",
    "    \"heated-rearview-mirrors\" : \"Podgrzewane lusterka boczne\",\n",
    "    \"front-heated-seats\" : \"Podgrzewane przednie siedzenia\",\n",
    "    \"rear-heated-seats\" : \"Podgrzewane tylne siedzenia\",\n",
    "    \"driver-knee-airbag\" : \"Poduszka powietrzna chroniąca kolana\",\n",
    "    \"front-side-airbags\" : \"Poduszki boczne przednie\",\n",
    "    \"rear-passenger-airbags\" : \"Poduszki boczne tylne\",\n",
    "    \"tinted-windows\" : \"Przyciemniane szyby\",\n",
    "    \"radio\" : \"Radio niefabryczne\",\n",
    "    \"adjustable-suspension\" : \"Regulowane zawieszenie\",\n",
    "    \"roof-bars\" : \"Relingi dachowe\",\n",
    "    \"system-start-stop\" : \"System Start-Stop\",\n",
    "    \"sunroof\" : \"Szyberdach\",\n",
    "    \"daytime-lights\" : \"Światła do jazdy dziennej\",\n",
    "    \"leds\" : \"Światła LED\",\n",
    "    \"fog-lights\" : \"Światła przeciwmgielne\",\n",
    "    \"xenon-lights\" : \"Światła Xenonowe\",\n",
    "    \"leather-interior\" : \"Tapicerka skórzana\",\n",
    "    \"velour-interior\" : \"Tapicerka welurowa\",\n",
    "    \"cruise-control\" : \"Tempomat\",\n",
    "    \"active-cruise-control\" : \"Tempomat aktywny\",\n",
    "    \"tv\" : \"Tuner TV\",\n",
    "    \"steering-whell-comands\" : \"Wielofunkcyjna kierownica\",\n",
    "    \"cd-changer\" : \"Zmieniarka CD\" }"
   ]
  },
  {
   "cell_type": "markdown",
   "metadata": {},
   "source": [
    "## Porządkowanie danych"
   ]
  },
  {
   "cell_type": "code",
   "execution_count": 401,
   "metadata": {},
   "outputs": [
    {
     "name": "stdout",
     "output_type": "stream",
     "text": [
      "offer_id:  int64\n",
      "offer_id:  330 MIN: 6005738641 MAX: 6074808481\n"
     ]
    }
   ],
   "source": [
    "# offer_id - numer oferty\n",
    "print('offer_id: ', df['offer_id'].dtypes)\n",
    "print('offer_id: ', df['offer_id'].nunique(), 'MIN:', df['offer_id'].min(), 'MAX:', df['offer_id'].max())\n",
    "\n",
    "df['offer_id'] = pd.to_numeric (df['offer_id'], downcast='unsigned')"
   ]
  },
  {
   "cell_type": "markdown",
   "metadata": {},
   "source": [
    "### s_date / e_date"
   ]
  },
  {
   "cell_type": "code",
   "execution_count": 402,
   "metadata": {},
   "outputs": [
    {
     "name": "stdout",
     "output_type": "stream",
     "text": [
      "s_date:  object\n",
      "e_date:  object\n"
     ]
    }
   ],
   "source": [
    "# s_date - data publikacji ogłoszenia \n",
    "# e_date - data końca ogłoszenia\n",
    "\n",
    "print('s_date: ', df['s_date'].dtypes)\n",
    "print('e_date: ', df['e_date'].dtypes)"
   ]
  },
  {
   "cell_type": "code",
   "execution_count": 403,
   "metadata": {},
   "outputs": [
    {
     "name": "stdout",
     "output_type": "stream",
     "text": [
      "s_date:  datetime64[ns]\n",
      "e_date:  datetime64[ns]\n"
     ]
    }
   ],
   "source": [
    "df['s_date'] = pd.to_datetime(df['s_date']) \n",
    "df['e_date'] = pd.to_datetime(df['e_date'])\n",
    "print('s_date: ', df['s_date'].dtypes)\n",
    "print('e_date: ', df['e_date'].dtypes)"
   ]
  },
  {
   "cell_type": "markdown",
   "metadata": {},
   "source": [
    "### private_business"
   ]
  },
  {
   "cell_type": "code",
   "execution_count": 404,
   "metadata": {},
   "outputs": [
    {
     "name": "stdout",
     "output_type": "stream",
     "text": [
      "private_business:\n",
      " business    220\n",
      "private     203\n",
      "Name: private_business, dtype: int64\n"
     ]
    },
    {
     "data": {
      "image/png": "[encoded data removed]",
      "text/plain": [
       "<Figure size 432x288 with 1 Axes>"
      ]
     },
     "metadata": {
      "needs_background": "light"
     },
     "output_type": "display_data"
    }
   ],
   "source": [
    "#print('private_business: ', df['private_business'].dtypes)\n",
    "print('private_business:\\n', df['private_business'].value_counts()) # business : 1 / private : 0\n",
    "\n",
    "if df['private_business'].dtypes == 'object':\n",
    "    df['private_business'] = df['private_business'].apply(lambda x : str(x) == 'business' )\n",
    "    df['private_business'] = df['private_business'].astype(np.int8)\n",
    "\n",
    "df['private_business'].value_counts().plot(kind='bar');"
   ]
  },
  {
   "cell_type": "markdown",
   "metadata": {},
   "source": [
    "### Region / City / Model"
   ]
  },
  {
   "cell_type": "code",
   "execution_count": 405,
   "metadata": {},
   "outputs": [
    {
     "name": "stdout",
     "output_type": "stream",
     "text": [
      "region:  object\n",
      "region:  ['malopolskie' 'warminsko-mazurskie' 'mazowieckie' 'dolnoslaskie'\n",
      " 'wielkopolskie' 'slaskie' 'podkarpackie' 'podlaskie' 'lodzkie'\n",
      " 'zachodniopomorskie' 'lubelskie' 'swietokrzyskie' 'opolskie'\n",
      " 'kujawsko-pomorskie' 'lubuskie' 'pomorskie']\n"
     ]
    }
   ],
   "source": [
    "# region \n",
    "print('region: ', df['region'].dtypes)\n",
    "print('region: ', df['region'].unique())"
   ]
  },
  {
   "cell_type": "code",
   "execution_count": 406,
   "metadata": {},
   "outputs": [
    {
     "data": {
      "image/png": "[encoded data removed]",
      "text/plain": [
       "<Figure size 432x288 with 1 Axes>"
      ]
     },
     "metadata": {
      "needs_background": "light"
     },
     "output_type": "display_data"
    }
   ],
   "source": [
    "chart = sns.countplot(x='region', data=df)\n",
    "chart.set_xticklabels(chart.get_xticklabels(), rotation = 90);"
   ]
  },
  {
   "cell_type": "code",
   "execution_count": 407,
   "metadata": {},
   "outputs": [
    {
     "data": {
      "image/png": "[encoded data removed]",
      "text/plain": [
       "<Figure size 432x288 with 1 Axes>"
      ]
     },
     "metadata": {
      "needs_background": "light"
     },
     "output_type": "display_data"
    }
   ],
   "source": [
    "counts = df['region'].value_counts()\n",
    "\n",
    "fig = plt.figure()\n",
    "axes = fig.add_axes([0.1 ,0.1 ,0.8, 0.8]) \n",
    "axes.bar(counts.index, counts.values)\n",
    "\n",
    "axes.set_xlabel('Województwo')\n",
    "axes.set_ylabel('Liczba aut')\n",
    "axes.set_title('Liczba ogłoszeń wg województw')\n",
    "\n",
    "for label in axes.get_xticklabels():\n",
    "  label.set_rotation(45)\n",
    "  label.set_ha('right')"
   ]
  },
  {
   "cell_type": "code",
   "execution_count": 408,
   "metadata": {},
   "outputs": [
    {
     "name": "stdout",
     "output_type": "stream",
     "text": [
      "city:  object\n",
      "city:  163\n"
     ]
    }
   ],
   "source": [
    "# city\n",
    "print('city: ', df['city'].dtypes)\n",
    "print('city: ', df['city'].nunique())"
   ]
  },
  {
   "cell_type": "code",
   "execution_count": 409,
   "metadata": {},
   "outputs": [
    {
     "name": "stdout",
     "output_type": "stream",
     "text": [
      "model:  object\n",
      "model:  ['yaris']\n"
     ]
    }
   ],
   "source": [
    "# model\n",
    "print('model: ', df['model'].dtypes)\n",
    "print('model: ', df['model'].unique())"
   ]
  },
  {
   "cell_type": "code",
   "execution_count": 410,
   "metadata": {},
   "outputs": [
    {
     "name": "stdout",
     "output_type": "stream",
     "text": [
      "year:  int64\n",
      "year:  [2009 2008 2006 2005 2007 2010 2011 2002 2014 2016]\n"
     ]
    }
   ],
   "source": [
    "# year - lata produkcji Yaris II: 2005 - 2011\n",
    "print('year: ', df['year'].dtypes)\n",
    "print('year: ', df['year'].unique())"
   ]
  },
  {
   "cell_type": "code",
   "execution_count": 411,
   "metadata": {},
   "outputs": [
    {
     "name": "stdout",
     "output_type": "stream",
     "text": [
      "mileage:  int64\n",
      "mileage:  234\n",
      "MIN:  9100 MAX:  410000\n"
     ]
    }
   ],
   "source": [
    "# mileage\n",
    "print('mileage: ', df['mileage'].dtypes)\n",
    "print('mileage: ', df['mileage'].nunique())\n",
    "print('MIN: ', df['mileage'].min(), 'MAX: ', df['mileage'].max())"
   ]
  },
  {
   "cell_type": "markdown",
   "metadata": {},
   "source": [
    "### Engine Capacity"
   ]
  },
  {
   "cell_type": "code",
   "execution_count": 412,
   "metadata": {},
   "outputs": [
    {
     "name": "stdout",
     "output_type": "stream",
     "text": [
      "engine_capacity:  int64\n",
      "engine_capacity:  [1000  998 1300 1364 1298 1400 1398 1329    0 1798 1323  966 1324  996\n",
      "  988 1332 1296 1330  999 1290 1335 1333]\n"
     ]
    }
   ],
   "source": [
    "# engine capacity\n",
    "\n",
    "car = {\n",
    "    \"R3_10_69KM\" : {\"power\" : 69 , \"fuel\" : \"petrol\", \"capacity\": 998, \"gearbox\" : \"5MT\", \"Date\" : \"2005-2011\"},\n",
    "    \"R4_13_86KM\" : {\"power\" : 86 , \"fuel\" : \"petrol\", \"capacity\": 1296, \"gearbox\" : \"5MT\", \"Date\" : \"2005-2008\"},\n",
    "    \"R4_133_99KM\" : {\"power\" : 101 , \"fuel\" : \"petrol\", \"capacity\": 1329, \"gearbox\" : \"6MT\", \"Date\" : \"09/2010 - 2011\"},\n",
    "    \"R4_133_101KM\" : {\"power\" : 101 , \"fuel\" : \"petrol\", \"capacity\": 1329, \"gearbox\" : \"6MT\", \"Date\" : \"2009 - 09/2010\"},\n",
    "    \"R4_18_133KM\" : {\"power\" : 133 , \"fuel\" : \"petrol\", \"capacity\": 1798, \"gearbox\" : \"6MT\", \"Date\": \"01/2007 - 01/2009\"},\n",
    "    \"R4_18_215KM\" : {\"power\" : 215 , \"fuel\" : \"petrol\", \"capacity\": 1798, \"gearbox\" : \"6MT\", \"Date\" : \"03/2009 - 2010\"},\n",
    "    \"R4_14_D4D\" : {\"power\" : 90 , \"fuel\" : \"diesel\", \"capacity\": 1364, \"gearbox\" : \"5MT\", \"Date\" : \"2006 - 2009\"}    \n",
    "}\n",
    "\n",
    "print('engine_capacity: ', df['engine_capacity'].dtypes)\n",
    "print('engine_capacity: ', df['engine_capacity'].unique())"
   ]
  },
  {
   "cell_type": "markdown",
   "metadata": {},
   "source": [
    "Wg portalu Autocentrum w tym modelu były dostępne następujące wersje silnikowe:\n",
    "\n",
    "Benzyna:\n",
    "- 1.0  VVT-i      69KM 51kW (2005-2011) - 998 cm3, 5MT\n",
    "\n",
    "- 1.3i VVT-i      86KM 63kW (2005-2010) - 1296 cm3, 5MT\n",
    "\n",
    "- 1.33 Dual VVT-i 101KM 74kW (2009-2011) - 1329 cm3, 6MT\n",
    "\n",
    "- 1.8i VVT-i      133KM 98kW (2005-2010) - 1798 cm3, 6MT\n",
    "\n",
    "Diesel:\n",
    "- 1.4 D-4D 90KM 66kW (2005-2011) - 1364 cm3, 5MT"
   ]
  },
  {
   "cell_type": "code",
   "execution_count": 413,
   "metadata": {},
   "outputs": [
    {
     "data": {
      "text/html": [
       "<div>\n",
       "<style scoped>\n",
       "    .dataframe tbody tr th:only-of-type {\n",
       "        vertical-align: middle;\n",
       "    }\n",
       "\n",
       "    .dataframe tbody tr th {\n",
       "        vertical-align: top;\n",
       "    }\n",
       "\n",
       "    .dataframe thead th {\n",
       "        text-align: right;\n",
       "    }\n",
       "</style>\n",
       "<table border=\"1\" class=\"dataframe\">\n",
       "  <thead>\n",
       "    <tr style=\"text-align: right;\">\n",
       "      <th></th>\n",
       "      <th>engine_capacity</th>\n",
       "      <th>fuel_type</th>\n",
       "      <th>engine_power</th>\n",
       "      <th>gearbox</th>\n",
       "      <th>year</th>\n",
       "    </tr>\n",
       "  </thead>\n",
       "  <tbody>\n",
       "    <tr>\n",
       "      <th>7</th>\n",
       "      <td>1400</td>\n",
       "      <td>diesel</td>\n",
       "      <td>0</td>\n",
       "      <td>manual</td>\n",
       "      <td>2009</td>\n",
       "    </tr>\n",
       "    <tr>\n",
       "      <th>20</th>\n",
       "      <td>1400</td>\n",
       "      <td>diesel</td>\n",
       "      <td>90</td>\n",
       "      <td>manual</td>\n",
       "      <td>2009</td>\n",
       "    </tr>\n",
       "    <tr>\n",
       "      <th>30</th>\n",
       "      <td>1400</td>\n",
       "      <td>diesel</td>\n",
       "      <td>90</td>\n",
       "      <td>manual</td>\n",
       "      <td>2009</td>\n",
       "    </tr>\n",
       "    <tr>\n",
       "      <th>33</th>\n",
       "      <td>1400</td>\n",
       "      <td>diesel</td>\n",
       "      <td>90</td>\n",
       "      <td>manual</td>\n",
       "      <td>2009</td>\n",
       "    </tr>\n",
       "    <tr>\n",
       "      <th>35</th>\n",
       "      <td>1400</td>\n",
       "      <td>diesel</td>\n",
       "      <td>90</td>\n",
       "      <td>manual</td>\n",
       "      <td>2008</td>\n",
       "    </tr>\n",
       "    <tr>\n",
       "      <th>36</th>\n",
       "      <td>1400</td>\n",
       "      <td>diesel</td>\n",
       "      <td>90</td>\n",
       "      <td>manual</td>\n",
       "      <td>2008</td>\n",
       "    </tr>\n",
       "    <tr>\n",
       "      <th>40</th>\n",
       "      <td>1400</td>\n",
       "      <td>diesel</td>\n",
       "      <td>90</td>\n",
       "      <td>manual</td>\n",
       "      <td>2007</td>\n",
       "    </tr>\n",
       "    <tr>\n",
       "      <th>43</th>\n",
       "      <td>1400</td>\n",
       "      <td>diesel</td>\n",
       "      <td>90</td>\n",
       "      <td>manual</td>\n",
       "      <td>2009</td>\n",
       "    </tr>\n",
       "    <tr>\n",
       "      <th>44</th>\n",
       "      <td>1400</td>\n",
       "      <td>petrol</td>\n",
       "      <td>87</td>\n",
       "      <td>manual</td>\n",
       "      <td>2008</td>\n",
       "    </tr>\n",
       "    <tr>\n",
       "      <th>80</th>\n",
       "      <td>1400</td>\n",
       "      <td>diesel</td>\n",
       "      <td>90</td>\n",
       "      <td>manual</td>\n",
       "      <td>2011</td>\n",
       "    </tr>\n",
       "    <tr>\n",
       "      <th>86</th>\n",
       "      <td>1400</td>\n",
       "      <td>diesel</td>\n",
       "      <td>90</td>\n",
       "      <td>manual</td>\n",
       "      <td>2011</td>\n",
       "    </tr>\n",
       "    <tr>\n",
       "      <th>103</th>\n",
       "      <td>1400</td>\n",
       "      <td>diesel</td>\n",
       "      <td>90</td>\n",
       "      <td>manual</td>\n",
       "      <td>2010</td>\n",
       "    </tr>\n",
       "    <tr>\n",
       "      <th>107</th>\n",
       "      <td>1400</td>\n",
       "      <td>diesel</td>\n",
       "      <td>90</td>\n",
       "      <td>manual</td>\n",
       "      <td>2009</td>\n",
       "    </tr>\n",
       "    <tr>\n",
       "      <th>118</th>\n",
       "      <td>1400</td>\n",
       "      <td>diesel</td>\n",
       "      <td>0</td>\n",
       "      <td>manual</td>\n",
       "      <td>2007</td>\n",
       "    </tr>\n",
       "    <tr>\n",
       "      <th>141</th>\n",
       "      <td>1400</td>\n",
       "      <td>diesel</td>\n",
       "      <td>90</td>\n",
       "      <td>manual</td>\n",
       "      <td>2006</td>\n",
       "    </tr>\n",
       "    <tr>\n",
       "      <th>175</th>\n",
       "      <td>1400</td>\n",
       "      <td>diesel</td>\n",
       "      <td>90</td>\n",
       "      <td>manual</td>\n",
       "      <td>2010</td>\n",
       "    </tr>\n",
       "    <tr>\n",
       "      <th>196</th>\n",
       "      <td>1400</td>\n",
       "      <td>diesel</td>\n",
       "      <td>90</td>\n",
       "      <td>manual</td>\n",
       "      <td>2007</td>\n",
       "    </tr>\n",
       "    <tr>\n",
       "      <th>199</th>\n",
       "      <td>1400</td>\n",
       "      <td>diesel</td>\n",
       "      <td>90</td>\n",
       "      <td>manual</td>\n",
       "      <td>2006</td>\n",
       "    </tr>\n",
       "    <tr>\n",
       "      <th>202</th>\n",
       "      <td>1400</td>\n",
       "      <td>diesel</td>\n",
       "      <td>90</td>\n",
       "      <td>manual</td>\n",
       "      <td>2008</td>\n",
       "    </tr>\n",
       "    <tr>\n",
       "      <th>211</th>\n",
       "      <td>1400</td>\n",
       "      <td>diesel</td>\n",
       "      <td>90</td>\n",
       "      <td>manual</td>\n",
       "      <td>2007</td>\n",
       "    </tr>\n",
       "    <tr>\n",
       "      <th>214</th>\n",
       "      <td>1400</td>\n",
       "      <td>diesel</td>\n",
       "      <td>90</td>\n",
       "      <td>manual</td>\n",
       "      <td>2002</td>\n",
       "    </tr>\n",
       "    <tr>\n",
       "      <th>216</th>\n",
       "      <td>1400</td>\n",
       "      <td>diesel</td>\n",
       "      <td>90</td>\n",
       "      <td>manual</td>\n",
       "      <td>2006</td>\n",
       "    </tr>\n",
       "    <tr>\n",
       "      <th>223</th>\n",
       "      <td>1400</td>\n",
       "      <td>diesel</td>\n",
       "      <td>90</td>\n",
       "      <td>manual</td>\n",
       "      <td>2008</td>\n",
       "    </tr>\n",
       "    <tr>\n",
       "      <th>253</th>\n",
       "      <td>1400</td>\n",
       "      <td>petrol</td>\n",
       "      <td>97</td>\n",
       "      <td>manual</td>\n",
       "      <td>2011</td>\n",
       "    </tr>\n",
       "    <tr>\n",
       "      <th>282</th>\n",
       "      <td>1400</td>\n",
       "      <td>diesel</td>\n",
       "      <td>90</td>\n",
       "      <td>manual</td>\n",
       "      <td>2010</td>\n",
       "    </tr>\n",
       "    <tr>\n",
       "      <th>284</th>\n",
       "      <td>1400</td>\n",
       "      <td>diesel</td>\n",
       "      <td>90</td>\n",
       "      <td>manual</td>\n",
       "      <td>2008</td>\n",
       "    </tr>\n",
       "    <tr>\n",
       "      <th>310</th>\n",
       "      <td>1400</td>\n",
       "      <td>diesel</td>\n",
       "      <td>90</td>\n",
       "      <td>manual</td>\n",
       "      <td>2009</td>\n",
       "    </tr>\n",
       "    <tr>\n",
       "      <th>315</th>\n",
       "      <td>1400</td>\n",
       "      <td>diesel</td>\n",
       "      <td>90</td>\n",
       "      <td>manual</td>\n",
       "      <td>2006</td>\n",
       "    </tr>\n",
       "    <tr>\n",
       "      <th>326</th>\n",
       "      <td>1400</td>\n",
       "      <td>diesel</td>\n",
       "      <td>90</td>\n",
       "      <td>manual</td>\n",
       "      <td>2009</td>\n",
       "    </tr>\n",
       "    <tr>\n",
       "      <th>364</th>\n",
       "      <td>1400</td>\n",
       "      <td>diesel</td>\n",
       "      <td>90</td>\n",
       "      <td>manual</td>\n",
       "      <td>2007</td>\n",
       "    </tr>\n",
       "    <tr>\n",
       "      <th>377</th>\n",
       "      <td>1400</td>\n",
       "      <td>diesel</td>\n",
       "      <td>90</td>\n",
       "      <td>manual</td>\n",
       "      <td>2008</td>\n",
       "    </tr>\n",
       "    <tr>\n",
       "      <th>391</th>\n",
       "      <td>1400</td>\n",
       "      <td>diesel</td>\n",
       "      <td>0</td>\n",
       "      <td>manual</td>\n",
       "      <td>2010</td>\n",
       "    </tr>\n",
       "    <tr>\n",
       "      <th>392</th>\n",
       "      <td>1400</td>\n",
       "      <td>diesel</td>\n",
       "      <td>0</td>\n",
       "      <td>manual</td>\n",
       "      <td>2010</td>\n",
       "    </tr>\n",
       "  </tbody>\n",
       "</table>\n",
       "</div>"
      ],
      "text/plain": [
       "     engine_capacity fuel_type  engine_power gearbox  year\n",
       "7               1400    diesel             0  manual  2009\n",
       "20              1400    diesel            90  manual  2009\n",
       "30              1400    diesel            90  manual  2009\n",
       "33              1400    diesel            90  manual  2009\n",
       "35              1400    diesel            90  manual  2008\n",
       "36              1400    diesel            90  manual  2008\n",
       "40              1400    diesel            90  manual  2007\n",
       "43              1400    diesel            90  manual  2009\n",
       "44              1400    petrol            87  manual  2008\n",
       "80              1400    diesel            90  manual  2011\n",
       "86              1400    diesel            90  manual  2011\n",
       "103             1400    diesel            90  manual  2010\n",
       "107             1400    diesel            90  manual  2009\n",
       "118             1400    diesel             0  manual  2007\n",
       "141             1400    diesel            90  manual  2006\n",
       "175             1400    diesel            90  manual  2010\n",
       "196             1400    diesel            90  manual  2007\n",
       "199             1400    diesel            90  manual  2006\n",
       "202             1400    diesel            90  manual  2008\n",
       "211             1400    diesel            90  manual  2007\n",
       "214             1400    diesel            90  manual  2002\n",
       "216             1400    diesel            90  manual  2006\n",
       "223             1400    diesel            90  manual  2008\n",
       "253             1400    petrol            97  manual  2011\n",
       "282             1400    diesel            90  manual  2010\n",
       "284             1400    diesel            90  manual  2008\n",
       "310             1400    diesel            90  manual  2009\n",
       "315             1400    diesel            90  manual  2006\n",
       "326             1400    diesel            90  manual  2009\n",
       "364             1400    diesel            90  manual  2007\n",
       "377             1400    diesel            90  manual  2008\n",
       "391             1400    diesel             0  manual  2010\n",
       "392             1400    diesel             0  manual  2010"
      ]
     },
     "execution_count": 413,
     "metadata": {},
     "output_type": "execute_result"
    }
   ],
   "source": [
    "feats = [\"engine_capacity\", \"fuel_type\", \"engine_power\", \"gearbox\", \"year\"]\n",
    "df[feats][df.engine_capacity == 1400]"
   ]
  },
  {
   "cell_type": "code",
   "execution_count": 414,
   "metadata": {},
   "outputs": [],
   "source": [
    "def get_engine_code(engine_capacity, fuel_type, engine_power, year):\n",
    "    if (engine_capacity <= 1000) & (fuel_type[0:6] == 'petrol'):\n",
    "        return 'R3_10_69KM'\n",
    "    elif ( 1000 <= engine_capacity <= 1350) & (fuel_type[0:6] == 'petrol') & (engine_power < 80):\n",
    "        return 'R4_13_86KM'\n",
    "    elif (year <= 2008) & (fuel_type[0:6] == 'petrol') & (engine_power < 95):\n",
    "        return 'R4_13_86KM'\n",
    "    elif (year >= 2009) & (fuel_type[0:6] == 'petrol') & (95 <= engine_power < 99):\n",
    "        return 'R4_133_99KM'\n",
    "    elif (year >= 2009) & (fuel_type[0:6] == 'petrol') & (99 <= engine_power < 110):\n",
    "        return 'R4_133_101KM'\n",
    "    elif (engine_capacity >= 1400) & (fuel_type[0:6] == 'petrol'):\n",
    "        return 'R4_18_133KM'\n",
    "    elif fuel_type[0:6] == 'diesel':\n",
    "        return 'R4_14_D4D'\n",
    "    elif engine_power > 150:\n",
    "        return 'R4_18_215KM'\n",
    "    else:\n",
    "        return 'NA'\n",
    "    \n",
    "df['engine'] = df.apply(lambda x: get_engine_code(x['engine_capacity'], x['fuel_type'], x['engine_power'], x['year']), axis=1)"
   ]
  },
  {
   "cell_type": "code",
   "execution_count": 415,
   "metadata": {},
   "outputs": [
    {
     "data": {
      "text/html": [
       "<div>\n",
       "<style scoped>\n",
       "    .dataframe tbody tr th:only-of-type {\n",
       "        vertical-align: middle;\n",
       "    }\n",
       "\n",
       "    .dataframe tbody tr th {\n",
       "        vertical-align: top;\n",
       "    }\n",
       "\n",
       "    .dataframe thead th {\n",
       "        text-align: right;\n",
       "    }\n",
       "</style>\n",
       "<table border=\"1\" class=\"dataframe\">\n",
       "  <thead>\n",
       "    <tr style=\"text-align: right;\">\n",
       "      <th></th>\n",
       "      <th>offer_id</th>\n",
       "      <th>engine</th>\n",
       "      <th>engine_capacity</th>\n",
       "      <th>fuel_type</th>\n",
       "      <th>engine_power</th>\n",
       "      <th>gearbox</th>\n",
       "      <th>year</th>\n",
       "    </tr>\n",
       "  </thead>\n",
       "  <tbody>\n",
       "    <tr>\n",
       "      <th>3</th>\n",
       "      <td>6027129122</td>\n",
       "      <td>NA</td>\n",
       "      <td>1300</td>\n",
       "      <td>petrol</td>\n",
       "      <td>87</td>\n",
       "      <td>manual</td>\n",
       "      <td>2009</td>\n",
       "    </tr>\n",
       "    <tr>\n",
       "      <th>47</th>\n",
       "      <td>6061613472</td>\n",
       "      <td>NA</td>\n",
       "      <td>1300</td>\n",
       "      <td>petrol</td>\n",
       "      <td>90</td>\n",
       "      <td>manual</td>\n",
       "      <td>2010</td>\n",
       "    </tr>\n",
       "    <tr>\n",
       "      <th>58</th>\n",
       "      <td>6065067561</td>\n",
       "      <td>NA</td>\n",
       "      <td>1300</td>\n",
       "      <td>petrol</td>\n",
       "      <td>87</td>\n",
       "      <td>manual</td>\n",
       "      <td>2009</td>\n",
       "    </tr>\n",
       "    <tr>\n",
       "      <th>63</th>\n",
       "      <td>6065479018</td>\n",
       "      <td>NA</td>\n",
       "      <td>1300</td>\n",
       "      <td>petrol</td>\n",
       "      <td>86</td>\n",
       "      <td>manual</td>\n",
       "      <td>2009</td>\n",
       "    </tr>\n",
       "    <tr>\n",
       "      <th>112</th>\n",
       "      <td>6068481479</td>\n",
       "      <td>NA</td>\n",
       "      <td>1324</td>\n",
       "      <td>petrol</td>\n",
       "      <td>100</td>\n",
       "      <td>manual</td>\n",
       "      <td>2008</td>\n",
       "    </tr>\n",
       "    <tr>\n",
       "      <th>172</th>\n",
       "      <td>6069517302</td>\n",
       "      <td>NA</td>\n",
       "      <td>1300</td>\n",
       "      <td>petrol</td>\n",
       "      <td>87</td>\n",
       "      <td>manual</td>\n",
       "      <td>2009</td>\n",
       "    </tr>\n",
       "    <tr>\n",
       "      <th>173</th>\n",
       "      <td>6069517302</td>\n",
       "      <td>NA</td>\n",
       "      <td>1300</td>\n",
       "      <td>petrol</td>\n",
       "      <td>87</td>\n",
       "      <td>manual</td>\n",
       "      <td>2009</td>\n",
       "    </tr>\n",
       "    <tr>\n",
       "      <th>174</th>\n",
       "      <td>6069528428</td>\n",
       "      <td>NA</td>\n",
       "      <td>1300</td>\n",
       "      <td>petrol</td>\n",
       "      <td>86</td>\n",
       "      <td>manual</td>\n",
       "      <td>2009</td>\n",
       "    </tr>\n",
       "    <tr>\n",
       "      <th>283</th>\n",
       "      <td>6071596035</td>\n",
       "      <td>NA</td>\n",
       "      <td>1290</td>\n",
       "      <td>petrol</td>\n",
       "      <td>90</td>\n",
       "      <td>manual</td>\n",
       "      <td>2011</td>\n",
       "    </tr>\n",
       "    <tr>\n",
       "      <th>295</th>\n",
       "      <td>6071810147</td>\n",
       "      <td>NA</td>\n",
       "      <td>1329</td>\n",
       "      <td>petrol</td>\n",
       "      <td>100</td>\n",
       "      <td>manual</td>\n",
       "      <td>2008</td>\n",
       "    </tr>\n",
       "    <tr>\n",
       "      <th>359</th>\n",
       "      <td>6072880158</td>\n",
       "      <td>NA</td>\n",
       "      <td>1296</td>\n",
       "      <td>petrol</td>\n",
       "      <td>87</td>\n",
       "      <td>manual</td>\n",
       "      <td>2009</td>\n",
       "    </tr>\n",
       "  </tbody>\n",
       "</table>\n",
       "</div>"
      ],
      "text/plain": [
       "       offer_id engine  engine_capacity fuel_type  engine_power gearbox  year\n",
       "3    6027129122     NA             1300    petrol            87  manual  2009\n",
       "47   6061613472     NA             1300    petrol            90  manual  2010\n",
       "58   6065067561     NA             1300    petrol            87  manual  2009\n",
       "63   6065479018     NA             1300    petrol            86  manual  2009\n",
       "112  6068481479     NA             1324    petrol           100  manual  2008\n",
       "172  6069517302     NA             1300    petrol            87  manual  2009\n",
       "173  6069517302     NA             1300    petrol            87  manual  2009\n",
       "174  6069528428     NA             1300    petrol            86  manual  2009\n",
       "283  6071596035     NA             1290    petrol            90  manual  2011\n",
       "295  6071810147     NA             1329    petrol           100  manual  2008\n",
       "359  6072880158     NA             1296    petrol            87  manual  2009"
      ]
     },
     "execution_count": 415,
     "metadata": {},
     "output_type": "execute_result"
    }
   ],
   "source": [
    "feats = [\"offer_id\",\"engine\",\"engine_capacity\", \"fuel_type\", \"engine_power\", \"gearbox\", \"year\"]\n",
    "df[feats][df.engine == 'NA']"
   ]
  },
  {
   "cell_type": "markdown",
   "metadata": {},
   "source": [
    "### VIN"
   ]
  },
  {
   "cell_type": "code",
   "execution_count": 416,
   "metadata": {},
   "outputs": [
    {
     "name": "stdout",
     "output_type": "stream",
     "text": [
      "vin:  object\n",
      "vin:  ['0']\n"
     ]
    }
   ],
   "source": [
    "# vin\n",
    "print('vin: ', df['vin'].dtypes)\n",
    "print('vin: ', df['vin'].unique())"
   ]
  },
  {
   "cell_type": "markdown",
   "metadata": {},
   "source": [
    "W żadnym ogłoszeniu nie był podany numer VIN"
   ]
  },
  {
   "cell_type": "code",
   "execution_count": 417,
   "metadata": {},
   "outputs": [
    {
     "name": "stdout",
     "output_type": "stream",
     "text": [
      "fuel_type:  object\n",
      "fuel_type:  ['petrol' 'diesel' 'petrol-lpg']\n"
     ]
    },
    {
     "data": {
      "image/png": "[encoded data removed]",
      "text/plain": [
       "<Figure size 432x288 with 1 Axes>"
      ]
     },
     "metadata": {
      "needs_background": "light"
     },
     "output_type": "display_data"
    }
   ],
   "source": [
    "# fuel_type\n",
    "print('fuel_type: ', df['fuel_type'].dtypes)\n",
    "print('fuel_type: ', df['fuel_type'].unique())\n",
    "\n",
    "df['fuel_type'].value_counts().plot(kind='bar');"
   ]
  },
  {
   "cell_type": "code",
   "execution_count": 418,
   "metadata": {},
   "outputs": [
    {
     "name": "stdout",
     "output_type": "stream",
     "text": [
      "engine_power:  int64\n",
      "engine_power:  [  0 100  87  90  86  69 101  70  82 133  68  85  88  80  66  99  72  65\n",
      " 103  97  67  51]\n"
     ]
    }
   ],
   "source": [
    "# engine_power - Moc W KM\n",
    "# 1kW = 1,36 KM\n",
    "# Powinno być: Benzyna: 69, 86, 101,133 Diesel: 90 \n",
    "\n",
    "print('engine_power: ', df['engine_power'].dtypes)\n",
    "print('engine_power: ', df['engine_power'].unique())\n"
   ]
  },
  {
   "cell_type": "code",
   "execution_count": 419,
   "metadata": {},
   "outputs": [
    {
     "name": "stdout",
     "output_type": "stream",
     "text": [
      "gearbox:  object\n",
      "gearbox:  ['manual' 'semi-automatic' '0' 'automatic' 'automatic-sequential']\n"
     ]
    },
    {
     "data": {
      "text/html": [
       "<div>\n",
       "<style scoped>\n",
       "    .dataframe tbody tr th:only-of-type {\n",
       "        vertical-align: middle;\n",
       "    }\n",
       "\n",
       "    .dataframe tbody tr th {\n",
       "        vertical-align: top;\n",
       "    }\n",
       "\n",
       "    .dataframe thead th {\n",
       "        text-align: right;\n",
       "    }\n",
       "</style>\n",
       "<table border=\"1\" class=\"dataframe\">\n",
       "  <thead>\n",
       "    <tr style=\"text-align: right;\">\n",
       "      <th></th>\n",
       "      <th>offer_id</th>\n",
       "      <th>s_date</th>\n",
       "      <th>e_date</th>\n",
       "      <th>private_business</th>\n",
       "      <th>region</th>\n",
       "      <th>city</th>\n",
       "      <th>model</th>\n",
       "      <th>year</th>\n",
       "      <th>mileage</th>\n",
       "      <th>engine_capacity</th>\n",
       "      <th>...</th>\n",
       "      <th>door_count</th>\n",
       "      <th>nr_seats</th>\n",
       "      <th>color</th>\n",
       "      <th>features</th>\n",
       "      <th>price</th>\n",
       "      <th>price_raw</th>\n",
       "      <th>currency</th>\n",
       "      <th>country_origin</th>\n",
       "      <th>registration</th>\n",
       "      <th>engine</th>\n",
       "    </tr>\n",
       "  </thead>\n",
       "  <tbody>\n",
       "    <tr>\n",
       "      <th>42</th>\n",
       "      <td>6060165978</td>\n",
       "      <td>2020-04-17</td>\n",
       "      <td>2020-05-26</td>\n",
       "      <td>1</td>\n",
       "      <td>podkarpackie</td>\n",
       "      <td>ropczyce</td>\n",
       "      <td>yaris</td>\n",
       "      <td>2008</td>\n",
       "      <td>195000</td>\n",
       "      <td>1298</td>\n",
       "      <td>...</td>\n",
       "      <td>5</td>\n",
       "      <td>5</td>\n",
       "      <td>blue</td>\n",
       "      <td>abs cd central-lock front-electric-windows ele...</td>\n",
       "      <td>18900</td>\n",
       "      <td>18900.0</td>\n",
       "      <td>0</td>\n",
       "      <td>i</td>\n",
       "      <td>0</td>\n",
       "      <td>R4_13_86KM</td>\n",
       "    </tr>\n",
       "    <tr>\n",
       "      <th>69</th>\n",
       "      <td>6065928866</td>\n",
       "      <td>2020-04-17</td>\n",
       "      <td>2020-05-25</td>\n",
       "      <td>0</td>\n",
       "      <td>wielkopolskie</td>\n",
       "      <td>kepno</td>\n",
       "      <td>yaris</td>\n",
       "      <td>2009</td>\n",
       "      <td>90000</td>\n",
       "      <td>1323</td>\n",
       "      <td>...</td>\n",
       "      <td>5</td>\n",
       "      <td>5</td>\n",
       "      <td>grey</td>\n",
       "      <td>abs cd central-lock front-electric-windows ele...</td>\n",
       "      <td>18888</td>\n",
       "      <td>18888.0</td>\n",
       "      <td>0</td>\n",
       "      <td>d</td>\n",
       "      <td>0</td>\n",
       "      <td>R4_133_101KM</td>\n",
       "    </tr>\n",
       "    <tr>\n",
       "      <th>285</th>\n",
       "      <td>6071670143</td>\n",
       "      <td>2020-04-17</td>\n",
       "      <td>2020-05-26</td>\n",
       "      <td>1</td>\n",
       "      <td>lubuskie</td>\n",
       "      <td>sulechow</td>\n",
       "      <td>yaris</td>\n",
       "      <td>2010</td>\n",
       "      <td>94000</td>\n",
       "      <td>998</td>\n",
       "      <td>...</td>\n",
       "      <td>0</td>\n",
       "      <td>0</td>\n",
       "      <td>grey</td>\n",
       "      <td>abs cd central-lock front-electric-windows ele...</td>\n",
       "      <td>18600</td>\n",
       "      <td>18600.0</td>\n",
       "      <td>0</td>\n",
       "      <td>0</td>\n",
       "      <td>0</td>\n",
       "      <td>R3_10_69KM</td>\n",
       "    </tr>\n",
       "    <tr>\n",
       "      <th>338</th>\n",
       "      <td>6072328903</td>\n",
       "      <td>2020-04-17</td>\n",
       "      <td>2020-05-12</td>\n",
       "      <td>1</td>\n",
       "      <td>podkarpackie</td>\n",
       "      <td>stalowa-wola</td>\n",
       "      <td>yaris</td>\n",
       "      <td>2006</td>\n",
       "      <td>86000</td>\n",
       "      <td>1300</td>\n",
       "      <td>...</td>\n",
       "      <td>5</td>\n",
       "      <td>5</td>\n",
       "      <td>grey</td>\n",
       "      <td>abs cd central-lock front-electric-windows ele...</td>\n",
       "      <td>16900</td>\n",
       "      <td>16900.0</td>\n",
       "      <td>0</td>\n",
       "      <td>0</td>\n",
       "      <td>0</td>\n",
       "      <td>R4_13_86KM</td>\n",
       "    </tr>\n",
       "  </tbody>\n",
       "</table>\n",
       "<p>4 rows × 25 columns</p>\n",
       "</div>"
      ],
      "text/plain": [
       "       offer_id     s_date     e_date  private_business         region  \\\n",
       "42   6060165978 2020-04-17 2020-05-26                 1   podkarpackie   \n",
       "69   6065928866 2020-04-17 2020-05-25                 0  wielkopolskie   \n",
       "285  6071670143 2020-04-17 2020-05-26                 1       lubuskie   \n",
       "338  6072328903 2020-04-17 2020-05-12                 1   podkarpackie   \n",
       "\n",
       "             city  model  year  mileage  engine_capacity  ... door_count  \\\n",
       "42       ropczyce  yaris  2008   195000             1298  ...          5   \n",
       "69          kepno  yaris  2009    90000             1323  ...          5   \n",
       "285      sulechow  yaris  2010    94000              998  ...          0   \n",
       "338  stalowa-wola  yaris  2006    86000             1300  ...          5   \n",
       "\n",
       "    nr_seats  color                                           features  price  \\\n",
       "42         5   blue  abs cd central-lock front-electric-windows ele...  18900   \n",
       "69         5   grey  abs cd central-lock front-electric-windows ele...  18888   \n",
       "285        0   grey  abs cd central-lock front-electric-windows ele...  18600   \n",
       "338        5   grey  abs cd central-lock front-electric-windows ele...  16900   \n",
       "\n",
       "     price_raw  currency country_origin registration        engine  \n",
       "42     18900.0         0              i            0    R4_13_86KM  \n",
       "69     18888.0         0              d            0  R4_133_101KM  \n",
       "285    18600.0         0              0            0    R3_10_69KM  \n",
       "338    16900.0         0              0            0    R4_13_86KM  \n",
       "\n",
       "[4 rows x 25 columns]"
      ]
     },
     "execution_count": 419,
     "metadata": {},
     "output_type": "execute_result"
    }
   ],
   "source": [
    "# gearbox\n",
    "\n",
    "print('gearbox: ', df['gearbox'].dtypes)\n",
    "print('gearbox: ', df['gearbox'].unique())\n",
    "df[(df.gearbox == 'semi-automatic') | (df.gearbox == 'automatic') | (df.gearbox == 'automatic-sequential')]  # 4 samochody z automatyczną skrzynią\n"
   ]
  },
  {
   "cell_type": "code",
   "execution_count": 420,
   "metadata": {},
   "outputs": [
    {
     "data": {
      "text/html": [
       "<div>\n",
       "<style scoped>\n",
       "    .dataframe tbody tr th:only-of-type {\n",
       "        vertical-align: middle;\n",
       "    }\n",
       "\n",
       "    .dataframe tbody tr th {\n",
       "        vertical-align: top;\n",
       "    }\n",
       "\n",
       "    .dataframe thead th {\n",
       "        text-align: right;\n",
       "    }\n",
       "</style>\n",
       "<table border=\"1\" class=\"dataframe\">\n",
       "  <thead>\n",
       "    <tr style=\"text-align: right;\">\n",
       "      <th></th>\n",
       "      <th>offer_id</th>\n",
       "      <th>s_date</th>\n",
       "      <th>e_date</th>\n",
       "      <th>private_business</th>\n",
       "      <th>region</th>\n",
       "      <th>city</th>\n",
       "      <th>model</th>\n",
       "      <th>year</th>\n",
       "      <th>mileage</th>\n",
       "      <th>engine_capacity</th>\n",
       "      <th>...</th>\n",
       "      <th>door_count</th>\n",
       "      <th>nr_seats</th>\n",
       "      <th>color</th>\n",
       "      <th>features</th>\n",
       "      <th>price</th>\n",
       "      <th>price_raw</th>\n",
       "      <th>currency</th>\n",
       "      <th>country_origin</th>\n",
       "      <th>registration</th>\n",
       "      <th>engine</th>\n",
       "    </tr>\n",
       "  </thead>\n",
       "  <tbody>\n",
       "    <tr>\n",
       "      <th>52</th>\n",
       "      <td>6064681017</td>\n",
       "      <td>2020-04-25</td>\n",
       "      <td>2020-05-24</td>\n",
       "      <td>0</td>\n",
       "      <td>warminsko-mazurskie</td>\n",
       "      <td>olsztyn</td>\n",
       "      <td>yaris</td>\n",
       "      <td>2009</td>\n",
       "      <td>162500</td>\n",
       "      <td>0</td>\n",
       "      <td>...</td>\n",
       "      <td>0</td>\n",
       "      <td>0</td>\n",
       "      <td>grey</td>\n",
       "      <td>abs cd central-lock front-electric-windows ele...</td>\n",
       "      <td>13900</td>\n",
       "      <td>13900.0</td>\n",
       "      <td>0</td>\n",
       "      <td>0</td>\n",
       "      <td>0</td>\n",
       "      <td>R3_10_69KM</td>\n",
       "    </tr>\n",
       "    <tr>\n",
       "      <th>98</th>\n",
       "      <td>6067916286</td>\n",
       "      <td>2020-04-17</td>\n",
       "      <td>2020-05-26</td>\n",
       "      <td>1</td>\n",
       "      <td>wielkopolskie</td>\n",
       "      <td>gniezno</td>\n",
       "      <td>yaris</td>\n",
       "      <td>2010</td>\n",
       "      <td>130500</td>\n",
       "      <td>1300</td>\n",
       "      <td>...</td>\n",
       "      <td>0</td>\n",
       "      <td>0</td>\n",
       "      <td>blue</td>\n",
       "      <td>abs cd central-lock front-electric-windows ele...</td>\n",
       "      <td>16500</td>\n",
       "      <td>16500.0</td>\n",
       "      <td>0</td>\n",
       "      <td>0</td>\n",
       "      <td>0</td>\n",
       "      <td>R4_133_101KM</td>\n",
       "    </tr>\n",
       "    <tr>\n",
       "      <th>191</th>\n",
       "      <td>6069930254</td>\n",
       "      <td>2020-05-26</td>\n",
       "      <td>2020-05-26</td>\n",
       "      <td>0</td>\n",
       "      <td>slaskie</td>\n",
       "      <td>zawiercie</td>\n",
       "      <td>yaris</td>\n",
       "      <td>2006</td>\n",
       "      <td>340000</td>\n",
       "      <td>0</td>\n",
       "      <td>...</td>\n",
       "      <td>0</td>\n",
       "      <td>0</td>\n",
       "      <td>silver</td>\n",
       "      <td>abs cd central-lock front-electric-windows ele...</td>\n",
       "      <td>8500</td>\n",
       "      <td>8500.0</td>\n",
       "      <td>0</td>\n",
       "      <td>0</td>\n",
       "      <td>0</td>\n",
       "      <td>R4_14_D4D</td>\n",
       "    </tr>\n",
       "    <tr>\n",
       "      <th>203</th>\n",
       "      <td>6070077979</td>\n",
       "      <td>2020-04-17</td>\n",
       "      <td>2020-05-26</td>\n",
       "      <td>0</td>\n",
       "      <td>dolnoslaskie</td>\n",
       "      <td>sroda-slaska</td>\n",
       "      <td>yaris</td>\n",
       "      <td>2006</td>\n",
       "      <td>138000</td>\n",
       "      <td>0</td>\n",
       "      <td>...</td>\n",
       "      <td>0</td>\n",
       "      <td>0</td>\n",
       "      <td>blue</td>\n",
       "      <td>abs cd electronic-immobiliser front-airbags or...</td>\n",
       "      <td>12900</td>\n",
       "      <td>12900.0</td>\n",
       "      <td>0</td>\n",
       "      <td>0</td>\n",
       "      <td>0</td>\n",
       "      <td>R3_10_69KM</td>\n",
       "    </tr>\n",
       "    <tr>\n",
       "      <th>241</th>\n",
       "      <td>6070885427</td>\n",
       "      <td>2020-04-17</td>\n",
       "      <td>2020-05-26</td>\n",
       "      <td>1</td>\n",
       "      <td>podlaskie</td>\n",
       "      <td>zambrow</td>\n",
       "      <td>yaris</td>\n",
       "      <td>2010</td>\n",
       "      <td>147893</td>\n",
       "      <td>0</td>\n",
       "      <td>...</td>\n",
       "      <td>5</td>\n",
       "      <td>0</td>\n",
       "      <td>black</td>\n",
       "      <td>abs cd central-lock front-electric-windows ele...</td>\n",
       "      <td>15500</td>\n",
       "      <td>15500.0</td>\n",
       "      <td>0</td>\n",
       "      <td>0</td>\n",
       "      <td>0</td>\n",
       "      <td>R3_10_69KM</td>\n",
       "    </tr>\n",
       "    <tr>\n",
       "      <th>242</th>\n",
       "      <td>6070891090</td>\n",
       "      <td>2020-04-17</td>\n",
       "      <td>2020-05-26</td>\n",
       "      <td>1</td>\n",
       "      <td>slaskie</td>\n",
       "      <td>chorzow</td>\n",
       "      <td>yaris</td>\n",
       "      <td>2009</td>\n",
       "      <td>170000</td>\n",
       "      <td>1300</td>\n",
       "      <td>...</td>\n",
       "      <td>5</td>\n",
       "      <td>5</td>\n",
       "      <td>grey</td>\n",
       "      <td>abs cd central-lock front-electric-windows ele...</td>\n",
       "      <td>14800</td>\n",
       "      <td>14800.0</td>\n",
       "      <td>0</td>\n",
       "      <td>0</td>\n",
       "      <td>0</td>\n",
       "      <td>R4_14_D4D</td>\n",
       "    </tr>\n",
       "    <tr>\n",
       "      <th>250</th>\n",
       "      <td>6070974665</td>\n",
       "      <td>2020-04-25</td>\n",
       "      <td>2020-05-26</td>\n",
       "      <td>0</td>\n",
       "      <td>mazowieckie</td>\n",
       "      <td>warszawa</td>\n",
       "      <td>yaris</td>\n",
       "      <td>2008</td>\n",
       "      <td>129000</td>\n",
       "      <td>0</td>\n",
       "      <td>...</td>\n",
       "      <td>5</td>\n",
       "      <td>5</td>\n",
       "      <td>silver</td>\n",
       "      <td>0</td>\n",
       "      <td>15900</td>\n",
       "      <td>15900.0</td>\n",
       "      <td>0</td>\n",
       "      <td>0</td>\n",
       "      <td>0</td>\n",
       "      <td>R3_10_69KM</td>\n",
       "    </tr>\n",
       "    <tr>\n",
       "      <th>258</th>\n",
       "      <td>6071202971</td>\n",
       "      <td>2020-04-17</td>\n",
       "      <td>2020-05-13</td>\n",
       "      <td>0</td>\n",
       "      <td>dolnoslaskie</td>\n",
       "      <td>legnica</td>\n",
       "      <td>yaris</td>\n",
       "      <td>2008</td>\n",
       "      <td>147245</td>\n",
       "      <td>0</td>\n",
       "      <td>...</td>\n",
       "      <td>5</td>\n",
       "      <td>5</td>\n",
       "      <td>grey</td>\n",
       "      <td>0</td>\n",
       "      <td>13900</td>\n",
       "      <td>13900.0</td>\n",
       "      <td>0</td>\n",
       "      <td>0</td>\n",
       "      <td>0</td>\n",
       "      <td>R3_10_69KM</td>\n",
       "    </tr>\n",
       "    <tr>\n",
       "      <th>289</th>\n",
       "      <td>6071690808</td>\n",
       "      <td>2020-04-17</td>\n",
       "      <td>2020-05-08</td>\n",
       "      <td>0</td>\n",
       "      <td>lodzkie</td>\n",
       "      <td>lodz</td>\n",
       "      <td>yaris</td>\n",
       "      <td>2009</td>\n",
       "      <td>181000</td>\n",
       "      <td>0</td>\n",
       "      <td>...</td>\n",
       "      <td>0</td>\n",
       "      <td>0</td>\n",
       "      <td>grey</td>\n",
       "      <td>0</td>\n",
       "      <td>14500</td>\n",
       "      <td>14500.0</td>\n",
       "      <td>0</td>\n",
       "      <td>0</td>\n",
       "      <td>0</td>\n",
       "      <td>R4_14_D4D</td>\n",
       "    </tr>\n",
       "    <tr>\n",
       "      <th>290</th>\n",
       "      <td>6071735591</td>\n",
       "      <td>2020-04-17</td>\n",
       "      <td>2020-05-08</td>\n",
       "      <td>0</td>\n",
       "      <td>mazowieckie</td>\n",
       "      <td>warszawa</td>\n",
       "      <td>yaris</td>\n",
       "      <td>2005</td>\n",
       "      <td>242605</td>\n",
       "      <td>0</td>\n",
       "      <td>...</td>\n",
       "      <td>0</td>\n",
       "      <td>0</td>\n",
       "      <td>white</td>\n",
       "      <td>0</td>\n",
       "      <td>5500</td>\n",
       "      <td>5500.0</td>\n",
       "      <td>0</td>\n",
       "      <td>0</td>\n",
       "      <td>0</td>\n",
       "      <td>R3_10_69KM</td>\n",
       "    </tr>\n",
       "    <tr>\n",
       "      <th>308</th>\n",
       "      <td>6071919119</td>\n",
       "      <td>2020-04-17</td>\n",
       "      <td>2020-05-15</td>\n",
       "      <td>0</td>\n",
       "      <td>dolnoslaskie</td>\n",
       "      <td>trzebnica</td>\n",
       "      <td>yaris</td>\n",
       "      <td>2007</td>\n",
       "      <td>19200</td>\n",
       "      <td>0</td>\n",
       "      <td>...</td>\n",
       "      <td>0</td>\n",
       "      <td>0</td>\n",
       "      <td>black</td>\n",
       "      <td>0</td>\n",
       "      <td>17500</td>\n",
       "      <td>17500.0</td>\n",
       "      <td>0</td>\n",
       "      <td>0</td>\n",
       "      <td>0</td>\n",
       "      <td>R3_10_69KM</td>\n",
       "    </tr>\n",
       "    <tr>\n",
       "      <th>309</th>\n",
       "      <td>6071938381</td>\n",
       "      <td>2020-04-17</td>\n",
       "      <td>2020-05-15</td>\n",
       "      <td>0</td>\n",
       "      <td>mazowieckie</td>\n",
       "      <td>nowy-dwor-mazowiecki</td>\n",
       "      <td>yaris</td>\n",
       "      <td>2009</td>\n",
       "      <td>171000</td>\n",
       "      <td>0</td>\n",
       "      <td>...</td>\n",
       "      <td>0</td>\n",
       "      <td>0</td>\n",
       "      <td>black</td>\n",
       "      <td>0</td>\n",
       "      <td>15500</td>\n",
       "      <td>15500.0</td>\n",
       "      <td>0</td>\n",
       "      <td>0</td>\n",
       "      <td>0</td>\n",
       "      <td>R3_10_69KM</td>\n",
       "    </tr>\n",
       "    <tr>\n",
       "      <th>333</th>\n",
       "      <td>6072277031</td>\n",
       "      <td>2020-05-26</td>\n",
       "      <td>2020-05-26</td>\n",
       "      <td>0</td>\n",
       "      <td>mazowieckie</td>\n",
       "      <td>warszawa</td>\n",
       "      <td>yaris</td>\n",
       "      <td>2006</td>\n",
       "      <td>185000</td>\n",
       "      <td>0</td>\n",
       "      <td>...</td>\n",
       "      <td>0</td>\n",
       "      <td>0</td>\n",
       "      <td>red</td>\n",
       "      <td>0</td>\n",
       "      <td>9990</td>\n",
       "      <td>9990.0</td>\n",
       "      <td>0</td>\n",
       "      <td>0</td>\n",
       "      <td>0</td>\n",
       "      <td>R3_10_69KM</td>\n",
       "    </tr>\n",
       "    <tr>\n",
       "      <th>354</th>\n",
       "      <td>6072819314</td>\n",
       "      <td>2020-04-17</td>\n",
       "      <td>2020-05-25</td>\n",
       "      <td>0</td>\n",
       "      <td>malopolskie</td>\n",
       "      <td>krakow</td>\n",
       "      <td>yaris</td>\n",
       "      <td>2010</td>\n",
       "      <td>175000</td>\n",
       "      <td>1329</td>\n",
       "      <td>...</td>\n",
       "      <td>0</td>\n",
       "      <td>0</td>\n",
       "      <td>grey</td>\n",
       "      <td>0</td>\n",
       "      <td>17500</td>\n",
       "      <td>16800.0</td>\n",
       "      <td>0</td>\n",
       "      <td>0</td>\n",
       "      <td>0</td>\n",
       "      <td>R4_133_101KM</td>\n",
       "    </tr>\n",
       "    <tr>\n",
       "      <th>355</th>\n",
       "      <td>6072819314</td>\n",
       "      <td>2020-04-17</td>\n",
       "      <td>2020-05-25</td>\n",
       "      <td>0</td>\n",
       "      <td>malopolskie</td>\n",
       "      <td>krakow</td>\n",
       "      <td>yaris</td>\n",
       "      <td>2010</td>\n",
       "      <td>175000</td>\n",
       "      <td>1329</td>\n",
       "      <td>...</td>\n",
       "      <td>0</td>\n",
       "      <td>0</td>\n",
       "      <td>grey</td>\n",
       "      <td>0</td>\n",
       "      <td>17500</td>\n",
       "      <td>17500.0</td>\n",
       "      <td>0</td>\n",
       "      <td>0</td>\n",
       "      <td>0</td>\n",
       "      <td>R4_133_101KM</td>\n",
       "    </tr>\n",
       "    <tr>\n",
       "      <th>356</th>\n",
       "      <td>6072819314</td>\n",
       "      <td>2020-04-17</td>\n",
       "      <td>2020-05-25</td>\n",
       "      <td>0</td>\n",
       "      <td>malopolskie</td>\n",
       "      <td>krakow</td>\n",
       "      <td>yaris</td>\n",
       "      <td>2010</td>\n",
       "      <td>175000</td>\n",
       "      <td>1329</td>\n",
       "      <td>...</td>\n",
       "      <td>0</td>\n",
       "      <td>0</td>\n",
       "      <td>grey</td>\n",
       "      <td>0</td>\n",
       "      <td>17500</td>\n",
       "      <td>17800.0</td>\n",
       "      <td>0</td>\n",
       "      <td>0</td>\n",
       "      <td>0</td>\n",
       "      <td>R4_133_101KM</td>\n",
       "    </tr>\n",
       "    <tr>\n",
       "      <th>380</th>\n",
       "      <td>6073587687</td>\n",
       "      <td>2020-04-17</td>\n",
       "      <td>2020-05-26</td>\n",
       "      <td>1</td>\n",
       "      <td>lubuskie</td>\n",
       "      <td>zielonagora</td>\n",
       "      <td>yaris</td>\n",
       "      <td>2006</td>\n",
       "      <td>200000</td>\n",
       "      <td>0</td>\n",
       "      <td>...</td>\n",
       "      <td>3</td>\n",
       "      <td>5</td>\n",
       "      <td>silver</td>\n",
       "      <td>0</td>\n",
       "      <td>7400</td>\n",
       "      <td>7400.0</td>\n",
       "      <td>0</td>\n",
       "      <td>0</td>\n",
       "      <td>0</td>\n",
       "      <td>R3_10_69KM</td>\n",
       "    </tr>\n",
       "    <tr>\n",
       "      <th>381</th>\n",
       "      <td>6073587687</td>\n",
       "      <td>2020-04-17</td>\n",
       "      <td>2020-05-26</td>\n",
       "      <td>1</td>\n",
       "      <td>lubuskie</td>\n",
       "      <td>zielonagora</td>\n",
       "      <td>yaris</td>\n",
       "      <td>2006</td>\n",
       "      <td>200000</td>\n",
       "      <td>0</td>\n",
       "      <td>...</td>\n",
       "      <td>3</td>\n",
       "      <td>5</td>\n",
       "      <td>silver</td>\n",
       "      <td>0</td>\n",
       "      <td>7400</td>\n",
       "      <td>7500.0</td>\n",
       "      <td>0</td>\n",
       "      <td>0</td>\n",
       "      <td>0</td>\n",
       "      <td>R3_10_69KM</td>\n",
       "    </tr>\n",
       "    <tr>\n",
       "      <th>382</th>\n",
       "      <td>6073587687</td>\n",
       "      <td>2020-04-17</td>\n",
       "      <td>2020-05-26</td>\n",
       "      <td>1</td>\n",
       "      <td>lubuskie</td>\n",
       "      <td>zielonagora</td>\n",
       "      <td>yaris</td>\n",
       "      <td>2006</td>\n",
       "      <td>200000</td>\n",
       "      <td>0</td>\n",
       "      <td>...</td>\n",
       "      <td>3</td>\n",
       "      <td>5</td>\n",
       "      <td>silver</td>\n",
       "      <td>0</td>\n",
       "      <td>7400</td>\n",
       "      <td>7700.0</td>\n",
       "      <td>0</td>\n",
       "      <td>0</td>\n",
       "      <td>0</td>\n",
       "      <td>R3_10_69KM</td>\n",
       "    </tr>\n",
       "    <tr>\n",
       "      <th>383</th>\n",
       "      <td>6073587687</td>\n",
       "      <td>2020-04-17</td>\n",
       "      <td>2020-05-26</td>\n",
       "      <td>1</td>\n",
       "      <td>lubuskie</td>\n",
       "      <td>zielonagora</td>\n",
       "      <td>yaris</td>\n",
       "      <td>2006</td>\n",
       "      <td>200000</td>\n",
       "      <td>0</td>\n",
       "      <td>...</td>\n",
       "      <td>3</td>\n",
       "      <td>5</td>\n",
       "      <td>silver</td>\n",
       "      <td>0</td>\n",
       "      <td>7400</td>\n",
       "      <td>7900.0</td>\n",
       "      <td>0</td>\n",
       "      <td>0</td>\n",
       "      <td>0</td>\n",
       "      <td>R3_10_69KM</td>\n",
       "    </tr>\n",
       "    <tr>\n",
       "      <th>384</th>\n",
       "      <td>6073587687</td>\n",
       "      <td>2020-04-17</td>\n",
       "      <td>2020-05-26</td>\n",
       "      <td>1</td>\n",
       "      <td>lubuskie</td>\n",
       "      <td>zielonagora</td>\n",
       "      <td>yaris</td>\n",
       "      <td>2006</td>\n",
       "      <td>200000</td>\n",
       "      <td>0</td>\n",
       "      <td>...</td>\n",
       "      <td>3</td>\n",
       "      <td>5</td>\n",
       "      <td>silver</td>\n",
       "      <td>0</td>\n",
       "      <td>7400</td>\n",
       "      <td>8200.0</td>\n",
       "      <td>0</td>\n",
       "      <td>0</td>\n",
       "      <td>0</td>\n",
       "      <td>R3_10_69KM</td>\n",
       "    </tr>\n",
       "    <tr>\n",
       "      <th>385</th>\n",
       "      <td>6073587687</td>\n",
       "      <td>2020-04-17</td>\n",
       "      <td>2020-05-26</td>\n",
       "      <td>1</td>\n",
       "      <td>lubuskie</td>\n",
       "      <td>zielonagora</td>\n",
       "      <td>yaris</td>\n",
       "      <td>2006</td>\n",
       "      <td>200000</td>\n",
       "      <td>0</td>\n",
       "      <td>...</td>\n",
       "      <td>3</td>\n",
       "      <td>5</td>\n",
       "      <td>silver</td>\n",
       "      <td>0</td>\n",
       "      <td>7400</td>\n",
       "      <td>8300.0</td>\n",
       "      <td>0</td>\n",
       "      <td>0</td>\n",
       "      <td>0</td>\n",
       "      <td>R3_10_69KM</td>\n",
       "    </tr>\n",
       "    <tr>\n",
       "      <th>386</th>\n",
       "      <td>6073587687</td>\n",
       "      <td>2020-04-17</td>\n",
       "      <td>2020-05-26</td>\n",
       "      <td>1</td>\n",
       "      <td>lubuskie</td>\n",
       "      <td>zielonagora</td>\n",
       "      <td>yaris</td>\n",
       "      <td>2006</td>\n",
       "      <td>200000</td>\n",
       "      <td>0</td>\n",
       "      <td>...</td>\n",
       "      <td>3</td>\n",
       "      <td>5</td>\n",
       "      <td>silver</td>\n",
       "      <td>0</td>\n",
       "      <td>7400</td>\n",
       "      <td>8500.0</td>\n",
       "      <td>0</td>\n",
       "      <td>0</td>\n",
       "      <td>0</td>\n",
       "      <td>R3_10_69KM</td>\n",
       "    </tr>\n",
       "    <tr>\n",
       "      <th>387</th>\n",
       "      <td>6073587687</td>\n",
       "      <td>2020-04-17</td>\n",
       "      <td>2020-05-26</td>\n",
       "      <td>1</td>\n",
       "      <td>lubuskie</td>\n",
       "      <td>zielonagora</td>\n",
       "      <td>yaris</td>\n",
       "      <td>2006</td>\n",
       "      <td>200000</td>\n",
       "      <td>0</td>\n",
       "      <td>...</td>\n",
       "      <td>3</td>\n",
       "      <td>5</td>\n",
       "      <td>silver</td>\n",
       "      <td>0</td>\n",
       "      <td>7400</td>\n",
       "      <td>8900.0</td>\n",
       "      <td>0</td>\n",
       "      <td>0</td>\n",
       "      <td>0</td>\n",
       "      <td>R3_10_69KM</td>\n",
       "    </tr>\n",
       "    <tr>\n",
       "      <th>390</th>\n",
       "      <td>6073666424</td>\n",
       "      <td>2020-04-21</td>\n",
       "      <td>2020-05-26</td>\n",
       "      <td>0</td>\n",
       "      <td>slaskie</td>\n",
       "      <td>zywiec</td>\n",
       "      <td>yaris</td>\n",
       "      <td>2010</td>\n",
       "      <td>166000</td>\n",
       "      <td>0</td>\n",
       "      <td>...</td>\n",
       "      <td>3</td>\n",
       "      <td>5</td>\n",
       "      <td>white</td>\n",
       "      <td>abs cd central-lock front-electric-windows fro...</td>\n",
       "      <td>12900</td>\n",
       "      <td>12900.0</td>\n",
       "      <td>0</td>\n",
       "      <td>0</td>\n",
       "      <td>0</td>\n",
       "      <td>R3_10_69KM</td>\n",
       "    </tr>\n",
       "    <tr>\n",
       "      <th>404</th>\n",
       "      <td>6074315995</td>\n",
       "      <td>2020-05-07</td>\n",
       "      <td>2020-05-08</td>\n",
       "      <td>0</td>\n",
       "      <td>wielkopolskie</td>\n",
       "      <td>poznan</td>\n",
       "      <td>yaris</td>\n",
       "      <td>2008</td>\n",
       "      <td>200000</td>\n",
       "      <td>0</td>\n",
       "      <td>...</td>\n",
       "      <td>0</td>\n",
       "      <td>0</td>\n",
       "      <td>grey</td>\n",
       "      <td>0</td>\n",
       "      <td>8000</td>\n",
       "      <td>8000.0</td>\n",
       "      <td>0</td>\n",
       "      <td>0</td>\n",
       "      <td>0</td>\n",
       "      <td>R3_10_69KM</td>\n",
       "    </tr>\n",
       "    <tr>\n",
       "      <th>409</th>\n",
       "      <td>6074397782</td>\n",
       "      <td>2020-05-10</td>\n",
       "      <td>2020-05-26</td>\n",
       "      <td>0</td>\n",
       "      <td>pomorskie</td>\n",
       "      <td>gdansk</td>\n",
       "      <td>yaris</td>\n",
       "      <td>2008</td>\n",
       "      <td>131000</td>\n",
       "      <td>0</td>\n",
       "      <td>...</td>\n",
       "      <td>0</td>\n",
       "      <td>0</td>\n",
       "      <td>silver</td>\n",
       "      <td>cd central-lock front-airbags front-passenger-...</td>\n",
       "      <td>15100</td>\n",
       "      <td>15100.0</td>\n",
       "      <td>0</td>\n",
       "      <td>0</td>\n",
       "      <td>0</td>\n",
       "      <td>R3_10_69KM</td>\n",
       "    </tr>\n",
       "    <tr>\n",
       "      <th>421</th>\n",
       "      <td>6074808481</td>\n",
       "      <td>2020-05-24</td>\n",
       "      <td>2020-05-26</td>\n",
       "      <td>0</td>\n",
       "      <td>swietokrzyskie</td>\n",
       "      <td>sandomierz</td>\n",
       "      <td>yaris</td>\n",
       "      <td>2007</td>\n",
       "      <td>100400</td>\n",
       "      <td>1000</td>\n",
       "      <td>...</td>\n",
       "      <td>5</td>\n",
       "      <td>0</td>\n",
       "      <td>silver</td>\n",
       "      <td>0</td>\n",
       "      <td>12900</td>\n",
       "      <td>12900.0</td>\n",
       "      <td>0</td>\n",
       "      <td>0</td>\n",
       "      <td>0</td>\n",
       "      <td>R3_10_69KM</td>\n",
       "    </tr>\n",
       "    <tr>\n",
       "      <th>422</th>\n",
       "      <td>6074808481</td>\n",
       "      <td>2020-05-24</td>\n",
       "      <td>2020-05-26</td>\n",
       "      <td>0</td>\n",
       "      <td>swietokrzyskie</td>\n",
       "      <td>sandomierz</td>\n",
       "      <td>yaris</td>\n",
       "      <td>2007</td>\n",
       "      <td>100400</td>\n",
       "      <td>1000</td>\n",
       "      <td>...</td>\n",
       "      <td>5</td>\n",
       "      <td>0</td>\n",
       "      <td>silver</td>\n",
       "      <td>0</td>\n",
       "      <td>12900</td>\n",
       "      <td>14000.0</td>\n",
       "      <td>0</td>\n",
       "      <td>0</td>\n",
       "      <td>0</td>\n",
       "      <td>R3_10_69KM</td>\n",
       "    </tr>\n",
       "  </tbody>\n",
       "</table>\n",
       "<p>29 rows × 25 columns</p>\n",
       "</div>"
      ],
      "text/plain": [
       "       offer_id     s_date     e_date  private_business               region  \\\n",
       "52   6064681017 2020-04-25 2020-05-24                 0  warminsko-mazurskie   \n",
       "98   6067916286 2020-04-17 2020-05-26                 1        wielkopolskie   \n",
       "191  6069930254 2020-05-26 2020-05-26                 0              slaskie   \n",
       "203  6070077979 2020-04-17 2020-05-26                 0         dolnoslaskie   \n",
       "241  6070885427 2020-04-17 2020-05-26                 1            podlaskie   \n",
       "242  6070891090 2020-04-17 2020-05-26                 1              slaskie   \n",
       "250  6070974665 2020-04-25 2020-05-26                 0          mazowieckie   \n",
       "258  6071202971 2020-04-17 2020-05-13                 0         dolnoslaskie   \n",
       "289  6071690808 2020-04-17 2020-05-08                 0              lodzkie   \n",
       "290  6071735591 2020-04-17 2020-05-08                 0          mazowieckie   \n",
       "308  6071919119 2020-04-17 2020-05-15                 0         dolnoslaskie   \n",
       "309  6071938381 2020-04-17 2020-05-15                 0          mazowieckie   \n",
       "333  6072277031 2020-05-26 2020-05-26                 0          mazowieckie   \n",
       "354  6072819314 2020-04-17 2020-05-25                 0          malopolskie   \n",
       "355  6072819314 2020-04-17 2020-05-25                 0          malopolskie   \n",
       "356  6072819314 2020-04-17 2020-05-25                 0          malopolskie   \n",
       "380  6073587687 2020-04-17 2020-05-26                 1             lubuskie   \n",
       "381  6073587687 2020-04-17 2020-05-26                 1             lubuskie   \n",
       "382  6073587687 2020-04-17 2020-05-26                 1             lubuskie   \n",
       "383  6073587687 2020-04-17 2020-05-26                 1             lubuskie   \n",
       "384  6073587687 2020-04-17 2020-05-26                 1             lubuskie   \n",
       "385  6073587687 2020-04-17 2020-05-26                 1             lubuskie   \n",
       "386  6073587687 2020-04-17 2020-05-26                 1             lubuskie   \n",
       "387  6073587687 2020-04-17 2020-05-26                 1             lubuskie   \n",
       "390  6073666424 2020-04-21 2020-05-26                 0              slaskie   \n",
       "404  6074315995 2020-05-07 2020-05-08                 0        wielkopolskie   \n",
       "409  6074397782 2020-05-10 2020-05-26                 0            pomorskie   \n",
       "421  6074808481 2020-05-24 2020-05-26                 0       swietokrzyskie   \n",
       "422  6074808481 2020-05-24 2020-05-26                 0       swietokrzyskie   \n",
       "\n",
       "                     city  model  year  mileage  engine_capacity  ...  \\\n",
       "52                olsztyn  yaris  2009   162500                0  ...   \n",
       "98                gniezno  yaris  2010   130500             1300  ...   \n",
       "191             zawiercie  yaris  2006   340000                0  ...   \n",
       "203          sroda-slaska  yaris  2006   138000                0  ...   \n",
       "241               zambrow  yaris  2010   147893                0  ...   \n",
       "242               chorzow  yaris  2009   170000             1300  ...   \n",
       "250              warszawa  yaris  2008   129000                0  ...   \n",
       "258               legnica  yaris  2008   147245                0  ...   \n",
       "289                  lodz  yaris  2009   181000                0  ...   \n",
       "290              warszawa  yaris  2005   242605                0  ...   \n",
       "308             trzebnica  yaris  2007    19200                0  ...   \n",
       "309  nowy-dwor-mazowiecki  yaris  2009   171000                0  ...   \n",
       "333              warszawa  yaris  2006   185000                0  ...   \n",
       "354                krakow  yaris  2010   175000             1329  ...   \n",
       "355                krakow  yaris  2010   175000             1329  ...   \n",
       "356                krakow  yaris  2010   175000             1329  ...   \n",
       "380           zielonagora  yaris  2006   200000                0  ...   \n",
       "381           zielonagora  yaris  2006   200000                0  ...   \n",
       "382           zielonagora  yaris  2006   200000                0  ...   \n",
       "383           zielonagora  yaris  2006   200000                0  ...   \n",
       "384           zielonagora  yaris  2006   200000                0  ...   \n",
       "385           zielonagora  yaris  2006   200000                0  ...   \n",
       "386           zielonagora  yaris  2006   200000                0  ...   \n",
       "387           zielonagora  yaris  2006   200000                0  ...   \n",
       "390                zywiec  yaris  2010   166000                0  ...   \n",
       "404                poznan  yaris  2008   200000                0  ...   \n",
       "409                gdansk  yaris  2008   131000                0  ...   \n",
       "421            sandomierz  yaris  2007   100400             1000  ...   \n",
       "422            sandomierz  yaris  2007   100400             1000  ...   \n",
       "\n",
       "    door_count nr_seats   color  \\\n",
       "52           0        0    grey   \n",
       "98           0        0    blue   \n",
       "191          0        0  silver   \n",
       "203          0        0    blue   \n",
       "241          5        0   black   \n",
       "242          5        5    grey   \n",
       "250          5        5  silver   \n",
       "258          5        5    grey   \n",
       "289          0        0    grey   \n",
       "290          0        0   white   \n",
       "308          0        0   black   \n",
       "309          0        0   black   \n",
       "333          0        0     red   \n",
       "354          0        0    grey   \n",
       "355          0        0    grey   \n",
       "356          0        0    grey   \n",
       "380          3        5  silver   \n",
       "381          3        5  silver   \n",
       "382          3        5  silver   \n",
       "383          3        5  silver   \n",
       "384          3        5  silver   \n",
       "385          3        5  silver   \n",
       "386          3        5  silver   \n",
       "387          3        5  silver   \n",
       "390          3        5   white   \n",
       "404          0        0    grey   \n",
       "409          0        0  silver   \n",
       "421          5        0  silver   \n",
       "422          5        0  silver   \n",
       "\n",
       "                                              features  price  price_raw  \\\n",
       "52   abs cd central-lock front-electric-windows ele...  13900    13900.0   \n",
       "98   abs cd central-lock front-electric-windows ele...  16500    16500.0   \n",
       "191  abs cd central-lock front-electric-windows ele...   8500     8500.0   \n",
       "203  abs cd electronic-immobiliser front-airbags or...  12900    12900.0   \n",
       "241  abs cd central-lock front-electric-windows ele...  15500    15500.0   \n",
       "242  abs cd central-lock front-electric-windows ele...  14800    14800.0   \n",
       "250                                                  0  15900    15900.0   \n",
       "258                                                  0  13900    13900.0   \n",
       "289                                                  0  14500    14500.0   \n",
       "290                                                  0   5500     5500.0   \n",
       "308                                                  0  17500    17500.0   \n",
       "309                                                  0  15500    15500.0   \n",
       "333                                                  0   9990     9990.0   \n",
       "354                                                  0  17500    16800.0   \n",
       "355                                                  0  17500    17500.0   \n",
       "356                                                  0  17500    17800.0   \n",
       "380                                                  0   7400     7400.0   \n",
       "381                                                  0   7400     7500.0   \n",
       "382                                                  0   7400     7700.0   \n",
       "383                                                  0   7400     7900.0   \n",
       "384                                                  0   7400     8200.0   \n",
       "385                                                  0   7400     8300.0   \n",
       "386                                                  0   7400     8500.0   \n",
       "387                                                  0   7400     8900.0   \n",
       "390  abs cd central-lock front-electric-windows fro...  12900    12900.0   \n",
       "404                                                  0   8000     8000.0   \n",
       "409  cd central-lock front-airbags front-passenger-...  15100    15100.0   \n",
       "421                                                  0  12900    12900.0   \n",
       "422                                                  0  12900    14000.0   \n",
       "\n",
       "     currency country_origin registration        engine  \n",
       "52          0              0            0    R3_10_69KM  \n",
       "98          0              0            0  R4_133_101KM  \n",
       "191         0              0            0     R4_14_D4D  \n",
       "203         0              0            0    R3_10_69KM  \n",
       "241         0              0            0    R3_10_69KM  \n",
       "242         0              0            0     R4_14_D4D  \n",
       "250         0              0            0    R3_10_69KM  \n",
       "258         0              0            0    R3_10_69KM  \n",
       "289         0              0            0     R4_14_D4D  \n",
       "290         0              0            0    R3_10_69KM  \n",
       "308         0              0            0    R3_10_69KM  \n",
       "309         0              0            0    R3_10_69KM  \n",
       "333         0              0            0    R3_10_69KM  \n",
       "354         0              0            0  R4_133_101KM  \n",
       "355         0              0            0  R4_133_101KM  \n",
       "356         0              0            0  R4_133_101KM  \n",
       "380         0              0            0    R3_10_69KM  \n",
       "381         0              0            0    R3_10_69KM  \n",
       "382         0              0            0    R3_10_69KM  \n",
       "383         0              0            0    R3_10_69KM  \n",
       "384         0              0            0    R3_10_69KM  \n",
       "385         0              0            0    R3_10_69KM  \n",
       "386         0              0            0    R3_10_69KM  \n",
       "387         0              0            0    R3_10_69KM  \n",
       "390         0              0            0    R3_10_69KM  \n",
       "404         0              0            0    R3_10_69KM  \n",
       "409         0              0            0    R3_10_69KM  \n",
       "421         0              0            0    R3_10_69KM  \n",
       "422         0              0            0    R3_10_69KM  \n",
       "\n",
       "[29 rows x 25 columns]"
      ]
     },
     "execution_count": 420,
     "metadata": {},
     "output_type": "execute_result"
    }
   ],
   "source": [
    "df[(df.gearbox == '0')]"
   ]
  },
  {
   "cell_type": "code",
   "execution_count": 421,
   "metadata": {},
   "outputs": [
    {
     "name": "stdout",
     "output_type": "stream",
     "text": [
      "transmission:  object\n",
      "transmission:  ['front-wheel' '0' 'rear-wheel']\n"
     ]
    },
    {
     "data": {
      "image/png": "[encoded data removed]",
      "text/plain": [
       "<Figure size 432x288 with 1 Axes>"
      ]
     },
     "metadata": {
      "needs_background": "light"
     },
     "output_type": "display_data"
    }
   ],
   "source": [
    "# transmission\n",
    "# Yaris II występował wyłącznie z napędem na przód\n",
    "\n",
    "print('transmission: ', df['transmission'].dtypes)\n",
    "print('transmission: ', df['transmission'].unique())\n",
    "\n",
    "df['transmission'].value_counts().plot(kind='bar');"
   ]
  },
  {
   "cell_type": "code",
   "execution_count": 422,
   "metadata": {},
   "outputs": [
    {
     "name": "stdout",
     "output_type": "stream",
     "text": [
      "door_count:  int64\n",
      "door_count:  [5 3 0 4 2]\n"
     ]
    },
    {
     "data": {
      "image/png": "[encoded data removed]",
      "text/plain": [
       "<Figure size 432x288 with 1 Axes>"
      ]
     },
     "metadata": {
      "needs_background": "light"
     },
     "output_type": "display_data"
    }
   ],
   "source": [
    "# door_count\n",
    "print('door_count: ', df['door_count'].dtypes)\n",
    "print('door_count: ', df['door_count'].unique())\n",
    "\n",
    "df['door_count'].value_counts().plot(kind='bar');"
   ]
  },
  {
   "cell_type": "code",
   "execution_count": 423,
   "metadata": {},
   "outputs": [
    {
     "data": {
      "text/html": [
       "<div>\n",
       "<style scoped>\n",
       "    .dataframe tbody tr th:only-of-type {\n",
       "        vertical-align: middle;\n",
       "    }\n",
       "\n",
       "    .dataframe tbody tr th {\n",
       "        vertical-align: top;\n",
       "    }\n",
       "\n",
       "    .dataframe thead th {\n",
       "        text-align: right;\n",
       "    }\n",
       "</style>\n",
       "<table border=\"1\" class=\"dataframe\">\n",
       "  <thead>\n",
       "    <tr style=\"text-align: right;\">\n",
       "      <th></th>\n",
       "      <th>offer_id</th>\n",
       "      <th>s_date</th>\n",
       "      <th>e_date</th>\n",
       "      <th>private_business</th>\n",
       "      <th>region</th>\n",
       "      <th>city</th>\n",
       "      <th>model</th>\n",
       "      <th>year</th>\n",
       "      <th>mileage</th>\n",
       "      <th>engine_capacity</th>\n",
       "      <th>...</th>\n",
       "      <th>door_count</th>\n",
       "      <th>nr_seats</th>\n",
       "      <th>color</th>\n",
       "      <th>features</th>\n",
       "      <th>price</th>\n",
       "      <th>price_raw</th>\n",
       "      <th>currency</th>\n",
       "      <th>country_origin</th>\n",
       "      <th>registration</th>\n",
       "      <th>engine</th>\n",
       "    </tr>\n",
       "  </thead>\n",
       "  <tbody>\n",
       "    <tr>\n",
       "      <th>197</th>\n",
       "      <td>6070014532</td>\n",
       "      <td>2020-05-19</td>\n",
       "      <td>2020-05-26</td>\n",
       "      <td>0</td>\n",
       "      <td>wielkopolskie</td>\n",
       "      <td>turek</td>\n",
       "      <td>yaris</td>\n",
       "      <td>2008</td>\n",
       "      <td>320000</td>\n",
       "      <td>998</td>\n",
       "      <td>...</td>\n",
       "      <td>2</td>\n",
       "      <td>4</td>\n",
       "      <td>red</td>\n",
       "      <td>abs cd central-lock electronic-rearview-mirror...</td>\n",
       "      <td>6500</td>\n",
       "      <td>6500.0</td>\n",
       "      <td>0</td>\n",
       "      <td>pl</td>\n",
       "      <td>0</td>\n",
       "      <td>R3_10_69KM</td>\n",
       "    </tr>\n",
       "  </tbody>\n",
       "</table>\n",
       "<p>1 rows × 25 columns</p>\n",
       "</div>"
      ],
      "text/plain": [
       "       offer_id     s_date     e_date  private_business         region   city  \\\n",
       "197  6070014532 2020-05-19 2020-05-26                 0  wielkopolskie  turek   \n",
       "\n",
       "     model  year  mileage  engine_capacity  ... door_count nr_seats  color  \\\n",
       "197  yaris  2008   320000              998  ...          2        4    red   \n",
       "\n",
       "                                              features price  price_raw  \\\n",
       "197  abs cd central-lock electronic-rearview-mirror...  6500     6500.0   \n",
       "\n",
       "     currency country_origin registration      engine  \n",
       "197         0             pl            0  R3_10_69KM  \n",
       "\n",
       "[1 rows x 25 columns]"
      ]
     },
     "execution_count": 423,
     "metadata": {},
     "output_type": "execute_result"
    }
   ],
   "source": [
    "df[(df.door_count == 2)]"
   ]
  },
  {
   "cell_type": "code",
   "execution_count": 424,
   "metadata": {},
   "outputs": [
    {
     "name": "stdout",
     "output_type": "stream",
     "text": [
      "nr_seats:  int64\n",
      "nr_seats:  [5 0 6 4 2]\n"
     ]
    },
    {
     "data": {
      "image/png": "[encoded data removed]",
      "text/plain": [
       "<Figure size 432x288 with 1 Axes>"
      ]
     },
     "metadata": {
      "needs_background": "light"
     },
     "output_type": "display_data"
    }
   ],
   "source": [
    "# nr_seats\n",
    "print('nr_seats: ', df['nr_seats'].dtypes)\n",
    "print('nr_seats: ', df['nr_seats'].unique())\n",
    "df['nr_seats'].value_counts().plot(kind='bar');"
   ]
  },
  {
   "cell_type": "code",
   "execution_count": 425,
   "metadata": {},
   "outputs": [
    {
     "data": {
      "text/html": [
       "<div>\n",
       "<style scoped>\n",
       "    .dataframe tbody tr th:only-of-type {\n",
       "        vertical-align: middle;\n",
       "    }\n",
       "\n",
       "    .dataframe tbody tr th {\n",
       "        vertical-align: top;\n",
       "    }\n",
       "\n",
       "    .dataframe thead th {\n",
       "        text-align: right;\n",
       "    }\n",
       "</style>\n",
       "<table border=\"1\" class=\"dataframe\">\n",
       "  <thead>\n",
       "    <tr style=\"text-align: right;\">\n",
       "      <th></th>\n",
       "      <th>offer_id</th>\n",
       "      <th>s_date</th>\n",
       "      <th>e_date</th>\n",
       "      <th>private_business</th>\n",
       "      <th>region</th>\n",
       "      <th>city</th>\n",
       "      <th>model</th>\n",
       "      <th>year</th>\n",
       "      <th>mileage</th>\n",
       "      <th>engine_capacity</th>\n",
       "      <th>...</th>\n",
       "      <th>door_count</th>\n",
       "      <th>nr_seats</th>\n",
       "      <th>color</th>\n",
       "      <th>features</th>\n",
       "      <th>price</th>\n",
       "      <th>price_raw</th>\n",
       "      <th>currency</th>\n",
       "      <th>country_origin</th>\n",
       "      <th>registration</th>\n",
       "      <th>engine</th>\n",
       "    </tr>\n",
       "  </thead>\n",
       "  <tbody>\n",
       "    <tr>\n",
       "      <th>93</th>\n",
       "      <td>6067672282</td>\n",
       "      <td>2020-04-17</td>\n",
       "      <td>2020-05-09</td>\n",
       "      <td>1</td>\n",
       "      <td>wielkopolskie</td>\n",
       "      <td>ostrzeszow</td>\n",
       "      <td>yaris</td>\n",
       "      <td>2007</td>\n",
       "      <td>410000</td>\n",
       "      <td>998</td>\n",
       "      <td>...</td>\n",
       "      <td>3</td>\n",
       "      <td>2</td>\n",
       "      <td>silver</td>\n",
       "      <td>abs cd central-lock electronic-immobiliser fro...</td>\n",
       "      <td>5400</td>\n",
       "      <td>4390.24</td>\n",
       "      <td>0</td>\n",
       "      <td>pl</td>\n",
       "      <td>0</td>\n",
       "      <td>R3_10_69KM</td>\n",
       "    </tr>\n",
       "    <tr>\n",
       "      <th>113</th>\n",
       "      <td>6068534064</td>\n",
       "      <td>2020-04-17</td>\n",
       "      <td>2020-05-26</td>\n",
       "      <td>1</td>\n",
       "      <td>lubuskie</td>\n",
       "      <td>zielonagora</td>\n",
       "      <td>yaris</td>\n",
       "      <td>2010</td>\n",
       "      <td>147218</td>\n",
       "      <td>996</td>\n",
       "      <td>...</td>\n",
       "      <td>5</td>\n",
       "      <td>2</td>\n",
       "      <td>other</td>\n",
       "      <td>abs cd central-lock front-electric-windows ele...</td>\n",
       "      <td>22000</td>\n",
       "      <td>22000.00</td>\n",
       "      <td>0</td>\n",
       "      <td>d</td>\n",
       "      <td>FZ7496M</td>\n",
       "      <td>R3_10_69KM</td>\n",
       "    </tr>\n",
       "    <tr>\n",
       "      <th>339</th>\n",
       "      <td>6072329710</td>\n",
       "      <td>2020-04-17</td>\n",
       "      <td>2020-05-26</td>\n",
       "      <td>1</td>\n",
       "      <td>wielkopolskie</td>\n",
       "      <td>ostrzeszow</td>\n",
       "      <td>yaris</td>\n",
       "      <td>2009</td>\n",
       "      <td>390000</td>\n",
       "      <td>998</td>\n",
       "      <td>...</td>\n",
       "      <td>3</td>\n",
       "      <td>2</td>\n",
       "      <td>silver</td>\n",
       "      <td>abs cd central-lock front-electric-windows el...</td>\n",
       "      <td>6500</td>\n",
       "      <td>5284.55</td>\n",
       "      <td>0</td>\n",
       "      <td>0</td>\n",
       "      <td>0</td>\n",
       "      <td>R3_10_69KM</td>\n",
       "    </tr>\n",
       "    <tr>\n",
       "      <th>340</th>\n",
       "      <td>6072329710</td>\n",
       "      <td>2020-04-17</td>\n",
       "      <td>2020-05-26</td>\n",
       "      <td>1</td>\n",
       "      <td>wielkopolskie</td>\n",
       "      <td>ostrzeszow</td>\n",
       "      <td>yaris</td>\n",
       "      <td>2009</td>\n",
       "      <td>390000</td>\n",
       "      <td>998</td>\n",
       "      <td>...</td>\n",
       "      <td>3</td>\n",
       "      <td>2</td>\n",
       "      <td>silver</td>\n",
       "      <td>abs cd central-lock front-electric-windows ele...</td>\n",
       "      <td>6500</td>\n",
       "      <td>5609.76</td>\n",
       "      <td>0</td>\n",
       "      <td>0</td>\n",
       "      <td>0</td>\n",
       "      <td>R3_10_69KM</td>\n",
       "    </tr>\n",
       "  </tbody>\n",
       "</table>\n",
       "<p>4 rows × 25 columns</p>\n",
       "</div>"
      ],
      "text/plain": [
       "       offer_id     s_date     e_date  private_business         region  \\\n",
       "93   6067672282 2020-04-17 2020-05-09                 1  wielkopolskie   \n",
       "113  6068534064 2020-04-17 2020-05-26                 1       lubuskie   \n",
       "339  6072329710 2020-04-17 2020-05-26                 1  wielkopolskie   \n",
       "340  6072329710 2020-04-17 2020-05-26                 1  wielkopolskie   \n",
       "\n",
       "            city  model  year  mileage  engine_capacity  ... door_count  \\\n",
       "93    ostrzeszow  yaris  2007   410000              998  ...          3   \n",
       "113  zielonagora  yaris  2010   147218              996  ...          5   \n",
       "339   ostrzeszow  yaris  2009   390000              998  ...          3   \n",
       "340   ostrzeszow  yaris  2009   390000              998  ...          3   \n",
       "\n",
       "    nr_seats   color                                           features  \\\n",
       "93         2  silver  abs cd central-lock electronic-immobiliser fro...   \n",
       "113        2   other  abs cd central-lock front-electric-windows ele...   \n",
       "339        2  silver   abs cd central-lock front-electric-windows el...   \n",
       "340        2  silver  abs cd central-lock front-electric-windows ele...   \n",
       "\n",
       "     price  price_raw  currency country_origin registration      engine  \n",
       "93    5400    4390.24         0             pl            0  R3_10_69KM  \n",
       "113  22000   22000.00         0              d      FZ7496M  R3_10_69KM  \n",
       "339   6500    5284.55         0              0            0  R3_10_69KM  \n",
       "340   6500    5609.76         0              0            0  R3_10_69KM  \n",
       "\n",
       "[4 rows x 25 columns]"
      ]
     },
     "execution_count": 425,
     "metadata": {},
     "output_type": "execute_result"
    }
   ],
   "source": [
    "df[(df.nr_seats == 2)]"
   ]
  },
  {
   "cell_type": "code",
   "execution_count": 426,
   "metadata": {},
   "outputs": [
    {
     "name": "stdout",
     "output_type": "stream",
     "text": [
      "color:  object\n",
      "color:  ['grey' 'white' 'silver' 'red' 'blue' 'other' 'black' 'yellow-gold'\n",
      " 'green' 'yellow' 'brown-beige' 'violet']\n"
     ]
    }
   ],
   "source": [
    "# color\n",
    "print('color: ', df['color'].dtypes)\n",
    "print('color: ', df['color'].unique())"
   ]
  },
  {
   "cell_type": "code",
   "execution_count": 427,
   "metadata": {},
   "outputs": [
    {
     "data": {
      "image/png": "[encoded data removed]",
      "text/plain": [
       "<Figure size 432x288 with 1 Axes>"
      ]
     },
     "metadata": {
      "needs_background": "light"
     },
     "output_type": "display_data"
    }
   ],
   "source": [
    "color_cnt = df['color'].value_counts()\n",
    "\n",
    "fig = plt.figure()\n",
    "axes = fig.add_axes([0.1 ,0.1 ,0.8, 0.8]) \n",
    "axes.bar(color_cnt.index, color_cnt.values)\n",
    "\n",
    "axes.set_xlabel('Kolor')\n",
    "axes.set_ylabel('Liczba aut')\n",
    "axes.set_title('Kolor karoserii')\n",
    "\n",
    "for label in axes.get_xticklabels():\n",
    "  label.set_rotation(45)\n",
    "  label.set_ha('right')"
   ]
  },
  {
   "cell_type": "code",
   "execution_count": 428,
   "metadata": {},
   "outputs": [
    {
     "name": "stdout",
     "output_type": "stream",
     "text": [
      "price:  int64\n",
      "price:  110\n",
      "price_raw:  float64\n",
      "price_raw:  130\n"
     ]
    }
   ],
   "source": [
    "# price\n",
    "print('price: ', df['price'].dtypes)\n",
    "print('price: ', df['price'].nunique())\n",
    "\n",
    "# price_raw\n",
    "print('price_raw: ', df['price_raw'].dtypes)\n",
    "print('price_raw: ', df['price_raw'].nunique())"
   ]
  },
  {
   "cell_type": "code",
   "execution_count": 429,
   "metadata": {},
   "outputs": [
    {
     "name": "stdout",
     "output_type": "stream",
     "text": [
      "currency:  object\n",
      "currency:  ['0']\n"
     ]
    }
   ],
   "source": [
    "# currency\n",
    "print('currency: ', df['currency'].dtypes)\n",
    "print('currency: ', df['currency'].unique())"
   ]
  },
  {
   "cell_type": "code",
   "execution_count": 430,
   "metadata": {},
   "outputs": [
    {
     "name": "stdout",
     "output_type": "stream",
     "text": [
      "country_origin:  object\n",
      "country_origin:  ['f' 'pl' '0' 'd' 'b' 'nl' 'a' 'i' 'gb' 'dk' 's']\n"
     ]
    }
   ],
   "source": [
    "# country_origin\n",
    "print('country_origin: ', df['country_origin'].dtypes)\n",
    "print('country_origin: ', df['country_origin'].unique())\n",
    "\n",
    "countries = {\n",
    "    'f' : 'France',\n",
    "    'pl' : 'Poland',\n",
    "    'd' : 'Germany',\n",
    "    'b' : 'Belgium',\n",
    "    'nl' : 'Nederlands',\n",
    "    'a': 'Austria',\n",
    "    'i' : 'Italy',\n",
    "    'gb' : 'Great Britan',\n",
    "    'dk' : 'Denmark',\n",
    "    's' : 'Sweden'\n",
    "}"
   ]
  },
  {
   "cell_type": "code",
   "execution_count": 431,
   "metadata": {},
   "outputs": [
    {
     "name": "stdout",
     "output_type": "stream",
     "text": [
      "registration:  object\n",
      "registration:  ['0' 'RST19536' 'ZGR VH37' 'RZE68062' 'FZ7305M' 'FZ7556M' 'ZDR 16488'\n",
      " 'FZ7496M' 'WWL76138' 'K WV2222' 'LRY 84LR' 'KBC 72163' 'DJ91837'\n",
      " 'TKI8551A' 'XGK506' 'RZE 74732' 'CG34523' 'RBR28917' 'ZMY 705AJ' 'XUM146'\n",
      " 'FNW53TF' 'WY 98871' 'FMI 54886' 'WZY11627' 'TK 2396F' 'PK6174K'\n",
      " 'N-JI164']\n"
     ]
    }
   ],
   "source": [
    "# registration\n",
    "print('registration: ', df['registration'].dtypes)\n",
    "print('registration: ', df['registration'].unique())"
   ]
  },
  {
   "cell_type": "markdown",
   "metadata": {},
   "source": [
    "---"
   ]
  },
  {
   "cell_type": "code",
   "execution_count": 432,
   "metadata": {},
   "outputs": [
    {
     "data": {
      "image/png": "[encoded data removed]",
      "text/plain": [
       "<Figure size 1440x1080 with 12 Axes>"
      ]
     },
     "metadata": {
      "needs_background": "light"
     },
     "output_type": "display_data"
    }
   ],
   "source": [
    "df.hist(bins=50,figsize=(20,15))\n",
    "plt.show()"
   ]
  },
  {
   "cell_type": "code",
   "execution_count": 433,
   "metadata": {},
   "outputs": [
    {
     "name": "stdout",
     "output_type": "stream",
     "text": [
      "Wall time: 12 ms\n"
     ]
    }
   ],
   "source": [
    "def optimize_df():\n",
    "    #df['offer_id'] = df['offer_id'].astype(np.uint32)\n",
    "    df['offer_id'] = pd.to_numeric (df['offer_id'], downcast='unsigned')\n",
    "    df['s_date'] = pd.to_datetime(df['s_date']) \n",
    "    df['e_date'] = pd.to_datetime(df['e_date']) \n",
    "    df['private_business'] = df['private_business'].apply(lambda x : str(x) == 'business')\n",
    "    df['year'] = pd.to_numeric(df['year'], downcast='unsigned')\n",
    "    df['mileage'] = pd.to_numeric(df['mileage'], downcast='unsigned')\n",
    "    df['engine_capacity'] = pd.to_numeric(df['engine_capacity'], downcast='unsigned')\n",
    "    df['engine_power'] = pd.to_numeric(df['engine_power'], downcast='unsigned')\n",
    "    df['door_count'] = pd.to_numeric(df['door_count'], downcast='unsigned')\n",
    "    df['nr_seats'] = pd.to_numeric(df['nr_seats'], downcast='unsigned')\n",
    "    df['price'] = pd.to_numeric(df['price'], downcast='float')\n",
    "    df['price_raw'] = pd.to_numeric(df['price_raw'], downcast='float')\n",
    "    \n",
    "%time optimize_df()    "
   ]
  },
  {
   "cell_type": "markdown",
   "metadata": {},
   "source": [
    "## Feature engineering"
   ]
  },
  {
   "cell_type": "code",
   "execution_count": 434,
   "metadata": {},
   "outputs": [
    {
     "name": "stdout",
     "output_type": "stream",
     "text": [
      "Wall time: 3 ms\n"
     ]
    }
   ],
   "source": [
    "def general_features():\n",
    "    df['duration'] = (df['e_date'] - df['s_date']).dt.days.astype(np.uint16)\n",
    "    df['price_chng'] = (df['price'] - df['price_raw'])\n",
    "    #df['active'] = df['duration'].apply()\n",
    "    \n",
    "%time general_features()"
   ]
  },
  {
   "cell_type": "code",
   "execution_count": 435,
   "metadata": {},
   "outputs": [
    {
     "data": {
      "text/html": [
       "<div>\n",
       "<style scoped>\n",
       "    .dataframe tbody tr th:only-of-type {\n",
       "        vertical-align: middle;\n",
       "    }\n",
       "\n",
       "    .dataframe tbody tr th {\n",
       "        vertical-align: top;\n",
       "    }\n",
       "\n",
       "    .dataframe thead th {\n",
       "        text-align: right;\n",
       "    }\n",
       "</style>\n",
       "<table border=\"1\" class=\"dataframe\">\n",
       "  <thead>\n",
       "    <tr style=\"text-align: right;\">\n",
       "      <th></th>\n",
       "      <th>offer_id</th>\n",
       "      <th>s_date</th>\n",
       "      <th>e_date</th>\n",
       "      <th>private_business</th>\n",
       "      <th>region</th>\n",
       "      <th>city</th>\n",
       "      <th>model</th>\n",
       "      <th>year</th>\n",
       "      <th>mileage</th>\n",
       "      <th>engine_capacity</th>\n",
       "      <th>...</th>\n",
       "      <th>color</th>\n",
       "      <th>features</th>\n",
       "      <th>price</th>\n",
       "      <th>price_raw</th>\n",
       "      <th>currency</th>\n",
       "      <th>country_origin</th>\n",
       "      <th>registration</th>\n",
       "      <th>engine</th>\n",
       "      <th>duration</th>\n",
       "      <th>price_chng</th>\n",
       "    </tr>\n",
       "  </thead>\n",
       "  <tbody>\n",
       "    <tr>\n",
       "      <th>371</th>\n",
       "      <td>6073394702</td>\n",
       "      <td>2020-04-17</td>\n",
       "      <td>2020-05-07</td>\n",
       "      <td>False</td>\n",
       "      <td>dolnoslaskie</td>\n",
       "      <td>sycow</td>\n",
       "      <td>yaris</td>\n",
       "      <td>2010</td>\n",
       "      <td>150000</td>\n",
       "      <td>1000</td>\n",
       "      <td>...</td>\n",
       "      <td>black</td>\n",
       "      <td>abs cd central-lock front-electric-windows ele...</td>\n",
       "      <td>15200.0</td>\n",
       "      <td>14900.0</td>\n",
       "      <td>0</td>\n",
       "      <td>pl</td>\n",
       "      <td>0</td>\n",
       "      <td>R3_10_69KM</td>\n",
       "      <td>20</td>\n",
       "      <td>300.0</td>\n",
       "    </tr>\n",
       "    <tr>\n",
       "      <th>114</th>\n",
       "      <td>6068559140</td>\n",
       "      <td>2020-04-17</td>\n",
       "      <td>2020-05-24</td>\n",
       "      <td>False</td>\n",
       "      <td>malopolskie</td>\n",
       "      <td>limanowa</td>\n",
       "      <td>yaris</td>\n",
       "      <td>2007</td>\n",
       "      <td>100000</td>\n",
       "      <td>1300</td>\n",
       "      <td>...</td>\n",
       "      <td>grey</td>\n",
       "      <td>abs cd central-lock front-electric-windows ele...</td>\n",
       "      <td>14900.0</td>\n",
       "      <td>14900.0</td>\n",
       "      <td>0</td>\n",
       "      <td>0</td>\n",
       "      <td>0</td>\n",
       "      <td>R4_13_86KM</td>\n",
       "      <td>37</td>\n",
       "      <td>0.0</td>\n",
       "    </tr>\n",
       "    <tr>\n",
       "      <th>326</th>\n",
       "      <td>6072214221</td>\n",
       "      <td>2020-04-17</td>\n",
       "      <td>2020-05-04</td>\n",
       "      <td>False</td>\n",
       "      <td>wielkopolskie</td>\n",
       "      <td>chodziez</td>\n",
       "      <td>yaris</td>\n",
       "      <td>2009</td>\n",
       "      <td>90200</td>\n",
       "      <td>1400</td>\n",
       "      <td>...</td>\n",
       "      <td>grey</td>\n",
       "      <td>0</td>\n",
       "      <td>14900.0</td>\n",
       "      <td>14900.0</td>\n",
       "      <td>0</td>\n",
       "      <td>f</td>\n",
       "      <td>0</td>\n",
       "      <td>R4_14_D4D</td>\n",
       "      <td>17</td>\n",
       "      <td>0.0</td>\n",
       "    </tr>\n",
       "  </tbody>\n",
       "</table>\n",
       "<p>3 rows × 27 columns</p>\n",
       "</div>"
      ],
      "text/plain": [
       "       offer_id     s_date     e_date  private_business         region  \\\n",
       "371  6073394702 2020-04-17 2020-05-07             False   dolnoslaskie   \n",
       "114  6068559140 2020-04-17 2020-05-24             False    malopolskie   \n",
       "326  6072214221 2020-04-17 2020-05-04             False  wielkopolskie   \n",
       "\n",
       "         city  model  year  mileage  engine_capacity  ...  color  \\\n",
       "371     sycow  yaris  2010   150000             1000  ...  black   \n",
       "114  limanowa  yaris  2007   100000             1300  ...   grey   \n",
       "326  chodziez  yaris  2009    90200             1400  ...   grey   \n",
       "\n",
       "                                              features    price price_raw  \\\n",
       "371  abs cd central-lock front-electric-windows ele...  15200.0   14900.0   \n",
       "114  abs cd central-lock front-electric-windows ele...  14900.0   14900.0   \n",
       "326                                                  0  14900.0   14900.0   \n",
       "\n",
       "    currency  country_origin  registration      engine duration  price_chng  \n",
       "371        0              pl             0  R3_10_69KM       20       300.0  \n",
       "114        0               0             0  R4_13_86KM       37         0.0  \n",
       "326        0               f             0   R4_14_D4D       17         0.0  \n",
       "\n",
       "[3 rows x 27 columns]"
      ]
     },
     "execution_count": 435,
     "metadata": {},
     "output_type": "execute_result"
    }
   ],
   "source": [
    "df.sample(3)"
   ]
  },
  {
   "cell_type": "code",
   "execution_count": 436,
   "metadata": {},
   "outputs": [
    {
     "data": {
      "text/html": [
       "<div>\n",
       "<style scoped>\n",
       "    .dataframe tbody tr th:only-of-type {\n",
       "        vertical-align: middle;\n",
       "    }\n",
       "\n",
       "    .dataframe tbody tr th {\n",
       "        vertical-align: top;\n",
       "    }\n",
       "\n",
       "    .dataframe thead th {\n",
       "        text-align: right;\n",
       "    }\n",
       "</style>\n",
       "<table border=\"1\" class=\"dataframe\">\n",
       "  <thead>\n",
       "    <tr style=\"text-align: right;\">\n",
       "      <th></th>\n",
       "      <th>offer_id</th>\n",
       "      <th>s_date</th>\n",
       "      <th>e_date</th>\n",
       "      <th>private_business</th>\n",
       "      <th>region</th>\n",
       "      <th>city</th>\n",
       "      <th>model</th>\n",
       "      <th>year</th>\n",
       "      <th>mileage</th>\n",
       "      <th>engine_capacity</th>\n",
       "      <th>...</th>\n",
       "      <th>color</th>\n",
       "      <th>features</th>\n",
       "      <th>price</th>\n",
       "      <th>price_raw</th>\n",
       "      <th>currency</th>\n",
       "      <th>country_origin</th>\n",
       "      <th>registration</th>\n",
       "      <th>engine</th>\n",
       "      <th>duration</th>\n",
       "      <th>price_chng</th>\n",
       "    </tr>\n",
       "  </thead>\n",
       "  <tbody>\n",
       "    <tr>\n",
       "      <th>6</th>\n",
       "      <td>6036867722</td>\n",
       "      <td>2020-04-17</td>\n",
       "      <td>2020-05-09</td>\n",
       "      <td>False</td>\n",
       "      <td>slaskie</td>\n",
       "      <td>raciborz</td>\n",
       "      <td>yaris</td>\n",
       "      <td>2008</td>\n",
       "      <td>153000</td>\n",
       "      <td>1298</td>\n",
       "      <td>...</td>\n",
       "      <td>red</td>\n",
       "      <td>abs cd central-lock front-electric-windows ele...</td>\n",
       "      <td>13900.0</td>\n",
       "      <td>14900.0</td>\n",
       "      <td>0</td>\n",
       "      <td>d</td>\n",
       "      <td>0</td>\n",
       "      <td>R4_13_86KM</td>\n",
       "      <td>22</td>\n",
       "      <td>-1000.0</td>\n",
       "    </tr>\n",
       "    <tr>\n",
       "      <th>13</th>\n",
       "      <td>6054649805</td>\n",
       "      <td>2020-04-20</td>\n",
       "      <td>2020-05-26</td>\n",
       "      <td>False</td>\n",
       "      <td>podlaskie</td>\n",
       "      <td>suwalki</td>\n",
       "      <td>yaris</td>\n",
       "      <td>2007</td>\n",
       "      <td>178560</td>\n",
       "      <td>1300</td>\n",
       "      <td>...</td>\n",
       "      <td>silver</td>\n",
       "      <td>abs cd central-lock front-electric-windows ele...</td>\n",
       "      <td>14900.0</td>\n",
       "      <td>15900.0</td>\n",
       "      <td>0</td>\n",
       "      <td>d</td>\n",
       "      <td>0</td>\n",
       "      <td>R4_13_86KM</td>\n",
       "      <td>36</td>\n",
       "      <td>-1000.0</td>\n",
       "    </tr>\n",
       "    <tr>\n",
       "      <th>14</th>\n",
       "      <td>6054649805</td>\n",
       "      <td>2020-04-20</td>\n",
       "      <td>2020-05-26</td>\n",
       "      <td>False</td>\n",
       "      <td>podlaskie</td>\n",
       "      <td>suwalki</td>\n",
       "      <td>yaris</td>\n",
       "      <td>2007</td>\n",
       "      <td>178560</td>\n",
       "      <td>1300</td>\n",
       "      <td>...</td>\n",
       "      <td>silver</td>\n",
       "      <td>abs cd central-lock front-electric-windows ele...</td>\n",
       "      <td>14900.0</td>\n",
       "      <td>16600.0</td>\n",
       "      <td>0</td>\n",
       "      <td>d</td>\n",
       "      <td>0</td>\n",
       "      <td>R4_13_86KM</td>\n",
       "      <td>36</td>\n",
       "      <td>-1700.0</td>\n",
       "    </tr>\n",
       "    <tr>\n",
       "      <th>28</th>\n",
       "      <td>6058167820</td>\n",
       "      <td>2020-04-27</td>\n",
       "      <td>2020-05-26</td>\n",
       "      <td>False</td>\n",
       "      <td>wielkopolskie</td>\n",
       "      <td>poznan</td>\n",
       "      <td>yaris</td>\n",
       "      <td>2006</td>\n",
       "      <td>77000</td>\n",
       "      <td>998</td>\n",
       "      <td>...</td>\n",
       "      <td>silver</td>\n",
       "      <td>abs cd central-lock electronic-rearview-mirror...</td>\n",
       "      <td>12900.0</td>\n",
       "      <td>13600.0</td>\n",
       "      <td>0</td>\n",
       "      <td>0</td>\n",
       "      <td>0</td>\n",
       "      <td>R3_10_69KM</td>\n",
       "      <td>29</td>\n",
       "      <td>-700.0</td>\n",
       "    </tr>\n",
       "    <tr>\n",
       "      <th>36</th>\n",
       "      <td>6059219052</td>\n",
       "      <td>2020-04-17</td>\n",
       "      <td>2020-05-26</td>\n",
       "      <td>False</td>\n",
       "      <td>wielkopolskie</td>\n",
       "      <td>krotoszyn</td>\n",
       "      <td>yaris</td>\n",
       "      <td>2008</td>\n",
       "      <td>187000</td>\n",
       "      <td>1400</td>\n",
       "      <td>...</td>\n",
       "      <td>black</td>\n",
       "      <td>abs cd central-lock front-electric-windows ele...</td>\n",
       "      <td>13500.0</td>\n",
       "      <td>13800.0</td>\n",
       "      <td>0</td>\n",
       "      <td>f</td>\n",
       "      <td>0</td>\n",
       "      <td>R4_14_D4D</td>\n",
       "      <td>39</td>\n",
       "      <td>-300.0</td>\n",
       "    </tr>\n",
       "  </tbody>\n",
       "</table>\n",
       "<p>5 rows × 27 columns</p>\n",
       "</div>"
      ],
      "text/plain": [
       "      offer_id     s_date     e_date  private_business         region  \\\n",
       "6   6036867722 2020-04-17 2020-05-09             False        slaskie   \n",
       "13  6054649805 2020-04-20 2020-05-26             False      podlaskie   \n",
       "14  6054649805 2020-04-20 2020-05-26             False      podlaskie   \n",
       "28  6058167820 2020-04-27 2020-05-26             False  wielkopolskie   \n",
       "36  6059219052 2020-04-17 2020-05-26             False  wielkopolskie   \n",
       "\n",
       "         city  model  year  mileage  engine_capacity  ...   color  \\\n",
       "6    raciborz  yaris  2008   153000             1298  ...     red   \n",
       "13    suwalki  yaris  2007   178560             1300  ...  silver   \n",
       "14    suwalki  yaris  2007   178560             1300  ...  silver   \n",
       "28     poznan  yaris  2006    77000              998  ...  silver   \n",
       "36  krotoszyn  yaris  2008   187000             1400  ...   black   \n",
       "\n",
       "                                             features    price price_raw  \\\n",
       "6   abs cd central-lock front-electric-windows ele...  13900.0   14900.0   \n",
       "13  abs cd central-lock front-electric-windows ele...  14900.0   15900.0   \n",
       "14  abs cd central-lock front-electric-windows ele...  14900.0   16600.0   \n",
       "28  abs cd central-lock electronic-rearview-mirror...  12900.0   13600.0   \n",
       "36  abs cd central-lock front-electric-windows ele...  13500.0   13800.0   \n",
       "\n",
       "   currency  country_origin  registration      engine duration  price_chng  \n",
       "6         0               d             0  R4_13_86KM       22     -1000.0  \n",
       "13        0               d             0  R4_13_86KM       36     -1000.0  \n",
       "14        0               d             0  R4_13_86KM       36     -1700.0  \n",
       "28        0               0             0  R3_10_69KM       29      -700.0  \n",
       "36        0               f             0   R4_14_D4D       39      -300.0  \n",
       "\n",
       "[5 rows x 27 columns]"
      ]
     },
     "execution_count": 436,
     "metadata": {},
     "output_type": "execute_result"
    }
   ],
   "source": [
    "# Price change\n",
    "df[df['price_chng']!=0].head()"
   ]
  },
  {
   "cell_type": "code",
   "execution_count": 437,
   "metadata": {},
   "outputs": [
    {
     "name": "stdout",
     "output_type": "stream",
     "text": [
      "Wall time: 66 ms\n"
     ]
    }
   ],
   "source": [
    "#car features\n",
    "def benefits_to_set(value):\n",
    "    if str(value) == 'nan': return set([\"nan\"])\n",
    "    return {attr.lower().strip() for attr in value}\n",
    "    \n",
    "def norm_name(name):\n",
    "    return 'f_{0}'.format( name.lower().strip() )\n",
    "\n",
    "def feature_columns(): \n",
    "    benefits_series = df['features'].str.split(' ').map(benefits_to_set)\n",
    "    all_benefits = {benefit for row in benefits_series for benefit in row}\n",
    "    \n",
    "    feat_names = [norm_name(x) for x in all_benefits]\n",
    "    \n",
    "    for benefit in all_benefits:\n",
    "        df[ norm_name(benefit) ] = benefits_series.map(lambda x: benefit in x).astype(np.int8)\n",
    "    \n",
    "    return feat_names\n",
    "\n",
    "%time f = feature_columns()"
   ]
  },
  {
   "cell_type": "code",
   "execution_count": 438,
   "metadata": {},
   "outputs": [],
   "source": [
    "def old_plot(f):\n",
    "    df[f].hist(bins=2,figsize=(20,20))\n",
    "    plt.show()\n",
    "\n",
    "# %time old_plot(f)"
   ]
  },
  {
   "cell_type": "code",
   "execution_count": 495,
   "metadata": {},
   "outputs": [
    {
     "name": "stdout",
     "output_type": "stream",
     "text": [
      "Wall time: 784 ms\n"
     ]
    },
    {
     "data": {
      "image/png": "[encoded data removed]",
      "text/plain": [
       "<Figure size 1440x1800 with 56 Axes>"
      ]
     },
     "metadata": {},
     "output_type": "display_data"
    }
   ],
   "source": [
    "def new_plot(f):\n",
    "    fig = plt.figure(figsize=(20, 25))\n",
    "    fig.subplots_adjust(left=None, bottom=None, right=None, top=None, wspace=None, hspace=0.5)\n",
    "    fig.add_axes([0.1 ,0.1 ,0.8, 0.8])\n",
    "    for i in range(len(f)):\n",
    "        cnt = df[f[i]].value_counts()\n",
    "        plt.subplot(10,6,i+1)\n",
    "        plt.xticks(np.arange(2), ['Brak', 'Jest'])\n",
    "        plt.bar(cnt.index, cnt.values, align='center')\n",
    "        key = f[i][2:]\n",
    "        plt.title(key)\n",
    "        #plt.title(feat_en_pl.get(key))\n",
    "\n",
    "%time new_plot(f)"
   ]
  },
  {
   "cell_type": "code",
   "execution_count": 440,
   "metadata": {},
   "outputs": [],
   "source": [
    "# return only not empty columns\n",
    "def non_empty_feats():\n",
    "    for col in df.columns: \n",
    "        if col[0:2] == 'f_':\n",
    "            if df[col].nunique() != 0:\n",
    "                print(col)\n",
    "                \n",
    "# non_empty_feats()                "
   ]
  },
  {
   "cell_type": "code",
   "execution_count": 441,
   "metadata": {},
   "outputs": [
    {
     "data": {
      "text/html": [
       "<div>\n",
       "<style scoped>\n",
       "    .dataframe tbody tr th:only-of-type {\n",
       "        vertical-align: middle;\n",
       "    }\n",
       "\n",
       "    .dataframe tbody tr th {\n",
       "        vertical-align: top;\n",
       "    }\n",
       "\n",
       "    .dataframe thead th {\n",
       "        text-align: right;\n",
       "    }\n",
       "</style>\n",
       "<table border=\"1\" class=\"dataframe\">\n",
       "  <thead>\n",
       "    <tr style=\"text-align: right;\">\n",
       "      <th></th>\n",
       "      <th>offer_id</th>\n",
       "      <th>s_date</th>\n",
       "      <th>e_date</th>\n",
       "      <th>private_business</th>\n",
       "      <th>region</th>\n",
       "      <th>city</th>\n",
       "      <th>model</th>\n",
       "      <th>year</th>\n",
       "      <th>mileage</th>\n",
       "      <th>engine_capacity</th>\n",
       "      <th>...</th>\n",
       "      <th>f_front-passenger-airbags</th>\n",
       "      <th>f_esp</th>\n",
       "      <th>f_alarm</th>\n",
       "      <th>f_dvd</th>\n",
       "      <th>f_asr</th>\n",
       "      <th>f_isofix</th>\n",
       "      <th>f_rear-passenger-airbags</th>\n",
       "      <th>f_front-heated-seats</th>\n",
       "      <th>f_steering-whell-comands</th>\n",
       "      <th>f_electronic-immobiliser</th>\n",
       "    </tr>\n",
       "  </thead>\n",
       "  <tbody>\n",
       "    <tr>\n",
       "      <th>44</th>\n",
       "      <td>6060368475</td>\n",
       "      <td>2020-05-01</td>\n",
       "      <td>2020-05-26</td>\n",
       "      <td>False</td>\n",
       "      <td>swietokrzyskie</td>\n",
       "      <td>pinczow</td>\n",
       "      <td>yaris</td>\n",
       "      <td>2008</td>\n",
       "      <td>156669</td>\n",
       "      <td>1400</td>\n",
       "      <td>...</td>\n",
       "      <td>1</td>\n",
       "      <td>1</td>\n",
       "      <td>1</td>\n",
       "      <td>0</td>\n",
       "      <td>0</td>\n",
       "      <td>1</td>\n",
       "      <td>1</td>\n",
       "      <td>0</td>\n",
       "      <td>1</td>\n",
       "      <td>1</td>\n",
       "    </tr>\n",
       "    <tr>\n",
       "      <th>201</th>\n",
       "      <td>6070033906</td>\n",
       "      <td>2020-04-17</td>\n",
       "      <td>2020-05-26</td>\n",
       "      <td>False</td>\n",
       "      <td>dolnoslaskie</td>\n",
       "      <td>jelenia-gora</td>\n",
       "      <td>yaris</td>\n",
       "      <td>2010</td>\n",
       "      <td>117000</td>\n",
       "      <td>1329</td>\n",
       "      <td>...</td>\n",
       "      <td>1</td>\n",
       "      <td>0</td>\n",
       "      <td>0</td>\n",
       "      <td>0</td>\n",
       "      <td>0</td>\n",
       "      <td>0</td>\n",
       "      <td>0</td>\n",
       "      <td>0</td>\n",
       "      <td>1</td>\n",
       "      <td>1</td>\n",
       "    </tr>\n",
       "    <tr>\n",
       "      <th>391</th>\n",
       "      <td>6073829244</td>\n",
       "      <td>2020-04-23</td>\n",
       "      <td>2020-05-26</td>\n",
       "      <td>False</td>\n",
       "      <td>mazowieckie</td>\n",
       "      <td>kobylka</td>\n",
       "      <td>yaris</td>\n",
       "      <td>2010</td>\n",
       "      <td>193000</td>\n",
       "      <td>1400</td>\n",
       "      <td>...</td>\n",
       "      <td>1</td>\n",
       "      <td>0</td>\n",
       "      <td>1</td>\n",
       "      <td>0</td>\n",
       "      <td>0</td>\n",
       "      <td>0</td>\n",
       "      <td>0</td>\n",
       "      <td>0</td>\n",
       "      <td>0</td>\n",
       "      <td>1</td>\n",
       "    </tr>\n",
       "  </tbody>\n",
       "</table>\n",
       "<p>3 rows × 83 columns</p>\n",
       "</div>"
      ],
      "text/plain": [
       "       offer_id     s_date     e_date  private_business          region  \\\n",
       "44   6060368475 2020-05-01 2020-05-26             False  swietokrzyskie   \n",
       "201  6070033906 2020-04-17 2020-05-26             False    dolnoslaskie   \n",
       "391  6073829244 2020-04-23 2020-05-26             False     mazowieckie   \n",
       "\n",
       "             city  model  year  mileage  engine_capacity  ...  \\\n",
       "44        pinczow  yaris  2008   156669             1400  ...   \n",
       "201  jelenia-gora  yaris  2010   117000             1329  ...   \n",
       "391       kobylka  yaris  2010   193000             1400  ...   \n",
       "\n",
       "    f_front-passenger-airbags f_esp  f_alarm f_dvd f_asr  f_isofix  \\\n",
       "44                          1     1        1     0     0         1   \n",
       "201                         1     0        0     0     0         0   \n",
       "391                         1     0        1     0     0         0   \n",
       "\n",
       "     f_rear-passenger-airbags f_front-heated-seats f_steering-whell-comands  \\\n",
       "44                          1                    0                        1   \n",
       "201                         0                    0                        1   \n",
       "391                         0                    0                        0   \n",
       "\n",
       "     f_electronic-immobiliser  \n",
       "44                          1  \n",
       "201                         1  \n",
       "391                         1  \n",
       "\n",
       "[3 rows x 83 columns]"
      ]
     },
     "execution_count": 441,
     "metadata": {},
     "output_type": "execute_result"
    }
   ],
   "source": [
    "df.sample(3)"
   ]
  },
  {
   "cell_type": "markdown",
   "metadata": {},
   "source": [
    "## Wizualizacja"
   ]
  },
  {
   "cell_type": "code",
   "execution_count": 442,
   "metadata": {},
   "outputs": [
    {
     "data": {
      "application/javascript": [
       "\n",
       "(function(root) {\n",
       "  function now() {\n",
       "    return new Date();\n",
       "  }\n",
       "\n",
       "  var force = true;\n",
       "\n",
       "  if (typeof root._bokeh_onload_callbacks === \"undefined\" || force === true) {\n",
       "    root._bokeh_onload_callbacks = [];\n",
       "    root._bokeh_is_loading = undefined;\n",
       "  }\n",
       "\n",
       "  var JS_MIME_TYPE = 'application/javascript';\n",
       "  var HTML_MIME_TYPE = 'text/html';\n",
       "  var EXEC_MIME_TYPE = 'application/vnd.bokehjs_exec.v0+json';\n",
       "  var CLASS_NAME = 'output_bokeh rendered_html';\n",
       "\n",
       "  /**\n",
       "   * Render data to the DOM node\n",
       "   */\n",
       "  function render(props, node) {\n",
       "    var script = document.createElement(\"script\");\n",
       "    node.appendChild(script);\n",
       "  }\n",
       "\n",
       "  /**\n",
       "   * Handle when an output is cleared or removed\n",
       "   */\n",
       "  function handleClearOutput(event, handle) {\n",
       "    var cell = handle.cell;\n",
       "\n",
       "    var id = cell.output_area._bokeh_element_id;\n",
       "    var server_id = cell.output_area._bokeh_server_id;\n",
       "    // Clean up Bokeh references\n",
       "    if (id != null && id in Bokeh.index) {\n",
       "      Bokeh.index[id].model.document.clear();\n",
       "      delete Bokeh.index[id];\n",
       "    }\n",
       "\n",
       "    if (server_id !== undefined) {\n",
       "      // Clean up Bokeh references\n",
       "      var cmd = \"from bokeh.io.state import curstate; print(curstate().uuid_to_server['\" + server_id + \"'].get_sessions()[0].document.roots[0]._id)\";\n",
       "      cell.notebook.kernel.execute(cmd, {\n",
       "        iopub: {\n",
       "          output: function(msg) {\n",
       "            var id = msg.content.text.trim();\n",
       "            if (id in Bokeh.index) {\n",
       "              Bokeh.index[id].model.document.clear();\n",
       "              delete Bokeh.index[id];\n",
       "            }\n",
       "          }\n",
       "        }\n",
       "      });\n",
       "      // Destroy server and session\n",
       "      var cmd = \"import bokeh.io.notebook as ion; ion.destroy_server('\" + server_id + \"')\";\n",
       "      cell.notebook.kernel.execute(cmd);\n",
       "    }\n",
       "  }\n",
       "\n",
       "  /**\n",
       "   * Handle when a new output is added\n",
       "   */\n",
       "  function handleAddOutput(event, handle) {\n",
       "    var output_area = handle.output_area;\n",
       "    var output = handle.output;\n",
       "\n",
       "    // limit handleAddOutput to display_data with EXEC_MIME_TYPE content only\n",
       "    if ((output.output_type != \"display_data\") || (!output.data.hasOwnProperty(EXEC_MIME_TYPE))) {\n",
       "      return\n",
       "    }\n",
       "\n",
       "    var toinsert = output_area.element.find(\".\" + CLASS_NAME.split(' ')[0]);\n",
       "\n",
       "    if (output.metadata[EXEC_MIME_TYPE][\"id\"] !== undefined) {\n",
       "      toinsert[toinsert.length - 1].firstChild.textContent = output.data[JS_MIME_TYPE];\n",
       "      // store reference to embed id on output_area\n",
       "      output_area._bokeh_element_id = output.metadata[EXEC_MIME_TYPE][\"id\"];\n",
       "    }\n",
       "    if (output.metadata[EXEC_MIME_TYPE][\"server_id\"] !== undefined) {\n",
       "      var bk_div = document.createElement(\"div\");\n",
       "      bk_div.innerHTML = output.data[HTML_MIME_TYPE];\n",
       "      var script_attrs = bk_div.children[0].attributes;\n",
       "      for (var i = 0; i < script_attrs.length; i++) {\n",
       "        toinsert[toinsert.length - 1].firstChild.setAttribute(script_attrs[i].name, script_attrs[i].value);\n",
       "        toinsert[toinsert.length - 1].firstChild.textContent = bk_div.children[0].textContent\n",
       "      }\n",
       "      // store reference to server id on output_area\n",
       "      output_area._bokeh_server_id = output.metadata[EXEC_MIME_TYPE][\"server_id\"];\n",
       "    }\n",
       "  }\n",
       "\n",
       "  function register_renderer(events, OutputArea) {\n",
       "\n",
       "    function append_mime(data, metadata, element) {\n",
       "      // create a DOM node to render to\n",
       "      var toinsert = this.create_output_subarea(\n",
       "        metadata,\n",
       "        CLASS_NAME,\n",
       "        EXEC_MIME_TYPE\n",
       "      );\n",
       "      this.keyboard_manager.register_events(toinsert);\n",
       "      // Render to node\n",
       "      var props = {data: data, metadata: metadata[EXEC_MIME_TYPE]};\n",
       "      render(props, toinsert[toinsert.length - 1]);\n",
       "      element.append(toinsert);\n",
       "      return toinsert\n",
       "    }\n",
       "\n",
       "    /* Handle when an output is cleared or removed */\n",
       "    events.on('clear_output.CodeCell', handleClearOutput);\n",
       "    events.on('delete.Cell', handleClearOutput);\n",
       "\n",
       "    /* Handle when a new output is added */\n",
       "    events.on('output_added.OutputArea', handleAddOutput);\n",
       "\n",
       "    /**\n",
       "     * Register the mime type and append_mime function with output_area\n",
       "     */\n",
       "    OutputArea.prototype.register_mime_type(EXEC_MIME_TYPE, append_mime, {\n",
       "      /* Is output safe? */\n",
       "      safe: true,\n",
       "      /* Index of renderer in `output_area.display_order` */\n",
       "      index: 0\n",
       "    });\n",
       "  }\n",
       "\n",
       "  // register the mime type if in Jupyter Notebook environment and previously unregistered\n",
       "  if (root.Jupyter !== undefined) {\n",
       "    var events = require('base/js/events');\n",
       "    var OutputArea = require('notebook/js/outputarea').OutputArea;\n",
       "\n",
       "    if (OutputArea.prototype.mime_types().indexOf(EXEC_MIME_TYPE) == -1) {\n",
       "      register_renderer(events, OutputArea);\n",
       "    }\n",
       "  }\n",
       "\n",
       "  \n",
       "  if (typeof (root._bokeh_timeout) === \"undefined\" || force === true) {\n",
       "    root._bokeh_timeout = Date.now() + 5000;\n",
       "    root._bokeh_failed_load = false;\n",
       "  }\n",
       "\n",
       "  var NB_LOAD_WARNING = {'data': {'text/html':\n",
       "     \"<div style='background-color: #fdd'>\\n\"+\n",
       "     \"<p>\\n\"+\n",
       "     \"BokehJS does not appear to have successfully loaded. If loading BokehJS from CDN, this \\n\"+\n",
       "     \"may be due to a slow or bad network connection. Possible fixes:\\n\"+\n",
       "     \"</p>\\n\"+\n",
       "     \"<ul>\\n\"+\n",
       "     \"<li>re-rerun `output_notebook()` to attempt to load from CDN again, or</li>\\n\"+\n",
       "     \"<li>use INLINE resources instead, as so:</li>\\n\"+\n",
       "     \"</ul>\\n\"+\n",
       "     \"<code>\\n\"+\n",
       "     \"from bokeh.resources import INLINE\\n\"+\n",
       "     \"output_notebook(resources=INLINE)\\n\"+\n",
       "     \"</code>\\n\"+\n",
       "     \"</div>\"}};\n",
       "\n",
       "  function display_loaded() {\n",
       "    var el = document.getElementById(null);\n",
       "    if (el != null) {\n",
       "      el.textContent = \"BokehJS is loading...\";\n",
       "    }\n",
       "    if (root.Bokeh !== undefined) {\n",
       "      if (el != null) {\n",
       "        el.textContent = \"BokehJS \" + root.Bokeh.version + \" successfully loaded.\";\n",
       "      }\n",
       "    } else if (Date.now() < root._bokeh_timeout) {\n",
       "      setTimeout(display_loaded, 100)\n",
       "    }\n",
       "  }\n",
       "\n",
       "\n",
       "  function run_callbacks() {\n",
       "    try {\n",
       "      root._bokeh_onload_callbacks.forEach(function(callback) {\n",
       "        if (callback != null)\n",
       "          callback();\n",
       "      });\n",
       "    } finally {\n",
       "      delete root._bokeh_onload_callbacks\n",
       "    }\n",
       "    console.debug(\"Bokeh: all callbacks have finished\");\n",
       "  }\n",
       "\n",
       "  function load_libs(css_urls, js_urls, callback) {\n",
       "    if (css_urls == null) css_urls = [];\n",
       "    if (js_urls == null) js_urls = [];\n",
       "\n",
       "    root._bokeh_onload_callbacks.push(callback);\n",
       "    if (root._bokeh_is_loading > 0) {\n",
       "      console.debug(\"Bokeh: BokehJS is being loaded, scheduling callback at\", now());\n",
       "      return null;\n",
       "    }\n",
       "    if (js_urls == null || js_urls.length === 0) {\n",
       "      run_callbacks();\n",
       "      return null;\n",
       "    }\n",
       "    console.debug(\"Bokeh: BokehJS not loaded, scheduling load and callback at\", now());\n",
       "    root._bokeh_is_loading = css_urls.length + js_urls.length;\n",
       "\n",
       "    function on_load() {\n",
       "      root._bokeh_is_loading--;\n",
       "      if (root._bokeh_is_loading === 0) {\n",
       "        console.debug(\"Bokeh: all BokehJS libraries/stylesheets loaded\");\n",
       "        run_callbacks()\n",
       "      }\n",
       "    }\n",
       "\n",
       "    function on_error() {\n",
       "      console.error(\"failed to load \" + url);\n",
       "    }\n",
       "\n",
       "    for (var i = 0; i < css_urls.length; i++) {\n",
       "      var url = css_urls[i];\n",
       "      const element = document.createElement(\"link\");\n",
       "      element.onload = on_load;\n",
       "      element.onerror = on_error;\n",
       "      element.rel = \"stylesheet\";\n",
       "      element.type = \"text/css\";\n",
       "      element.href = url;\n",
       "      console.debug(\"Bokeh: injecting link tag for BokehJS stylesheet: \", url);\n",
       "      document.body.appendChild(element);\n",
       "    }\n",
       "\n",
       "    const hashes = {\"https://cdn.bokeh.org/bokeh/release/bokeh-2.0.2.min.js\": \"ufR9RFnRs6lniiaFvtJziE0YeidtAgBRH6ux2oUItHw5WTvE1zuk9uzhUU/FJXDp\", \"https://cdn.bokeh.org/bokeh/release/bokeh-widgets-2.0.2.min.js\": \"8QM/PGWBT+IssZuRcDcjzwIh1mkOmJSoNMmyYDZbCfXJg3Ap1lEvdVgFuSAwhb/J\", \"https://cdn.bokeh.org/bokeh/release/bokeh-tables-2.0.2.min.js\": \"Jm8cH3Rg0P6UeZhVY5cLy1WzKajUT9KImCY+76hEqrcJt59/d8GPvFHjCkYgnSIn\", \"https://cdn.bokeh.org/bokeh/release/bokeh-gl-2.0.2.min.js\": \"Ozhzj+SI7ywm74aOI/UajcWz+C0NjsPunEVyVIrxzYkB+jA+2tUw8x5xJCbVtK5I\"};\n",
       "\n",
       "    for (var i = 0; i < js_urls.length; i++) {\n",
       "      var url = js_urls[i];\n",
       "      var element = document.createElement('script');\n",
       "      element.onload = on_load;\n",
       "      element.onerror = on_error;\n",
       "      element.async = false;\n",
       "      element.src = url;\n",
       "      if (url in hashes) {\n",
       "        element.crossOrigin = \"anonymous\";\n",
       "        element.integrity = \"sha384-\" + hashes[url];\n",
       "      }\n",
       "      console.debug(\"Bokeh: injecting script tag for BokehJS library: \", url);\n",
       "      document.head.appendChild(element);\n",
       "    }\n",
       "  };\n",
       "\n",
       "  function inject_raw_css(css) {\n",
       "    const element = document.createElement(\"style\");\n",
       "    element.appendChild(document.createTextNode(css));\n",
       "    document.body.appendChild(element);\n",
       "  }\n",
       "\n",
       "  \n",
       "  var js_urls = [\"https://cdn.bokeh.org/bokeh/release/bokeh-2.0.2.min.js\", \"https://cdn.bokeh.org/bokeh/release/bokeh-widgets-2.0.2.min.js\", \"https://cdn.bokeh.org/bokeh/release/bokeh-tables-2.0.2.min.js\", \"https://cdn.bokeh.org/bokeh/release/bokeh-gl-2.0.2.min.js\"];\n",
       "  var css_urls = [];\n",
       "  \n",
       "\n",
       "  var inline_js = [\n",
       "    function(Bokeh) {\n",
       "      Bokeh.set_log_level(\"info\");\n",
       "    },\n",
       "    function(Bokeh) {\n",
       "    \n",
       "    \n",
       "    }\n",
       "  ];\n",
       "\n",
       "  function run_inline_js() {\n",
       "    \n",
       "    if (root.Bokeh !== undefined || force === true) {\n",
       "      \n",
       "    for (var i = 0; i < inline_js.length; i++) {\n",
       "      inline_js[i].call(root, root.Bokeh);\n",
       "    }\n",
       "    } else if (Date.now() < root._bokeh_timeout) {\n",
       "      setTimeout(run_inline_js, 100);\n",
       "    } else if (!root._bokeh_failed_load) {\n",
       "      console.log(\"Bokeh: BokehJS failed to load within specified timeout.\");\n",
       "      root._bokeh_failed_load = true;\n",
       "    } else if (force !== true) {\n",
       "      var cell = $(document.getElementById(null)).parents('.cell').data().cell;\n",
       "      cell.output_area.append_execute_result(NB_LOAD_WARNING)\n",
       "    }\n",
       "\n",
       "  }\n",
       "\n",
       "  if (root._bokeh_is_loading === 0) {\n",
       "    console.debug(\"Bokeh: BokehJS loaded, going straight to plotting\");\n",
       "    run_inline_js();\n",
       "  } else {\n",
       "    load_libs(css_urls, js_urls, function() {\n",
       "      console.debug(\"Bokeh: BokehJS plotting callback run at\", now());\n",
       "      run_inline_js();\n",
       "    });\n",
       "  }\n",
       "}(window));"
      ],
      "application/vnd.bokehjs_load.v0+json": "\n(function(root) {\n  function now() {\n    return new Date();\n  }\n\n  var force = true;\n\n  if (typeof root._bokeh_onload_callbacks === \"undefined\" || force === true) {\n    root._bokeh_onload_callbacks = [];\n    root._bokeh_is_loading = undefined;\n  }\n\n  \n\n  \n  if (typeof (root._bokeh_timeout) === \"undefined\" || force === true) {\n    root._bokeh_timeout = Date.now() + 5000;\n    root._bokeh_failed_load = false;\n  }\n\n  var NB_LOAD_WARNING = {'data': {'text/html':\n     \"<div style='background-color: #fdd'>\\n\"+\n     \"<p>\\n\"+\n     \"BokehJS does not appear to have successfully loaded. If loading BokehJS from CDN, this \\n\"+\n     \"may be due to a slow or bad network connection. Possible fixes:\\n\"+\n     \"</p>\\n\"+\n     \"<ul>\\n\"+\n     \"<li>re-rerun `output_notebook()` to attempt to load from CDN again, or</li>\\n\"+\n     \"<li>use INLINE resources instead, as so:</li>\\n\"+\n     \"</ul>\\n\"+\n     \"<code>\\n\"+\n     \"from bokeh.resources import INLINE\\n\"+\n     \"output_notebook(resources=INLINE)\\n\"+\n     \"</code>\\n\"+\n     \"</div>\"}};\n\n  function display_loaded() {\n    var el = document.getElementById(null);\n    if (el != null) {\n      el.textContent = \"BokehJS is loading...\";\n    }\n    if (root.Bokeh !== undefined) {\n      if (el != null) {\n        el.textContent = \"BokehJS \" + root.Bokeh.version + \" successfully loaded.\";\n      }\n    } else if (Date.now() < root._bokeh_timeout) {\n      setTimeout(display_loaded, 100)\n    }\n  }\n\n\n  function run_callbacks() {\n    try {\n      root._bokeh_onload_callbacks.forEach(function(callback) {\n        if (callback != null)\n          callback();\n      });\n    } finally {\n      delete root._bokeh_onload_callbacks\n    }\n    console.debug(\"Bokeh: all callbacks have finished\");\n  }\n\n  function load_libs(css_urls, js_urls, callback) {\n    if (css_urls == null) css_urls = [];\n    if (js_urls == null) js_urls = [];\n\n    root._bokeh_onload_callbacks.push(callback);\n    if (root._bokeh_is_loading > 0) {\n      console.debug(\"Bokeh: BokehJS is being loaded, scheduling callback at\", now());\n      return null;\n    }\n    if (js_urls == null || js_urls.length === 0) {\n      run_callbacks();\n      return null;\n    }\n    console.debug(\"Bokeh: BokehJS not loaded, scheduling load and callback at\", now());\n    root._bokeh_is_loading = css_urls.length + js_urls.length;\n\n    function on_load() {\n      root._bokeh_is_loading--;\n      if (root._bokeh_is_loading === 0) {\n        console.debug(\"Bokeh: all BokehJS libraries/stylesheets loaded\");\n        run_callbacks()\n      }\n    }\n\n    function on_error() {\n      console.error(\"failed to load \" + url);\n    }\n\n    for (var i = 0; i < css_urls.length; i++) {\n      var url = css_urls[i];\n      const element = document.createElement(\"link\");\n      element.onload = on_load;\n      element.onerror = on_error;\n      element.rel = \"stylesheet\";\n      element.type = \"text/css\";\n      element.href = url;\n      console.debug(\"Bokeh: injecting link tag for BokehJS stylesheet: \", url);\n      document.body.appendChild(element);\n    }\n\n    const hashes = {\"https://cdn.bokeh.org/bokeh/release/bokeh-2.0.2.min.js\": \"ufR9RFnRs6lniiaFvtJziE0YeidtAgBRH6ux2oUItHw5WTvE1zuk9uzhUU/FJXDp\", \"https://cdn.bokeh.org/bokeh/release/bokeh-widgets-2.0.2.min.js\": \"8QM/PGWBT+IssZuRcDcjzwIh1mkOmJSoNMmyYDZbCfXJg3Ap1lEvdVgFuSAwhb/J\", \"https://cdn.bokeh.org/bokeh/release/bokeh-tables-2.0.2.min.js\": \"Jm8cH3Rg0P6UeZhVY5cLy1WzKajUT9KImCY+76hEqrcJt59/d8GPvFHjCkYgnSIn\", \"https://cdn.bokeh.org/bokeh/release/bokeh-gl-2.0.2.min.js\": \"Ozhzj+SI7ywm74aOI/UajcWz+C0NjsPunEVyVIrxzYkB+jA+2tUw8x5xJCbVtK5I\"};\n\n    for (var i = 0; i < js_urls.length; i++) {\n      var url = js_urls[i];\n      var element = document.createElement('script');\n      element.onload = on_load;\n      element.onerror = on_error;\n      element.async = false;\n      element.src = url;\n      if (url in hashes) {\n        element.crossOrigin = \"anonymous\";\n        element.integrity = \"sha384-\" + hashes[url];\n      }\n      console.debug(\"Bokeh: injecting script tag for BokehJS library: \", url);\n      document.head.appendChild(element);\n    }\n  };\n\n  function inject_raw_css(css) {\n    const element = document.createElement(\"style\");\n    element.appendChild(document.createTextNode(css));\n    document.body.appendChild(element);\n  }\n\n  \n  var js_urls = [\"https://cdn.bokeh.org/bokeh/release/bokeh-2.0.2.min.js\", \"https://cdn.bokeh.org/bokeh/release/bokeh-widgets-2.0.2.min.js\", \"https://cdn.bokeh.org/bokeh/release/bokeh-tables-2.0.2.min.js\", \"https://cdn.bokeh.org/bokeh/release/bokeh-gl-2.0.2.min.js\"];\n  var css_urls = [];\n  \n\n  var inline_js = [\n    function(Bokeh) {\n      Bokeh.set_log_level(\"info\");\n    },\n    function(Bokeh) {\n    \n    \n    }\n  ];\n\n  function run_inline_js() {\n    \n    if (root.Bokeh !== undefined || force === true) {\n      \n    for (var i = 0; i < inline_js.length; i++) {\n      inline_js[i].call(root, root.Bokeh);\n    }\n    } else if (Date.now() < root._bokeh_timeout) {\n      setTimeout(run_inline_js, 100);\n    } else if (!root._bokeh_failed_load) {\n      console.log(\"Bokeh: BokehJS failed to load within specified timeout.\");\n      root._bokeh_failed_load = true;\n    } else if (force !== true) {\n      var cell = $(document.getElementById(null)).parents('.cell').data().cell;\n      cell.output_area.append_execute_result(NB_LOAD_WARNING)\n    }\n\n  }\n\n  if (root._bokeh_is_loading === 0) {\n    console.debug(\"Bokeh: BokehJS loaded, going straight to plotting\");\n    run_inline_js();\n  } else {\n    load_libs(css_urls, js_urls, function() {\n      console.debug(\"Bokeh: BokehJS plotting callback run at\", now());\n      run_inline_js();\n    });\n  }\n}(window));"
     },
     "metadata": {},
     "output_type": "display_data"
    }
   ],
   "source": [
    "import pandas as pd\n",
    "import numpy as np\n",
    "\n",
    "%matplotlib inline\n",
    "import matplotlib.pyplot as plt\n",
    "import seaborn as sns\n",
    "\n",
    "from bokeh.plotting import figure \n",
    "import bokeh_catplot\n",
    "from bokeh.io import output_notebook, show\n",
    "\n",
    "\n",
    "output_notebook(resources=None, verbose=False, hide_banner=True)"
   ]
  },
  {
   "cell_type": "markdown",
   "metadata": {},
   "source": [
    "### Plotly"
   ]
  },
  {
   "cell_type": "code",
   "execution_count": 443,
   "metadata": {},
   "outputs": [
    {
     "name": "stdout",
     "output_type": "stream",
     "text": [
      "Templates configuration\n",
      "-----------------------\n",
      "    Default template: 'plotly'\n",
      "    Available templates:\n",
      "        ['ggplot2', 'seaborn', 'simple_white', 'plotly',\n",
      "         'plotly_white', 'plotly_dark', 'presentation', 'xgridoff',\n",
      "         'ygridoff', 'gridon', 'none']\n",
      "\n"
     ]
    }
   ],
   "source": [
    "# \"Regular\" Plotly\n",
    "\n",
    "import plotly.graph_objects as go\n",
    "import plotly.io as pio\n",
    "print(pio.templates)\n"
   ]
  },
  {
   "cell_type": "code",
   "execution_count": 444,
   "metadata": {},
   "outputs": [
    {
     "data": {
      "application/vnd.plotly.v1+json": {
       "config": {
        "plotlyServerURL": "https://plot.ly"
       },
       "data": [
        {
         "type": "bar",
         "y": [
          2,
          3,
          1
         ]
        }
       ],
       "layout": {
        "template": {
         "data": {
          "bar": [
           {
            "error_x": {
             "color": "#2a3f5f"
            },
            "error_y": {
             "color": "#2a3f5f"
            },
            "marker": {
             "line": {
              "color": "#E5ECF6",
              "width": 0.5
             }
            },
            "type": "bar"
           }
          ],
          "barpolar": [
           {
            "marker": {
             "line": {
              "color": "#E5ECF6",
              "width": 0.5
             }
            },
            "type": "barpolar"
           }
          ],
          "carpet": [
           {
            "aaxis": {
             "endlinecolor": "#2a3f5f",
             "gridcolor": "white",
             "linecolor": "white",
             "minorgridcolor": "white",
             "startlinecolor": "#2a3f5f"
            },
            "baxis": {
             "endlinecolor": "#2a3f5f",
             "gridcolor": "white",
             "linecolor": "white",
             "minorgridcolor": "white",
             "startlinecolor": "#2a3f5f"
            },
            "type": "carpet"
           }
          ],
          "choropleth": [
           {
            "colorbar": {
             "outlinewidth": 0,
             "ticks": ""
            },
            "type": "choropleth"
           }
          ],
          "contour": [
           {
            "colorbar": {
             "outlinewidth": 0,
             "ticks": ""
            },
            "colorscale": [
             [
              0,
              "#0d0887"
             ],
             [
              0.1111111111111111,
              "#46039f"
             ],
             [
              0.2222222222222222,
              "#7201a8"
             ],
             [
              0.3333333333333333,
              "#9c179e"
             ],
             [
              0.4444444444444444,
              "#bd3786"
             ],
             [
              0.5555555555555556,
              "#d8576b"
             ],
             [
              0.6666666666666666,
              "#ed7953"
             ],
             [
              0.7777777777777778,
              "#fb9f3a"
             ],
             [
              0.8888888888888888,
              "#fdca26"
             ],
             [
              1,
              "#f0f921"
             ]
            ],
            "type": "contour"
           }
          ],
          "contourcarpet": [
           {
            "colorbar": {
             "outlinewidth": 0,
             "ticks": ""
            },
            "type": "contourcarpet"
           }
          ],
          "heatmap": [
           {
            "colorbar": {
             "outlinewidth": 0,
             "ticks": ""
            },
            "colorscale": [
             [
              0,
              "#0d0887"
             ],
             [
              0.1111111111111111,
              "#46039f"
             ],
             [
              0.2222222222222222,
              "#7201a8"
             ],
             [
              0.3333333333333333,
              "#9c179e"
             ],
             [
              0.4444444444444444,
              "#bd3786"
             ],
             [
              0.5555555555555556,
              "#d8576b"
             ],
             [
              0.6666666666666666,
              "#ed7953"
             ],
             [
              0.7777777777777778,
              "#fb9f3a"
             ],
             [
              0.8888888888888888,
              "#fdca26"
             ],
             [
              1,
              "#f0f921"
             ]
            ],
            "type": "heatmap"
           }
          ],
          "heatmapgl": [
           {
            "colorbar": {
             "outlinewidth": 0,
             "ticks": ""
            },
            "colorscale": [
             [
              0,
              "#0d0887"
             ],
             [
              0.1111111111111111,
              "#46039f"
             ],
             [
              0.2222222222222222,
              "#7201a8"
             ],
             [
              0.3333333333333333,
              "#9c179e"
             ],
             [
              0.4444444444444444,
              "#bd3786"
             ],
             [
              0.5555555555555556,
              "#d8576b"
             ],
             [
              0.6666666666666666,
              "#ed7953"
             ],
             [
              0.7777777777777778,
              "#fb9f3a"
             ],
             [
              0.8888888888888888,
              "#fdca26"
             ],
             [
              1,
              "#f0f921"
             ]
            ],
            "type": "heatmapgl"
           }
          ],
          "histogram": [
           {
            "marker": {
             "colorbar": {
              "outlinewidth": 0,
              "ticks": ""
             }
            },
            "type": "histogram"
           }
          ],
          "histogram2d": [
           {
            "colorbar": {
             "outlinewidth": 0,
             "ticks": ""
            },
            "colorscale": [
             [
              0,
              "#0d0887"
             ],
             [
              0.1111111111111111,
              "#46039f"
             ],
             [
              0.2222222222222222,
              "#7201a8"
             ],
             [
              0.3333333333333333,
              "#9c179e"
             ],
             [
              0.4444444444444444,
              "#bd3786"
             ],
             [
              0.5555555555555556,
              "#d8576b"
             ],
             [
              0.6666666666666666,
              "#ed7953"
             ],
             [
              0.7777777777777778,
              "#fb9f3a"
             ],
             [
              0.8888888888888888,
              "#fdca26"
             ],
             [
              1,
              "#f0f921"
             ]
            ],
            "type": "histogram2d"
           }
          ],
          "histogram2dcontour": [
           {
            "colorbar": {
             "outlinewidth": 0,
             "ticks": ""
            },
            "colorscale": [
             [
              0,
              "#0d0887"
             ],
             [
              0.1111111111111111,
              "#46039f"
             ],
             [
              0.2222222222222222,
              "#7201a8"
             ],
             [
              0.3333333333333333,
              "#9c179e"
             ],
             [
              0.4444444444444444,
              "#bd3786"
             ],
             [
              0.5555555555555556,
              "#d8576b"
             ],
             [
              0.6666666666666666,
              "#ed7953"
             ],
             [
              0.7777777777777778,
              "#fb9f3a"
             ],
             [
              0.8888888888888888,
              "#fdca26"
             ],
             [
              1,
              "#f0f921"
             ]
            ],
            "type": "histogram2dcontour"
           }
          ],
          "mesh3d": [
           {
            "colorbar": {
             "outlinewidth": 0,
             "ticks": ""
            },
            "type": "mesh3d"
           }
          ],
          "parcoords": [
           {
            "line": {
             "colorbar": {
              "outlinewidth": 0,
              "ticks": ""
             }
            },
            "type": "parcoords"
           }
          ],
          "pie": [
           {
            "automargin": true,
            "type": "pie"
           }
          ],
          "scatter": [
           {
            "marker": {
             "colorbar": {
              "outlinewidth": 0,
              "ticks": ""
             }
            },
            "type": "scatter"
           }
          ],
          "scatter3d": [
           {
            "line": {
             "colorbar": {
              "outlinewidth": 0,
              "ticks": ""
             }
            },
            "marker": {
             "colorbar": {
              "outlinewidth": 0,
              "ticks": ""
             }
            },
            "type": "scatter3d"
           }
          ],
          "scattercarpet": [
           {
            "marker": {
             "colorbar": {
              "outlinewidth": 0,
              "ticks": ""
             }
            },
            "type": "scattercarpet"
           }
          ],
          "scattergeo": [
           {
            "marker": {
             "colorbar": {
              "outlinewidth": 0,
              "ticks": ""
             }
            },
            "type": "scattergeo"
           }
          ],
          "scattergl": [
           {
            "marker": {
             "colorbar": {
              "outlinewidth": 0,
              "ticks": ""
             }
            },
            "type": "scattergl"
           }
          ],
          "scattermapbox": [
           {
            "marker": {
             "colorbar": {
              "outlinewidth": 0,
              "ticks": ""
             }
            },
            "type": "scattermapbox"
           }
          ],
          "scatterpolar": [
           {
            "marker": {
             "colorbar": {
              "outlinewidth": 0,
              "ticks": ""
             }
            },
            "type": "scatterpolar"
           }
          ],
          "scatterpolargl": [
           {
            "marker": {
             "colorbar": {
              "outlinewidth": 0,
              "ticks": ""
             }
            },
            "type": "scatterpolargl"
           }
          ],
          "scatterternary": [
           {
            "marker": {
             "colorbar": {
              "outlinewidth": 0,
              "ticks": ""
             }
            },
            "type": "scatterternary"
           }
          ],
          "surface": [
           {
            "colorbar": {
             "outlinewidth": 0,
             "ticks": ""
            },
            "colorscale": [
             [
              0,
              "#0d0887"
             ],
             [
              0.1111111111111111,
              "#46039f"
             ],
             [
              0.2222222222222222,
              "#7201a8"
             ],
             [
              0.3333333333333333,
              "#9c179e"
             ],
             [
              0.4444444444444444,
              "#bd3786"
             ],
             [
              0.5555555555555556,
              "#d8576b"
             ],
             [
              0.6666666666666666,
              "#ed7953"
             ],
             [
              0.7777777777777778,
              "#fb9f3a"
             ],
             [
              0.8888888888888888,
              "#fdca26"
             ],
             [
              1,
              "#f0f921"
             ]
            ],
            "type": "surface"
           }
          ],
          "table": [
           {
            "cells": {
             "fill": {
              "color": "#EBF0F8"
             },
             "line": {
              "color": "white"
             }
            },
            "header": {
             "fill": {
              "color": "#C8D4E3"
             },
             "line": {
              "color": "white"
             }
            },
            "type": "table"
           }
          ]
         },
         "layout": {
          "annotationdefaults": {
           "arrowcolor": "#2a3f5f",
           "arrowhead": 0,
           "arrowwidth": 1
          },
          "coloraxis": {
           "colorbar": {
            "outlinewidth": 0,
            "ticks": ""
           }
          },
          "colorscale": {
           "diverging": [
            [
             0,
             "#8e0152"
            ],
            [
             0.1,
             "#c51b7d"
            ],
            [
             0.2,
             "#de77ae"
            ],
            [
             0.3,
             "#f1b6da"
            ],
            [
             0.4,
             "#fde0ef"
            ],
            [
             0.5,
             "#f7f7f7"
            ],
            [
             0.6,
             "#e6f5d0"
            ],
            [
             0.7,
             "#b8e186"
            ],
            [
             0.8,
             "#7fbc41"
            ],
            [
             0.9,
             "#4d9221"
            ],
            [
             1,
             "#276419"
            ]
           ],
           "sequential": [
            [
             0,
             "#0d0887"
            ],
            [
             0.1111111111111111,
             "#46039f"
            ],
            [
             0.2222222222222222,
             "#7201a8"
            ],
            [
             0.3333333333333333,
             "#9c179e"
            ],
            [
             0.4444444444444444,
             "#bd3786"
            ],
            [
             0.5555555555555556,
             "#d8576b"
            ],
            [
             0.6666666666666666,
             "#ed7953"
            ],
            [
             0.7777777777777778,
             "#fb9f3a"
            ],
            [
             0.8888888888888888,
             "#fdca26"
            ],
            [
             1,
             "#f0f921"
            ]
           ],
           "sequentialminus": [
            [
             0,
             "#0d0887"
            ],
            [
             0.1111111111111111,
             "#46039f"
            ],
            [
             0.2222222222222222,
             "#7201a8"
            ],
            [
             0.3333333333333333,
             "#9c179e"
            ],
            [
             0.4444444444444444,
             "#bd3786"
            ],
            [
             0.5555555555555556,
             "#d8576b"
            ],
            [
             0.6666666666666666,
             "#ed7953"
            ],
            [
             0.7777777777777778,
             "#fb9f3a"
            ],
            [
             0.8888888888888888,
             "#fdca26"
            ],
            [
             1,
             "#f0f921"
            ]
           ]
          },
          "colorway": [
           "#636efa",
           "#EF553B",
           "#00cc96",
           "#ab63fa",
           "#FFA15A",
           "#19d3f3",
           "#FF6692",
           "#B6E880",
           "#FF97FF",
           "#FECB52"
          ],
          "font": {
           "color": "#2a3f5f"
          },
          "geo": {
           "bgcolor": "white",
           "lakecolor": "white",
           "landcolor": "#E5ECF6",
           "showlakes": true,
           "showland": true,
           "subunitcolor": "white"
          },
          "hoverlabel": {
           "align": "left"
          },
          "hovermode": "closest",
          "mapbox": {
           "style": "light"
          },
          "paper_bgcolor": "white",
          "plot_bgcolor": "#E5ECF6",
          "polar": {
           "angularaxis": {
            "gridcolor": "white",
            "linecolor": "white",
            "ticks": ""
           },
           "bgcolor": "#E5ECF6",
           "radialaxis": {
            "gridcolor": "white",
            "linecolor": "white",
            "ticks": ""
           }
          },
          "scene": {
           "xaxis": {
            "backgroundcolor": "#E5ECF6",
            "gridcolor": "white",
            "gridwidth": 2,
            "linecolor": "white",
            "showbackground": true,
            "ticks": "",
            "zerolinecolor": "white"
           },
           "yaxis": {
            "backgroundcolor": "#E5ECF6",
            "gridcolor": "white",
            "gridwidth": 2,
            "linecolor": "white",
            "showbackground": true,
            "ticks": "",
            "zerolinecolor": "white"
           },
           "zaxis": {
            "backgroundcolor": "#E5ECF6",
            "gridcolor": "white",
            "gridwidth": 2,
            "linecolor": "white",
            "showbackground": true,
            "ticks": "",
            "zerolinecolor": "white"
           }
          },
          "shapedefaults": {
           "line": {
            "color": "#2a3f5f"
           }
          },
          "ternary": {
           "aaxis": {
            "gridcolor": "white",
            "linecolor": "white",
            "ticks": ""
           },
           "baxis": {
            "gridcolor": "white",
            "linecolor": "white",
            "ticks": ""
           },
           "bgcolor": "#E5ECF6",
           "caxis": {
            "gridcolor": "white",
            "linecolor": "white",
            "ticks": ""
           }
          },
          "title": {
           "x": 0.05
          },
          "xaxis": {
           "automargin": true,
           "gridcolor": "white",
           "linecolor": "white",
           "ticks": "",
           "title": {
            "standoff": 15
           },
           "zerolinecolor": "white",
           "zerolinewidth": 2
          },
          "yaxis": {
           "automargin": true,
           "gridcolor": "white",
           "linecolor": "white",
           "ticks": "",
           "title": {
            "standoff": 15
           },
           "zerolinecolor": "white",
           "zerolinewidth": 2
          }
         }
        }
       }
      },
      "text/html": [
       "<div>\n",
       "        \n",
       "        \n",
       "            <div id=\"77da8758-2168-42ba-8577-026d931dab39\" class=\"plotly-graph-div\" style=\"height:525px; width:100%;\"></div>\n",
       "            <script type=\"text/javascript\">\n",
       "                require([\"plotly\"], function(Plotly) {\n",
       "                    window.PLOTLYENV=window.PLOTLYENV || {};\n",
       "                    \n",
       "                if (document.getElementById(\"77da8758-2168-42ba-8577-026d931dab39\")) {\n",
       "                    Plotly.newPlot(\n",
       "                        '77da8758-2168-42ba-8577-026d931dab39',\n",
       "                        [{\"type\": \"bar\", \"y\": [2, 3, 1]}],\n",
       "                        {\"template\": {\"data\": {\"bar\": [{\"error_x\": {\"color\": \"#2a3f5f\"}, \"error_y\": {\"color\": \"#2a3f5f\"}, \"marker\": {\"line\": {\"color\": \"#E5ECF6\", \"width\": 0.5}}, \"type\": \"bar\"}], \"barpolar\": [{\"marker\": {\"line\": {\"color\": \"#E5ECF6\", \"width\": 0.5}}, \"type\": \"barpolar\"}], \"carpet\": [{\"aaxis\": {\"endlinecolor\": \"#2a3f5f\", \"gridcolor\": \"white\", \"linecolor\": \"white\", \"minorgridcolor\": \"white\", \"startlinecolor\": \"#2a3f5f\"}, \"baxis\": {\"endlinecolor\": \"#2a3f5f\", \"gridcolor\": \"white\", \"linecolor\": \"white\", \"minorgridcolor\": \"white\", \"startlinecolor\": \"#2a3f5f\"}, \"type\": \"carpet\"}], \"choropleth\": [{\"colorbar\": {\"outlinewidth\": 0, \"ticks\": \"\"}, \"type\": \"choropleth\"}], \"contour\": [{\"colorbar\": {\"outlinewidth\": 0, \"ticks\": \"\"}, \"colorscale\": [[0.0, \"#0d0887\"], [0.1111111111111111, \"#46039f\"], [0.2222222222222222, \"#7201a8\"], [0.3333333333333333, \"#9c179e\"], [0.4444444444444444, \"#bd3786\"], [0.5555555555555556, \"#d8576b\"], [0.6666666666666666, \"#ed7953\"], [0.7777777777777778, \"#fb9f3a\"], [0.8888888888888888, \"#fdca26\"], [1.0, \"#f0f921\"]], \"type\": \"contour\"}], \"contourcarpet\": [{\"colorbar\": {\"outlinewidth\": 0, \"ticks\": \"\"}, \"type\": \"contourcarpet\"}], \"heatmap\": [{\"colorbar\": {\"outlinewidth\": 0, \"ticks\": \"\"}, \"colorscale\": [[0.0, \"#0d0887\"], [0.1111111111111111, \"#46039f\"], [0.2222222222222222, \"#7201a8\"], [0.3333333333333333, \"#9c179e\"], [0.4444444444444444, \"#bd3786\"], [0.5555555555555556, \"#d8576b\"], [0.6666666666666666, \"#ed7953\"], [0.7777777777777778, \"#fb9f3a\"], [0.8888888888888888, \"#fdca26\"], [1.0, \"#f0f921\"]], \"type\": \"heatmap\"}], \"heatmapgl\": [{\"colorbar\": {\"outlinewidth\": 0, \"ticks\": \"\"}, \"colorscale\": [[0.0, \"#0d0887\"], [0.1111111111111111, \"#46039f\"], [0.2222222222222222, \"#7201a8\"], [0.3333333333333333, \"#9c179e\"], [0.4444444444444444, \"#bd3786\"], [0.5555555555555556, \"#d8576b\"], [0.6666666666666666, \"#ed7953\"], [0.7777777777777778, \"#fb9f3a\"], [0.8888888888888888, \"#fdca26\"], [1.0, \"#f0f921\"]], \"type\": \"heatmapgl\"}], \"histogram\": [{\"marker\": {\"colorbar\": {\"outlinewidth\": 0, \"ticks\": \"\"}}, \"type\": \"histogram\"}], \"histogram2d\": [{\"colorbar\": {\"outlinewidth\": 0, \"ticks\": \"\"}, \"colorscale\": [[0.0, \"#0d0887\"], [0.1111111111111111, \"#46039f\"], [0.2222222222222222, \"#7201a8\"], [0.3333333333333333, \"#9c179e\"], [0.4444444444444444, \"#bd3786\"], [0.5555555555555556, \"#d8576b\"], [0.6666666666666666, \"#ed7953\"], [0.7777777777777778, \"#fb9f3a\"], [0.8888888888888888, \"#fdca26\"], [1.0, \"#f0f921\"]], \"type\": \"histogram2d\"}], \"histogram2dcontour\": [{\"colorbar\": {\"outlinewidth\": 0, \"ticks\": \"\"}, \"colorscale\": [[0.0, \"#0d0887\"], [0.1111111111111111, \"#46039f\"], [0.2222222222222222, \"#7201a8\"], [0.3333333333333333, \"#9c179e\"], [0.4444444444444444, \"#bd3786\"], [0.5555555555555556, \"#d8576b\"], [0.6666666666666666, \"#ed7953\"], [0.7777777777777778, \"#fb9f3a\"], [0.8888888888888888, \"#fdca26\"], [1.0, \"#f0f921\"]], \"type\": \"histogram2dcontour\"}], \"mesh3d\": [{\"colorbar\": {\"outlinewidth\": 0, \"ticks\": \"\"}, \"type\": \"mesh3d\"}], \"parcoords\": [{\"line\": {\"colorbar\": {\"outlinewidth\": 0, \"ticks\": \"\"}}, \"type\": \"parcoords\"}], \"pie\": [{\"automargin\": true, \"type\": \"pie\"}], \"scatter\": [{\"marker\": {\"colorbar\": {\"outlinewidth\": 0, \"ticks\": \"\"}}, \"type\": \"scatter\"}], \"scatter3d\": [{\"line\": {\"colorbar\": {\"outlinewidth\": 0, \"ticks\": \"\"}}, \"marker\": {\"colorbar\": {\"outlinewidth\": 0, \"ticks\": \"\"}}, \"type\": \"scatter3d\"}], \"scattercarpet\": [{\"marker\": {\"colorbar\": {\"outlinewidth\": 0, \"ticks\": \"\"}}, \"type\": \"scattercarpet\"}], \"scattergeo\": [{\"marker\": {\"colorbar\": {\"outlinewidth\": 0, \"ticks\": \"\"}}, \"type\": \"scattergeo\"}], \"scattergl\": [{\"marker\": {\"colorbar\": {\"outlinewidth\": 0, \"ticks\": \"\"}}, \"type\": \"scattergl\"}], \"scattermapbox\": [{\"marker\": {\"colorbar\": {\"outlinewidth\": 0, \"ticks\": \"\"}}, \"type\": \"scattermapbox\"}], \"scatterpolar\": [{\"marker\": {\"colorbar\": {\"outlinewidth\": 0, \"ticks\": \"\"}}, \"type\": \"scatterpolar\"}], \"scatterpolargl\": [{\"marker\": {\"colorbar\": {\"outlinewidth\": 0, \"ticks\": \"\"}}, \"type\": \"scatterpolargl\"}], \"scatterternary\": [{\"marker\": {\"colorbar\": {\"outlinewidth\": 0, \"ticks\": \"\"}}, \"type\": \"scatterternary\"}], \"surface\": [{\"colorbar\": {\"outlinewidth\": 0, \"ticks\": \"\"}, \"colorscale\": [[0.0, \"#0d0887\"], [0.1111111111111111, \"#46039f\"], [0.2222222222222222, \"#7201a8\"], [0.3333333333333333, \"#9c179e\"], [0.4444444444444444, \"#bd3786\"], [0.5555555555555556, \"#d8576b\"], [0.6666666666666666, \"#ed7953\"], [0.7777777777777778, \"#fb9f3a\"], [0.8888888888888888, \"#fdca26\"], [1.0, \"#f0f921\"]], \"type\": \"surface\"}], \"table\": [{\"cells\": {\"fill\": {\"color\": \"#EBF0F8\"}, \"line\": {\"color\": \"white\"}}, \"header\": {\"fill\": {\"color\": \"#C8D4E3\"}, \"line\": {\"color\": \"white\"}}, \"type\": \"table\"}]}, \"layout\": {\"annotationdefaults\": {\"arrowcolor\": \"#2a3f5f\", \"arrowhead\": 0, \"arrowwidth\": 1}, \"coloraxis\": {\"colorbar\": {\"outlinewidth\": 0, \"ticks\": \"\"}}, \"colorscale\": {\"diverging\": [[0, \"#8e0152\"], [0.1, \"#c51b7d\"], [0.2, \"#de77ae\"], [0.3, \"#f1b6da\"], [0.4, \"#fde0ef\"], [0.5, \"#f7f7f7\"], [0.6, \"#e6f5d0\"], [0.7, \"#b8e186\"], [0.8, \"#7fbc41\"], [0.9, \"#4d9221\"], [1, \"#276419\"]], \"sequential\": [[0.0, \"#0d0887\"], [0.1111111111111111, \"#46039f\"], [0.2222222222222222, \"#7201a8\"], [0.3333333333333333, \"#9c179e\"], [0.4444444444444444, \"#bd3786\"], [0.5555555555555556, \"#d8576b\"], [0.6666666666666666, \"#ed7953\"], [0.7777777777777778, \"#fb9f3a\"], [0.8888888888888888, \"#fdca26\"], [1.0, \"#f0f921\"]], \"sequentialminus\": [[0.0, \"#0d0887\"], [0.1111111111111111, \"#46039f\"], [0.2222222222222222, \"#7201a8\"], [0.3333333333333333, \"#9c179e\"], [0.4444444444444444, \"#bd3786\"], [0.5555555555555556, \"#d8576b\"], [0.6666666666666666, \"#ed7953\"], [0.7777777777777778, \"#fb9f3a\"], [0.8888888888888888, \"#fdca26\"], [1.0, \"#f0f921\"]]}, \"colorway\": [\"#636efa\", \"#EF553B\", \"#00cc96\", \"#ab63fa\", \"#FFA15A\", \"#19d3f3\", \"#FF6692\", \"#B6E880\", \"#FF97FF\", \"#FECB52\"], \"font\": {\"color\": \"#2a3f5f\"}, \"geo\": {\"bgcolor\": \"white\", \"lakecolor\": \"white\", \"landcolor\": \"#E5ECF6\", \"showlakes\": true, \"showland\": true, \"subunitcolor\": \"white\"}, \"hoverlabel\": {\"align\": \"left\"}, \"hovermode\": \"closest\", \"mapbox\": {\"style\": \"light\"}, \"paper_bgcolor\": \"white\", \"plot_bgcolor\": \"#E5ECF6\", \"polar\": {\"angularaxis\": {\"gridcolor\": \"white\", \"linecolor\": \"white\", \"ticks\": \"\"}, \"bgcolor\": \"#E5ECF6\", \"radialaxis\": {\"gridcolor\": \"white\", \"linecolor\": \"white\", \"ticks\": \"\"}}, \"scene\": {\"xaxis\": {\"backgroundcolor\": \"#E5ECF6\", \"gridcolor\": \"white\", \"gridwidth\": 2, \"linecolor\": \"white\", \"showbackground\": true, \"ticks\": \"\", \"zerolinecolor\": \"white\"}, \"yaxis\": {\"backgroundcolor\": \"#E5ECF6\", \"gridcolor\": \"white\", \"gridwidth\": 2, \"linecolor\": \"white\", \"showbackground\": true, \"ticks\": \"\", \"zerolinecolor\": \"white\"}, \"zaxis\": {\"backgroundcolor\": \"#E5ECF6\", \"gridcolor\": \"white\", \"gridwidth\": 2, \"linecolor\": \"white\", \"showbackground\": true, \"ticks\": \"\", \"zerolinecolor\": \"white\"}}, \"shapedefaults\": {\"line\": {\"color\": \"#2a3f5f\"}}, \"ternary\": {\"aaxis\": {\"gridcolor\": \"white\", \"linecolor\": \"white\", \"ticks\": \"\"}, \"baxis\": {\"gridcolor\": \"white\", \"linecolor\": \"white\", \"ticks\": \"\"}, \"bgcolor\": \"#E5ECF6\", \"caxis\": {\"gridcolor\": \"white\", \"linecolor\": \"white\", \"ticks\": \"\"}}, \"title\": {\"x\": 0.05}, \"xaxis\": {\"automargin\": true, \"gridcolor\": \"white\", \"linecolor\": \"white\", \"ticks\": \"\", \"title\": {\"standoff\": 15}, \"zerolinecolor\": \"white\", \"zerolinewidth\": 2}, \"yaxis\": {\"automargin\": true, \"gridcolor\": \"white\", \"linecolor\": \"white\", \"ticks\": \"\", \"title\": {\"standoff\": 15}, \"zerolinecolor\": \"white\", \"zerolinewidth\": 2}}}},\n",
       "                        {\"responsive\": true}\n",
       "                    ).then(function(){\n",
       "                            \n",
       "var gd = document.getElementById('77da8758-2168-42ba-8577-026d931dab39');\n",
       "var x = new MutationObserver(function (mutations, observer) {{\n",
       "        var display = window.getComputedStyle(gd).display;\n",
       "        if (!display || display === 'none') {{\n",
       "            console.log([gd, 'removed!']);\n",
       "            Plotly.purge(gd);\n",
       "            observer.disconnect();\n",
       "        }}\n",
       "}});\n",
       "\n",
       "// Listen for the removal of the full notebook cells\n",
       "var notebookContainer = gd.closest('#notebook-container');\n",
       "if (notebookContainer) {{\n",
       "    x.observe(notebookContainer, {childList: true});\n",
       "}}\n",
       "\n",
       "// Listen for the clearing of the current output cell\n",
       "var outputEl = gd.closest('.output');\n",
       "if (outputEl) {{\n",
       "    x.observe(outputEl, {childList: true});\n",
       "}}\n",
       "\n",
       "                        })\n",
       "                };\n",
       "                });\n",
       "            </script>\n",
       "        </div>"
      ]
     },
     "metadata": {},
     "output_type": "display_data"
    }
   ],
   "source": [
    "fig = go.Figure(data=go.Bar(y=[2, 3, 1]))\n",
    "fig.show()"
   ]
  },
  {
   "cell_type": "markdown",
   "metadata": {},
   "source": [
    "### Plotly express"
   ]
  },
  {
   "cell_type": "code",
   "execution_count": 445,
   "metadata": {},
   "outputs": [
    {
     "data": {
      "application/vnd.plotly.v1+json": {
       "config": {
        "plotlyServerURL": "https://plot.ly"
       },
       "data": [
        {
         "hovertemplate": "year=%{x}<br>price_raw=%{y}<extra></extra>",
         "legendgroup": "",
         "marker": {
          "color": "#1F77B4",
          "symbol": "circle"
         },
         "mode": "markers",
         "name": "",
         "showlegend": false,
         "type": "scatter",
         "x": [
          2009,
          2008,
          2009,
          2009,
          2006,
          2008,
          2008,
          2009,
          2008,
          2009,
          2006,
          2005,
          2007,
          2007,
          2007,
          2010,
          2008,
          2006,
          2006,
          2010,
          2009,
          2009,
          2006,
          2008,
          2010,
          2006,
          2010,
          2006,
          2006,
          2008,
          2009,
          2008,
          2010,
          2009,
          2008,
          2008,
          2008,
          2007,
          2008,
          2007,
          2007,
          2011,
          2008,
          2009,
          2008,
          2006,
          2007,
          2010,
          2008,
          2011,
          2008,
          2010,
          2009,
          2007,
          2006,
          2009,
          2007,
          2007,
          2009,
          2006,
          2006,
          2006,
          2007,
          2009,
          2010,
          2008,
          2008,
          2006,
          2009,
          2009,
          2007,
          2007,
          2010,
          2008,
          2007,
          2010,
          2007,
          2009,
          2008,
          2009,
          2011,
          2010,
          2010,
          2009,
          2008,
          2006,
          2011,
          2007,
          2006,
          2011,
          2008,
          2011,
          2008,
          2007,
          2010,
          2010,
          2009,
          2009,
          2010,
          2006,
          2006,
          2007,
          2006,
          2010,
          2007,
          2008,
          2007,
          2009,
          2009,
          2007,
          2007,
          2007,
          2008,
          2010,
          2007,
          2007,
          2010,
          2009,
          2007,
          2006,
          2006,
          2009,
          2009,
          2006,
          2006,
          2006,
          2006,
          2008,
          2008,
          2008,
          2008,
          2009,
          2009,
          2011,
          2009,
          2009,
          2006,
          2006,
          2009,
          2010,
          2010,
          2006,
          2010,
          2010,
          2008,
          2006,
          2006,
          2006,
          2006,
          2006,
          2009,
          2009,
          2009,
          2008,
          2009,
          2006,
          2010,
          2009,
          2009,
          2008,
          2008,
          2010,
          2007,
          2007,
          2009,
          2007,
          2011,
          2009,
          2007,
          2006,
          2007,
          2006,
          2009,
          2009,
          2009,
          2010,
          2007,
          2007,
          2006,
          2009,
          2011,
          2008,
          2008,
          2010,
          2008,
          2009,
          2008,
          2007,
          2007,
          2006,
          2006,
          2006,
          2007,
          2008,
          2011,
          2009,
          2007,
          2008,
          2006,
          2006,
          2010,
          2010,
          2008,
          2006,
          2006,
          2006,
          2007,
          2006,
          2008,
          2006,
          2008,
          2007,
          2009,
          2008,
          2002,
          2009,
          2006,
          2007,
          2007,
          2010,
          2010,
          2010,
          2010,
          2008,
          2008,
          2009,
          2011,
          2006,
          2007,
          2006,
          2006,
          2006,
          2006,
          2009,
          2008,
          2007,
          2007,
          2007,
          2008,
          2007,
          2009,
          2010,
          2009,
          2011,
          2010,
          2009,
          2011,
          2011,
          2005,
          2005,
          2008,
          2006,
          2008,
          2011,
          2009,
          2011,
          2011,
          2011,
          2008,
          2007,
          2010,
          2007,
          2007,
          2010,
          2010,
          2010,
          2010,
          2006,
          2006,
          2006,
          2006,
          2006,
          2006,
          2006,
          2008,
          2008,
          2009,
          2006,
          2008,
          2009,
          2009,
          2008,
          2010,
          2011,
          2008,
          2010,
          2006,
          2009,
          2008,
          2009,
          2005,
          2009,
          2010,
          2009,
          2009,
          2008,
          2006,
          2009,
          2008,
          2009,
          2007,
          2008,
          2007,
          2007,
          2009,
          2009,
          2009,
          2006,
          2007,
          2009,
          2009,
          2006,
          2007,
          2007,
          2007,
          2006,
          2007,
          2009,
          2009,
          2006,
          2006,
          2006,
          2008,
          2006,
          2011,
          2009,
          2009,
          2007,
          2006,
          2006,
          2010,
          2010,
          2008,
          2006,
          2008,
          2009,
          2009,
          2009,
          2006,
          2009,
          2009,
          2008,
          2008,
          2007,
          2007,
          2007,
          2007,
          2006,
          2008,
          2008,
          2009,
          2009,
          2007,
          2007,
          2010,
          2010,
          2010,
          2007,
          2007,
          2009,
          2009,
          2009,
          2014,
          2016,
          2007,
          2010,
          2010,
          2010,
          2010,
          2010,
          2010,
          2010,
          2010,
          2010,
          2010,
          2010,
          2006,
          2008,
          2010,
          2009,
          2006,
          2006,
          2006,
          2006,
          2006,
          2006,
          2006,
          2006,
          2007,
          2007,
          2010,
          2010,
          2010,
          2009,
          2009,
          2009,
          2008,
          2006,
          2009,
          2009,
          2011,
          2010,
          2009,
          2009,
          2008,
          2006,
          2006,
          2006,
          2007,
          2008,
          2008,
          2008,
          2008,
          2006,
          2010,
          2006,
          2011,
          2006,
          2008,
          2011,
          2010,
          2007,
          2007
         ],
         "xaxis": "x",
         "y": [
          6200,
          4700,
          19800,
          14900,
          9500,
          13900,
          14900,
          15900,
          16900,
          6900,
          16900,
          16500,
          14900,
          15900,
          16600,
          17900,
          14900,
          15900,
          11900,
          18999,
          16900,
          18800,
          9900,
          9900,
          22500,
          14900,
          15900,
          12900,
          13600,
          15900,
          13500,
          14200,
          19900,
          14900,
          12900,
          13500,
          13800,
          13900,
          14800,
          10999,
          7900,
          17900,
          18900,
          13700,
          15500,
          9999,
          9500,
          18800,
          11900,
          19900,
          14999,
          21900,
          13900,
          17900,
          16900,
          18900,
          16900,
          9900,
          15900,
          12700,
          13200,
          10500,
          21900,
          19900,
          16800,
          10999,
          11500,
          11900,
          8200,
          18888,
          9900,
          16400,
          17999,
          17400,
          15900,
          4100,
          13600,
          17300,
          15800,
          15999,
          19900,
          16900,
          22000,
          21000,
          16900,
          16900,
          17400,
          18300,
          13800,
          20999,
          15500,
          21999,
          9200,
          4390.240234375,
          12900,
          14990,
          17500,
          16900,
          16500,
          14500,
          14900,
          15999,
          11700,
          10500,
          10999,
          12999,
          8000,
          12880,
          16900,
          8900,
          9999,
          12900,
          11900,
          22000,
          14900,
          15900,
          18500,
          17900,
          10500,
          15900,
          16900,
          16999,
          18900,
          12000,
          13200,
          12300,
          14200,
          12900,
          13500,
          13900,
          11500,
          14990,
          15900,
          19900,
          18900,
          21900,
          13300,
          13600,
          14900,
          15900,
          16900,
          11900,
          16801,
          17001,
          16900,
          11700,
          14900,
          13200,
          14100,
          15000,
          18900,
          19900,
          20900,
          16999,
          17500,
          9900,
          16000,
          18900,
          20900,
          8300,
          12250,
          13900,
          11500,
          15900,
          13900,
          13900,
          15900,
          18900,
          13800,
          10999,
          11000,
          10500,
          15500,
          15900,
          18900,
          15500,
          16200,
          16999,
          13999,
          18800,
          15900,
          18900,
          12900,
          19900,
          12900,
          18900,
          15900,
          14900,
          15900,
          10900,
          11500,
          8500,
          10900,
          11900,
          25990,
          18900,
          12200,
          6500,
          13300,
          9900,
          19900,
          20900,
          14900,
          12900,
          16900,
          13800,
          13800,
          13900,
          13999,
          13900,
          13800,
          15500,
          19900,
          15900,
          8700,
          20800,
          12900,
          14999,
          15999,
          17000,
          17500,
          17900,
          18500,
          14900,
          2900,
          17900,
          20900,
          10400,
          16900,
          11500,
          13900,
          11900,
          12900,
          17900,
          18500,
          14500,
          15000,
          15500,
          16900,
          15900,
          14500,
          15500,
          14800,
          15900,
          15000,
          8500,
          18900,
          19800,
          11900,
          12900,
          15900,
          11200,
          4799,
          17500,
          15700,
          17800,
          17899,
          17900,
          13900,
          20900,
          17500,
          12900,
          17900,
          17500,
          16900,
          17600,
          16600,
          15700,
          11499,
          13999,
          14499,
          14500,
          12900,
          13500,
          16999,
          17900,
          10400,
          15200,
          16900,
          18900,
          19500,
          16900,
          17900,
          16300,
          16900,
          18600,
          14500,
          18900,
          16900,
          14500,
          5500,
          13499,
          10500,
          16900,
          17900,
          19900,
          10500,
          15999,
          15900,
          15900,
          13800,
          15900,
          10900,
          11900,
          14900,
          15400,
          15900,
          12500,
          17500,
          15500,
          14900,
          14400,
          12600,
          13400,
          15500,
          9900,
          16900,
          19300,
          19900,
          17800,
          18600,
          13300,
          17900,
          15600,
          21999,
          12900,
          14900,
          6900,
          9999,
          10000,
          16800,
          16900,
          13250,
          9990,
          17900,
          13000,
          14500,
          15500,
          16900,
          5284.5498046875,
          5609.759765625,
          11900,
          12500,
          13500,
          13900,
          14500,
          14900,
          11900,
          16400,
          17900,
          16700,
          17700,
          13900,
          14700,
          16800,
          17500,
          17800,
          11999,
          12999,
          14500,
          12000,
          11900,
          25900,
          28900,
          14900,
          14600,
          14900,
          15300,
          15600,
          13900,
          14200,
          14900,
          15500,
          17500,
          15200,
          15900,
          11900,
          12900,
          21999,
          17800,
          7400,
          7500,
          7700,
          7900,
          8200,
          8300,
          8500,
          8900,
          14900,
          15900,
          12900,
          13500,
          14900,
          13000,
          15900,
          16600,
          11600,
          13900,
          16700,
          17700,
          15900,
          17700,
          18900,
          17900,
          8000,
          8500,
          9300,
          9900,
          12900,
          15100,
          17900,
          12500,
          11900,
          11500,
          16900,
          13500,
          22900,
          10900,
          15900,
          21900,
          17999,
          12900,
          14000
         ],
         "yaxis": "y"
        }
       ],
       "layout": {
        "legend": {
         "tracegroupgap": 0
        },
        "margin": {
         "t": 60
        },
        "template": {
         "data": {
          "pie": [
           {
            "automargin": true,
            "type": "pie"
           }
          ],
          "scatter": [
           {
            "line": {
             "width": 3
            },
            "marker": {
             "size": 9
            },
            "type": "scatter"
           }
          ],
          "scatter3d": [
           {
            "line": {
             "width": 3
            },
            "marker": {
             "size": 9
            },
            "type": "scatter3d"
           }
          ],
          "scattergeo": [
           {
            "line": {
             "width": 3
            },
            "marker": {
             "size": 9
            },
            "type": "scattergeo"
           }
          ],
          "scattergl": [
           {
            "line": {
             "width": 3
            },
            "marker": {
             "size": 9
            },
            "type": "scattergl"
           }
          ],
          "scatterpolar": [
           {
            "line": {
             "width": 3
            },
            "marker": {
             "size": 9
            },
            "type": "scatterpolar"
           }
          ],
          "scatterpolargl": [
           {
            "line": {
             "width": 3
            },
            "marker": {
             "size": 9
            },
            "type": "scatterpolargl"
           }
          ],
          "scatterternary": [
           {
            "line": {
             "width": 3
            },
            "marker": {
             "size": 9
            },
            "type": "scatterternary"
           }
          ],
          "table": [
           {
            "cells": {
             "height": 30
            },
            "header": {
             "height": 36
            },
            "type": "table"
           }
          ]
         },
         "layout": {
          "font": {
           "size": 18
          },
          "xaxis": {
           "title": {
            "standoff": 15
           }
          },
          "yaxis": {
           "title": {
            "standoff": 15
           }
          }
         }
        },
        "xaxis": {
         "anchor": "y",
         "domain": [
          0,
          1
         ],
         "title": {
          "text": "year"
         }
        },
        "yaxis": {
         "anchor": "x",
         "domain": [
          0,
          1
         ],
         "title": {
          "text": "price_raw"
         }
        }
       }
      },
      "text/html": [
       "<div>\n",
       "        \n",
       "        \n",
       "            <div id=\"335724c7-c882-4a15-b4cc-4fe98c02d721\" class=\"plotly-graph-div\" style=\"height:525px; width:100%;\"></div>\n",
       "            <script type=\"text/javascript\">\n",
       "                require([\"plotly\"], function(Plotly) {\n",
       "                    window.PLOTLYENV=window.PLOTLYENV || {};\n",
       "                    \n",
       "                if (document.getElementById(\"335724c7-c882-4a15-b4cc-4fe98c02d721\")) {\n",
       "                    Plotly.newPlot(\n",
       "                        '335724c7-c882-4a15-b4cc-4fe98c02d721',\n",
       "                        [{\"hovertemplate\": \"year=%{x}<br>price_raw=%{y}<extra></extra>\", \"legendgroup\": \"\", \"marker\": {\"color\": \"#1F77B4\", \"symbol\": \"circle\"}, \"mode\": \"markers\", \"name\": \"\", \"showlegend\": false, \"type\": \"scatter\", \"x\": [2009, 2008, 2009, 2009, 2006, 2008, 2008, 2009, 2008, 2009, 2006, 2005, 2007, 2007, 2007, 2010, 2008, 2006, 2006, 2010, 2009, 2009, 2006, 2008, 2010, 2006, 2010, 2006, 2006, 2008, 2009, 2008, 2010, 2009, 2008, 2008, 2008, 2007, 2008, 2007, 2007, 2011, 2008, 2009, 2008, 2006, 2007, 2010, 2008, 2011, 2008, 2010, 2009, 2007, 2006, 2009, 2007, 2007, 2009, 2006, 2006, 2006, 2007, 2009, 2010, 2008, 2008, 2006, 2009, 2009, 2007, 2007, 2010, 2008, 2007, 2010, 2007, 2009, 2008, 2009, 2011, 2010, 2010, 2009, 2008, 2006, 2011, 2007, 2006, 2011, 2008, 2011, 2008, 2007, 2010, 2010, 2009, 2009, 2010, 2006, 2006, 2007, 2006, 2010, 2007, 2008, 2007, 2009, 2009, 2007, 2007, 2007, 2008, 2010, 2007, 2007, 2010, 2009, 2007, 2006, 2006, 2009, 2009, 2006, 2006, 2006, 2006, 2008, 2008, 2008, 2008, 2009, 2009, 2011, 2009, 2009, 2006, 2006, 2009, 2010, 2010, 2006, 2010, 2010, 2008, 2006, 2006, 2006, 2006, 2006, 2009, 2009, 2009, 2008, 2009, 2006, 2010, 2009, 2009, 2008, 2008, 2010, 2007, 2007, 2009, 2007, 2011, 2009, 2007, 2006, 2007, 2006, 2009, 2009, 2009, 2010, 2007, 2007, 2006, 2009, 2011, 2008, 2008, 2010, 2008, 2009, 2008, 2007, 2007, 2006, 2006, 2006, 2007, 2008, 2011, 2009, 2007, 2008, 2006, 2006, 2010, 2010, 2008, 2006, 2006, 2006, 2007, 2006, 2008, 2006, 2008, 2007, 2009, 2008, 2002, 2009, 2006, 2007, 2007, 2010, 2010, 2010, 2010, 2008, 2008, 2009, 2011, 2006, 2007, 2006, 2006, 2006, 2006, 2009, 2008, 2007, 2007, 2007, 2008, 2007, 2009, 2010, 2009, 2011, 2010, 2009, 2011, 2011, 2005, 2005, 2008, 2006, 2008, 2011, 2009, 2011, 2011, 2011, 2008, 2007, 2010, 2007, 2007, 2010, 2010, 2010, 2010, 2006, 2006, 2006, 2006, 2006, 2006, 2006, 2008, 2008, 2009, 2006, 2008, 2009, 2009, 2008, 2010, 2011, 2008, 2010, 2006, 2009, 2008, 2009, 2005, 2009, 2010, 2009, 2009, 2008, 2006, 2009, 2008, 2009, 2007, 2008, 2007, 2007, 2009, 2009, 2009, 2006, 2007, 2009, 2009, 2006, 2007, 2007, 2007, 2006, 2007, 2009, 2009, 2006, 2006, 2006, 2008, 2006, 2011, 2009, 2009, 2007, 2006, 2006, 2010, 2010, 2008, 2006, 2008, 2009, 2009, 2009, 2006, 2009, 2009, 2008, 2008, 2007, 2007, 2007, 2007, 2006, 2008, 2008, 2009, 2009, 2007, 2007, 2010, 2010, 2010, 2007, 2007, 2009, 2009, 2009, 2014, 2016, 2007, 2010, 2010, 2010, 2010, 2010, 2010, 2010, 2010, 2010, 2010, 2010, 2006, 2008, 2010, 2009, 2006, 2006, 2006, 2006, 2006, 2006, 2006, 2006, 2007, 2007, 2010, 2010, 2010, 2009, 2009, 2009, 2008, 2006, 2009, 2009, 2011, 2010, 2009, 2009, 2008, 2006, 2006, 2006, 2007, 2008, 2008, 2008, 2008, 2006, 2010, 2006, 2011, 2006, 2008, 2011, 2010, 2007, 2007], \"xaxis\": \"x\", \"y\": [6200.0, 4700.0, 19800.0, 14900.0, 9500.0, 13900.0, 14900.0, 15900.0, 16900.0, 6900.0, 16900.0, 16500.0, 14900.0, 15900.0, 16600.0, 17900.0, 14900.0, 15900.0, 11900.0, 18999.0, 16900.0, 18800.0, 9900.0, 9900.0, 22500.0, 14900.0, 15900.0, 12900.0, 13600.0, 15900.0, 13500.0, 14200.0, 19900.0, 14900.0, 12900.0, 13500.0, 13800.0, 13900.0, 14800.0, 10999.0, 7900.0, 17900.0, 18900.0, 13700.0, 15500.0, 9999.0, 9500.0, 18800.0, 11900.0, 19900.0, 14999.0, 21900.0, 13900.0, 17900.0, 16900.0, 18900.0, 16900.0, 9900.0, 15900.0, 12700.0, 13200.0, 10500.0, 21900.0, 19900.0, 16800.0, 10999.0, 11500.0, 11900.0, 8200.0, 18888.0, 9900.0, 16400.0, 17999.0, 17400.0, 15900.0, 4100.0, 13600.0, 17300.0, 15800.0, 15999.0, 19900.0, 16900.0, 22000.0, 21000.0, 16900.0, 16900.0, 17400.0, 18300.0, 13800.0, 20999.0, 15500.0, 21999.0, 9200.0, 4390.240234375, 12900.0, 14990.0, 17500.0, 16900.0, 16500.0, 14500.0, 14900.0, 15999.0, 11700.0, 10500.0, 10999.0, 12999.0, 8000.0, 12880.0, 16900.0, 8900.0, 9999.0, 12900.0, 11900.0, 22000.0, 14900.0, 15900.0, 18500.0, 17900.0, 10500.0, 15900.0, 16900.0, 16999.0, 18900.0, 12000.0, 13200.0, 12300.0, 14200.0, 12900.0, 13500.0, 13900.0, 11500.0, 14990.0, 15900.0, 19900.0, 18900.0, 21900.0, 13300.0, 13600.0, 14900.0, 15900.0, 16900.0, 11900.0, 16801.0, 17001.0, 16900.0, 11700.0, 14900.0, 13200.0, 14100.0, 15000.0, 18900.0, 19900.0, 20900.0, 16999.0, 17500.0, 9900.0, 16000.0, 18900.0, 20900.0, 8300.0, 12250.0, 13900.0, 11500.0, 15900.0, 13900.0, 13900.0, 15900.0, 18900.0, 13800.0, 10999.0, 11000.0, 10500.0, 15500.0, 15900.0, 18900.0, 15500.0, 16200.0, 16999.0, 13999.0, 18800.0, 15900.0, 18900.0, 12900.0, 19900.0, 12900.0, 18900.0, 15900.0, 14900.0, 15900.0, 10900.0, 11500.0, 8500.0, 10900.0, 11900.0, 25990.0, 18900.0, 12200.0, 6500.0, 13300.0, 9900.0, 19900.0, 20900.0, 14900.0, 12900.0, 16900.0, 13800.0, 13800.0, 13900.0, 13999.0, 13900.0, 13800.0, 15500.0, 19900.0, 15900.0, 8700.0, 20800.0, 12900.0, 14999.0, 15999.0, 17000.0, 17500.0, 17900.0, 18500.0, 14900.0, 2900.0, 17900.0, 20900.0, 10400.0, 16900.0, 11500.0, 13900.0, 11900.0, 12900.0, 17900.0, 18500.0, 14500.0, 15000.0, 15500.0, 16900.0, 15900.0, 14500.0, 15500.0, 14800.0, 15900.0, 15000.0, 8500.0, 18900.0, 19800.0, 11900.0, 12900.0, 15900.0, 11200.0, 4799.0, 17500.0, 15700.0, 17800.0, 17899.0, 17900.0, 13900.0, 20900.0, 17500.0, 12900.0, 17900.0, 17500.0, 16900.0, 17600.0, 16600.0, 15700.0, 11499.0, 13999.0, 14499.0, 14500.0, 12900.0, 13500.0, 16999.0, 17900.0, 10400.0, 15200.0, 16900.0, 18900.0, 19500.0, 16900.0, 17900.0, 16300.0, 16900.0, 18600.0, 14500.0, 18900.0, 16900.0, 14500.0, 5500.0, 13499.0, 10500.0, 16900.0, 17900.0, 19900.0, 10500.0, 15999.0, 15900.0, 15900.0, 13800.0, 15900.0, 10900.0, 11900.0, 14900.0, 15400.0, 15900.0, 12500.0, 17500.0, 15500.0, 14900.0, 14400.0, 12600.0, 13400.0, 15500.0, 9900.0, 16900.0, 19300.0, 19900.0, 17800.0, 18600.0, 13300.0, 17900.0, 15600.0, 21999.0, 12900.0, 14900.0, 6900.0, 9999.0, 10000.0, 16800.0, 16900.0, 13250.0, 9990.0, 17900.0, 13000.0, 14500.0, 15500.0, 16900.0, 5284.5498046875, 5609.759765625, 11900.0, 12500.0, 13500.0, 13900.0, 14500.0, 14900.0, 11900.0, 16400.0, 17900.0, 16700.0, 17700.0, 13900.0, 14700.0, 16800.0, 17500.0, 17800.0, 11999.0, 12999.0, 14500.0, 12000.0, 11900.0, 25900.0, 28900.0, 14900.0, 14600.0, 14900.0, 15300.0, 15600.0, 13900.0, 14200.0, 14900.0, 15500.0, 17500.0, 15200.0, 15900.0, 11900.0, 12900.0, 21999.0, 17800.0, 7400.0, 7500.0, 7700.0, 7900.0, 8200.0, 8300.0, 8500.0, 8900.0, 14900.0, 15900.0, 12900.0, 13500.0, 14900.0, 13000.0, 15900.0, 16600.0, 11600.0, 13900.0, 16700.0, 17700.0, 15900.0, 17700.0, 18900.0, 17900.0, 8000.0, 8500.0, 9300.0, 9900.0, 12900.0, 15100.0, 17900.0, 12500.0, 11900.0, 11500.0, 16900.0, 13500.0, 22900.0, 10900.0, 15900.0, 21900.0, 17999.0, 12900.0, 14000.0], \"yaxis\": \"y\"}],\n",
       "                        {\"legend\": {\"tracegroupgap\": 0}, \"margin\": {\"t\": 60}, \"template\": {\"data\": {\"pie\": [{\"automargin\": true, \"type\": \"pie\"}], \"scatter\": [{\"line\": {\"width\": 3}, \"marker\": {\"size\": 9}, \"type\": \"scatter\"}], \"scatter3d\": [{\"line\": {\"width\": 3}, \"marker\": {\"size\": 9}, \"type\": \"scatter3d\"}], \"scattergeo\": [{\"line\": {\"width\": 3}, \"marker\": {\"size\": 9}, \"type\": \"scattergeo\"}], \"scattergl\": [{\"line\": {\"width\": 3}, \"marker\": {\"size\": 9}, \"type\": \"scattergl\"}], \"scatterpolar\": [{\"line\": {\"width\": 3}, \"marker\": {\"size\": 9}, \"type\": \"scatterpolar\"}], \"scatterpolargl\": [{\"line\": {\"width\": 3}, \"marker\": {\"size\": 9}, \"type\": \"scatterpolargl\"}], \"scatterternary\": [{\"line\": {\"width\": 3}, \"marker\": {\"size\": 9}, \"type\": \"scatterternary\"}], \"table\": [{\"cells\": {\"height\": 30}, \"header\": {\"height\": 36}, \"type\": \"table\"}]}, \"layout\": {\"font\": {\"size\": 18}, \"xaxis\": {\"title\": {\"standoff\": 15}}, \"yaxis\": {\"title\": {\"standoff\": 15}}}}, \"xaxis\": {\"anchor\": \"y\", \"domain\": [0.0, 1.0], \"title\": {\"text\": \"year\"}}, \"yaxis\": {\"anchor\": \"x\", \"domain\": [0.0, 1.0], \"title\": {\"text\": \"price_raw\"}}},\n",
       "                        {\"responsive\": true}\n",
       "                    ).then(function(){\n",
       "                            \n",
       "var gd = document.getElementById('335724c7-c882-4a15-b4cc-4fe98c02d721');\n",
       "var x = new MutationObserver(function (mutations, observer) {{\n",
       "        var display = window.getComputedStyle(gd).display;\n",
       "        if (!display || display === 'none') {{\n",
       "            console.log([gd, 'removed!']);\n",
       "            Plotly.purge(gd);\n",
       "            observer.disconnect();\n",
       "        }}\n",
       "}});\n",
       "\n",
       "// Listen for the removal of the full notebook cells\n",
       "var notebookContainer = gd.closest('#notebook-container');\n",
       "if (notebookContainer) {{\n",
       "    x.observe(notebookContainer, {childList: true});\n",
       "}}\n",
       "\n",
       "// Listen for the clearing of the current output cell\n",
       "var outputEl = gd.closest('.output');\n",
       "if (outputEl) {{\n",
       "    x.observe(outputEl, {childList: true});\n",
       "}}\n",
       "\n",
       "                        })\n",
       "                };\n",
       "                });\n",
       "            </script>\n",
       "        </div>"
      ]
     },
     "metadata": {},
     "output_type": "display_data"
    },
    {
     "name": "stdout",
     "output_type": "stream",
     "text": [
      "Wall time: 307 ms\n"
     ]
    }
   ],
   "source": [
    "import plotly\n",
    "import plotly.express as px\n",
    "\n",
    "\n",
    "def px_to_file():\n",
    "    # Use directly Columns as argument. You can use tab completion for this!\n",
    "    plt_sca_year = px.scatter(df, x=df.year, y=df.price_raw, template=\"presentation\")\n",
    "    plt_sca_year.show()\n",
    "\n",
    "    #plotly.offline.plot(fig, \"file.html\")\n",
    "    pio.write_html(plt_sca_year, file='./img/plt_sca_year.html', full_html=False, include_plotlyjs='cdn', auto_open=False)\n",
    "    \n",
    "%time px_to_file() "
   ]
  },
  {
   "cell_type": "code",
   "execution_count": 446,
   "metadata": {},
   "outputs": [
    {
     "data": {
      "application/vnd.plotly.v1+json": {
       "config": {
        "plotlyServerURL": "https://plot.ly"
       },
       "data": [
        {
         "alignmentgroup": "True",
         "bingroup": "x",
         "hovertemplate": "price=%{x}<br>count=%{y}<extra></extra>",
         "legendgroup": "",
         "marker": {
          "color": "#1F77B4"
         },
         "name": "",
         "offsetgroup": "",
         "orientation": "v",
         "showlegend": false,
         "type": "histogram",
         "x": [
          6200,
          4700,
          19800,
          14900,
          9500,
          13900,
          13900,
          15900,
          16900,
          6900,
          16900,
          16500,
          14900,
          14900,
          14900,
          17900,
          14900,
          15900,
          11900,
          18999,
          16900,
          18800,
          9900,
          9900,
          22500,
          14900,
          15900,
          12900,
          12900,
          15900,
          13500,
          14200,
          19900,
          14900,
          12900,
          13500,
          13500,
          13900,
          14800,
          10999,
          7900,
          17900,
          18900,
          13700,
          15500,
          9999,
          9500,
          18800,
          11900,
          19900,
          21900,
          21900,
          13900,
          17900,
          16900,
          18900,
          16900,
          9900,
          15900,
          12700,
          12700,
          10500,
          21900,
          19900,
          16800,
          10999,
          10999,
          11900,
          8200,
          18888,
          9900,
          16400,
          17999,
          17400,
          15900,
          4100,
          13600,
          17300,
          15800,
          15999,
          19900,
          16900,
          22000,
          21000,
          16900,
          16900,
          17400,
          18300,
          13800,
          20999,
          15500,
          21999,
          9200,
          5400,
          12900,
          14990,
          16900,
          16900,
          16500,
          14500,
          14500,
          15999,
          11700,
          10500,
          10999,
          12999,
          8000,
          12880,
          16900,
          8900,
          8900,
          12900,
          11900,
          22000,
          14900,
          14900,
          18500,
          17900,
          10500,
          15900,
          16900,
          16999,
          18900,
          12000,
          13200,
          13200,
          13200,
          13900,
          13900,
          13900,
          11500,
          14990,
          15900,
          19900,
          18900,
          21900,
          13600,
          13600,
          14900,
          15900,
          15900,
          11900,
          17001,
          17001,
          16900,
          11700,
          14900,
          14900,
          14900,
          14900,
          18900,
          18900,
          18900,
          16999,
          17500,
          9900,
          16000,
          18900,
          20900,
          8300,
          12250,
          13900,
          11500,
          15900,
          13900,
          13900,
          15900,
          18900,
          13800,
          10999,
          11000,
          10500,
          15500,
          15500,
          18900,
          15500,
          16200,
          16200,
          13999,
          18800,
          15900,
          18900,
          18900,
          19900,
          12900,
          18900,
          15900,
          14900,
          14900,
          10900,
          11500,
          8500,
          10900,
          11900,
          25990,
          18900,
          12200,
          6500,
          13300,
          9900,
          20900,
          20900,
          14900,
          12900,
          16900,
          13800,
          13800,
          13900,
          13999,
          13900,
          13800,
          15500,
          19900,
          15900,
          8700,
          20800,
          12900,
          14999,
          14999,
          17900,
          17900,
          17900,
          17900,
          14900,
          2900,
          17900,
          20900,
          10400,
          16900,
          13900,
          13900,
          13900,
          13900,
          17900,
          18500,
          14500,
          14500,
          14500,
          16900,
          15900,
          14500,
          15500,
          14800,
          15900,
          15000,
          8500,
          18900,
          19800,
          11900,
          11900,
          15900,
          11200,
          4799,
          17500,
          15700,
          17800,
          17800,
          17800,
          13900,
          20900,
          17500,
          12900,
          17900,
          17500,
          16900,
          16900,
          16600,
          15700,
          11499,
          11499,
          11499,
          14500,
          12900,
          12900,
          16999,
          17900,
          10400,
          15200,
          16900,
          18900,
          18900,
          16900,
          17900,
          16300,
          16900,
          18600,
          14500,
          18900,
          16900,
          14500,
          5500,
          13499,
          10500,
          16900,
          17900,
          19900,
          10500,
          15999,
          15900,
          15900,
          13800,
          15900,
          10900,
          10900,
          14900,
          14900,
          14900,
          12500,
          17500,
          15500,
          14900,
          14400,
          12600,
          12600,
          15500,
          9900,
          16900,
          19300,
          19300,
          17800,
          17800,
          13300,
          17900,
          15600,
          21999,
          12900,
          14900,
          6900,
          9999,
          9999,
          16800,
          16900,
          13250,
          9990,
          17900,
          13000,
          13000,
          13000,
          16900,
          6500,
          6500,
          11900,
          11900,
          13500,
          13500,
          13500,
          13500,
          11900,
          16400,
          16400,
          16700,
          16700,
          13900,
          13900,
          17500,
          17500,
          17500,
          11999,
          11999,
          14500,
          28900,
          28900,
          28900,
          28900,
          14900,
          14600,
          14600,
          14600,
          14600,
          15200,
          15200,
          15200,
          15200,
          15200,
          15200,
          15200,
          11900,
          12900,
          21999,
          17800,
          7400,
          7400,
          7400,
          7400,
          7400,
          7400,
          7400,
          7400,
          14900,
          14900,
          12900,
          13500,
          13500,
          13000,
          15900,
          15900,
          11600,
          13900,
          16700,
          16700,
          15900,
          17700,
          18900,
          18900,
          8000,
          8500,
          8500,
          8500,
          12900,
          15100,
          17900,
          12500,
          11900,
          11500,
          16900,
          13500,
          22900,
          10900,
          15900,
          21900,
          17999,
          12900,
          12900
         ],
         "xaxis": "x",
         "yaxis": "y"
        }
       ],
       "layout": {
        "barmode": "relative",
        "legend": {
         "tracegroupgap": 0
        },
        "margin": {
         "t": 60
        },
        "template": {
         "data": {
          "pie": [
           {
            "automargin": true,
            "type": "pie"
           }
          ],
          "scatter": [
           {
            "line": {
             "width": 3
            },
            "marker": {
             "size": 9
            },
            "type": "scatter"
           }
          ],
          "scatter3d": [
           {
            "line": {
             "width": 3
            },
            "marker": {
             "size": 9
            },
            "type": "scatter3d"
           }
          ],
          "scattergeo": [
           {
            "line": {
             "width": 3
            },
            "marker": {
             "size": 9
            },
            "type": "scattergeo"
           }
          ],
          "scattergl": [
           {
            "line": {
             "width": 3
            },
            "marker": {
             "size": 9
            },
            "type": "scattergl"
           }
          ],
          "scatterpolar": [
           {
            "line": {
             "width": 3
            },
            "marker": {
             "size": 9
            },
            "type": "scatterpolar"
           }
          ],
          "scatterpolargl": [
           {
            "line": {
             "width": 3
            },
            "marker": {
             "size": 9
            },
            "type": "scatterpolargl"
           }
          ],
          "scatterternary": [
           {
            "line": {
             "width": 3
            },
            "marker": {
             "size": 9
            },
            "type": "scatterternary"
           }
          ],
          "table": [
           {
            "cells": {
             "height": 30
            },
            "header": {
             "height": 36
            },
            "type": "table"
           }
          ]
         },
         "layout": {
          "font": {
           "size": 18
          },
          "xaxis": {
           "title": {
            "standoff": 15
           }
          },
          "yaxis": {
           "title": {
            "standoff": 15
           }
          }
         }
        },
        "xaxis": {
         "anchor": "y",
         "domain": [
          0,
          1
         ],
         "title": {
          "text": "price"
         }
        },
        "yaxis": {
         "anchor": "x",
         "domain": [
          0,
          1
         ],
         "title": {
          "text": "count"
         }
        }
       }
      },
      "text/html": [
       "<div>\n",
       "        \n",
       "        \n",
       "            <div id=\"44fa66c0-3c6d-489e-8f51-422d70b730ac\" class=\"plotly-graph-div\" style=\"height:525px; width:100%;\"></div>\n",
       "            <script type=\"text/javascript\">\n",
       "                require([\"plotly\"], function(Plotly) {\n",
       "                    window.PLOTLYENV=window.PLOTLYENV || {};\n",
       "                    \n",
       "                if (document.getElementById(\"44fa66c0-3c6d-489e-8f51-422d70b730ac\")) {\n",
       "                    Plotly.newPlot(\n",
       "                        '44fa66c0-3c6d-489e-8f51-422d70b730ac',\n",
       "                        [{\"alignmentgroup\": \"True\", \"bingroup\": \"x\", \"hovertemplate\": \"price=%{x}<br>count=%{y}<extra></extra>\", \"legendgroup\": \"\", \"marker\": {\"color\": \"#1F77B4\"}, \"name\": \"\", \"offsetgroup\": \"\", \"orientation\": \"v\", \"showlegend\": false, \"type\": \"histogram\", \"x\": [6200.0, 4700.0, 19800.0, 14900.0, 9500.0, 13900.0, 13900.0, 15900.0, 16900.0, 6900.0, 16900.0, 16500.0, 14900.0, 14900.0, 14900.0, 17900.0, 14900.0, 15900.0, 11900.0, 18999.0, 16900.0, 18800.0, 9900.0, 9900.0, 22500.0, 14900.0, 15900.0, 12900.0, 12900.0, 15900.0, 13500.0, 14200.0, 19900.0, 14900.0, 12900.0, 13500.0, 13500.0, 13900.0, 14800.0, 10999.0, 7900.0, 17900.0, 18900.0, 13700.0, 15500.0, 9999.0, 9500.0, 18800.0, 11900.0, 19900.0, 21900.0, 21900.0, 13900.0, 17900.0, 16900.0, 18900.0, 16900.0, 9900.0, 15900.0, 12700.0, 12700.0, 10500.0, 21900.0, 19900.0, 16800.0, 10999.0, 10999.0, 11900.0, 8200.0, 18888.0, 9900.0, 16400.0, 17999.0, 17400.0, 15900.0, 4100.0, 13600.0, 17300.0, 15800.0, 15999.0, 19900.0, 16900.0, 22000.0, 21000.0, 16900.0, 16900.0, 17400.0, 18300.0, 13800.0, 20999.0, 15500.0, 21999.0, 9200.0, 5400.0, 12900.0, 14990.0, 16900.0, 16900.0, 16500.0, 14500.0, 14500.0, 15999.0, 11700.0, 10500.0, 10999.0, 12999.0, 8000.0, 12880.0, 16900.0, 8900.0, 8900.0, 12900.0, 11900.0, 22000.0, 14900.0, 14900.0, 18500.0, 17900.0, 10500.0, 15900.0, 16900.0, 16999.0, 18900.0, 12000.0, 13200.0, 13200.0, 13200.0, 13900.0, 13900.0, 13900.0, 11500.0, 14990.0, 15900.0, 19900.0, 18900.0, 21900.0, 13600.0, 13600.0, 14900.0, 15900.0, 15900.0, 11900.0, 17001.0, 17001.0, 16900.0, 11700.0, 14900.0, 14900.0, 14900.0, 14900.0, 18900.0, 18900.0, 18900.0, 16999.0, 17500.0, 9900.0, 16000.0, 18900.0, 20900.0, 8300.0, 12250.0, 13900.0, 11500.0, 15900.0, 13900.0, 13900.0, 15900.0, 18900.0, 13800.0, 10999.0, 11000.0, 10500.0, 15500.0, 15500.0, 18900.0, 15500.0, 16200.0, 16200.0, 13999.0, 18800.0, 15900.0, 18900.0, 18900.0, 19900.0, 12900.0, 18900.0, 15900.0, 14900.0, 14900.0, 10900.0, 11500.0, 8500.0, 10900.0, 11900.0, 25990.0, 18900.0, 12200.0, 6500.0, 13300.0, 9900.0, 20900.0, 20900.0, 14900.0, 12900.0, 16900.0, 13800.0, 13800.0, 13900.0, 13999.0, 13900.0, 13800.0, 15500.0, 19900.0, 15900.0, 8700.0, 20800.0, 12900.0, 14999.0, 14999.0, 17900.0, 17900.0, 17900.0, 17900.0, 14900.0, 2900.0, 17900.0, 20900.0, 10400.0, 16900.0, 13900.0, 13900.0, 13900.0, 13900.0, 17900.0, 18500.0, 14500.0, 14500.0, 14500.0, 16900.0, 15900.0, 14500.0, 15500.0, 14800.0, 15900.0, 15000.0, 8500.0, 18900.0, 19800.0, 11900.0, 11900.0, 15900.0, 11200.0, 4799.0, 17500.0, 15700.0, 17800.0, 17800.0, 17800.0, 13900.0, 20900.0, 17500.0, 12900.0, 17900.0, 17500.0, 16900.0, 16900.0, 16600.0, 15700.0, 11499.0, 11499.0, 11499.0, 14500.0, 12900.0, 12900.0, 16999.0, 17900.0, 10400.0, 15200.0, 16900.0, 18900.0, 18900.0, 16900.0, 17900.0, 16300.0, 16900.0, 18600.0, 14500.0, 18900.0, 16900.0, 14500.0, 5500.0, 13499.0, 10500.0, 16900.0, 17900.0, 19900.0, 10500.0, 15999.0, 15900.0, 15900.0, 13800.0, 15900.0, 10900.0, 10900.0, 14900.0, 14900.0, 14900.0, 12500.0, 17500.0, 15500.0, 14900.0, 14400.0, 12600.0, 12600.0, 15500.0, 9900.0, 16900.0, 19300.0, 19300.0, 17800.0, 17800.0, 13300.0, 17900.0, 15600.0, 21999.0, 12900.0, 14900.0, 6900.0, 9999.0, 9999.0, 16800.0, 16900.0, 13250.0, 9990.0, 17900.0, 13000.0, 13000.0, 13000.0, 16900.0, 6500.0, 6500.0, 11900.0, 11900.0, 13500.0, 13500.0, 13500.0, 13500.0, 11900.0, 16400.0, 16400.0, 16700.0, 16700.0, 13900.0, 13900.0, 17500.0, 17500.0, 17500.0, 11999.0, 11999.0, 14500.0, 28900.0, 28900.0, 28900.0, 28900.0, 14900.0, 14600.0, 14600.0, 14600.0, 14600.0, 15200.0, 15200.0, 15200.0, 15200.0, 15200.0, 15200.0, 15200.0, 11900.0, 12900.0, 21999.0, 17800.0, 7400.0, 7400.0, 7400.0, 7400.0, 7400.0, 7400.0, 7400.0, 7400.0, 14900.0, 14900.0, 12900.0, 13500.0, 13500.0, 13000.0, 15900.0, 15900.0, 11600.0, 13900.0, 16700.0, 16700.0, 15900.0, 17700.0, 18900.0, 18900.0, 8000.0, 8500.0, 8500.0, 8500.0, 12900.0, 15100.0, 17900.0, 12500.0, 11900.0, 11500.0, 16900.0, 13500.0, 22900.0, 10900.0, 15900.0, 21900.0, 17999.0, 12900.0, 12900.0], \"xaxis\": \"x\", \"yaxis\": \"y\"}],\n",
       "                        {\"barmode\": \"relative\", \"legend\": {\"tracegroupgap\": 0}, \"margin\": {\"t\": 60}, \"template\": {\"data\": {\"pie\": [{\"automargin\": true, \"type\": \"pie\"}], \"scatter\": [{\"line\": {\"width\": 3}, \"marker\": {\"size\": 9}, \"type\": \"scatter\"}], \"scatter3d\": [{\"line\": {\"width\": 3}, \"marker\": {\"size\": 9}, \"type\": \"scatter3d\"}], \"scattergeo\": [{\"line\": {\"width\": 3}, \"marker\": {\"size\": 9}, \"type\": \"scattergeo\"}], \"scattergl\": [{\"line\": {\"width\": 3}, \"marker\": {\"size\": 9}, \"type\": \"scattergl\"}], \"scatterpolar\": [{\"line\": {\"width\": 3}, \"marker\": {\"size\": 9}, \"type\": \"scatterpolar\"}], \"scatterpolargl\": [{\"line\": {\"width\": 3}, \"marker\": {\"size\": 9}, \"type\": \"scatterpolargl\"}], \"scatterternary\": [{\"line\": {\"width\": 3}, \"marker\": {\"size\": 9}, \"type\": \"scatterternary\"}], \"table\": [{\"cells\": {\"height\": 30}, \"header\": {\"height\": 36}, \"type\": \"table\"}]}, \"layout\": {\"font\": {\"size\": 18}, \"xaxis\": {\"title\": {\"standoff\": 15}}, \"yaxis\": {\"title\": {\"standoff\": 15}}}}, \"xaxis\": {\"anchor\": \"y\", \"domain\": [0.0, 1.0], \"title\": {\"text\": \"price\"}}, \"yaxis\": {\"anchor\": \"x\", \"domain\": [0.0, 1.0], \"title\": {\"text\": \"count\"}}},\n",
       "                        {\"responsive\": true}\n",
       "                    ).then(function(){\n",
       "                            \n",
       "var gd = document.getElementById('44fa66c0-3c6d-489e-8f51-422d70b730ac');\n",
       "var x = new MutationObserver(function (mutations, observer) {{\n",
       "        var display = window.getComputedStyle(gd).display;\n",
       "        if (!display || display === 'none') {{\n",
       "            console.log([gd, 'removed!']);\n",
       "            Plotly.purge(gd);\n",
       "            observer.disconnect();\n",
       "        }}\n",
       "}});\n",
       "\n",
       "// Listen for the removal of the full notebook cells\n",
       "var notebookContainer = gd.closest('#notebook-container');\n",
       "if (notebookContainer) {{\n",
       "    x.observe(notebookContainer, {childList: true});\n",
       "}}\n",
       "\n",
       "// Listen for the clearing of the current output cell\n",
       "var outputEl = gd.closest('.output');\n",
       "if (outputEl) {{\n",
       "    x.observe(outputEl, {childList: true});\n",
       "}}\n",
       "\n",
       "                        })\n",
       "                };\n",
       "                });\n",
       "            </script>\n",
       "        </div>"
      ]
     },
     "metadata": {},
     "output_type": "display_data"
    }
   ],
   "source": [
    "plt_price = px.histogram(df, x=df.price, template=\"presentation\")\n",
    "plt_price.show()\n",
    "\n",
    "pio.write_html(plt_price, file='./img/plt_price.html', full_html=False, include_plotlyjs='cdn', auto_open=False)"
   ]
  },
  {
   "cell_type": "code",
   "execution_count": 447,
   "metadata": {},
   "outputs": [
    {
     "data": {
      "application/vnd.plotly.v1+json": {
       "config": {
        "plotlyServerURL": "https://plot.ly"
       },
       "data": [
        {
         "alignmentgroup": "True",
         "bingroup": "x",
         "hovertemplate": "mileage=%{x}<br>count=%{y}<extra></extra>",
         "legendgroup": "",
         "marker": {
          "color": "#1F77B4"
         },
         "name": "",
         "offsetgroup": "",
         "orientation": "v",
         "showlegend": false,
         "type": "histogram",
         "x": [
          111000,
          45706,
          174000,
          187000,
          180000,
          153000,
          153000,
          182000,
          162000,
          134000,
          141117,
          155000,
          178560,
          178560,
          178560,
          106000,
          140112,
          171000,
          132000,
          159500,
          160000,
          165000,
          222527,
          174000,
          149000,
          172000,
          157922,
          77000,
          77000,
          162000,
          129547,
          180000,
          155000,
          123214,
          104000,
          187000,
          187000,
          189500,
          154000,
          259000,
          219124,
          139000,
          195000,
          178222,
          156669,
          230000,
          251000,
          166567,
          250000,
          104000,
          157000,
          172000,
          162500,
          159000,
          71000,
          163000,
          161300,
          195000,
          151000,
          197000,
          197000,
          220000,
          112000,
          101100,
          157000,
          270981,
          270981,
          159000,
          410000,
          90000,
          176000,
          200000,
          146250,
          145400,
          183000,
          372000,
          142137,
          98000,
          158000,
          213285,
          175000,
          269687,
          165441,
          143308,
          76000,
          126000,
          173453,
          184960,
          168000,
          99000,
          190000,
          149000,
          108000,
          410000,
          199000,
          199000,
          153500,
          154500,
          130500,
          112000,
          112000,
          200000,
          211000,
          162641,
          195000,
          132000,
          280900,
          189000,
          124100,
          119000,
          119000,
          149000,
          178254,
          147218,
          100000,
          100000,
          170000,
          110000,
          200000,
          145000,
          72000,
          188000,
          133000,
          122000,
          131500,
          131500,
          131500,
          171239,
          171239,
          171239,
          163700,
          128915,
          154000,
          120000,
          100000,
          145594,
          144000,
          145000,
          143000,
          138000,
          138000,
          180000,
          168690,
          168690,
          75000,
          65000,
          178206,
          178206,
          178206,
          178206,
          86500,
          86500,
          86500,
          154288,
          85000,
          177100,
          114000,
          164000,
          136000,
          249900,
          149987,
          178000,
          204000,
          163000,
          127300,
          112000,
          185000,
          82000,
          170000,
          213654,
          235900,
          208000,
          190000,
          190000,
          132000,
          190000,
          136367,
          136367,
          112000,
          129000,
          170000,
          83000,
          153000,
          105000,
          119000,
          96000,
          170000,
          130221,
          130221,
          169000,
          186000,
          340000,
          169000,
          179847,
          89000,
          94000,
          220400,
          320000,
          163000,
          203000,
          117000,
          117000,
          124500,
          138000,
          130000,
          176000,
          109000,
          176000,
          226000,
          150000,
          125000,
          170000,
          138000,
          130000,
          206261,
          74000,
          189000,
          164440,
          164440,
          109000,
          109000,
          109000,
          109000,
          112000,
          165000,
          110000,
          67522,
          232900,
          105700,
          72000,
          72000,
          72000,
          72000,
          186239,
          167000,
          210000,
          210000,
          210000,
          117000,
          168000,
          169540,
          147893,
          170000,
          196500,
          239000,
          194000,
          193413,
          124000,
          212000,
          212000,
          129000,
          133000,
          104734,
          117000,
          128000,
          190464,
          190464,
          190464,
          147245,
          47000,
          90500,
          177000,
          143000,
          219585,
          247000,
          247000,
          103000,
          156680,
          202910,
          202910,
          202910,
          95000,
          141203,
          141203,
          93000,
          154000,
          116000,
          9100,
          169000,
          133000,
          133000,
          104966,
          172000,
          260000,
          219000,
          94000,
          62000,
          119000,
          124000,
          181000,
          242605,
          222000,
          213000,
          150000,
          152145,
          105037,
          165000,
          155000,
          151000,
          165000,
          207000,
          152282,
          175000,
          175000,
          130000,
          130000,
          130000,
          160350,
          19200,
          171000,
          81000,
          152000,
          215000,
          215000,
          128000,
          277800,
          117000,
          157142,
          157142,
          82450,
          82450,
          170000,
          175000,
          112365,
          152000,
          165000,
          90200,
          128000,
          152000,
          152000,
          163135,
          189000,
          223000,
          185000,
          101420,
          163000,
          163000,
          163000,
          86000,
          390000,
          390000,
          212010,
          212010,
          164000,
          164000,
          164000,
          164000,
          141000,
          70000,
          70000,
          76000,
          76000,
          147000,
          147000,
          175000,
          175000,
          175000,
          116000,
          116000,
          196245,
          115000,
          115000,
          115000,
          68000,
          135200,
          205000,
          205000,
          205000,
          205000,
          150000,
          150000,
          150000,
          150000,
          150000,
          150000,
          150000,
          120566,
          163000,
          144263,
          102000,
          200000,
          200000,
          200000,
          200000,
          200000,
          200000,
          200000,
          200000,
          170000,
          170000,
          166000,
          193000,
          193000,
          73000,
          139957,
          139957,
          47000,
          150000,
          76000,
          76000,
          196500,
          197777,
          101200,
          101200,
          200000,
          252500,
          252500,
          252500,
          210000,
          131000,
          83000,
          119000,
          212010,
          187412,
          189000,
          175000,
          64000,
          169000,
          133246,
          128800,
          29300,
          100400,
          100400
         ],
         "xaxis": "x",
         "yaxis": "y"
        }
       ],
       "layout": {
        "barmode": "relative",
        "legend": {
         "tracegroupgap": 0
        },
        "margin": {
         "t": 60
        },
        "template": {
         "data": {
          "pie": [
           {
            "automargin": true,
            "type": "pie"
           }
          ],
          "scatter": [
           {
            "line": {
             "width": 3
            },
            "marker": {
             "size": 9
            },
            "type": "scatter"
           }
          ],
          "scatter3d": [
           {
            "line": {
             "width": 3
            },
            "marker": {
             "size": 9
            },
            "type": "scatter3d"
           }
          ],
          "scattergeo": [
           {
            "line": {
             "width": 3
            },
            "marker": {
             "size": 9
            },
            "type": "scattergeo"
           }
          ],
          "scattergl": [
           {
            "line": {
             "width": 3
            },
            "marker": {
             "size": 9
            },
            "type": "scattergl"
           }
          ],
          "scatterpolar": [
           {
            "line": {
             "width": 3
            },
            "marker": {
             "size": 9
            },
            "type": "scatterpolar"
           }
          ],
          "scatterpolargl": [
           {
            "line": {
             "width": 3
            },
            "marker": {
             "size": 9
            },
            "type": "scatterpolargl"
           }
          ],
          "scatterternary": [
           {
            "line": {
             "width": 3
            },
            "marker": {
             "size": 9
            },
            "type": "scatterternary"
           }
          ],
          "table": [
           {
            "cells": {
             "height": 30
            },
            "header": {
             "height": 36
            },
            "type": "table"
           }
          ]
         },
         "layout": {
          "font": {
           "size": 18
          },
          "xaxis": {
           "title": {
            "standoff": 15
           }
          },
          "yaxis": {
           "title": {
            "standoff": 15
           }
          }
         }
        },
        "xaxis": {
         "anchor": "y",
         "domain": [
          0,
          1
         ],
         "title": {
          "text": "mileage"
         }
        },
        "yaxis": {
         "anchor": "x",
         "domain": [
          0,
          1
         ],
         "title": {
          "text": "count"
         }
        }
       }
      },
      "text/html": [
       "<div>\n",
       "        \n",
       "        \n",
       "            <div id=\"500c8a91-a8be-4499-b953-80cc71232746\" class=\"plotly-graph-div\" style=\"height:525px; width:100%;\"></div>\n",
       "            <script type=\"text/javascript\">\n",
       "                require([\"plotly\"], function(Plotly) {\n",
       "                    window.PLOTLYENV=window.PLOTLYENV || {};\n",
       "                    \n",
       "                if (document.getElementById(\"500c8a91-a8be-4499-b953-80cc71232746\")) {\n",
       "                    Plotly.newPlot(\n",
       "                        '500c8a91-a8be-4499-b953-80cc71232746',\n",
       "                        [{\"alignmentgroup\": \"True\", \"bingroup\": \"x\", \"hovertemplate\": \"mileage=%{x}<br>count=%{y}<extra></extra>\", \"legendgroup\": \"\", \"marker\": {\"color\": \"#1F77B4\"}, \"name\": \"\", \"offsetgroup\": \"\", \"orientation\": \"v\", \"showlegend\": false, \"type\": \"histogram\", \"x\": [111000, 45706, 174000, 187000, 180000, 153000, 153000, 182000, 162000, 134000, 141117, 155000, 178560, 178560, 178560, 106000, 140112, 171000, 132000, 159500, 160000, 165000, 222527, 174000, 149000, 172000, 157922, 77000, 77000, 162000, 129547, 180000, 155000, 123214, 104000, 187000, 187000, 189500, 154000, 259000, 219124, 139000, 195000, 178222, 156669, 230000, 251000, 166567, 250000, 104000, 157000, 172000, 162500, 159000, 71000, 163000, 161300, 195000, 151000, 197000, 197000, 220000, 112000, 101100, 157000, 270981, 270981, 159000, 410000, 90000, 176000, 200000, 146250, 145400, 183000, 372000, 142137, 98000, 158000, 213285, 175000, 269687, 165441, 143308, 76000, 126000, 173453, 184960, 168000, 99000, 190000, 149000, 108000, 410000, 199000, 199000, 153500, 154500, 130500, 112000, 112000, 200000, 211000, 162641, 195000, 132000, 280900, 189000, 124100, 119000, 119000, 149000, 178254, 147218, 100000, 100000, 170000, 110000, 200000, 145000, 72000, 188000, 133000, 122000, 131500, 131500, 131500, 171239, 171239, 171239, 163700, 128915, 154000, 120000, 100000, 145594, 144000, 145000, 143000, 138000, 138000, 180000, 168690, 168690, 75000, 65000, 178206, 178206, 178206, 178206, 86500, 86500, 86500, 154288, 85000, 177100, 114000, 164000, 136000, 249900, 149987, 178000, 204000, 163000, 127300, 112000, 185000, 82000, 170000, 213654, 235900, 208000, 190000, 190000, 132000, 190000, 136367, 136367, 112000, 129000, 170000, 83000, 153000, 105000, 119000, 96000, 170000, 130221, 130221, 169000, 186000, 340000, 169000, 179847, 89000, 94000, 220400, 320000, 163000, 203000, 117000, 117000, 124500, 138000, 130000, 176000, 109000, 176000, 226000, 150000, 125000, 170000, 138000, 130000, 206261, 74000, 189000, 164440, 164440, 109000, 109000, 109000, 109000, 112000, 165000, 110000, 67522, 232900, 105700, 72000, 72000, 72000, 72000, 186239, 167000, 210000, 210000, 210000, 117000, 168000, 169540, 147893, 170000, 196500, 239000, 194000, 193413, 124000, 212000, 212000, 129000, 133000, 104734, 117000, 128000, 190464, 190464, 190464, 147245, 47000, 90500, 177000, 143000, 219585, 247000, 247000, 103000, 156680, 202910, 202910, 202910, 95000, 141203, 141203, 93000, 154000, 116000, 9100, 169000, 133000, 133000, 104966, 172000, 260000, 219000, 94000, 62000, 119000, 124000, 181000, 242605, 222000, 213000, 150000, 152145, 105037, 165000, 155000, 151000, 165000, 207000, 152282, 175000, 175000, 130000, 130000, 130000, 160350, 19200, 171000, 81000, 152000, 215000, 215000, 128000, 277800, 117000, 157142, 157142, 82450, 82450, 170000, 175000, 112365, 152000, 165000, 90200, 128000, 152000, 152000, 163135, 189000, 223000, 185000, 101420, 163000, 163000, 163000, 86000, 390000, 390000, 212010, 212010, 164000, 164000, 164000, 164000, 141000, 70000, 70000, 76000, 76000, 147000, 147000, 175000, 175000, 175000, 116000, 116000, 196245, 115000, 115000, 115000, 68000, 135200, 205000, 205000, 205000, 205000, 150000, 150000, 150000, 150000, 150000, 150000, 150000, 120566, 163000, 144263, 102000, 200000, 200000, 200000, 200000, 200000, 200000, 200000, 200000, 170000, 170000, 166000, 193000, 193000, 73000, 139957, 139957, 47000, 150000, 76000, 76000, 196500, 197777, 101200, 101200, 200000, 252500, 252500, 252500, 210000, 131000, 83000, 119000, 212010, 187412, 189000, 175000, 64000, 169000, 133246, 128800, 29300, 100400, 100400], \"xaxis\": \"x\", \"yaxis\": \"y\"}],\n",
       "                        {\"barmode\": \"relative\", \"legend\": {\"tracegroupgap\": 0}, \"margin\": {\"t\": 60}, \"template\": {\"data\": {\"pie\": [{\"automargin\": true, \"type\": \"pie\"}], \"scatter\": [{\"line\": {\"width\": 3}, \"marker\": {\"size\": 9}, \"type\": \"scatter\"}], \"scatter3d\": [{\"line\": {\"width\": 3}, \"marker\": {\"size\": 9}, \"type\": \"scatter3d\"}], \"scattergeo\": [{\"line\": {\"width\": 3}, \"marker\": {\"size\": 9}, \"type\": \"scattergeo\"}], \"scattergl\": [{\"line\": {\"width\": 3}, \"marker\": {\"size\": 9}, \"type\": \"scattergl\"}], \"scatterpolar\": [{\"line\": {\"width\": 3}, \"marker\": {\"size\": 9}, \"type\": \"scatterpolar\"}], \"scatterpolargl\": [{\"line\": {\"width\": 3}, \"marker\": {\"size\": 9}, \"type\": \"scatterpolargl\"}], \"scatterternary\": [{\"line\": {\"width\": 3}, \"marker\": {\"size\": 9}, \"type\": \"scatterternary\"}], \"table\": [{\"cells\": {\"height\": 30}, \"header\": {\"height\": 36}, \"type\": \"table\"}]}, \"layout\": {\"font\": {\"size\": 18}, \"xaxis\": {\"title\": {\"standoff\": 15}}, \"yaxis\": {\"title\": {\"standoff\": 15}}}}, \"xaxis\": {\"anchor\": \"y\", \"domain\": [0.0, 1.0], \"title\": {\"text\": \"mileage\"}}, \"yaxis\": {\"anchor\": \"x\", \"domain\": [0.0, 1.0], \"title\": {\"text\": \"count\"}}},\n",
       "                        {\"responsive\": true}\n",
       "                    ).then(function(){\n",
       "                            \n",
       "var gd = document.getElementById('500c8a91-a8be-4499-b953-80cc71232746');\n",
       "var x = new MutationObserver(function (mutations, observer) {{\n",
       "        var display = window.getComputedStyle(gd).display;\n",
       "        if (!display || display === 'none') {{\n",
       "            console.log([gd, 'removed!']);\n",
       "            Plotly.purge(gd);\n",
       "            observer.disconnect();\n",
       "        }}\n",
       "}});\n",
       "\n",
       "// Listen for the removal of the full notebook cells\n",
       "var notebookContainer = gd.closest('#notebook-container');\n",
       "if (notebookContainer) {{\n",
       "    x.observe(notebookContainer, {childList: true});\n",
       "}}\n",
       "\n",
       "// Listen for the clearing of the current output cell\n",
       "var outputEl = gd.closest('.output');\n",
       "if (outputEl) {{\n",
       "    x.observe(outputEl, {childList: true});\n",
       "}}\n",
       "\n",
       "                        })\n",
       "                };\n",
       "                });\n",
       "            </script>\n",
       "        </div>"
      ]
     },
     "metadata": {},
     "output_type": "display_data"
    }
   ],
   "source": [
    "plt_mileage = px.histogram(df, x=df.mileage, template=\"presentation\")\n",
    "plt_mileage.show()\n",
    "\n",
    "pio.write_html(plt_mileage, file='./img/plt_mileage.html', full_html=False, include_plotlyjs='cdn', auto_open=False)"
   ]
  },
  {
   "cell_type": "code",
   "execution_count": 448,
   "metadata": {},
   "outputs": [
    {
     "data": {
      "text/html": [
       "\n",
       "\n",
       "\n",
       "\n",
       "\n",
       "\n",
       "  <div class=\"bk-root\" id=\"72ba68dd-c704-40ba-a9e6-6af0e0362a7a\" data-root-id=\"1285\"></div>\n"
      ]
     },
     "metadata": {},
     "output_type": "display_data"
    },
    {
     "data": {
      "application/javascript": [
       "(function(root) {\n",
       "  function embed_document(root) {\n",
       "    \n",
       "  var docs_json = {\"d26a10d7-8050-49da-8948-bae7381e6a55\":{\"roots\":{\"references\":[{\"attributes\":{\"below\":[{\"id\":\"1293\"}],\"center\":[{\"id\":\"1296\"},{\"id\":\"1300\"},{\"id\":\"1327\"}],\"left\":[{\"id\":\"1297\"}],\"plot_height\":300,\"plot_width\":400,\"renderers\":[{\"id\":\"1318\"},{\"id\":\"1332\"}],\"title\":{\"id\":\"1320\"},\"toolbar\":{\"id\":\"1308\"},\"x_range\":{\"id\":\"1286\"},\"x_scale\":{\"id\":\"1289\"},\"y_range\":{\"id\":\"1284\"},\"y_scale\":{\"id\":\"1291\"}},\"id\":\"1285\",\"subtype\":\"Figure\",\"type\":\"Plot\"},{\"attributes\":{},\"id\":\"1304\",\"type\":\"SaveTool\"},{\"attributes\":{\"active_drag\":\"auto\",\"active_inspect\":\"auto\",\"active_multi\":null,\"active_scroll\":\"auto\",\"active_tap\":\"auto\",\"tools\":[{\"id\":\"1301\"},{\"id\":\"1302\"},{\"id\":\"1303\"},{\"id\":\"1304\"},{\"id\":\"1305\"},{\"id\":\"1306\"}]},\"id\":\"1308\",\"type\":\"Toolbar\"},{\"attributes\":{\"overlay\":{\"id\":\"1307\"}},\"id\":\"1303\",\"type\":\"BoxZoomTool\"},{\"attributes\":{\"start\":0},\"id\":\"1284\",\"type\":\"DataRange1d\"},{\"attributes\":{},\"id\":\"1286\",\"type\":\"DataRange1d\"},{\"attributes\":{\"label\":{\"value\":\" \"},\"renderers\":[{\"id\":\"1318\"},{\"id\":\"1332\"}]},\"id\":\"1328\",\"type\":\"LegendItem\"},{\"attributes\":{},\"id\":\"1306\",\"type\":\"HelpTool\"},{\"attributes\":{},\"id\":\"1374\",\"type\":\"UnionRenderers\"},{\"attributes\":{},\"id\":\"1305\",\"type\":\"ResetTool\"},{\"attributes\":{\"data\":{\"x\":{\"__ndarray__\":\"AAAAAACopkAAAAAAAKimQAAAAAAAaLBAAAAAAABosEAAAAAAAHy1QAAAAAAAfLVAAAAAAACQukAAAAAAAJC6QAAAAAAApL9AAAAAAACkv0AAAAAAAFzCQAAAAAAAXMJAAAAAAADmxEAAAAAAAObEQAAAAAAAcMdAAAAAAABwx0AAAAAAAPrJQAAAAAAA+slAAAAAAACEzEAAAAAAAITMQAAAAAAADs9AAAAAAAAOz0AAAAAAAMzQQAAAAAAAzNBAAAAAAAAR0kAAAAAAABHSQAAAAAAAVtNAAAAAAABW00AAAAAAAJvUQAAAAAAAm9RAAAAAAADg1UAAAAAAAODVQAAAAAAAJddAAAAAAAAl10AAAAAAAGrYQAAAAAAAathAAAAAAACv2UAAAAAAAK/ZQAAAAAAA9NpAAAAAAAD02kAAAAAAADncQAAAAAAAOdxA\",\"dtype\":\"float64\",\"shape\":[42]},\"y\":{\"__ndarray__\":\"AAAAAAAAAAAAAAAAAAAAQAAAAAAAAABAAAAAAAAACEAAAAAAAAAIQAAAAAAAABRAAAAAAAAAFEAAAAAAAAAqQAAAAAAAACpAAAAAAAAAJkAAAAAAAAAmQAAAAAAAADVAAAAAAAAANUAAAAAAAIBCQAAAAAAAgEJAAAAAAAAAQkAAAAAAAABCQAAAAAAAgExAAAAAAACATEAAAAAAAIBNQAAAAAAAgE1AAAAAAAAAU0AAAAAAAABTQAAAAAAAAENAAAAAAAAAQ0AAAAAAAAA+QAAAAAAAAD5AAAAAAAAAMkAAAAAAAAAyQAAAAAAAACRAAAAAAAAAJEAAAAAAAAAAQAAAAAAAAABAAAAAAAAAAAAAAAAAAAAAAAAAAAAAAPA/AAAAAAAA8D8AAAAAAAAAAAAAAAAAAAAAAAAAAAAAEEAAAAAAAAAQQAAAAAAAAAAA\",\"dtype\":\"float64\",\"shape\":[42]}},\"selected\":{\"id\":\"1340\"},\"selection_policy\":{\"id\":\"1341\"}},\"id\":\"1315\",\"type\":\"ColumnDataSource\"},{\"attributes\":{},\"id\":\"1294\",\"type\":\"BasicTicker\"},{\"attributes\":{\"data\":{\"x\":{\"__ndarray__\":\"AAAAAACopkAAAAAAAKimQAAAAAAAaLBAAAAAAABosEAAAAAAAHy1QAAAAAAAfLVAAAAAAACQukAAAAAAAJC6QAAAAAAApL9AAAAAAACkv0AAAAAAAFzCQAAAAAAAXMJAAAAAAADmxEAAAAAAAObEQAAAAAAAcMdAAAAAAABwx0AAAAAAAPrJQAAAAAAA+slAAAAAAACEzEAAAAAAAITMQAAAAAAADs9AAAAAAAAOz0AAAAAAAMzQQAAAAAAAzNBAAAAAAAAR0kAAAAAAABHSQAAAAAAAVtNAAAAAAABW00AAAAAAAJvUQAAAAAAAm9RAAAAAAADg1UAAAAAAAODVQAAAAAAAJddAAAAAAAAl10AAAAAAAGrYQAAAAAAAathAAAAAAACv2UAAAAAAAK/ZQAAAAAAA9NpAAAAAAAD02kAAAAAAADncQAAAAAAAOdxAAAAAAAA53EAAAAAAAKimQA==\",\"dtype\":\"float64\",\"shape\":[44]},\"y\":{\"__ndarray__\":\"AAAAAAAAAAAAAAAAAAAAQAAAAAAAAABAAAAAAAAACEAAAAAAAAAIQAAAAAAAABRAAAAAAAAAFEAAAAAAAAAqQAAAAAAAACpAAAAAAAAAJkAAAAAAAAAmQAAAAAAAADVAAAAAAAAANUAAAAAAAIBCQAAAAAAAgEJAAAAAAAAAQkAAAAAAAABCQAAAAAAAgExAAAAAAACATEAAAAAAAIBNQAAAAAAAgE1AAAAAAAAAU0AAAAAAAABTQAAAAAAAAENAAAAAAAAAQ0AAAAAAAAA+QAAAAAAAAD5AAAAAAAAAMkAAAAAAAAAyQAAAAAAAACRAAAAAAAAAJEAAAAAAAAAAQAAAAAAAAABAAAAAAAAAAAAAAAAAAAAAAAAAAAAAAPA/AAAAAAAA8D8AAAAAAAAAAAAAAAAAAAAAAAAAAAAAEEAAAAAAAAAQQAAAAAAAAAAAAAAAAAAAAAAAAAAAAAAAAA==\",\"dtype\":\"float64\",\"shape\":[44]}},\"selected\":{\"id\":\"1373\"},\"selection_policy\":{\"id\":\"1374\"}},\"id\":\"1329\",\"type\":\"ColumnDataSource\"},{\"attributes\":{},\"id\":\"1325\",\"type\":\"BasicTickFormatter\"},{\"attributes\":{\"axis_label\":\"count\",\"formatter\":{\"id\":\"1325\"},\"ticker\":{\"id\":\"1298\"}},\"id\":\"1297\",\"type\":\"LinearAxis\"},{\"attributes\":{\"fill_alpha\":0.3,\"fill_color\":\"#1f77b3\",\"line_alpha\":0,\"line_color\":\"#1f77b3\",\"x\":{\"field\":\"x\"},\"y\":{\"field\":\"y\"}},\"id\":\"1330\",\"type\":\"Patch\"},{\"attributes\":{},\"id\":\"1298\",\"type\":\"BasicTicker\"},{\"attributes\":{},\"id\":\"1340\",\"type\":\"Selection\"},{\"attributes\":{\"axis\":{\"id\":\"1297\"},\"dimension\":1,\"ticker\":null},\"id\":\"1300\",\"type\":\"Grid\"},{\"attributes\":{\"line_color\":\"#1f77b3\",\"line_width\":2,\"x\":{\"field\":\"x\"},\"y\":{\"field\":\"y\"}},\"id\":\"1316\",\"type\":\"Line\"},{\"attributes\":{\"fill_alpha\":0.1,\"fill_color\":\"#1f77b3\",\"line_alpha\":0.1,\"line_color\":\"#1f77b3\",\"x\":{\"field\":\"x\"},\"y\":{\"field\":\"y\"}},\"id\":\"1331\",\"type\":\"Patch\"},{\"attributes\":{\"data_source\":{\"id\":\"1315\"},\"glyph\":{\"id\":\"1316\"},\"hover_glyph\":null,\"muted_glyph\":null,\"nonselection_glyph\":{\"id\":\"1317\"},\"selection_glyph\":null,\"view\":{\"id\":\"1319\"}},\"id\":\"1318\",\"type\":\"GlyphRenderer\"},{\"attributes\":{\"data_source\":{\"id\":\"1329\"},\"glyph\":{\"id\":\"1330\"},\"hover_glyph\":null,\"muted_glyph\":null,\"nonselection_glyph\":{\"id\":\"1331\"},\"selection_glyph\":null,\"view\":{\"id\":\"1333\"}},\"id\":\"1332\",\"type\":\"GlyphRenderer\"},{\"attributes\":{},\"id\":\"1302\",\"type\":\"WheelZoomTool\"},{\"attributes\":{\"line_alpha\":0.1,\"line_color\":\"#1f77b3\",\"line_width\":2,\"x\":{\"field\":\"x\"},\"y\":{\"field\":\"y\"}},\"id\":\"1317\",\"type\":\"Line\"},{\"attributes\":{\"source\":{\"id\":\"1329\"}},\"id\":\"1333\",\"type\":\"CDSView\"},{\"attributes\":{},\"id\":\"1341\",\"type\":\"UnionRenderers\"},{\"attributes\":{},\"id\":\"1291\",\"type\":\"LinearScale\"},{\"attributes\":{},\"id\":\"1323\",\"type\":\"BasicTickFormatter\"},{\"attributes\":{\"bottom_units\":\"screen\",\"fill_alpha\":0.5,\"fill_color\":\"lightgrey\",\"left_units\":\"screen\",\"level\":\"overlay\",\"line_alpha\":1.0,\"line_color\":\"black\",\"line_dash\":[4,4],\"line_width\":2,\"render_mode\":\"css\",\"right_units\":\"screen\",\"top_units\":\"screen\"},\"id\":\"1307\",\"type\":\"BoxAnnotation\"},{\"attributes\":{\"text\":\"\"},\"id\":\"1320\",\"type\":\"Title\"},{\"attributes\":{\"source\":{\"id\":\"1315\"}},\"id\":\"1319\",\"type\":\"CDSView\"},{\"attributes\":{\"axis\":{\"id\":\"1293\"},\"ticker\":null},\"id\":\"1296\",\"type\":\"Grid\"},{\"attributes\":{},\"id\":\"1289\",\"type\":\"LinearScale\"},{\"attributes\":{\"items\":[{\"id\":\"1328\"}],\"visible\":false},\"id\":\"1327\",\"type\":\"Legend\"},{\"attributes\":{},\"id\":\"1301\",\"type\":\"PanTool\"},{\"attributes\":{},\"id\":\"1373\",\"type\":\"Selection\"},{\"attributes\":{\"axis_label\":\"price\",\"formatter\":{\"id\":\"1323\"},\"ticker\":{\"id\":\"1294\"}},\"id\":\"1293\",\"type\":\"LinearAxis\"}],\"root_ids\":[\"1285\"]},\"title\":\"Bokeh Application\",\"version\":\"2.0.2\"}};\n",
       "  var render_items = [{\"docid\":\"d26a10d7-8050-49da-8948-bae7381e6a55\",\"root_ids\":[\"1285\"],\"roots\":{\"1285\":\"72ba68dd-c704-40ba-a9e6-6af0e0362a7a\"}}];\n",
       "  root.Bokeh.embed.embed_items_notebook(docs_json, render_items);\n",
       "\n",
       "  }\n",
       "  if (root.Bokeh !== undefined) {\n",
       "    embed_document(root);\n",
       "  } else {\n",
       "    var attempts = 0;\n",
       "    var timer = setInterval(function(root) {\n",
       "      if (root.Bokeh !== undefined) {\n",
       "        clearInterval(timer);\n",
       "        embed_document(root);\n",
       "      } else {\n",
       "        attempts++;\n",
       "        if (attempts > 100) {\n",
       "          clearInterval(timer);\n",
       "          console.log(\"Bokeh: ERROR: Unable to run BokehJS code because BokehJS library is missing\");\n",
       "        }\n",
       "      }\n",
       "    }, 10, root)\n",
       "  }\n",
       "})(window);"
      ],
      "application/vnd.bokehjs_exec.v0+json": ""
     },
     "metadata": {
      "application/vnd.bokehjs_exec.v0+json": {
       "id": "1285"
      }
     },
     "output_type": "display_data"
    },
    {
     "name": "stdout",
     "output_type": "stream",
     "text": [
      "Wall time: 41 ms\n"
     ]
    }
   ],
   "source": [
    "def plot_bokeh():\n",
    "    p = figure(plot_width=400, plot_height=400)\n",
    "    p.circle([1, 2, 3, 4, 5], [6, 7, 2, 4, 5], size=20, color=\"navy\", alpha=0.5)\n",
    "    show(p)\n",
    "\n",
    "def plot_hist():\n",
    "    # http://justinbois.github.io/bootcamp/2019/lessons/l23_high_level_plotting.html\n",
    "    # https://github.com/justinbois/bokeh-catplot\n",
    "    p = bokeh_catplot.histogram(data=df['price'],cats=None,val='price', bins=20)\n",
    "    show(p)\n",
    "\n",
    "#%time plot_bokeh() \n",
    "%time plot_hist()"
   ]
  },
  {
   "cell_type": "markdown",
   "metadata": {},
   "source": [
    "### Cena"
   ]
  },
  {
   "cell_type": "code",
   "execution_count": 449,
   "metadata": {},
   "outputs": [
    {
     "data": {
      "image/png": "[encoded data removed]",
      "text/plain": [
       "<Figure size 1296x504 with 1 Axes>"
      ]
     },
     "metadata": {},
     "output_type": "display_data"
    }
   ],
   "source": [
    "sns.set_style(\"darkgrid\")\n",
    "plt.figure(figsize=(18,7))\n",
    "chart = sns.distplot(df['price'], bins=20, kde=False, rug=True)\n",
    "chart.set(xlabel='Cena', ylabel='liczba ogłoszeń');"
   ]
  },
  {
   "cell_type": "code",
   "execution_count": 450,
   "metadata": {},
   "outputs": [
    {
     "data": {
      "image/png": "[encoded data removed]",
      "text/plain": [
       "<Figure size 1440x504 with 1 Axes>"
      ]
     },
     "metadata": {},
     "output_type": "display_data"
    }
   ],
   "source": [
    "plt.figure(figsize=(20, 7))\n",
    "plt.title('price vs year')  \n",
    "plt.xlabel('year')  \n",
    "plt.ylabel('price') \n",
    "sns.stripplot(x=\"year\", y=\"price_raw\", data=df);"
   ]
  },
  {
   "cell_type": "code",
   "execution_count": 451,
   "metadata": {},
   "outputs": [
    {
     "data": {
      "image/png": "[encoded data removed]",
      "text/plain": [
       "<Figure size 1080x504 with 1 Axes>"
      ]
     },
     "metadata": {},
     "output_type": "display_data"
    }
   ],
   "source": [
    "df.plot(x='year', y='price_raw', style='o', figsize=(15,7)) \n",
    "plt.title('price vs year')  \n",
    "plt.xlabel('year')  \n",
    "plt.ylabel('price')  \n",
    "plt.show()"
   ]
  },
  {
   "cell_type": "markdown",
   "metadata": {},
   "source": [
    "### przebieg"
   ]
  },
  {
   "cell_type": "code",
   "execution_count": 452,
   "metadata": {},
   "outputs": [
    {
     "data": {
      "image/png": "[encoded data removed]",
      "text/plain": [
       "<Figure size 1296x504 with 1 Axes>"
      ]
     },
     "metadata": {},
     "output_type": "display_data"
    }
   ],
   "source": [
    "sns.set_style(\"darkgrid\")\n",
    "plt.figure(figsize=(18,7))\n",
    "chart = sns.distplot(df['mileage'], bins=40, kde=False, rug=True)\n",
    "chart.set(xlabel='Przebieg', ylabel='liczba ogłoszeń');"
   ]
  },
  {
   "cell_type": "markdown",
   "metadata": {},
   "source": [
    "### Czas trwania ogłoszenia"
   ]
  },
  {
   "cell_type": "code",
   "execution_count": 453,
   "metadata": {},
   "outputs": [
    {
     "data": {
      "image/png": "[encoded data removed]",
      "text/plain": [
       "<Figure size 1440x360 with 1 Axes>"
      ]
     },
     "metadata": {},
     "output_type": "display_data"
    }
   ],
   "source": [
    "offer_duration = df['duration'].max()\n",
    "df['duration'].hist(bins=offer_duration,figsize=(20,5))\n",
    "plt.show()"
   ]
  },
  {
   "cell_type": "code",
   "execution_count": 454,
   "metadata": {},
   "outputs": [],
   "source": [
    "# counts = df['duration'].value_counts()\n",
    "\n",
    "# fig = plt.figure(figsize=(20,5))\n",
    "# axes = fig.add_axes([0.1 ,0.1 ,0.8, 0.8]) \n",
    "# axes.bar(counts.index, counts.values)\n",
    "\n",
    "# axes.set_xlabel('Województwo')\n",
    "# axes.set_ylabel('Liczba aut')\n",
    "# axes.set_title('Liczba ogłoszeń wg województw')\n",
    "\n",
    "# locs, labels = fig.xticks() \n",
    "\n",
    "# # for label in axes.get_xticklabels():\n",
    "# #     xticks(np.arange(30))\n",
    "# # #   label.set_rotation(45)\n",
    "# # #   label.set_ha('right')"
   ]
  },
  {
   "cell_type": "markdown",
   "metadata": {},
   "source": [
    "### Cena końcowa - 99 percentyl"
   ]
  },
  {
   "cell_type": "code",
   "execution_count": 455,
   "metadata": {},
   "outputs": [
    {
     "data": {
      "text/plain": [
       "25310.199999999917"
      ]
     },
     "execution_count": 455,
     "metadata": {},
     "output_type": "execute_result"
    }
   ],
   "source": [
    "filter_max = np.percentile(df['price'],99)\n",
    "filter_max"
   ]
  },
  {
   "cell_type": "code",
   "execution_count": 456,
   "metadata": {},
   "outputs": [
    {
     "data": {
      "image/png": "[encoded data removed]",
      "text/plain": [
       "<Figure size 1440x360 with 1 Axes>"
      ]
     },
     "metadata": {},
     "output_type": "display_data"
    }
   ],
   "source": [
    "df_filter = df[df['price'] < filter_max]\n",
    "df_filter['price'].hist(bins=50,figsize=(20,5))\n",
    "plt.show()"
   ]
  },
  {
   "cell_type": "markdown",
   "metadata": {},
   "source": [
    "### Przebieg"
   ]
  },
  {
   "cell_type": "code",
   "execution_count": 457,
   "metadata": {},
   "outputs": [
    {
     "data": {
      "image/png": "[encoded data removed]",
      "text/plain": [
       "<Figure size 1440x360 with 1 Axes>"
      ]
     },
     "metadata": {},
     "output_type": "display_data"
    }
   ],
   "source": [
    "df['mileage'].hist(bins=150,figsize=(20,5))\n",
    "plt.show()"
   ]
  },
  {
   "cell_type": "markdown",
   "metadata": {},
   "source": [
    "### Przebieg - 99 percentyl"
   ]
  },
  {
   "cell_type": "code",
   "execution_count": 458,
   "metadata": {},
   "outputs": [
    {
     "data": {
      "image/png": "[encoded data removed]",
      "text/plain": [
       "<Figure size 1440x360 with 1 Axes>"
      ]
     },
     "metadata": {},
     "output_type": "display_data"
    }
   ],
   "source": [
    "df_mileage = df[df['mileage'] < np.percentile(df['mileage'],99)]\n",
    "df_mileage['mileage'].hist(bins=150,figsize=(20,5))\n",
    "plt.show()"
   ]
  },
  {
   "cell_type": "code",
   "execution_count": 459,
   "metadata": {},
   "outputs": [
    {
     "data": {
      "text/plain": [
       "90"
      ]
     },
     "execution_count": 459,
     "metadata": {},
     "output_type": "execute_result"
    }
   ],
   "source": [
    "df[df['year'] == 2009 ].shape[0]"
   ]
  },
  {
   "cell_type": "code",
   "execution_count": 460,
   "metadata": {},
   "outputs": [
    {
     "name": "stdout",
     "output_type": "stream",
     "text": [
      "Wall time: 157 ms\n"
     ]
    },
    {
     "data": {
      "image/png": "[encoded data removed]",
      "text/plain": [
       "<Figure size 1440x360 with 1 Axes>"
      ]
     },
     "metadata": {},
     "output_type": "display_data"
    }
   ],
   "source": [
    "def plot_year():\n",
    "    year_list = df['year'].unique()\n",
    "\n",
    "    x = []\n",
    "    y = []\n",
    "    for i in year_list:\n",
    "        x.append(i)\n",
    "        y.append(df[df['year'] == i ].shape[0])\n",
    "    \n",
    "    sdf = pd.DataFrame(dict(x=x, y=y)).sort_values(by=['x'])\n",
    "\n",
    "    sns.set_style(\"darkgrid\")  \n",
    "    plt.figure(figsize=(20,5))\n",
    "    ax = sns.barplot(x=x, y=y, data=sdf, palette=(\"YlGnBu\"))\n",
    "    ax.set(xlabel='rocznik', ylabel='liczba ogłoszeń')\n",
    "    sns.set_context(\"talk\")\n",
    "    plt.savefig('sns.png')\n",
    "    \n",
    "%time plot_year()\n"
   ]
  },
  {
   "cell_type": "code",
   "execution_count": 461,
   "metadata": {},
   "outputs": [
    {
     "name": "stdout",
     "output_type": "stream",
     "text": [
      "Wall time: 368 ms\n"
     ]
    },
    {
     "data": {
      "image/png": "[encoded data removed]",
      "text/plain": [
       "<Figure size 1440x360 with 1 Axes>"
      ]
     },
     "metadata": {},
     "output_type": "display_data"
    }
   ],
   "source": [
    "# OTOMOTO\n",
    "# CZas ogłoszenia 15 / 30 dni\n",
    "\n",
    "def plot_duration():\n",
    "    year_list = df['duration'].unique()\n",
    "\n",
    "    x = []\n",
    "    y = []\n",
    "    for i in year_list:\n",
    "        x.append(i)\n",
    "        y.append(df[df['duration'] == i ].shape[0])\n",
    "    \n",
    "    sdf = pd.DataFrame(dict(x=x, y=y)).sort_values(by=['x'])\n",
    "\n",
    "    sns.set_style(\"darkgrid\")  \n",
    "    plt.figure(figsize=(20,5))\n",
    "    ax = sns.barplot(x=x, y=y, data=sdf, palette=(\"YlGnBu\"))\n",
    "    ax.set(xlabel='długość trwania ogłoszeń (w dniach)', ylabel='liczba ogłoszeń')\n",
    "    sns.set_context(\"talk\")\n",
    "    plt.savefig('sns_duration.png')\n",
    "    \n",
    "%time plot_duration()"
   ]
  },
  {
   "cell_type": "markdown",
   "metadata": {},
   "source": [
    "---"
   ]
  },
  {
   "cell_type": "code",
   "execution_count": 462,
   "metadata": {},
   "outputs": [
    {
     "data": {
      "text/plain": [
       "Index(['offer_id', 's_date', 'e_date', 'private_business', 'region', 'city',\n",
       "       'model', 'year', 'mileage', 'engine_capacity', 'vin', 'fuel_type',\n",
       "       'engine_power', 'gearbox', 'transmission', 'door_count', 'nr_seats',\n",
       "       'color', 'features', 'price', 'price_raw', 'currency', 'country_origin',\n",
       "       'registration', 'engine', 'duration', 'price_chng', 'f_', 'f_roof-bars',\n",
       "       'f_head-display', 'f_alloy-wheels', 'f_gps', 'f_rear-parking-sensors',\n",
       "       'f_central-lock', 'f_assisted-steering', 'f_rear-electric-windows',\n",
       "       'f_driver-knee-airbag', 'f_electric-adjustable-seats',\n",
       "       'f_electronic-rearview-mirrors', 'f_leds', 'f_system-start-stop',\n",
       "       'f_cd', 'f_park-assist', 'f_shift-paddles', 'f_usb-socket', 'f_abs',\n",
       "       'f_daytime-lights', 'f_electric-interior-mirror', 'f_automatic-lights',\n",
       "       'f_automatic-wipers', 'f_towing-hook', 'f_aux-in',\n",
       "       'f_electric-exterior-mirror', 'f_mp3', 'f_dual-air-conditioning',\n",
       "       'f_side-window-airbags', 'f_fog-lights', 'f_cruise-control', 'f_0',\n",
       "       'f_front-side-airbags', 'f_heated-windshield', 'f_bluetooth',\n",
       "       'f_front-electric-windows', 'f_automatic-air-conditioning',\n",
       "       'f_velour-interior', 'f_sd-socket', 'f_heated-rearview-mirrors',\n",
       "       'f_front-airbags', 'f_onboard-computer', 'f_tinted-windows',\n",
       "       'f_cd-changer', 'f_original-radio', 'f_air-conditioning',\n",
       "       'f_front-passenger-airbags', 'f_esp', 'f_alarm', 'f_dvd', 'f_asr',\n",
       "       'f_isofix', 'f_rear-passenger-airbags', 'f_front-heated-seats',\n",
       "       'f_steering-whell-comands', 'f_electronic-immobiliser'],\n",
       "      dtype='object')"
      ]
     },
     "execution_count": 462,
     "metadata": {},
     "output_type": "execute_result"
    }
   ],
   "source": [
    "df.columns"
   ]
  },
  {
   "cell_type": "code",
   "execution_count": 463,
   "metadata": {},
   "outputs": [
    {
     "data": {
      "text/plain": [
       "(423, 16)"
      ]
     },
     "execution_count": 463,
     "metadata": {},
     "output_type": "execute_result"
    }
   ],
   "source": [
    "important_feats = ['offer_id', 's_date', 'e_date', 'private_business','region','city','year', \n",
    "                   'mileage', 'fuel_type', 'door_count','f_air-conditioning','f_alloy-wheels',\n",
    "                  'f_steering-whell-comands','f_front-electric-windows','price', 'price_raw']\n",
    "\n",
    "df_clean = df.filter(important_feats, axis=1).copy()\n",
    "\n",
    "df_clean.shape"
   ]
  },
  {
   "cell_type": "markdown",
   "metadata": {},
   "source": [
    "## TODO: ML"
   ]
  },
  {
   "cell_type": "code",
   "execution_count": 464,
   "metadata": {},
   "outputs": [],
   "source": [
    "import random as rn\n",
    "import xgboost as xgb\n",
    "\n",
    "from sklearn.model_selection import train_test_split, KFold, StratifiedKFold, cross_val_score, cross_validate, cross_val_predict\n",
    "from sklearn.metrics import accuracy_score, recall_score, confusion_matrix, classification_report\n",
    "import scikitplot as skplt\n",
    "\n",
    "import joblib\n",
    "\n",
    "seed = 0\n",
    "np.random.seed(seed)\n",
    "rn.seed(seed)\n",
    "\n",
    "xgb_params = {\n",
    "    'max_depth' : 5, \n",
    "    'n_estimators' : 100, \n",
    "    'learning_rate' : 0.3, \n",
    "    'random_state' : 0\n",
    "}\n",
    "\n",
    "model = xgb.XGBRegressor(**xgb_params, objective ='reg:squarederror')"
   ]
  },
  {
   "cell_type": "code",
   "execution_count": 465,
   "metadata": {},
   "outputs": [
    {
     "data": {
      "text/plain": [
       "'1.0.2'"
      ]
     },
     "execution_count": 465,
     "metadata": {},
     "output_type": "execute_result"
    }
   ],
   "source": [
    "xgb.__version__"
   ]
  },
  {
   "cell_type": "code",
   "execution_count": 466,
   "metadata": {},
   "outputs": [
    {
     "name": "stdout",
     "output_type": "stream",
     "text": [
      "['private_business', 'year', 'mileage', 'door_count', 'f_air-conditioning', 'f_alloy-wheels', 'f_steering-whell-comands', 'f_front-electric-windows']\n",
      "Wall time: 138 ms\n"
     ]
    },
    {
     "data": {
      "image/png": "[encoded data removed]",
      "text/plain": [
       "<Figure size 1080x360 with 1 Axes>"
      ]
     },
     "metadata": {},
     "output_type": "display_data"
    }
   ],
   "source": [
    "def get_feats(df):\n",
    "    feats = df.select_dtypes([np.number, np.bool]).columns\n",
    "    black_list = ['price', 'price_raw', 'offer_id']\n",
    "    return [x for x in feats if x not in black_list]\n",
    "\n",
    "def get_cat_feats(df):\n",
    "    cat_feats = df.select_dtypes(include=[np.object]).columns\n",
    "    black_list = ['features', 'model']\n",
    "    cat_feats_list =  [x for x in cat_feats if x not in black_list]\n",
    "\n",
    "    for cat_feat in cat_feats_list:\n",
    "        df['{0}_cat'.format(cat_feat)] = pd.factorize( df[cat_feat] )[0]\n",
    "\n",
    "    \n",
    "feats = get_feats(df_clean)\n",
    "print(feats)\n",
    "\n",
    "X = df_clean[feats].values\n",
    "y = df_clean['price'].values\n",
    "\n",
    "\n",
    "def simple_split_model(model, X,y):\n",
    "    #train and predict\n",
    "    X_train, X_test, y_train, y_test = train_test_split(X, y, test_size=0.2)\n",
    "    \n",
    "    model.fit(X_train, y_train)\n",
    "    y_pred = model.predict(X_test)\n",
    "    \n",
    "    skplt.estimators.plot_feature_importances(model, feature_names=feats, title='Features importance', x_tick_rotation=90, figsize=(15, 5));\n",
    "\n",
    "%time simple_split_model(model, X, y)"
   ]
  },
  {
   "cell_type": "code",
   "execution_count": 467,
   "metadata": {},
   "outputs": [
    {
     "data": {
      "text/html": [
       "<div>\n",
       "<style scoped>\n",
       "    .dataframe tbody tr th:only-of-type {\n",
       "        vertical-align: middle;\n",
       "    }\n",
       "\n",
       "    .dataframe tbody tr th {\n",
       "        vertical-align: top;\n",
       "    }\n",
       "\n",
       "    .dataframe thead th {\n",
       "        text-align: right;\n",
       "    }\n",
       "</style>\n",
       "<table border=\"1\" class=\"dataframe\">\n",
       "  <thead>\n",
       "    <tr style=\"text-align: right;\">\n",
       "      <th></th>\n",
       "      <th>private_business</th>\n",
       "      <th>year</th>\n",
       "      <th>mileage</th>\n",
       "      <th>door_count</th>\n",
       "      <th>f_air-conditioning</th>\n",
       "      <th>f_alloy-wheels</th>\n",
       "      <th>f_steering-whell-comands</th>\n",
       "      <th>f_front-electric-windows</th>\n",
       "    </tr>\n",
       "  </thead>\n",
       "  <tbody>\n",
       "    <tr>\n",
       "      <th>0</th>\n",
       "      <td>False</td>\n",
       "      <td>2009</td>\n",
       "      <td>111000</td>\n",
       "      <td>5</td>\n",
       "      <td>0</td>\n",
       "      <td>0</td>\n",
       "      <td>0</td>\n",
       "      <td>0</td>\n",
       "    </tr>\n",
       "  </tbody>\n",
       "</table>\n",
       "</div>"
      ],
      "text/plain": [
       "   private_business  year  mileage  door_count  f_air-conditioning  \\\n",
       "0             False  2009   111000           5                   0   \n",
       "\n",
       "   f_alloy-wheels  f_steering-whell-comands  f_front-electric-windows  \n",
       "0               0                         0                         0  "
      ]
     },
     "execution_count": 467,
     "metadata": {},
     "output_type": "execute_result"
    }
   ],
   "source": [
    "df_clean[feats].head(1)"
   ]
  },
  {
   "cell_type": "code",
   "execution_count": 468,
   "metadata": {},
   "outputs": [
    {
     "data": {
      "text/plain": [
       "['./models/yaris_200405.pkl']"
      ]
     },
     "execution_count": 468,
     "metadata": {},
     "output_type": "execute_result"
    }
   ],
   "source": [
    "# save model\n",
    "joblib.dump(model, './models/yaris_200405.pkl') "
   ]
  },
  {
   "cell_type": "code",
   "execution_count": 475,
   "metadata": {},
   "outputs": [],
   "source": [
    "# https://xgboost.readthedocs.io/en/latest/tutorials/saving_model.html\n",
    "model.save_model('./models/yaris.json')\n"
   ]
  },
  {
   "cell_type": "code",
   "execution_count": 482,
   "metadata": {},
   "outputs": [
    {
     "data": {
      "text/html": [
       "<div>\n",
       "<style scoped>\n",
       "    .dataframe tbody tr th:only-of-type {\n",
       "        vertical-align: middle;\n",
       "    }\n",
       "\n",
       "    .dataframe tbody tr th {\n",
       "        vertical-align: top;\n",
       "    }\n",
       "\n",
       "    .dataframe thead th {\n",
       "        text-align: right;\n",
       "    }\n",
       "</style>\n",
       "<table border=\"1\" class=\"dataframe\">\n",
       "  <thead>\n",
       "    <tr style=\"text-align: right;\">\n",
       "      <th></th>\n",
       "      <th>private_business</th>\n",
       "      <th>year</th>\n",
       "      <th>mileage</th>\n",
       "      <th>door_count</th>\n",
       "      <th>f_air-conditioning</th>\n",
       "      <th>f_alloy-wheels</th>\n",
       "      <th>f_steering-whell-comands</th>\n",
       "      <th>f_front-electric-windows</th>\n",
       "    </tr>\n",
       "  </thead>\n",
       "  <tbody>\n",
       "    <tr>\n",
       "      <th>0</th>\n",
       "      <td>1</td>\n",
       "      <td>2008</td>\n",
       "      <td>142000</td>\n",
       "      <td>3</td>\n",
       "      <td>1</td>\n",
       "      <td>0</td>\n",
       "      <td>0</td>\n",
       "      <td>0</td>\n",
       "    </tr>\n",
       "  </tbody>\n",
       "</table>\n",
       "</div>"
      ],
      "text/plain": [
       "  private_business  year mileage door_count f_air-conditioning f_alloy-wheels  \\\n",
       "0                1  2008  142000          3                  1              0   \n",
       "\n",
       "  f_steering-whell-comands f_front-electric-windows  \n",
       "0                        0                        0  "
      ]
     },
     "execution_count": 482,
     "metadata": {},
     "output_type": "execute_result"
    }
   ],
   "source": [
    "#['private_business', 'year', 'mileage', 'door_count', 'f_air-conditioning', 'f_alloy-wheels', 'f_steering-whell-comands', 'f_front-electric-windows']\n",
    "car_info = pd.DataFrame(columns = feats)\n",
    "\n",
    "car_details = {\n",
    "    'private_business' : 0,\n",
    "    'year' : 2008,\n",
    "    'mileage' : 142000, \n",
    "    'door_count' : 3, \n",
    "    'f_air-conditioning' : 1, \n",
    "    'f_alloy-wheels': 0, \n",
    "    'f_steering-whell-comands' : 0, \n",
    "    'f_front-electric-windows' : 0\n",
    "}\n",
    "\n",
    "car_info = car_info.append(car_details , ignore_index=True)\n",
    "car_info"
   ]
  },
  {
   "cell_type": "code",
   "execution_count": 486,
   "metadata": {},
   "outputs": [
    {
     "name": "stdout",
     "output_type": "stream",
     "text": [
      "Cena powinna wynosić:  13470.159 zł\n"
     ]
    }
   ],
   "source": [
    "y_pred = model.predict(car_info.values)\n",
    "print('Cena powinna wynosić: ', y_pred[0], 'zł')"
   ]
  },
  {
   "cell_type": "code",
   "execution_count": 485,
   "metadata": {},
   "outputs": [
    {
     "name": "stdout",
     "output_type": "stream",
     "text": [
      "Cena powinna wynosić:  13470.159 zł\n"
     ]
    }
   ],
   "source": [
    "#load model & predict\n",
    "loaded_model = joblib.load('./models/yaris_200405.pkl')\n",
    "result = loaded_model.predict(car_info.values)\n",
    "print('Cena powinna wynosić: ',result[0], 'zł')"
   ]
  },
  {
   "cell_type": "code",
   "execution_count": 476,
   "metadata": {},
   "outputs": [
    {
     "name": "stdout",
     "output_type": "stream",
     "text": [
      "(8,)\n"
     ]
    }
   ],
   "source": [
    "print(X[0].shape)"
   ]
  },
  {
   "cell_type": "code",
   "execution_count": 304,
   "metadata": {},
   "outputs": [
    {
     "name": "stdout",
     "output_type": "stream",
     "text": [
      "['private_business', 'year', 'mileage', 'door_count', 'f_air-conditioning', 'f_alloy-wheels', 'f_steering-whell-comands', 'f_front-electric-windows', 'region_cat', 'city_cat', 'fuel_type_cat']\n"
     ]
    }
   ],
   "source": [
    "get_cat_feats(df_clean)\n",
    "feats = get_feats(df_clean)\n",
    "print(feats)"
   ]
  }
 ],
 "metadata": {
  "kernelspec": {
   "display_name": "Python 3",
   "language": "python",
   "name": "python3"
  },
  "language_info": {
   "codemirror_mode": {
    "name": "ipython",
    "version": 3
   },
   "file_extension": ".py",
   "mimetype": "text/x-python",
   "name": "python",
   "nbconvert_exporter": "python",
   "pygments_lexer": "ipython3",
   "version": "3.7.7"
  }
 },
 "nbformat": 4,
 "nbformat_minor": 4
}
