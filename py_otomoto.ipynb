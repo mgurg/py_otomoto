{
 "cells": [
  {
   "cell_type": "markdown",
   "metadata": {},
   "source": [
    "# Toyota Yaris II -  price prediction (draft)\n"
   ]
  },
  {
   "cell_type": "markdown",
   "metadata": {},
   "source": [
    "Notebook do analizy cen samochodu Yaris II\n",
    "\n",
    "Podstawowe informacje:\n",
    " - rok produkcji: 2005–2011\n",
    " - silniki Benzyna, Diesel, Benzyna + LPG\n",
    " - Skrzynia biegów: 5MT, 6MT"
   ]
  },
  {
   "cell_type": "markdown",
   "metadata": {},
   "source": [
    "| Model              | Pojemność | Cylindry | Moc                             | Moment obrotowy             | Skrzynia biegów    | Rok             |\n",
    "|--------------------|-----------|----------|---------------------------------|-----------------------------|--------------------|-----------------|\n",
    "| 1.0 VVT-i          | 998 cm³   | 3        | 51 kW (69 PS) przy 6000 min−1   | 93 Nm przy 3600 min−1       | 5MT                | 2005–2011       |\n",
    "| 1.3 VVT-i          | 1298 cm³  | 4        | 64 kW (87 PS) przy 6000 min−1   | 121 Nm przy 4200 min−1      | 5MT / 5AT          | 2005–2008       |\n",
    "| 1.33 Dual VVT-i    | 1329 cm³  | 4        | 73 kW (99 PS) przy 6000 min−1   | 128 Nm przy 3800 min−1      | 6MT / 6AT          | 09/2010–2011    |\n",
    "|                    |           | 4        | 74 kW (101 PS) przy 6000 min−1  | 132 Nm przy 3800 min−1      | 6MT / 6AT          | 2009–09/2010    |\n",
    "| 1.8 TS VVT-i       | 1798 cm³  | 4        | 98 kW (133 PS) przy 6000 min−1  | 173 Nm przy 4400 min−1      | 5MT / 6AT (Import) | 01/2007–01/2009 |\n",
    "| 1.8 TS Bemani (CH) | 1798 cm³  | 4        | 158 kW (215 PS) przy 6000 min−1 | 270 Nm przy 4800 min−1      | 6MT                | 03/2009–2010    |\n",
    "| 1.4 D-4D           | 1364 cm³  | 4        | 66 kW (90 PS) przy 3800 min−1   | 190 Nm przy 1800–3000 min−1 | 5MT / 5AT          | 2006–2009       |"
   ]
  },
  {
   "cell_type": "markdown",
   "metadata": {},
   "source": [
    "Wg portalu Autocentrum w tym modelu były dostępne następujące wersje silnikowe:\n",
    "\n",
    "Benzyna:\n",
    "- 1.0  VVT-i      69KM 51kW (2005-2011) - 998 cm3, 5MT\n",
    "\n",
    "- 1.3i VVT-i      86KM 63kW (2005-2010) - 1296 cm3, 5MT\n",
    "\n",
    "- 1.33 Dual VVT-i 101KM 74kW (2009-2011) - 1329 cm3, 6MT\n",
    "\n",
    "- 1.8i VVT-i      133KM 98kW (2005-2010) - 1798 cm3, 6MT\n",
    "\n",
    "Diesel:\n",
    "- 1.4 D-4D 90KM 66kW (2005-2011) - 1364 cm3, 5MT"
   ]
  },
  {
   "cell_type": "markdown",
   "metadata": {},
   "source": [
    "## Wczytanie i przegląd danych"
   ]
  },
  {
   "cell_type": "code",
   "execution_count": 1,
   "metadata": {},
   "outputs": [
    {
     "name": "stdout",
     "output_type": "stream",
     "text": [
      "Wall time: 323 ms\n"
     ]
    },
    {
     "data": {
      "text/html": [
       "<div>\n",
       "<style scoped>\n",
       "    .dataframe tbody tr th:only-of-type {\n",
       "        vertical-align: middle;\n",
       "    }\n",
       "\n",
       "    .dataframe tbody tr th {\n",
       "        vertical-align: top;\n",
       "    }\n",
       "\n",
       "    .dataframe thead th {\n",
       "        text-align: right;\n",
       "    }\n",
       "</style>\n",
       "<table border=\"1\" class=\"dataframe\">\n",
       "  <thead>\n",
       "    <tr style=\"text-align: right;\">\n",
       "      <th></th>\n",
       "      <th>offer_id</th>\n",
       "      <th>s_date</th>\n",
       "      <th>e_date</th>\n",
       "      <th>private_business</th>\n",
       "      <th>region</th>\n",
       "      <th>city</th>\n",
       "      <th>model</th>\n",
       "      <th>year</th>\n",
       "      <th>mileage</th>\n",
       "      <th>engine_capacity</th>\n",
       "      <th>...</th>\n",
       "      <th>transmission</th>\n",
       "      <th>door_count</th>\n",
       "      <th>nr_seats</th>\n",
       "      <th>color</th>\n",
       "      <th>features</th>\n",
       "      <th>price</th>\n",
       "      <th>price_raw</th>\n",
       "      <th>currency</th>\n",
       "      <th>country_origin</th>\n",
       "      <th>registration</th>\n",
       "    </tr>\n",
       "  </thead>\n",
       "  <tbody>\n",
       "    <tr>\n",
       "      <th>0</th>\n",
       "      <td>6005738641</td>\n",
       "      <td>2020-04-17</td>\n",
       "      <td>2020-05-28</td>\n",
       "      <td>business</td>\n",
       "      <td>malopolskie</td>\n",
       "      <td>krakow</td>\n",
       "      <td>yaris</td>\n",
       "      <td>2009</td>\n",
       "      <td>111000</td>\n",
       "      <td>1000</td>\n",
       "      <td>...</td>\n",
       "      <td>front-wheel</td>\n",
       "      <td>5</td>\n",
       "      <td>5</td>\n",
       "      <td>grey</td>\n",
       "      <td>0</td>\n",
       "      <td>6200</td>\n",
       "      <td>6200.0</td>\n",
       "      <td>0</td>\n",
       "      <td>f</td>\n",
       "      <td>0</td>\n",
       "    </tr>\n",
       "    <tr>\n",
       "      <th>1</th>\n",
       "      <td>6018694885</td>\n",
       "      <td>2020-04-17</td>\n",
       "      <td>2020-05-26</td>\n",
       "      <td>business</td>\n",
       "      <td>warminsko-mazurskie</td>\n",
       "      <td>ostroda</td>\n",
       "      <td>yaris</td>\n",
       "      <td>2008</td>\n",
       "      <td>45706</td>\n",
       "      <td>998</td>\n",
       "      <td>...</td>\n",
       "      <td>0</td>\n",
       "      <td>3</td>\n",
       "      <td>5</td>\n",
       "      <td>white</td>\n",
       "      <td>abs central-lock electronic-immobiliser front-...</td>\n",
       "      <td>4700</td>\n",
       "      <td>4700.0</td>\n",
       "      <td>0</td>\n",
       "      <td>pl</td>\n",
       "      <td>0</td>\n",
       "    </tr>\n",
       "    <tr>\n",
       "      <th>2</th>\n",
       "      <td>6025678407</td>\n",
       "      <td>2020-04-17</td>\n",
       "      <td>2020-05-28</td>\n",
       "      <td>business</td>\n",
       "      <td>mazowieckie</td>\n",
       "      <td>milanowek</td>\n",
       "      <td>yaris</td>\n",
       "      <td>2009</td>\n",
       "      <td>174000</td>\n",
       "      <td>1300</td>\n",
       "      <td>...</td>\n",
       "      <td>0</td>\n",
       "      <td>5</td>\n",
       "      <td>5</td>\n",
       "      <td>silver</td>\n",
       "      <td>abs cd central-lock front-electric-windows ele...</td>\n",
       "      <td>19800</td>\n",
       "      <td>19800.0</td>\n",
       "      <td>0</td>\n",
       "      <td>0</td>\n",
       "      <td>0</td>\n",
       "    </tr>\n",
       "  </tbody>\n",
       "</table>\n",
       "<p>3 rows × 24 columns</p>\n",
       "</div>"
      ],
      "text/plain": [
       "     offer_id      s_date      e_date private_business               region  \\\n",
       "0  6005738641  2020-04-17  2020-05-28         business          malopolskie   \n",
       "1  6018694885  2020-04-17  2020-05-26         business  warminsko-mazurskie   \n",
       "2  6025678407  2020-04-17  2020-05-28         business          mazowieckie   \n",
       "\n",
       "        city  model  year  mileage  engine_capacity  ... transmission  \\\n",
       "0     krakow  yaris  2009   111000             1000  ...  front-wheel   \n",
       "1    ostroda  yaris  2008    45706              998  ...            0   \n",
       "2  milanowek  yaris  2009   174000             1300  ...            0   \n",
       "\n",
       "  door_count  nr_seats   color  \\\n",
       "0          5         5    grey   \n",
       "1          3         5   white   \n",
       "2          5         5  silver   \n",
       "\n",
       "                                            features  price  price_raw  \\\n",
       "0                                                  0   6200     6200.0   \n",
       "1  abs central-lock electronic-immobiliser front-...   4700     4700.0   \n",
       "2  abs cd central-lock front-electric-windows ele...  19800    19800.0   \n",
       "\n",
       "  currency country_origin  registration  \n",
       "0        0              f             0  \n",
       "1        0             pl             0  \n",
       "2        0              0             0  \n",
       "\n",
       "[3 rows x 24 columns]"
      ]
     },
     "execution_count": 1,
     "metadata": {},
     "output_type": "execute_result"
    }
   ],
   "source": [
    "import pandas as pd\n",
    "import numpy as np\n",
    "import sqlite3\n",
    "\n",
    "import warnings\n",
    "warnings.filterwarnings(\"ignore\")\n",
    "\n",
    "%matplotlib inline\n",
    "import matplotlib.pyplot as plt\n",
    "import seaborn as sns\n",
    "\n",
    "def get_view_data():\n",
    "    sql_query = \"\"\"SELECT * FROM v_cars\"\"\"\n",
    "    conn = sqlite3.connect(\"pythonsqlite.db\")\n",
    "    data = pd.read_sql_query(sql_query, conn)\n",
    "    conn.close()\n",
    "    return data\n",
    "\n",
    "def get_data():\n",
    "    sql_query =\"\"\"\n",
    "SELECT \n",
    "    all_offers.offer_id,otomoto_all.s_date, otomoto_all.e_date, all_offers.private_business, all_offers.region,\n",
    "    all_offers.city, all_offers.model, all_offers.year, all_offers.mileage, all_offers.engine_capacity, all_offers.vin,\n",
    "    all_offers.fuel_type, all_offers.engine_power, all_offers.gearbox, all_offers.transmission, all_offers.door_count,\n",
    "    all_offers.nr_seats, all_offers.color, all_offers.features,otomoto_all.price, all_offers.price_raw, all_offers.currency, \n",
    "    all_offers.country_origin, all_offers.registration\n",
    "FROM \n",
    "    otomoto_all, all_offers\n",
    "WHERE \n",
    "    otomoto_all.uid = all_offers.uid; \n",
    "\"\"\"\n",
    "\n",
    "    conn = sqlite3.connect(\"pythonsqlite.db\")\n",
    "    data = pd.read_sql_query(sql_query, conn)\n",
    "    conn.close()\n",
    "    return data\n",
    "\n",
    "#%time df = get_data() #~13 ms\n",
    "%time df = get_view_data() #~13 ms\n",
    "\n",
    "#%time for i in range(3000): df = get_data()\n",
    "\n",
    "df.head(3)"
   ]
  },
  {
   "cell_type": "code",
   "execution_count": 176,
   "metadata": {},
   "outputs": [
    {
     "name": "stdout",
     "output_type": "stream",
     "text": [
      "<class 'pandas.core.frame.DataFrame'>\n",
      "RangeIndex: 428 entries, 0 to 427\n",
      "Data columns (total 86 columns):\n",
      " #   Column                         Non-Null Count  Dtype         \n",
      "---  ------                         --------------  -----         \n",
      " 0   offer_id                       428 non-null    uint64        \n",
      " 1   s_date                         428 non-null    datetime64[ns]\n",
      " 2   e_date                         428 non-null    datetime64[ns]\n",
      " 3   private_business               428 non-null    bool          \n",
      " 4   region                         428 non-null    object        \n",
      " 5   city                           428 non-null    object        \n",
      " 6   model                          428 non-null    object        \n",
      " 7   year                           428 non-null    uint16        \n",
      " 8   mileage                        428 non-null    uint32        \n",
      " 9   engine_capacity                428 non-null    uint16        \n",
      " 10  vin                            428 non-null    object        \n",
      " 11  fuel_type                      428 non-null    object        \n",
      " 12  engine_power                   428 non-null    uint8         \n",
      " 13  gearbox                        428 non-null    object        \n",
      " 14  transmission                   428 non-null    object        \n",
      " 15  door_count                     428 non-null    int64         \n",
      " 16  nr_seats                       428 non-null    uint8         \n",
      " 17  color                          428 non-null    object        \n",
      " 18  features                       428 non-null    object        \n",
      " 19  price                          428 non-null    float32       \n",
      " 20  price_raw                      428 non-null    float32       \n",
      " 21  currency                       428 non-null    object        \n",
      " 22  country_origin                 428 non-null    object        \n",
      " 23  registration                   428 non-null    object        \n",
      " 24  engine                         428 non-null    object        \n",
      " 25  duration                       428 non-null    uint16        \n",
      " 26  price_chng                     428 non-null    float64       \n",
      " 27  f_                             428 non-null    int8          \n",
      " 28  f_towing-hook                  428 non-null    int8          \n",
      " 29  f_asr                          428 non-null    int8          \n",
      " 30  f_electric-interior-mirror     428 non-null    int8          \n",
      " 31  f_central-lock                 428 non-null    int8          \n",
      " 32  f_cd-changer                   428 non-null    int8          \n",
      " 33  f_alloy-wheels                 428 non-null    int8          \n",
      " 34  f_isofix                       428 non-null    int8          \n",
      " 35  f_automatic-lights             428 non-null    int8          \n",
      " 36  f_system-start-stop            428 non-null    int8          \n",
      " 37  f_roof-bars                    428 non-null    int8          \n",
      " 38  f_front-heated-seats           428 non-null    int8          \n",
      " 39  f_auxiliary-heating            428 non-null    int8          \n",
      " 40  f_abs                          428 non-null    int8          \n",
      " 41  f_automatic-air-conditioning   428 non-null    int8          \n",
      " 42  f_electric-exterior-mirror     428 non-null    int8          \n",
      " 43  f_rear-passenger-airbags       428 non-null    int8          \n",
      " 44  f_rear-parking-sensors         428 non-null    int8          \n",
      " 45  f_usb-socket                   428 non-null    int8          \n",
      " 46  f_mp3                          428 non-null    int8          \n",
      " 47  f_velour-interior              428 non-null    int8          \n",
      " 48  f_aux-in                       428 non-null    int8          \n",
      " 49  f_0                            428 non-null    int8          \n",
      " 50  f_shift-paddles                428 non-null    int8          \n",
      " 51  f_sd-socket                    428 non-null    int8          \n",
      " 52  f_front-electric-windows       428 non-null    int8          \n",
      " 53  f_driver-knee-airbag           428 non-null    int8          \n",
      " 54  f_cruise-control               428 non-null    int8          \n",
      " 55  f_front-airbags                428 non-null    int8          \n",
      " 56  f_park-assist                  428 non-null    int8          \n",
      " 57  f_onboard-computer             428 non-null    int8          \n",
      " 58  f_heated-rearview-mirrors      428 non-null    int8          \n",
      " 59  f_cd                           428 non-null    int8          \n",
      " 60  f_dual-air-conditioning        428 non-null    int8          \n",
      " 61  f_air-conditioning             428 non-null    int8          \n",
      " 62  f_alarm                        428 non-null    int8          \n",
      " 63  f_electronic-rearview-mirrors  428 non-null    int8          \n",
      " 64  f_bluetooth                    428 non-null    int8          \n",
      " 65  f_automatic-wipers             428 non-null    int8          \n",
      " 66  f_tinted-windows               428 non-null    int8          \n",
      " 67  f_leds                         428 non-null    int8          \n",
      " 68  f_head-display                 428 non-null    int8          \n",
      " 69  f_electric-adjustable-seats    428 non-null    int8          \n",
      " 70  f_fog-lights                   428 non-null    int8          \n",
      " 71  f_side-window-airbags          428 non-null    int8          \n",
      " 72  f_daytime-lights               428 non-null    int8          \n",
      " 73  f_esp                          428 non-null    int8          \n",
      " 74  f_front-side-airbags           428 non-null    int8          \n",
      " 75  f_dvd                          428 non-null    int8          \n",
      " 76  f_electronic-immobiliser       428 non-null    int8          \n",
      " 77  f_original-radio               428 non-null    int8          \n",
      " 78  f_gps                          428 non-null    int8          \n",
      " 79  f_heated-windshield            428 non-null    int8          \n",
      " 80  f_front-passenger-airbags      428 non-null    int8          \n",
      " 81  f_steering-whell-comands       428 non-null    int8          \n",
      " 82  f_rear-electric-windows        428 non-null    int8          \n",
      " 83  f_assisted-steering            428 non-null    int8          \n",
      " 84  origin_pl                      428 non-null    int64         \n",
      " 85  ac                             428 non-null    int64         \n",
      "dtypes: bool(1), datetime64[ns](2), float32(2), float64(1), int64(3), int8(57), object(13), uint16(3), uint32(1), uint64(1), uint8(2)\n",
      "memory usage: 99.6+ KB\n"
     ]
    }
   ],
   "source": [
    "df.info()"
   ]
  },
  {
   "cell_type": "code",
   "execution_count": 3,
   "metadata": {},
   "outputs": [],
   "source": [
    "def check_missing():\n",
    "    for column in df.columns:\n",
    "        missing = column, df[column].isnull().sum()\n",
    "        if missing[1] == 0: continue\n",
    "\n",
    "        print(missing)\n",
    "        \n",
    "check_missing()"
   ]
  },
  {
   "cell_type": "code",
   "execution_count": 4,
   "metadata": {},
   "outputs": [],
   "source": [
    "feat_en_pl = {\n",
    "    \"abs\" : \"ABS\",\n",
    "    \"cd\" : \"CD\",\n",
    "    \"central-lock\" : \"Centralny zamek\",\n",
    "    \"front-electric-windows\" : \"Elektryczne szyby przednie\",\n",
    "    \"electronic-rearview-mirrors\" : \"Elektrycznie ustawiane lusterka\",\n",
    "    \"electronic-immobiliser\" : \"Immobilizer\",\n",
    "    \"front-airbags\" : \"Poduszka powietrzna kierowcy\",\n",
    "    \"front-passenger-airbags\" : \"Poduszka powietrzna pasażera\",\n",
    "    \"original-radio\" : \"Radio fabryczne\",\n",
    "    \"assisted-steering\" : \"Wspomaganie kierownicy\",\n",
    "    \"alarm\" : \"Alarm\",\n",
    "    \"alloy-wheels\" : \"Alufelgi\",\n",
    "    \"asr\" : \"ASR (kontrola trakcji)\",\n",
    "    \"park-assist\" : \"Asystent parkowania\",\n",
    "    \"lane-assist\" : \"Asystent pasa ruchu\",\n",
    "    \"bluetooth\" : \"Bluetooth\",\n",
    "    \"automatic-wipers\" : \"Czujnik deszczu\",\n",
    "    \"blind-spot-sensor\" : \"Czujnik martwego pola\",\n",
    "    \"automatic-lights\" : \"Czujnik zmierzchu\",\n",
    "    \"both-parking-sensors\" : \"Czujniki parkowania przednie\",\n",
    "    \"rear-parking-sensors\" : \"Czujniki parkowania tylne\",\n",
    "    \"panoramic-sunroof\" : \"Dach panoramiczny\",\n",
    "    \"electric-exterior-mirror\" : \"Elektrochromatyczne lusterka boczne\",\n",
    "    \"electric-interior-mirror\" : \"Elektrochromatyczne lusterko wsteczne\",\n",
    "    \"rear-electric-windows\" : \"Elektryczne szyby tylne\",\n",
    "    \"electric-adjustable-seats\" : \"Elektrycznie ustawiane fotele\",\n",
    "    \"esp\" : \"ESP (stabilizacja toru jazdy)\",\n",
    "    \"aux-in\" : \"Gniazdo AUX\",\n",
    "    \"sd-socket\" : \"Gniazdo SD\",\n",
    "    \"usb-socket\" : \"Gniazdo USB\",\n",
    "    \"towing-hook\" : \"Hak\",\n",
    "    \"head-display\" : \"HUD (wyświetlacz przezierny)\",\n",
    "    \"isofix\" : \"Isofix\",\n",
    "    \"rearview-camera\" : \"Kamera cofania\",\n",
    "    \"automatic-air-conditioning\" : \"Klimatyzacja automatyczna\",\n",
    "    \"quad-air-conditioning\" : \"Klimatyzacja czterostrefowa\",\n",
    "    \"dual-air-conditioning\" : \"Klimatyzacja dwustrefowa\",\n",
    "    \"air-conditioning\" : \"Klimatyzacja manualna\",\n",
    "    \"onboard-computer\" : \"Komputer pokładowy\",\n",
    "    \"side-window-airbags\" : \"Kurtyny powietrzne\",\n",
    "    \"shift-paddles\" : \"Łopatki zmiany biegów\",\n",
    "    \"mp3\" : \"MP3\",\n",
    "    \"gps\" : \"Nawigacja GPS\",\n",
    "    \"dvd\" : \"Odtwarzacz DVD\",\n",
    "    \"speed-limiter\" : \"Ogranicznik prędkości\",\n",
    "    \"auxiliary-heating\" : \"Ogrzewanie postojowe\",\n",
    "    \"heated-windshield\" : \"Podgrzewana przednia szyba\",\n",
    "    \"heated-rearview-mirrors\" : \"Podgrzewane lusterka boczne\",\n",
    "    \"front-heated-seats\" : \"Podgrzewane przednie siedzenia\",\n",
    "    \"rear-heated-seats\" : \"Podgrzewane tylne siedzenia\",\n",
    "    \"driver-knee-airbag\" : \"Poduszka powietrzna chroniąca kolana\",\n",
    "    \"front-side-airbags\" : \"Poduszki boczne przednie\",\n",
    "    \"rear-passenger-airbags\" : \"Poduszki boczne tylne\",\n",
    "    \"tinted-windows\" : \"Przyciemniane szyby\",\n",
    "    \"radio\" : \"Radio niefabryczne\",\n",
    "    \"adjustable-suspension\" : \"Regulowane zawieszenie\",\n",
    "    \"roof-bars\" : \"Relingi dachowe\", \n",
    "    \"system-start-stop\" : \"System Start-Stop\",\n",
    "    \"sunroof\" : \"Szyberdach\", \n",
    "    \"daytime-lights\" : \"Światła do jazdy dziennej\",\n",
    "    \"leds\" : \"Światła LED\",\n",
    "    \"fog-lights\" : \"Światła przeciwmgielne\",\n",
    "    \"xenon-lights\" : \"Światła Xenonowe\",\n",
    "    \"leather-interior\" : \"Tapicerka skórzana\",\n",
    "    \"velour-interior\" : \"Tapicerka welurowa\",\n",
    "    \"cruise-control\" : \"Tempomat\",\n",
    "    \"active-cruise-control\" : \"Tempomat aktywny\",\n",
    "    \"tv\" : \"Tuner TV\",\n",
    "    \"steering-whell-comands\" : \"Wielofunkcyjna kierownica\",\n",
    "    \"cd-changer\" : \"Zmieniarka CD\" }"
   ]
  },
  {
   "cell_type": "markdown",
   "metadata": {},
   "source": [
    "## Porządkowanie danych"
   ]
  },
  {
   "cell_type": "code",
   "execution_count": 42,
   "metadata": {},
   "outputs": [],
   "source": [
    "# offer_id - numer oferty\n",
    "df['offer_id'] = pd.to_numeric (df['offer_id'], downcast='unsigned')"
   ]
  },
  {
   "cell_type": "markdown",
   "metadata": {},
   "source": [
    "### s_date / e_date"
   ]
  },
  {
   "cell_type": "code",
   "execution_count": 45,
   "metadata": {},
   "outputs": [
    {
     "name": "stdout",
     "output_type": "stream",
     "text": [
      "s_date:  datetime64[ns] e_date:  datetime64[ns]\n",
      "s_date:  datetime64[ns] e_date:  datetime64[ns]\n"
     ]
    }
   ],
   "source": [
    "# s_date - data publikacji ogłoszenia \n",
    "# e_date - data końca ogłoszenia\n",
    "\n",
    "print('s_date: ', df['s_date'].dtypes, 'e_date: ', df['e_date'].dtypes)\n",
    "\n",
    "if  (df['s_date'].dtypes == object) & (df['s_date'].dtypes == object):\n",
    "    df['s_date'] = pd.to_datetime(df['s_date']) \n",
    "    df['e_date'] = pd.to_datetime(df['e_date'])\n",
    "    \n",
    "print('s_date: ', df['s_date'].dtypes, 'e_date: ', df['e_date'].dtypes)"
   ]
  },
  {
   "cell_type": "markdown",
   "metadata": {},
   "source": [
    "### private_business"
   ]
  },
  {
   "cell_type": "code",
   "execution_count": 46,
   "metadata": {},
   "outputs": [
    {
     "name": "stdout",
     "output_type": "stream",
     "text": [
      "private_business:\n",
      " 1    223\n",
      "0    205\n",
      "Name: private_business, dtype: int64\n"
     ]
    },
    {
     "data": {
      "image/png": "[encoded data removed]",
      "text/plain": [
       "<Figure size 432x288 with 1 Axes>"
      ]
     },
     "metadata": {
      "needs_background": "light"
     },
     "output_type": "display_data"
    }
   ],
   "source": [
    "#print('private_business: ', df['private_business'].dtypes)\n",
    "print('private_business:\\n', df['private_business'].value_counts()) # business : 1 / private : 0\n",
    "\n",
    "if df['private_business'].dtypes == 'object':\n",
    "    df['private_business'] = df['private_business'].apply(lambda x : str(x) == 'business' )\n",
    "    df['private_business'] = df['private_business'].astype(np.int8)\n",
    "\n",
    "df['private_business'].value_counts().plot(kind='bar');"
   ]
  },
  {
   "cell_type": "markdown",
   "metadata": {},
   "source": [
    "### Region / City / Model"
   ]
  },
  {
   "cell_type": "code",
   "execution_count": 9,
   "metadata": {},
   "outputs": [
    {
     "name": "stdout",
     "output_type": "stream",
     "text": [
      "region:  object\n",
      "region:  ['malopolskie' 'warminsko-mazurskie' 'mazowieckie' 'dolnoslaskie'\n",
      " 'wielkopolskie' 'slaskie' 'podkarpackie' 'podlaskie' 'lodzkie'\n",
      " 'zachodniopomorskie' 'lubelskie' 'swietokrzyskie' 'opolskie'\n",
      " 'kujawsko-pomorskie' 'lubuskie' 'pomorskie']\n"
     ]
    }
   ],
   "source": [
    "# region \n",
    "print('region: ', df['region'].dtypes)\n",
    "print('region: ', df['region'].unique())"
   ]
  },
  {
   "cell_type": "code",
   "execution_count": 507,
   "metadata": {},
   "outputs": [],
   "source": [
    "# chart = sns.countplot(x='region', data=df)\n",
    "# chart.set_xticklabels(chart.get_xticklabels(), rotation = 90);"
   ]
  },
  {
   "cell_type": "code",
   "execution_count": 49,
   "metadata": {},
   "outputs": [
    {
     "data": {
      "image/png": "[encoded data removed]",
      "text/plain": [
       "<Figure size 432x288 with 1 Axes>"
      ]
     },
     "metadata": {
      "needs_background": "light"
     },
     "output_type": "display_data"
    }
   ],
   "source": [
    "region_cnt = df['region'].value_counts()\n",
    "\n",
    "fig = plt.figure()\n",
    "axes = fig.add_axes([0.1 ,0.1 ,0.8, 0.8]) \n",
    "axes.bar(region_cnt.index, region_cnt.values)\n",
    "\n",
    "axes.set_xlabel('Województwo')\n",
    "axes.set_ylabel('Liczba aut')\n",
    "axes.set_title('Liczba ogłoszeń wg województw')\n",
    "\n",
    "for label in axes.get_xticklabels():\n",
    "  label.set_rotation(45)\n",
    "  label.set_ha('right')"
   ]
  },
  {
   "cell_type": "code",
   "execution_count": 52,
   "metadata": {},
   "outputs": [
    {
     "name": "stdout",
     "output_type": "stream",
     "text": [
      "city:  object Entries: 164\n"
     ]
    }
   ],
   "source": [
    "# city\n",
    "print('city: ', df['city'].dtypes, 'Entries:', df['city'].nunique())"
   ]
  },
  {
   "cell_type": "code",
   "execution_count": 51,
   "metadata": {},
   "outputs": [
    {
     "name": "stdout",
     "output_type": "stream",
     "text": [
      "model:  object ['yaris']\n"
     ]
    }
   ],
   "source": [
    "# model\n",
    "print('model: ', df['model'].dtypes, df['model'].unique())"
   ]
  },
  {
   "cell_type": "code",
   "execution_count": 67,
   "metadata": {},
   "outputs": [
    {
     "name": "stdout",
     "output_type": "stream",
     "text": [
      "year:  int64\n",
      "year:  2009 2008 2006 2005 2007 2010 2011 2002 2014 2016\n"
     ]
    }
   ],
   "source": [
    "# year - lata produkcji Yaris II: 2005 - 2011\n",
    "print('year: ', df['year'].dtypes)\n",
    "print('year: ', *df['year'].unique())"
   ]
  },
  {
   "cell_type": "code",
   "execution_count": 53,
   "metadata": {},
   "outputs": [
    {
     "name": "stdout",
     "output_type": "stream",
     "text": [
      "mileage:  int64\n",
      "mileage:  234\n",
      "MIN:  9100 MAX:  410000\n"
     ]
    }
   ],
   "source": [
    "# mileage\n",
    "print('mileage: ', df['mileage'].dtypes)\n",
    "print('mileage: ', df['mileage'].nunique())\n",
    "print('MIN: ', df['mileage'].min(), 'MAX: ', df['mileage'].max())"
   ]
  },
  {
   "cell_type": "markdown",
   "metadata": {},
   "source": [
    "### Engine"
   ]
  },
  {
   "cell_type": "code",
   "execution_count": 77,
   "metadata": {},
   "outputs": [
    {
     "name": "stdout",
     "output_type": "stream",
     "text": [
      "engine_capacity:  int64\n",
      "engine_capacity:  1000 998 1300 1364 1298 1400 1398 1329 0 1798 1323 966 1324 996 988 1332 1296 1330 999 1290 1335 1333\n"
     ]
    },
    {
     "data": {
      "image/png": "[encoded data removed]",
      "text/plain": [
       "<Figure size 432x288 with 1 Axes>"
      ]
     },
     "metadata": {
      "needs_background": "light"
     },
     "output_type": "display_data"
    }
   ],
   "source": [
    "# capacity\n",
    "print('engine_capacity: ', df['engine_capacity'].dtypes)\n",
    "print('engine_capacity: ', *df['engine_capacity'].unique())\n",
    "df['engine_power'].value_counts().plot(kind='bar');"
   ]
  },
  {
   "cell_type": "code",
   "execution_count": 69,
   "metadata": {},
   "outputs": [
    {
     "name": "stdout",
     "output_type": "stream",
     "text": [
      "engine_power:  int64\n",
      "engine_power:  0 100 87 90 86 69 101 70 82 133 68 85 88 80 66 99 72 65 103 97 67 51\n"
     ]
    },
    {
     "data": {
      "image/png": "[encoded data removed]",
      "text/plain": [
       "<Figure size 432x288 with 1 Axes>"
      ]
     },
     "metadata": {
      "needs_background": "light"
     },
     "output_type": "display_data"
    }
   ],
   "source": [
    "# engine_power - Moc W KM\n",
    "# 1kW = 1,36 KM\n",
    "# Powinno być: Benzyna: 69, 86, 101,133 Diesel: 90 \n",
    "\n",
    "print('engine_power: ', df['engine_power'].dtypes)\n",
    "print('engine_power: ', *df['engine_power'].unique())\n",
    "df['engine_power'].value_counts().plot(kind='bar');"
   ]
  },
  {
   "cell_type": "code",
   "execution_count": 78,
   "metadata": {},
   "outputs": [],
   "source": [
    "engine_details = {\n",
    "    \"R3_10_69KM\" : {\"power\" : 69 , \"fuel\" : \"petrol\", \"capacity\" : 998, \"gearbox\" : \"5MT\", \"Date\" : \"2005-2011\"},\n",
    "    \"R4_13_86KM\" : {\"power\" : 86 , \"fuel\" : \"petrol\", \"capacity\": 1296, \"gearbox\" : \"5MT\", \"Date\" : \"2005-2008\"},\n",
    "    \"R4_133_99KM\" : {\"power\" : 101 , \"fuel\" : \"petrol\", \"capacity\": 1329, \"gearbox\" : \"6MT\", \"Date\" : \"09/2010 - 2011\"},\n",
    "    \"R4_133_101KM\" : {\"power\" : 101 , \"fuel\" : \"petrol\", \"capacity\": 1329, \"gearbox\" : \"6MT\", \"Date\" : \"2009 - 09/2010\"},\n",
    "    \"R4_18_133KM\" : {\"power\" : 133 , \"fuel\" : \"petrol\", \"capacity\": 1798, \"gearbox\" : \"6MT\", \"Date\": \"01/2007 - 01/2009\"},\n",
    "    \"R4_18_215KM\" : {\"power\" : 215 , \"fuel\" : \"petrol\", \"capacity\": 1798, \"gearbox\" : \"6MT\", \"Date\" : \"03/2009 - 2010\"},\n",
    "    \"R4_14_D4D\" : {\"power\" : 90 , \"fuel\" : \"diesel\", \"capacity\": 1364, \"gearbox\" : \"5MT\", \"Date\" : \"2006 - 2009\"},\n",
    "}"
   ]
  },
  {
   "cell_type": "code",
   "execution_count": 71,
   "metadata": {},
   "outputs": [],
   "source": [
    "def get_engine_code(engine_capacity, fuel_type, engine_power, year):\n",
    "    if (engine_capacity <= 1000) & (fuel_type[0:6] == 'petrol'):\n",
    "        return 'R3_10_69KM'\n",
    "    elif ( 1000 <= engine_capacity <= 1350) & (fuel_type[0:6] == 'petrol') & (engine_power < 80):\n",
    "        return 'R4_13_86KM'\n",
    "    elif (year <= 2008) & (fuel_type[0:6] == 'petrol') & (engine_power < 95):\n",
    "        return 'R4_13_86KM'\n",
    "    elif (year >= 2009) & (fuel_type[0:6] == 'petrol') & (95 <= engine_power < 99):\n",
    "        return 'R4_133_99KM'\n",
    "    elif (year >= 2009) & (fuel_type[0:6] == 'petrol') & (99 <= engine_power < 110):\n",
    "        return 'R4_133_101KM'\n",
    "    elif (engine_capacity >= 1400) & (fuel_type[0:6] == 'petrol'):\n",
    "        return 'R4_18_133KM'\n",
    "    elif fuel_type[0:6] == 'diesel':\n",
    "        return 'R4_14_D4D'\n",
    "    elif engine_power > 150:\n",
    "        return 'R4_18_215KM'\n",
    "    else:\n",
    "        return 'NA'\n",
    "    \n",
    "df['engine'] = df.apply(lambda x: get_engine_code(x['engine_capacity'], x['fuel_type'], x['engine_power'], x['year']), axis=1)"
   ]
  },
  {
   "cell_type": "code",
   "execution_count": 72,
   "metadata": {},
   "outputs": [
    {
     "data": {
      "text/html": [
       "<div>\n",
       "<style scoped>\n",
       "    .dataframe tbody tr th:only-of-type {\n",
       "        vertical-align: middle;\n",
       "    }\n",
       "\n",
       "    .dataframe tbody tr th {\n",
       "        vertical-align: top;\n",
       "    }\n",
       "\n",
       "    .dataframe thead th {\n",
       "        text-align: right;\n",
       "    }\n",
       "</style>\n",
       "<table border=\"1\" class=\"dataframe\">\n",
       "  <thead>\n",
       "    <tr style=\"text-align: right;\">\n",
       "      <th></th>\n",
       "      <th>offer_id</th>\n",
       "      <th>engine</th>\n",
       "      <th>engine_capacity</th>\n",
       "      <th>fuel_type</th>\n",
       "      <th>engine_power</th>\n",
       "      <th>gearbox</th>\n",
       "      <th>year</th>\n",
       "    </tr>\n",
       "  </thead>\n",
       "  <tbody>\n",
       "    <tr>\n",
       "      <th>3</th>\n",
       "      <td>6027129122</td>\n",
       "      <td>NA</td>\n",
       "      <td>1300</td>\n",
       "      <td>petrol</td>\n",
       "      <td>87</td>\n",
       "      <td>manual</td>\n",
       "      <td>2009</td>\n",
       "    </tr>\n",
       "    <tr>\n",
       "      <th>49</th>\n",
       "      <td>6061613472</td>\n",
       "      <td>NA</td>\n",
       "      <td>1300</td>\n",
       "      <td>petrol</td>\n",
       "      <td>90</td>\n",
       "      <td>manual</td>\n",
       "      <td>2010</td>\n",
       "    </tr>\n",
       "    <tr>\n",
       "      <th>60</th>\n",
       "      <td>6065067561</td>\n",
       "      <td>NA</td>\n",
       "      <td>1300</td>\n",
       "      <td>petrol</td>\n",
       "      <td>87</td>\n",
       "      <td>manual</td>\n",
       "      <td>2009</td>\n",
       "    </tr>\n",
       "    <tr>\n",
       "      <th>65</th>\n",
       "      <td>6065479018</td>\n",
       "      <td>NA</td>\n",
       "      <td>1300</td>\n",
       "      <td>petrol</td>\n",
       "      <td>86</td>\n",
       "      <td>manual</td>\n",
       "      <td>2009</td>\n",
       "    </tr>\n",
       "    <tr>\n",
       "      <th>114</th>\n",
       "      <td>6068481479</td>\n",
       "      <td>NA</td>\n",
       "      <td>1324</td>\n",
       "      <td>petrol</td>\n",
       "      <td>100</td>\n",
       "      <td>manual</td>\n",
       "      <td>2008</td>\n",
       "    </tr>\n",
       "    <tr>\n",
       "      <th>174</th>\n",
       "      <td>6069517302</td>\n",
       "      <td>NA</td>\n",
       "      <td>1300</td>\n",
       "      <td>petrol</td>\n",
       "      <td>87</td>\n",
       "      <td>manual</td>\n",
       "      <td>2009</td>\n",
       "    </tr>\n",
       "    <tr>\n",
       "      <th>175</th>\n",
       "      <td>6069517302</td>\n",
       "      <td>NA</td>\n",
       "      <td>1300</td>\n",
       "      <td>petrol</td>\n",
       "      <td>87</td>\n",
       "      <td>manual</td>\n",
       "      <td>2009</td>\n",
       "    </tr>\n",
       "    <tr>\n",
       "      <th>176</th>\n",
       "      <td>6069528428</td>\n",
       "      <td>NA</td>\n",
       "      <td>1300</td>\n",
       "      <td>petrol</td>\n",
       "      <td>86</td>\n",
       "      <td>manual</td>\n",
       "      <td>2009</td>\n",
       "    </tr>\n",
       "    <tr>\n",
       "      <th>285</th>\n",
       "      <td>6071596035</td>\n",
       "      <td>NA</td>\n",
       "      <td>1290</td>\n",
       "      <td>petrol</td>\n",
       "      <td>90</td>\n",
       "      <td>manual</td>\n",
       "      <td>2011</td>\n",
       "    </tr>\n",
       "    <tr>\n",
       "      <th>297</th>\n",
       "      <td>6071810147</td>\n",
       "      <td>NA</td>\n",
       "      <td>1329</td>\n",
       "      <td>petrol</td>\n",
       "      <td>100</td>\n",
       "      <td>manual</td>\n",
       "      <td>2008</td>\n",
       "    </tr>\n",
       "    <tr>\n",
       "      <th>361</th>\n",
       "      <td>6072880158</td>\n",
       "      <td>NA</td>\n",
       "      <td>1296</td>\n",
       "      <td>petrol</td>\n",
       "      <td>87</td>\n",
       "      <td>manual</td>\n",
       "      <td>2009</td>\n",
       "    </tr>\n",
       "  </tbody>\n",
       "</table>\n",
       "</div>"
      ],
      "text/plain": [
       "       offer_id engine  engine_capacity fuel_type  engine_power gearbox  year\n",
       "3    6027129122     NA             1300    petrol            87  manual  2009\n",
       "49   6061613472     NA             1300    petrol            90  manual  2010\n",
       "60   6065067561     NA             1300    petrol            87  manual  2009\n",
       "65   6065479018     NA             1300    petrol            86  manual  2009\n",
       "114  6068481479     NA             1324    petrol           100  manual  2008\n",
       "174  6069517302     NA             1300    petrol            87  manual  2009\n",
       "175  6069517302     NA             1300    petrol            87  manual  2009\n",
       "176  6069528428     NA             1300    petrol            86  manual  2009\n",
       "285  6071596035     NA             1290    petrol            90  manual  2011\n",
       "297  6071810147     NA             1329    petrol           100  manual  2008\n",
       "361  6072880158     NA             1296    petrol            87  manual  2009"
      ]
     },
     "execution_count": 72,
     "metadata": {},
     "output_type": "execute_result"
    }
   ],
   "source": [
    "feats = [\"offer_id\",\"engine\",\"engine_capacity\", \"fuel_type\", \"engine_power\", \"gearbox\", \"year\"]\n",
    "df[feats][df.engine == 'NA']"
   ]
  },
  {
   "cell_type": "markdown",
   "metadata": {},
   "source": [
    "### VIN"
   ]
  },
  {
   "cell_type": "code",
   "execution_count": 81,
   "metadata": {},
   "outputs": [
    {
     "name": "stdout",
     "output_type": "stream",
     "text": [
      "vin:  object ['0']\n"
     ]
    }
   ],
   "source": [
    "# vin\n",
    "print('vin: ', df['vin'].dtypes, df['vin'].unique())"
   ]
  },
  {
   "cell_type": "markdown",
   "metadata": {},
   "source": [
    "W żadnym ogłoszeniu nie był podany numer VIN"
   ]
  },
  {
   "cell_type": "code",
   "execution_count": 63,
   "metadata": {},
   "outputs": [
    {
     "name": "stdout",
     "output_type": "stream",
     "text": [
      "fuel_type:  object\n",
      "fuel_type:  ['petrol' 'diesel' 'petrol-lpg']\n"
     ]
    },
    {
     "data": {
      "image/png": "[encoded data removed]",
      "text/plain": [
       "<Figure size 432x288 with 1 Axes>"
      ]
     },
     "metadata": {
      "needs_background": "light"
     },
     "output_type": "display_data"
    }
   ],
   "source": [
    "# fuel_type\n",
    "print('fuel_type: ', df['fuel_type'].dtypes)\n",
    "print('fuel_type: ', df['fuel_type'].unique())\n",
    "\n",
    "df['fuel_type'].value_counts().plot(kind='bar');"
   ]
  },
  {
   "cell_type": "code",
   "execution_count": 21,
   "metadata": {},
   "outputs": [
    {
     "name": "stdout",
     "output_type": "stream",
     "text": [
      "gearbox:  object\n",
      "gearbox:  ['manual' 'semi-automatic' '0' 'automatic' 'automatic-sequential']\n"
     ]
    },
    {
     "data": {
      "text/html": [
       "<div>\n",
       "<style scoped>\n",
       "    .dataframe tbody tr th:only-of-type {\n",
       "        vertical-align: middle;\n",
       "    }\n",
       "\n",
       "    .dataframe tbody tr th {\n",
       "        vertical-align: top;\n",
       "    }\n",
       "\n",
       "    .dataframe thead th {\n",
       "        text-align: right;\n",
       "    }\n",
       "</style>\n",
       "<table border=\"1\" class=\"dataframe\">\n",
       "  <thead>\n",
       "    <tr style=\"text-align: right;\">\n",
       "      <th></th>\n",
       "      <th>offer_id</th>\n",
       "      <th>s_date</th>\n",
       "      <th>e_date</th>\n",
       "      <th>private_business</th>\n",
       "      <th>region</th>\n",
       "      <th>city</th>\n",
       "      <th>model</th>\n",
       "      <th>year</th>\n",
       "      <th>mileage</th>\n",
       "      <th>engine_capacity</th>\n",
       "      <th>...</th>\n",
       "      <th>door_count</th>\n",
       "      <th>nr_seats</th>\n",
       "      <th>color</th>\n",
       "      <th>features</th>\n",
       "      <th>price</th>\n",
       "      <th>price_raw</th>\n",
       "      <th>currency</th>\n",
       "      <th>country_origin</th>\n",
       "      <th>registration</th>\n",
       "      <th>engine</th>\n",
       "    </tr>\n",
       "  </thead>\n",
       "  <tbody>\n",
       "    <tr>\n",
       "      <th>44</th>\n",
       "      <td>6060165978</td>\n",
       "      <td>2020-04-17</td>\n",
       "      <td>2020-05-28</td>\n",
       "      <td>1</td>\n",
       "      <td>podkarpackie</td>\n",
       "      <td>ropczyce</td>\n",
       "      <td>yaris</td>\n",
       "      <td>2008</td>\n",
       "      <td>195000</td>\n",
       "      <td>1298</td>\n",
       "      <td>...</td>\n",
       "      <td>5</td>\n",
       "      <td>5</td>\n",
       "      <td>blue</td>\n",
       "      <td>abs cd central-lock front-electric-windows ele...</td>\n",
       "      <td>18900</td>\n",
       "      <td>18900.0</td>\n",
       "      <td>0</td>\n",
       "      <td>i</td>\n",
       "      <td>0</td>\n",
       "      <td>R4_13_86KM</td>\n",
       "    </tr>\n",
       "    <tr>\n",
       "      <th>71</th>\n",
       "      <td>6065928866</td>\n",
       "      <td>2020-04-17</td>\n",
       "      <td>2020-05-25</td>\n",
       "      <td>0</td>\n",
       "      <td>wielkopolskie</td>\n",
       "      <td>kepno</td>\n",
       "      <td>yaris</td>\n",
       "      <td>2009</td>\n",
       "      <td>90000</td>\n",
       "      <td>1323</td>\n",
       "      <td>...</td>\n",
       "      <td>5</td>\n",
       "      <td>5</td>\n",
       "      <td>grey</td>\n",
       "      <td>abs cd central-lock front-electric-windows ele...</td>\n",
       "      <td>18888</td>\n",
       "      <td>18888.0</td>\n",
       "      <td>0</td>\n",
       "      <td>d</td>\n",
       "      <td>0</td>\n",
       "      <td>R4_133_101KM</td>\n",
       "    </tr>\n",
       "    <tr>\n",
       "      <th>287</th>\n",
       "      <td>6071670143</td>\n",
       "      <td>2020-04-17</td>\n",
       "      <td>2020-05-28</td>\n",
       "      <td>1</td>\n",
       "      <td>lubuskie</td>\n",
       "      <td>sulechow</td>\n",
       "      <td>yaris</td>\n",
       "      <td>2010</td>\n",
       "      <td>94000</td>\n",
       "      <td>998</td>\n",
       "      <td>...</td>\n",
       "      <td>0</td>\n",
       "      <td>0</td>\n",
       "      <td>grey</td>\n",
       "      <td>abs cd central-lock front-electric-windows ele...</td>\n",
       "      <td>18600</td>\n",
       "      <td>18600.0</td>\n",
       "      <td>0</td>\n",
       "      <td>0</td>\n",
       "      <td>0</td>\n",
       "      <td>R3_10_69KM</td>\n",
       "    </tr>\n",
       "    <tr>\n",
       "      <th>340</th>\n",
       "      <td>6072328903</td>\n",
       "      <td>2020-04-17</td>\n",
       "      <td>2020-05-12</td>\n",
       "      <td>1</td>\n",
       "      <td>podkarpackie</td>\n",
       "      <td>stalowa-wola</td>\n",
       "      <td>yaris</td>\n",
       "      <td>2006</td>\n",
       "      <td>86000</td>\n",
       "      <td>1300</td>\n",
       "      <td>...</td>\n",
       "      <td>5</td>\n",
       "      <td>5</td>\n",
       "      <td>grey</td>\n",
       "      <td>abs cd central-lock front-electric-windows ele...</td>\n",
       "      <td>16900</td>\n",
       "      <td>16900.0</td>\n",
       "      <td>0</td>\n",
       "      <td>0</td>\n",
       "      <td>0</td>\n",
       "      <td>R4_13_86KM</td>\n",
       "    </tr>\n",
       "  </tbody>\n",
       "</table>\n",
       "<p>4 rows × 25 columns</p>\n",
       "</div>"
      ],
      "text/plain": [
       "       offer_id     s_date     e_date  private_business         region  \\\n",
       "44   6060165978 2020-04-17 2020-05-28                 1   podkarpackie   \n",
       "71   6065928866 2020-04-17 2020-05-25                 0  wielkopolskie   \n",
       "287  6071670143 2020-04-17 2020-05-28                 1       lubuskie   \n",
       "340  6072328903 2020-04-17 2020-05-12                 1   podkarpackie   \n",
       "\n",
       "             city  model  year  mileage  engine_capacity  ... door_count  \\\n",
       "44       ropczyce  yaris  2008   195000             1298  ...          5   \n",
       "71          kepno  yaris  2009    90000             1323  ...          5   \n",
       "287      sulechow  yaris  2010    94000              998  ...          0   \n",
       "340  stalowa-wola  yaris  2006    86000             1300  ...          5   \n",
       "\n",
       "    nr_seats  color                                           features  price  \\\n",
       "44         5   blue  abs cd central-lock front-electric-windows ele...  18900   \n",
       "71         5   grey  abs cd central-lock front-electric-windows ele...  18888   \n",
       "287        0   grey  abs cd central-lock front-electric-windows ele...  18600   \n",
       "340        5   grey  abs cd central-lock front-electric-windows ele...  16900   \n",
       "\n",
       "     price_raw  currency country_origin registration        engine  \n",
       "44     18900.0         0              i            0    R4_13_86KM  \n",
       "71     18888.0         0              d            0  R4_133_101KM  \n",
       "287    18600.0         0              0            0    R3_10_69KM  \n",
       "340    16900.0         0              0            0    R4_13_86KM  \n",
       "\n",
       "[4 rows x 25 columns]"
      ]
     },
     "execution_count": 21,
     "metadata": {},
     "output_type": "execute_result"
    }
   ],
   "source": [
    "# gearbox\n",
    "\n",
    "print('gearbox: ', df['gearbox'].dtypes)\n",
    "print('gearbox: ', df['gearbox'].unique())\n",
    "df[(df.gearbox == 'semi-automatic') | (df.gearbox == 'automatic') | (df.gearbox == 'automatic-sequential')]  # 4 samochody z automatyczną skrzynią\n"
   ]
  },
  {
   "cell_type": "code",
   "execution_count": 23,
   "metadata": {},
   "outputs": [],
   "source": [
    "# df[(df.gearbox == '0')]"
   ]
  },
  {
   "cell_type": "code",
   "execution_count": 24,
   "metadata": {},
   "outputs": [
    {
     "name": "stdout",
     "output_type": "stream",
     "text": [
      "transmission:  object\n",
      "transmission:  ['front-wheel' '0' 'rear-wheel']\n"
     ]
    },
    {
     "data": {
      "image/png": "[encoded data removed]",
      "text/plain": [
       "<Figure size 432x288 with 1 Axes>"
      ]
     },
     "metadata": {
      "needs_background": "light"
     },
     "output_type": "display_data"
    }
   ],
   "source": [
    "# transmission\n",
    "# Yaris II występował wyłącznie z napędem na przód\n",
    "\n",
    "print('transmission: ', df['transmission'].dtypes)\n",
    "print('transmission: ', df['transmission'].unique())\n",
    "\n",
    "df['transmission'].value_counts().plot(kind='bar');"
   ]
  },
  {
   "cell_type": "code",
   "execution_count": 94,
   "metadata": {},
   "outputs": [
    {
     "name": "stdout",
     "output_type": "stream",
     "text": [
      "door_count:  int64\n",
      "door_count:  [ 5  3 -1]\n"
     ]
    },
    {
     "data": {
      "image/png": "[encoded data removed]",
      "text/plain": [
       "<Figure size 432x288 with 1 Axes>"
      ]
     },
     "metadata": {
      "needs_background": "light"
     },
     "output_type": "display_data"
    }
   ],
   "source": [
    "# door_count\n",
    "print('door_count: ', df['door_count'].dtypes)\n",
    "print('door_count: ', df['door_count'].unique())\n",
    "\n",
    "df['door_count'].value_counts().plot(kind='bar');\n",
    "# df[(df.door_count == 4)].sample(3)\n",
    "\n",
    "def get_doors_cnt(doors):\n",
    "    if doors >= 4: \n",
    "        return 5\n",
    "    elif doors >= 2: \n",
    "        return 3\n",
    "    else:\n",
    "        return -1\n",
    "    \n",
    "if df['door_count'].nunique() > 3:\n",
    "    df['door_count'] = df['door_count'].apply(lambda x : get_doors_cnt(x))"
   ]
  },
  {
   "cell_type": "code",
   "execution_count": 95,
   "metadata": {},
   "outputs": [
    {
     "name": "stdout",
     "output_type": "stream",
     "text": [
      "nr_seats:  int64\n",
      "nr_seats:  [5 0 6 4 2]\n"
     ]
    },
    {
     "data": {
      "image/png": "[encoded data removed]",
      "text/plain": [
       "<Figure size 432x288 with 1 Axes>"
      ]
     },
     "metadata": {
      "needs_background": "light"
     },
     "output_type": "display_data"
    }
   ],
   "source": [
    "# nr_seats\n",
    "print('nr_seats: ', df['nr_seats'].dtypes)\n",
    "print('nr_seats: ', df['nr_seats'].unique())\n",
    "df['nr_seats'].value_counts().plot(kind='bar');"
   ]
  },
  {
   "cell_type": "code",
   "execution_count": 96,
   "metadata": {},
   "outputs": [
    {
     "name": "stdout",
     "output_type": "stream",
     "text": [
      "color:  object\n",
      "color:  grey white silver red blue other black yellow-gold green yellow brown-beige violet\n"
     ]
    }
   ],
   "source": [
    "# color\n",
    "print('color: ', df['color'].dtypes)\n",
    "print('color: ', *df['color'].unique())"
   ]
  },
  {
   "cell_type": "code",
   "execution_count": 97,
   "metadata": {},
   "outputs": [
    {
     "data": {
      "image/png": "[encoded data removed]",
      "text/plain": [
       "<Figure size 432x288 with 1 Axes>"
      ]
     },
     "metadata": {
      "needs_background": "light"
     },
     "output_type": "display_data"
    }
   ],
   "source": [
    "color_cnt = df['color'].value_counts()\n",
    "\n",
    "fig = plt.figure()\n",
    "axes = fig.add_axes([0.1 ,0.1 ,0.8, 0.8]) \n",
    "axes.bar(color_cnt.index, color_cnt.values)\n",
    "\n",
    "axes.set_xlabel('Kolor')\n",
    "axes.set_ylabel('Liczba aut')\n",
    "axes.set_title('Kolor karoserii')\n",
    "\n",
    "for label in axes.get_xticklabels():\n",
    "    label.set_rotation(45)\n",
    "    label.set_ha('right')"
   ]
  },
  {
   "cell_type": "code",
   "execution_count": 35,
   "metadata": {},
   "outputs": [
    {
     "name": "stdout",
     "output_type": "stream",
     "text": [
      "price:  int64\n",
      "price:  110\n",
      "price_raw:  float64\n",
      "price_raw:  131\n"
     ]
    }
   ],
   "source": [
    "# price\n",
    "print('price: ', df['price'].dtypes)\n",
    "print('price: ', df['price'].nunique())\n",
    "\n",
    "# price_raw\n",
    "print('price_raw: ', df['price_raw'].dtypes)\n",
    "print('price_raw: ', df['price_raw'].nunique())"
   ]
  },
  {
   "cell_type": "code",
   "execution_count": 98,
   "metadata": {},
   "outputs": [
    {
     "name": "stdout",
     "output_type": "stream",
     "text": [
      "currency:  object\n",
      "currency:  ['0']\n"
     ]
    }
   ],
   "source": [
    "# currency\n",
    "print('currency: ', df['currency'].dtypes)\n",
    "print('currency: ', df['currency'].unique())"
   ]
  },
  {
   "cell_type": "code",
   "execution_count": 108,
   "metadata": {},
   "outputs": [
    {
     "name": "stdout",
     "output_type": "stream",
     "text": [
      "country_origin:  object\n",
      "country_origin:  ['f' 'pl' '0' 'd' 'b' 'nl' 'a' 'i' 'gb' 'dk' 's']\n"
     ]
    },
    {
     "data": {
      "text/plain": [
       "array([0, 1], dtype=int64)"
      ]
     },
     "execution_count": 108,
     "metadata": {},
     "output_type": "execute_result"
    }
   ],
   "source": [
    "# country_origin\n",
    "print('country_origin: ', df['country_origin'].dtypes)\n",
    "print('country_origin: ', df['country_origin'].unique())\n",
    "\n",
    "countries = {\n",
    "    'f' : 'France',\n",
    "    'pl' : 'Poland',\n",
    "    'd' : 'Germany',\n",
    "    'b' : 'Belgium',\n",
    "    'nl' : 'Nederlands',\n",
    "    'a': 'Austria',\n",
    "    'i' : 'Italy',\n",
    "    'gb' : 'Great Britan',\n",
    "    'dk' : 'Denmark',\n",
    "    's' : 'Sweden'\n",
    "}\n",
    "\n",
    "def is_from_poland(origin):\n",
    "    if origin == 'pl':\n",
    "        return 1\n",
    "    else:\n",
    "        return 0\n",
    "    \n",
    "df['origin_pl'] = df['country_origin'].apply(lambda x : is_from_poland(x))"
   ]
  },
  {
   "cell_type": "code",
   "execution_count": 109,
   "metadata": {},
   "outputs": [
    {
     "name": "stdout",
     "output_type": "stream",
     "text": [
      "registration:  object\n",
      "registration:  ['0' 'RST19536' 'ZGR VH37' 'RZE68062' 'FZ7305M' 'FZ7556M' 'ZDR 16488'\n",
      " 'FZ7496M' 'WWL76138' 'K WV2222' 'LRY 84LR' 'KBC 72163' 'DJ91837'\n",
      " 'TKI8551A' 'XGK506' 'RZE 74732' 'CG34523' 'RBR28917' 'ZMY 705AJ' 'XUM146'\n",
      " 'FNW53TF' 'WY 98871' 'FMI 54886' 'WZY11627' 'TK 2396F' 'PK6174K'\n",
      " 'N-JI164']\n"
     ]
    }
   ],
   "source": [
    "# registration\n",
    "print('registration: ', df['registration'].dtypes)\n",
    "print('registration: ', df['registration'].unique())"
   ]
  },
  {
   "cell_type": "markdown",
   "metadata": {},
   "source": [
    "---"
   ]
  },
  {
   "cell_type": "code",
   "execution_count": 41,
   "metadata": {},
   "outputs": [
    {
     "data": {
      "image/png": "[encoded data removed]",
      "text/plain": [
       "<Figure size 1440x1080 with 4 Axes>"
      ]
     },
     "metadata": {
      "needs_background": "light"
     },
     "output_type": "display_data"
    }
   ],
   "source": [
    "df[['mileage', 'price', 'price_raw']].hist(bins=50,figsize=(20,15))\n",
    "plt.show()"
   ]
  },
  {
   "cell_type": "code",
   "execution_count": 110,
   "metadata": {},
   "outputs": [
    {
     "name": "stdout",
     "output_type": "stream",
     "text": [
      "Wall time: 17 ms\n"
     ]
    }
   ],
   "source": [
    "def optimize_df():\n",
    "    #df['offer_id'] = df['offer_id'].astype(np.uint32)\n",
    "    df['offer_id'] = pd.to_numeric (df['offer_id'], downcast='unsigned')\n",
    "    df['s_date'] = pd.to_datetime(df['s_date']) \n",
    "    df['e_date'] = pd.to_datetime(df['e_date']) \n",
    "    df['private_business'] = df['private_business'].apply(lambda x : str(x) == 'business')\n",
    "    df['year'] = pd.to_numeric(df['year'], downcast='unsigned')\n",
    "    df['mileage'] = pd.to_numeric(df['mileage'], downcast='unsigned')\n",
    "    df['engine_capacity'] = pd.to_numeric(df['engine_capacity'], downcast='unsigned')\n",
    "    df['engine_power'] = pd.to_numeric(df['engine_power'], downcast='unsigned')\n",
    "    df['door_count'] = pd.to_numeric(df['door_count'], downcast='unsigned')\n",
    "    df['nr_seats'] = pd.to_numeric(df['nr_seats'], downcast='unsigned')\n",
    "    df['price'] = pd.to_numeric(df['price'], downcast='float')\n",
    "    df['price_raw'] = pd.to_numeric(df['price_raw'], downcast='float')\n",
    "    \n",
    "%time optimize_df()    "
   ]
  },
  {
   "cell_type": "markdown",
   "metadata": {},
   "source": [
    "## Feature engineering"
   ]
  },
  {
   "cell_type": "code",
   "execution_count": 100,
   "metadata": {},
   "outputs": [
    {
     "name": "stdout",
     "output_type": "stream",
     "text": [
      "Wall time: 37 ms\n"
     ]
    }
   ],
   "source": [
    "def general_features():\n",
    "    df['duration'] = (df['e_date'] - df['s_date']).dt.days.astype(np.uint16)\n",
    "    df['price_chng'] = (df['price'] - df['price_raw'])\n",
    "    #df['active'] = df['duration'].apply()\n",
    "    \n",
    "%time general_features()"
   ]
  },
  {
   "cell_type": "code",
   "execution_count": 101,
   "metadata": {},
   "outputs": [
    {
     "data": {
      "text/html": [
       "<div>\n",
       "<style scoped>\n",
       "    .dataframe tbody tr th:only-of-type {\n",
       "        vertical-align: middle;\n",
       "    }\n",
       "\n",
       "    .dataframe tbody tr th {\n",
       "        vertical-align: top;\n",
       "    }\n",
       "\n",
       "    .dataframe thead th {\n",
       "        text-align: right;\n",
       "    }\n",
       "</style>\n",
       "<table border=\"1\" class=\"dataframe\">\n",
       "  <thead>\n",
       "    <tr style=\"text-align: right;\">\n",
       "      <th></th>\n",
       "      <th>offer_id</th>\n",
       "      <th>s_date</th>\n",
       "      <th>e_date</th>\n",
       "      <th>private_business</th>\n",
       "      <th>region</th>\n",
       "      <th>city</th>\n",
       "      <th>model</th>\n",
       "      <th>year</th>\n",
       "      <th>mileage</th>\n",
       "      <th>engine_capacity</th>\n",
       "      <th>...</th>\n",
       "      <th>color</th>\n",
       "      <th>features</th>\n",
       "      <th>price</th>\n",
       "      <th>price_raw</th>\n",
       "      <th>currency</th>\n",
       "      <th>country_origin</th>\n",
       "      <th>registration</th>\n",
       "      <th>engine</th>\n",
       "      <th>duration</th>\n",
       "      <th>price_chng</th>\n",
       "    </tr>\n",
       "  </thead>\n",
       "  <tbody>\n",
       "    <tr>\n",
       "      <th>5</th>\n",
       "      <td>6036867722</td>\n",
       "      <td>2020-04-17</td>\n",
       "      <td>2020-05-28</td>\n",
       "      <td>0</td>\n",
       "      <td>slaskie</td>\n",
       "      <td>raciborz</td>\n",
       "      <td>yaris</td>\n",
       "      <td>2008</td>\n",
       "      <td>153000</td>\n",
       "      <td>1298</td>\n",
       "      <td>...</td>\n",
       "      <td>red</td>\n",
       "      <td>abs cd central-lock front-electric-windows ele...</td>\n",
       "      <td>14600</td>\n",
       "      <td>13900.0</td>\n",
       "      <td>0</td>\n",
       "      <td>d</td>\n",
       "      <td>0</td>\n",
       "      <td>R4_13_86KM</td>\n",
       "      <td>41</td>\n",
       "      <td>700.0</td>\n",
       "    </tr>\n",
       "    <tr>\n",
       "      <th>7</th>\n",
       "      <td>6036867722</td>\n",
       "      <td>2020-04-17</td>\n",
       "      <td>2020-05-28</td>\n",
       "      <td>0</td>\n",
       "      <td>slaskie</td>\n",
       "      <td>raciborz</td>\n",
       "      <td>yaris</td>\n",
       "      <td>2008</td>\n",
       "      <td>153000</td>\n",
       "      <td>1298</td>\n",
       "      <td>...</td>\n",
       "      <td>red</td>\n",
       "      <td>abs cd central-lock front-electric-windows ele...</td>\n",
       "      <td>14600</td>\n",
       "      <td>14900.0</td>\n",
       "      <td>0</td>\n",
       "      <td>d</td>\n",
       "      <td>0</td>\n",
       "      <td>R4_13_86KM</td>\n",
       "      <td>41</td>\n",
       "      <td>-300.0</td>\n",
       "    </tr>\n",
       "    <tr>\n",
       "      <th>14</th>\n",
       "      <td>6054649805</td>\n",
       "      <td>2020-04-20</td>\n",
       "      <td>2020-05-28</td>\n",
       "      <td>0</td>\n",
       "      <td>podlaskie</td>\n",
       "      <td>suwalki</td>\n",
       "      <td>yaris</td>\n",
       "      <td>2007</td>\n",
       "      <td>178560</td>\n",
       "      <td>1300</td>\n",
       "      <td>...</td>\n",
       "      <td>silver</td>\n",
       "      <td>abs cd central-lock front-electric-windows ele...</td>\n",
       "      <td>14900</td>\n",
       "      <td>15900.0</td>\n",
       "      <td>0</td>\n",
       "      <td>d</td>\n",
       "      <td>0</td>\n",
       "      <td>R4_13_86KM</td>\n",
       "      <td>38</td>\n",
       "      <td>-1000.0</td>\n",
       "    </tr>\n",
       "  </tbody>\n",
       "</table>\n",
       "<p>3 rows × 27 columns</p>\n",
       "</div>"
      ],
      "text/plain": [
       "      offer_id     s_date     e_date  private_business     region      city  \\\n",
       "5   6036867722 2020-04-17 2020-05-28                 0    slaskie  raciborz   \n",
       "7   6036867722 2020-04-17 2020-05-28                 0    slaskie  raciborz   \n",
       "14  6054649805 2020-04-20 2020-05-28                 0  podlaskie   suwalki   \n",
       "\n",
       "    model  year  mileage  engine_capacity  ...   color  \\\n",
       "5   yaris  2008   153000             1298  ...     red   \n",
       "7   yaris  2008   153000             1298  ...     red   \n",
       "14  yaris  2007   178560             1300  ...  silver   \n",
       "\n",
       "                                             features  price price_raw  \\\n",
       "5   abs cd central-lock front-electric-windows ele...  14600   13900.0   \n",
       "7   abs cd central-lock front-electric-windows ele...  14600   14900.0   \n",
       "14  abs cd central-lock front-electric-windows ele...  14900   15900.0   \n",
       "\n",
       "   currency  country_origin  registration      engine duration  price_chng  \n",
       "5         0               d             0  R4_13_86KM       41       700.0  \n",
       "7         0               d             0  R4_13_86KM       41      -300.0  \n",
       "14        0               d             0  R4_13_86KM       38     -1000.0  \n",
       "\n",
       "[3 rows x 27 columns]"
      ]
     },
     "execution_count": 101,
     "metadata": {},
     "output_type": "execute_result"
    }
   ],
   "source": [
    "# Price change\n",
    "df[df['price_chng']!=0].head(3)"
   ]
  },
  {
   "cell_type": "code",
   "execution_count": 102,
   "metadata": {},
   "outputs": [
    {
     "name": "stdout",
     "output_type": "stream",
     "text": [
      "Wall time: 80 ms\n"
     ]
    }
   ],
   "source": [
    "#car features\n",
    "def benefits_to_set(value):\n",
    "    if str(value) == 'nan': return set([\"nan\"])\n",
    "    return {attr.lower().strip() for attr in value}\n",
    "    \n",
    "def norm_name(name):\n",
    "    return 'f_{0}'.format( name.lower().strip() )\n",
    "\n",
    "def feature_columns(): \n",
    "    benefits_series = df['features'].str.split(' ').map(benefits_to_set)\n",
    "    all_benefits = {benefit for row in benefits_series for benefit in row}\n",
    "    \n",
    "    feat_names = [norm_name(x) for x in all_benefits]\n",
    "    \n",
    "    for benefit in all_benefits:\n",
    "        df[ norm_name(benefit) ] = benefits_series.map(lambda x: benefit in x).astype(np.int8)\n",
    "    \n",
    "    return feat_names\n",
    "\n",
    "%time f = feature_columns()"
   ]
  },
  {
   "cell_type": "code",
   "execution_count": 103,
   "metadata": {},
   "outputs": [],
   "source": [
    "def old_plot(f):\n",
    "    df[f].hist(bins=2,figsize=(20,20))\n",
    "    plt.show()\n",
    "\n",
    "# %time old_plot(f)"
   ]
  },
  {
   "cell_type": "code",
   "execution_count": 104,
   "metadata": {},
   "outputs": [
    {
     "name": "stdout",
     "output_type": "stream",
     "text": [
      "Wall time: 938 ms\n"
     ]
    },
    {
     "data": {
      "image/png": "[encoded data removed]",
      "text/plain": [
       "<Figure size 1440x1800 with 57 Axes>"
      ]
     },
     "metadata": {
      "needs_background": "light"
     },
     "output_type": "display_data"
    }
   ],
   "source": [
    "def new_plot(f):\n",
    "    fig = plt.figure(figsize=(20, 25))\n",
    "    fig.subplots_adjust(left=None, bottom=None, right=None, top=None, wspace=None, hspace=0.5)\n",
    "    fig.add_axes([0.1 ,0.1 ,0.8, 0.8])\n",
    "    for i in range(len(f)):\n",
    "        cnt = df[f[i]].value_counts()\n",
    "        plt.subplot(10,6,i+1)\n",
    "        plt.xticks(np.arange(2), ['Brak', 'Jest'])\n",
    "        plt.bar(cnt.index, cnt.values, align='center')\n",
    "        key = f[i][2:]\n",
    "        plt.title(key)\n",
    "        #plt.title(feat_en_pl.get(key))\n",
    "\n",
    "%time new_plot(f)"
   ]
  },
  {
   "cell_type": "code",
   "execution_count": 143,
   "metadata": {},
   "outputs": [
    {
     "data": {
      "text/plain": [
       "201    1\n",
       "104    1\n",
       "366    1\n",
       "227    1\n",
       "121    1\n",
       "Name: ac, dtype: int64"
      ]
     },
     "execution_count": 143,
     "metadata": {},
     "output_type": "execute_result"
    }
   ],
   "source": [
    "def has_ac(x,y,z):\n",
    "    if (x == 0) & (y == 0) & (z == 0): \n",
    "        return 0\n",
    "    else:\n",
    "        return 1\n",
    "    \n",
    "ac = ['f_air-conditioning', 'f_automatic-air-conditioning', 'f_dual-air-conditioning']\n",
    "\n",
    "df['ac'] = df.apply(lambda x: has_ac(x['f_air-conditioning'], x['f_automatic-air-conditioning'], x['f_dual-air-conditioning']), axis=1)\n",
    "\n",
    "# df['ac'].sample(5)"
   ]
  },
  {
   "cell_type": "code",
   "execution_count": 144,
   "metadata": {},
   "outputs": [],
   "source": [
    "# return only not empty columns\n",
    "def non_empty_feats():\n",
    "    feats_lst = []\n",
    "    for col in df.columns: \n",
    "        if col[0:2] == 'f_':\n",
    "            if df[col].nunique() != 0:\n",
    "                feats_lst.append(col)\n",
    "    print(*feats_lst, sep='\\n')\n",
    "                \n",
    "# non_empty_feats()                "
   ]
  },
  {
   "cell_type": "markdown",
   "metadata": {},
   "source": [
    "## Wizualizacja"
   ]
  },
  {
   "cell_type": "code",
   "execution_count": 442,
   "metadata": {},
   "outputs": [
    {
     "data": {
      "application/javascript": [
       "\n",
       "(function(root) {\n",
       "  function now() {\n",
       "    return new Date();\n",
       "  }\n",
       "\n",
       "  var force = true;\n",
       "\n",
       "  if (typeof root._bokeh_onload_callbacks === \"undefined\" || force === true) {\n",
       "    root._bokeh_onload_callbacks = [];\n",
       "    root._bokeh_is_loading = undefined;\n",
       "  }\n",
       "\n",
       "  var JS_MIME_TYPE = 'application/javascript';\n",
       "  var HTML_MIME_TYPE = 'text/html';\n",
       "  var EXEC_MIME_TYPE = 'application/vnd.bokehjs_exec.v0+json';\n",
       "  var CLASS_NAME = 'output_bokeh rendered_html';\n",
       "\n",
       "  /**\n",
       "   * Render data to the DOM node\n",
       "   */\n",
       "  function render(props, node) {\n",
       "    var script = document.createElement(\"script\");\n",
       "    node.appendChild(script);\n",
       "  }\n",
       "\n",
       "  /**\n",
       "   * Handle when an output is cleared or removed\n",
       "   */\n",
       "  function handleClearOutput(event, handle) {\n",
       "    var cell = handle.cell;\n",
       "\n",
       "    var id = cell.output_area._bokeh_element_id;\n",
       "    var server_id = cell.output_area._bokeh_server_id;\n",
       "    // Clean up Bokeh references\n",
       "    if (id != null && id in Bokeh.index) {\n",
       "      Bokeh.index[id].model.document.clear();\n",
       "      delete Bokeh.index[id];\n",
       "    }\n",
       "\n",
       "    if (server_id !== undefined) {\n",
       "      // Clean up Bokeh references\n",
       "      var cmd = \"from bokeh.io.state import curstate; print(curstate().uuid_to_server['\" + server_id + \"'].get_sessions()[0].document.roots[0]._id)\";\n",
       "      cell.notebook.kernel.execute(cmd, {\n",
       "        iopub: {\n",
       "          output: function(msg) {\n",
       "            var id = msg.content.text.trim();\n",
       "            if (id in Bokeh.index) {\n",
       "              Bokeh.index[id].model.document.clear();\n",
       "              delete Bokeh.index[id];\n",
       "            }\n",
       "          }\n",
       "        }\n",
       "      });\n",
       "      // Destroy server and session\n",
       "      var cmd = \"import bokeh.io.notebook as ion; ion.destroy_server('\" + server_id + \"')\";\n",
       "      cell.notebook.kernel.execute(cmd);\n",
       "    }\n",
       "  }\n",
       "\n",
       "  /**\n",
       "   * Handle when a new output is added\n",
       "   */\n",
       "  function handleAddOutput(event, handle) {\n",
       "    var output_area = handle.output_area;\n",
       "    var output = handle.output;\n",
       "\n",
       "    // limit handleAddOutput to display_data with EXEC_MIME_TYPE content only\n",
       "    if ((output.output_type != \"display_data\") || (!output.data.hasOwnProperty(EXEC_MIME_TYPE))) {\n",
       "      return\n",
       "    }\n",
       "\n",
       "    var toinsert = output_area.element.find(\".\" + CLASS_NAME.split(' ')[0]);\n",
       "\n",
       "    if (output.metadata[EXEC_MIME_TYPE][\"id\"] !== undefined) {\n",
       "      toinsert[toinsert.length - 1].firstChild.textContent = output.data[JS_MIME_TYPE];\n",
       "      // store reference to embed id on output_area\n",
       "      output_area._bokeh_element_id = output.metadata[EXEC_MIME_TYPE][\"id\"];\n",
       "    }\n",
       "    if (output.metadata[EXEC_MIME_TYPE][\"server_id\"] !== undefined) {\n",
       "      var bk_div = document.createElement(\"div\");\n",
       "      bk_div.innerHTML = output.data[HTML_MIME_TYPE];\n",
       "      var script_attrs = bk_div.children[0].attributes;\n",
       "      for (var i = 0; i < script_attrs.length; i++) {\n",
       "        toinsert[toinsert.length - 1].firstChild.setAttribute(script_attrs[i].name, script_attrs[i].value);\n",
       "        toinsert[toinsert.length - 1].firstChild.textContent = bk_div.children[0].textContent\n",
       "      }\n",
       "      // store reference to server id on output_area\n",
       "      output_area._bokeh_server_id = output.metadata[EXEC_MIME_TYPE][\"server_id\"];\n",
       "    }\n",
       "  }\n",
       "\n",
       "  function register_renderer(events, OutputArea) {\n",
       "\n",
       "    function append_mime(data, metadata, element) {\n",
       "      // create a DOM node to render to\n",
       "      var toinsert = this.create_output_subarea(\n",
       "        metadata,\n",
       "        CLASS_NAME,\n",
       "        EXEC_MIME_TYPE\n",
       "      );\n",
       "      this.keyboard_manager.register_events(toinsert);\n",
       "      // Render to node\n",
       "      var props = {data: data, metadata: metadata[EXEC_MIME_TYPE]};\n",
       "      render(props, toinsert[toinsert.length - 1]);\n",
       "      element.append(toinsert);\n",
       "      return toinsert\n",
       "    }\n",
       "\n",
       "    /* Handle when an output is cleared or removed */\n",
       "    events.on('clear_output.CodeCell', handleClearOutput);\n",
       "    events.on('delete.Cell', handleClearOutput);\n",
       "\n",
       "    /* Handle when a new output is added */\n",
       "    events.on('output_added.OutputArea', handleAddOutput);\n",
       "\n",
       "    /**\n",
       "     * Register the mime type and append_mime function with output_area\n",
       "     */\n",
       "    OutputArea.prototype.register_mime_type(EXEC_MIME_TYPE, append_mime, {\n",
       "      /* Is output safe? */\n",
       "      safe: true,\n",
       "      /* Index of renderer in `output_area.display_order` */\n",
       "      index: 0\n",
       "    });\n",
       "  }\n",
       "\n",
       "  // register the mime type if in Jupyter Notebook environment and previously unregistered\n",
       "  if (root.Jupyter !== undefined) {\n",
       "    var events = require('base/js/events');\n",
       "    var OutputArea = require('notebook/js/outputarea').OutputArea;\n",
       "\n",
       "    if (OutputArea.prototype.mime_types().indexOf(EXEC_MIME_TYPE) == -1) {\n",
       "      register_renderer(events, OutputArea);\n",
       "    }\n",
       "  }\n",
       "\n",
       "  \n",
       "  if (typeof (root._bokeh_timeout) === \"undefined\" || force === true) {\n",
       "    root._bokeh_timeout = Date.now() + 5000;\n",
       "    root._bokeh_failed_load = false;\n",
       "  }\n",
       "\n",
       "  var NB_LOAD_WARNING = {'data': {'text/html':\n",
       "     \"<div style='background-color: #fdd'>\\n\"+\n",
       "     \"<p>\\n\"+\n",
       "     \"BokehJS does not appear to have successfully loaded. If loading BokehJS from CDN, this \\n\"+\n",
       "     \"may be due to a slow or bad network connection. Possible fixes:\\n\"+\n",
       "     \"</p>\\n\"+\n",
       "     \"<ul>\\n\"+\n",
       "     \"<li>re-rerun `output_notebook()` to attempt to load from CDN again, or</li>\\n\"+\n",
       "     \"<li>use INLINE resources instead, as so:</li>\\n\"+\n",
       "     \"</ul>\\n\"+\n",
       "     \"<code>\\n\"+\n",
       "     \"from bokeh.resources import INLINE\\n\"+\n",
       "     \"output_notebook(resources=INLINE)\\n\"+\n",
       "     \"</code>\\n\"+\n",
       "     \"</div>\"}};\n",
       "\n",
       "  function display_loaded() {\n",
       "    var el = document.getElementById(null);\n",
       "    if (el != null) {\n",
       "      el.textContent = \"BokehJS is loading...\";\n",
       "    }\n",
       "    if (root.Bokeh !== undefined) {\n",
       "      if (el != null) {\n",
       "        el.textContent = \"BokehJS \" + root.Bokeh.version + \" successfully loaded.\";\n",
       "      }\n",
       "    } else if (Date.now() < root._bokeh_timeout) {\n",
       "      setTimeout(display_loaded, 100)\n",
       "    }\n",
       "  }\n",
       "\n",
       "\n",
       "  function run_callbacks() {\n",
       "    try {\n",
       "      root._bokeh_onload_callbacks.forEach(function(callback) {\n",
       "        if (callback != null)\n",
       "          callback();\n",
       "      });\n",
       "    } finally {\n",
       "      delete root._bokeh_onload_callbacks\n",
       "    }\n",
       "    console.debug(\"Bokeh: all callbacks have finished\");\n",
       "  }\n",
       "\n",
       "  function load_libs(css_urls, js_urls, callback) {\n",
       "    if (css_urls == null) css_urls = [];\n",
       "    if (js_urls == null) js_urls = [];\n",
       "\n",
       "    root._bokeh_onload_callbacks.push(callback);\n",
       "    if (root._bokeh_is_loading > 0) {\n",
       "      console.debug(\"Bokeh: BokehJS is being loaded, scheduling callback at\", now());\n",
       "      return null;\n",
       "    }\n",
       "    if (js_urls == null || js_urls.length === 0) {\n",
       "      run_callbacks();\n",
       "      return null;\n",
       "    }\n",
       "    console.debug(\"Bokeh: BokehJS not loaded, scheduling load and callback at\", now());\n",
       "    root._bokeh_is_loading = css_urls.length + js_urls.length;\n",
       "\n",
       "    function on_load() {\n",
       "      root._bokeh_is_loading--;\n",
       "      if (root._bokeh_is_loading === 0) {\n",
       "        console.debug(\"Bokeh: all BokehJS libraries/stylesheets loaded\");\n",
       "        run_callbacks()\n",
       "      }\n",
       "    }\n",
       "\n",
       "    function on_error() {\n",
       "      console.error(\"failed to load \" + url);\n",
       "    }\n",
       "\n",
       "    for (var i = 0; i < css_urls.length; i++) {\n",
       "      var url = css_urls[i];\n",
       "      const element = document.createElement(\"link\");\n",
       "      element.onload = on_load;\n",
       "      element.onerror = on_error;\n",
       "      element.rel = \"stylesheet\";\n",
       "      element.type = \"text/css\";\n",
       "      element.href = url;\n",
       "      console.debug(\"Bokeh: injecting link tag for BokehJS stylesheet: \", url);\n",
       "      document.body.appendChild(element);\n",
       "    }\n",
       "\n",
       "    const hashes = {\"https://cdn.bokeh.org/bokeh/release/bokeh-2.0.2.min.js\": \"ufR9RFnRs6lniiaFvtJziE0YeidtAgBRH6ux2oUItHw5WTvE1zuk9uzhUU/FJXDp\", \"https://cdn.bokeh.org/bokeh/release/bokeh-widgets-2.0.2.min.js\": \"8QM/PGWBT+IssZuRcDcjzwIh1mkOmJSoNMmyYDZbCfXJg3Ap1lEvdVgFuSAwhb/J\", \"https://cdn.bokeh.org/bokeh/release/bokeh-tables-2.0.2.min.js\": \"Jm8cH3Rg0P6UeZhVY5cLy1WzKajUT9KImCY+76hEqrcJt59/d8GPvFHjCkYgnSIn\", \"https://cdn.bokeh.org/bokeh/release/bokeh-gl-2.0.2.min.js\": \"Ozhzj+SI7ywm74aOI/UajcWz+C0NjsPunEVyVIrxzYkB+jA+2tUw8x5xJCbVtK5I\"};\n",
       "\n",
       "    for (var i = 0; i < js_urls.length; i++) {\n",
       "      var url = js_urls[i];\n",
       "      var element = document.createElement('script');\n",
       "      element.onload = on_load;\n",
       "      element.onerror = on_error;\n",
       "      element.async = false;\n",
       "      element.src = url;\n",
       "      if (url in hashes) {\n",
       "        element.crossOrigin = \"anonymous\";\n",
       "        element.integrity = \"sha384-\" + hashes[url];\n",
       "      }\n",
       "      console.debug(\"Bokeh: injecting script tag for BokehJS library: \", url);\n",
       "      document.head.appendChild(element);\n",
       "    }\n",
       "  };\n",
       "\n",
       "  function inject_raw_css(css) {\n",
       "    const element = document.createElement(\"style\");\n",
       "    element.appendChild(document.createTextNode(css));\n",
       "    document.body.appendChild(element);\n",
       "  }\n",
       "\n",
       "  \n",
       "  var js_urls = [\"https://cdn.bokeh.org/bokeh/release/bokeh-2.0.2.min.js\", \"https://cdn.bokeh.org/bokeh/release/bokeh-widgets-2.0.2.min.js\", \"https://cdn.bokeh.org/bokeh/release/bokeh-tables-2.0.2.min.js\", \"https://cdn.bokeh.org/bokeh/release/bokeh-gl-2.0.2.min.js\"];\n",
       "  var css_urls = [];\n",
       "  \n",
       "\n",
       "  var inline_js = [\n",
       "    function(Bokeh) {\n",
       "      Bokeh.set_log_level(\"info\");\n",
       "    },\n",
       "    function(Bokeh) {\n",
       "    \n",
       "    \n",
       "    }\n",
       "  ];\n",
       "\n",
       "  function run_inline_js() {\n",
       "    \n",
       "    if (root.Bokeh !== undefined || force === true) {\n",
       "      \n",
       "    for (var i = 0; i < inline_js.length; i++) {\n",
       "      inline_js[i].call(root, root.Bokeh);\n",
       "    }\n",
       "    } else if (Date.now() < root._bokeh_timeout) {\n",
       "      setTimeout(run_inline_js, 100);\n",
       "    } else if (!root._bokeh_failed_load) {\n",
       "      console.log(\"Bokeh: BokehJS failed to load within specified timeout.\");\n",
       "      root._bokeh_failed_load = true;\n",
       "    } else if (force !== true) {\n",
       "      var cell = $(document.getElementById(null)).parents('.cell').data().cell;\n",
       "      cell.output_area.append_execute_result(NB_LOAD_WARNING)\n",
       "    }\n",
       "\n",
       "  }\n",
       "\n",
       "  if (root._bokeh_is_loading === 0) {\n",
       "    console.debug(\"Bokeh: BokehJS loaded, going straight to plotting\");\n",
       "    run_inline_js();\n",
       "  } else {\n",
       "    load_libs(css_urls, js_urls, function() {\n",
       "      console.debug(\"Bokeh: BokehJS plotting callback run at\", now());\n",
       "      run_inline_js();\n",
       "    });\n",
       "  }\n",
       "}(window));"
      ],
      "application/vnd.bokehjs_load.v0+json": "\n(function(root) {\n  function now() {\n    return new Date();\n  }\n\n  var force = true;\n\n  if (typeof root._bokeh_onload_callbacks === \"undefined\" || force === true) {\n    root._bokeh_onload_callbacks = [];\n    root._bokeh_is_loading = undefined;\n  }\n\n  \n\n  \n  if (typeof (root._bokeh_timeout) === \"undefined\" || force === true) {\n    root._bokeh_timeout = Date.now() + 5000;\n    root._bokeh_failed_load = false;\n  }\n\n  var NB_LOAD_WARNING = {'data': {'text/html':\n     \"<div style='background-color: #fdd'>\\n\"+\n     \"<p>\\n\"+\n     \"BokehJS does not appear to have successfully loaded. If loading BokehJS from CDN, this \\n\"+\n     \"may be due to a slow or bad network connection. Possible fixes:\\n\"+\n     \"</p>\\n\"+\n     \"<ul>\\n\"+\n     \"<li>re-rerun `output_notebook()` to attempt to load from CDN again, or</li>\\n\"+\n     \"<li>use INLINE resources instead, as so:</li>\\n\"+\n     \"</ul>\\n\"+\n     \"<code>\\n\"+\n     \"from bokeh.resources import INLINE\\n\"+\n     \"output_notebook(resources=INLINE)\\n\"+\n     \"</code>\\n\"+\n     \"</div>\"}};\n\n  function display_loaded() {\n    var el = document.getElementById(null);\n    if (el != null) {\n      el.textContent = \"BokehJS is loading...\";\n    }\n    if (root.Bokeh !== undefined) {\n      if (el != null) {\n        el.textContent = \"BokehJS \" + root.Bokeh.version + \" successfully loaded.\";\n      }\n    } else if (Date.now() < root._bokeh_timeout) {\n      setTimeout(display_loaded, 100)\n    }\n  }\n\n\n  function run_callbacks() {\n    try {\n      root._bokeh_onload_callbacks.forEach(function(callback) {\n        if (callback != null)\n          callback();\n      });\n    } finally {\n      delete root._bokeh_onload_callbacks\n    }\n    console.debug(\"Bokeh: all callbacks have finished\");\n  }\n\n  function load_libs(css_urls, js_urls, callback) {\n    if (css_urls == null) css_urls = [];\n    if (js_urls == null) js_urls = [];\n\n    root._bokeh_onload_callbacks.push(callback);\n    if (root._bokeh_is_loading > 0) {\n      console.debug(\"Bokeh: BokehJS is being loaded, scheduling callback at\", now());\n      return null;\n    }\n    if (js_urls == null || js_urls.length === 0) {\n      run_callbacks();\n      return null;\n    }\n    console.debug(\"Bokeh: BokehJS not loaded, scheduling load and callback at\", now());\n    root._bokeh_is_loading = css_urls.length + js_urls.length;\n\n    function on_load() {\n      root._bokeh_is_loading--;\n      if (root._bokeh_is_loading === 0) {\n        console.debug(\"Bokeh: all BokehJS libraries/stylesheets loaded\");\n        run_callbacks()\n      }\n    }\n\n    function on_error() {\n      console.error(\"failed to load \" + url);\n    }\n\n    for (var i = 0; i < css_urls.length; i++) {\n      var url = css_urls[i];\n      const element = document.createElement(\"link\");\n      element.onload = on_load;\n      element.onerror = on_error;\n      element.rel = \"stylesheet\";\n      element.type = \"text/css\";\n      element.href = url;\n      console.debug(\"Bokeh: injecting link tag for BokehJS stylesheet: \", url);\n      document.body.appendChild(element);\n    }\n\n    const hashes = {\"https://cdn.bokeh.org/bokeh/release/bokeh-2.0.2.min.js\": \"ufR9RFnRs6lniiaFvtJziE0YeidtAgBRH6ux2oUItHw5WTvE1zuk9uzhUU/FJXDp\", \"https://cdn.bokeh.org/bokeh/release/bokeh-widgets-2.0.2.min.js\": \"8QM/PGWBT+IssZuRcDcjzwIh1mkOmJSoNMmyYDZbCfXJg3Ap1lEvdVgFuSAwhb/J\", \"https://cdn.bokeh.org/bokeh/release/bokeh-tables-2.0.2.min.js\": \"Jm8cH3Rg0P6UeZhVY5cLy1WzKajUT9KImCY+76hEqrcJt59/d8GPvFHjCkYgnSIn\", \"https://cdn.bokeh.org/bokeh/release/bokeh-gl-2.0.2.min.js\": \"Ozhzj+SI7ywm74aOI/UajcWz+C0NjsPunEVyVIrxzYkB+jA+2tUw8x5xJCbVtK5I\"};\n\n    for (var i = 0; i < js_urls.length; i++) {\n      var url = js_urls[i];\n      var element = document.createElement('script');\n      element.onload = on_load;\n      element.onerror = on_error;\n      element.async = false;\n      element.src = url;\n      if (url in hashes) {\n        element.crossOrigin = \"anonymous\";\n        element.integrity = \"sha384-\" + hashes[url];\n      }\n      console.debug(\"Bokeh: injecting script tag for BokehJS library: \", url);\n      document.head.appendChild(element);\n    }\n  };\n\n  function inject_raw_css(css) {\n    const element = document.createElement(\"style\");\n    element.appendChild(document.createTextNode(css));\n    document.body.appendChild(element);\n  }\n\n  \n  var js_urls = [\"https://cdn.bokeh.org/bokeh/release/bokeh-2.0.2.min.js\", \"https://cdn.bokeh.org/bokeh/release/bokeh-widgets-2.0.2.min.js\", \"https://cdn.bokeh.org/bokeh/release/bokeh-tables-2.0.2.min.js\", \"https://cdn.bokeh.org/bokeh/release/bokeh-gl-2.0.2.min.js\"];\n  var css_urls = [];\n  \n\n  var inline_js = [\n    function(Bokeh) {\n      Bokeh.set_log_level(\"info\");\n    },\n    function(Bokeh) {\n    \n    \n    }\n  ];\n\n  function run_inline_js() {\n    \n    if (root.Bokeh !== undefined || force === true) {\n      \n    for (var i = 0; i < inline_js.length; i++) {\n      inline_js[i].call(root, root.Bokeh);\n    }\n    } else if (Date.now() < root._bokeh_timeout) {\n      setTimeout(run_inline_js, 100);\n    } else if (!root._bokeh_failed_load) {\n      console.log(\"Bokeh: BokehJS failed to load within specified timeout.\");\n      root._bokeh_failed_load = true;\n    } else if (force !== true) {\n      var cell = $(document.getElementById(null)).parents('.cell').data().cell;\n      cell.output_area.append_execute_result(NB_LOAD_WARNING)\n    }\n\n  }\n\n  if (root._bokeh_is_loading === 0) {\n    console.debug(\"Bokeh: BokehJS loaded, going straight to plotting\");\n    run_inline_js();\n  } else {\n    load_libs(css_urls, js_urls, function() {\n      console.debug(\"Bokeh: BokehJS plotting callback run at\", now());\n      run_inline_js();\n    });\n  }\n}(window));"
     },
     "metadata": {},
     "output_type": "display_data"
    }
   ],
   "source": [
    "import pandas as pd\n",
    "import numpy as np\n",
    "\n",
    "%matplotlib inline\n",
    "import matplotlib.pyplot as plt\n",
    "import seaborn as sns\n",
    "\n",
    "from bokeh.plotting import figure \n",
    "import bokeh_catplot\n",
    "from bokeh.io import output_notebook, show\n",
    "\n",
    "\n",
    "output_notebook(resources=None, verbose=False, hide_banner=True)"
   ]
  },
  {
   "cell_type": "markdown",
   "metadata": {},
   "source": [
    "### Plotly express"
   ]
  },
  {
   "cell_type": "code",
   "execution_count": 445,
   "metadata": {},
   "outputs": [
    {
     "data": {
      "application/vnd.plotly.v1+json": {
       "config": {
        "plotlyServerURL": "https://plot.ly"
       },
       "data": [
        {
         "hovertemplate": "year=%{x}<br>price_raw=%{y}<extra></extra>",
         "legendgroup": "",
         "marker": {
          "color": "#1F77B4",
          "symbol": "circle"
         },
         "mode": "markers",
         "name": "",
         "showlegend": false,
         "type": "scatter",
         "x": [
          2009,
          2008,
          2009,
          2009,
          2006,
          2008,
          2008,
          2009,
          2008,
          2009,
          2006,
          2005,
          2007,
          2007,
          2007,
          2010,
          2008,
          2006,
          2006,
          2010,
          2009,
          2009,
          2006,
          2008,
          2010,
          2006,
          2010,
          2006,
          2006,
          2008,
          2009,
          2008,
          2010,
          2009,
          2008,
          2008,
          2008,
          2007,
          2008,
          2007,
          2007,
          2011,
          2008,
          2009,
          2008,
          2006,
          2007,
          2010,
          2008,
          2011,
          2008,
          2010,
          2009,
          2007,
          2006,
          2009,
          2007,
          2007,
          2009,
          2006,
          2006,
          2006,
          2007,
          2009,
          2010,
          2008,
          2008,
          2006,
          2009,
          2009,
          2007,
          2007,
          2010,
          2008,
          2007,
          2010,
          2007,
          2009,
          2008,
          2009,
          2011,
          2010,
          2010,
          2009,
          2008,
          2006,
          2011,
          2007,
          2006,
          2011,
          2008,
          2011,
          2008,
          2007,
          2010,
          2010,
          2009,
          2009,
          2010,
          2006,
          2006,
          2007,
          2006,
          2010,
          2007,
          2008,
          2007,
          2009,
          2009,
          2007,
          2007,
          2007,
          2008,
          2010,
          2007,
          2007,
          2010,
          2009,
          2007,
          2006,
          2006,
          2009,
          2009,
          2006,
          2006,
          2006,
          2006,
          2008,
          2008,
          2008,
          2008,
          2009,
          2009,
          2011,
          2009,
          2009,
          2006,
          2006,
          2009,
          2010,
          2010,
          2006,
          2010,
          2010,
          2008,
          2006,
          2006,
          2006,
          2006,
          2006,
          2009,
          2009,
          2009,
          2008,
          2009,
          2006,
          2010,
          2009,
          2009,
          2008,
          2008,
          2010,
          2007,
          2007,
          2009,
          2007,
          2011,
          2009,
          2007,
          2006,
          2007,
          2006,
          2009,
          2009,
          2009,
          2010,
          2007,
          2007,
          2006,
          2009,
          2011,
          2008,
          2008,
          2010,
          2008,
          2009,
          2008,
          2007,
          2007,
          2006,
          2006,
          2006,
          2007,
          2008,
          2011,
          2009,
          2007,
          2008,
          2006,
          2006,
          2010,
          2010,
          2008,
          2006,
          2006,
          2006,
          2007,
          2006,
          2008,
          2006,
          2008,
          2007,
          2009,
          2008,
          2002,
          2009,
          2006,
          2007,
          2007,
          2010,
          2010,
          2010,
          2010,
          2008,
          2008,
          2009,
          2011,
          2006,
          2007,
          2006,
          2006,
          2006,
          2006,
          2009,
          2008,
          2007,
          2007,
          2007,
          2008,
          2007,
          2009,
          2010,
          2009,
          2011,
          2010,
          2009,
          2011,
          2011,
          2005,
          2005,
          2008,
          2006,
          2008,
          2011,
          2009,
          2011,
          2011,
          2011,
          2008,
          2007,
          2010,
          2007,
          2007,
          2010,
          2010,
          2010,
          2010,
          2006,
          2006,
          2006,
          2006,
          2006,
          2006,
          2006,
          2008,
          2008,
          2009,
          2006,
          2008,
          2009,
          2009,
          2008,
          2010,
          2011,
          2008,
          2010,
          2006,
          2009,
          2008,
          2009,
          2005,
          2009,
          2010,
          2009,
          2009,
          2008,
          2006,
          2009,
          2008,
          2009,
          2007,
          2008,
          2007,
          2007,
          2009,
          2009,
          2009,
          2006,
          2007,
          2009,
          2009,
          2006,
          2007,
          2007,
          2007,
          2006,
          2007,
          2009,
          2009,
          2006,
          2006,
          2006,
          2008,
          2006,
          2011,
          2009,
          2009,
          2007,
          2006,
          2006,
          2010,
          2010,
          2008,
          2006,
          2008,
          2009,
          2009,
          2009,
          2006,
          2009,
          2009,
          2008,
          2008,
          2007,
          2007,
          2007,
          2007,
          2006,
          2008,
          2008,
          2009,
          2009,
          2007,
          2007,
          2010,
          2010,
          2010,
          2007,
          2007,
          2009,
          2009,
          2009,
          2014,
          2016,
          2007,
          2010,
          2010,
          2010,
          2010,
          2010,
          2010,
          2010,
          2010,
          2010,
          2010,
          2010,
          2006,
          2008,
          2010,
          2009,
          2006,
          2006,
          2006,
          2006,
          2006,
          2006,
          2006,
          2006,
          2007,
          2007,
          2010,
          2010,
          2010,
          2009,
          2009,
          2009,
          2008,
          2006,
          2009,
          2009,
          2011,
          2010,
          2009,
          2009,
          2008,
          2006,
          2006,
          2006,
          2007,
          2008,
          2008,
          2008,
          2008,
          2006,
          2010,
          2006,
          2011,
          2006,
          2008,
          2011,
          2010,
          2007,
          2007
         ],
         "xaxis": "x",
         "y": [
          6200,
          4700,
          19800,
          14900,
          9500,
          13900,
          14900,
          15900,
          16900,
          6900,
          16900,
          16500,
          14900,
          15900,
          16600,
          17900,
          14900,
          15900,
          11900,
          18999,
          16900,
          18800,
          9900,
          9900,
          22500,
          14900,
          15900,
          12900,
          13600,
          15900,
          13500,
          14200,
          19900,
          14900,
          12900,
          13500,
          13800,
          13900,
          14800,
          10999,
          7900,
          17900,
          18900,
          13700,
          15500,
          9999,
          9500,
          18800,
          11900,
          19900,
          14999,
          21900,
          13900,
          17900,
          16900,
          18900,
          16900,
          9900,
          15900,
          12700,
          13200,
          10500,
          21900,
          19900,
          16800,
          10999,
          11500,
          11900,
          8200,
          18888,
          9900,
          16400,
          17999,
          17400,
          15900,
          4100,
          13600,
          17300,
          15800,
          15999,
          19900,
          16900,
          22000,
          21000,
          16900,
          16900,
          17400,
          18300,
          13800,
          20999,
          15500,
          21999,
          9200,
          4390.240234375,
          12900,
          14990,
          17500,
          16900,
          16500,
          14500,
          14900,
          15999,
          11700,
          10500,
          10999,
          12999,
          8000,
          12880,
          16900,
          8900,
          9999,
          12900,
          11900,
          22000,
          14900,
          15900,
          18500,
          17900,
          10500,
          15900,
          16900,
          16999,
          18900,
          12000,
          13200,
          12300,
          14200,
          12900,
          13500,
          13900,
          11500,
          14990,
          15900,
          19900,
          18900,
          21900,
          13300,
          13600,
          14900,
          15900,
          16900,
          11900,
          16801,
          17001,
          16900,
          11700,
          14900,
          13200,
          14100,
          15000,
          18900,
          19900,
          20900,
          16999,
          17500,
          9900,
          16000,
          18900,
          20900,
          8300,
          12250,
          13900,
          11500,
          15900,
          13900,
          13900,
          15900,
          18900,
          13800,
          10999,
          11000,
          10500,
          15500,
          15900,
          18900,
          15500,
          16200,
          16999,
          13999,
          18800,
          15900,
          18900,
          12900,
          19900,
          12900,
          18900,
          15900,
          14900,
          15900,
          10900,
          11500,
          8500,
          10900,
          11900,
          25990,
          18900,
          12200,
          6500,
          13300,
          9900,
          19900,
          20900,
          14900,
          12900,
          16900,
          13800,
          13800,
          13900,
          13999,
          13900,
          13800,
          15500,
          19900,
          15900,
          8700,
          20800,
          12900,
          14999,
          15999,
          17000,
          17500,
          17900,
          18500,
          14900,
          2900,
          17900,
          20900,
          10400,
          16900,
          11500,
          13900,
          11900,
          12900,
          17900,
          18500,
          14500,
          15000,
          15500,
          16900,
          15900,
          14500,
          15500,
          14800,
          15900,
          15000,
          8500,
          18900,
          19800,
          11900,
          12900,
          15900,
          11200,
          4799,
          17500,
          15700,
          17800,
          17899,
          17900,
          13900,
          20900,
          17500,
          12900,
          17900,
          17500,
          16900,
          17600,
          16600,
          15700,
          11499,
          13999,
          14499,
          14500,
          12900,
          13500,
          16999,
          17900,
          10400,
          15200,
          16900,
          18900,
          19500,
          16900,
          17900,
          16300,
          16900,
          18600,
          14500,
          18900,
          16900,
          14500,
          5500,
          13499,
          10500,
          16900,
          17900,
          19900,
          10500,
          15999,
          15900,
          15900,
          13800,
          15900,
          10900,
          11900,
          14900,
          15400,
          15900,
          12500,
          17500,
          15500,
          14900,
          14400,
          12600,
          13400,
          15500,
          9900,
          16900,
          19300,
          19900,
          17800,
          18600,
          13300,
          17900,
          15600,
          21999,
          12900,
          14900,
          6900,
          9999,
          10000,
          16800,
          16900,
          13250,
          9990,
          17900,
          13000,
          14500,
          15500,
          16900,
          5284.5498046875,
          5609.759765625,
          11900,
          12500,
          13500,
          13900,
          14500,
          14900,
          11900,
          16400,
          17900,
          16700,
          17700,
          13900,
          14700,
          16800,
          17500,
          17800,
          11999,
          12999,
          14500,
          12000,
          11900,
          25900,
          28900,
          14900,
          14600,
          14900,
          15300,
          15600,
          13900,
          14200,
          14900,
          15500,
          17500,
          15200,
          15900,
          11900,
          12900,
          21999,
          17800,
          7400,
          7500,
          7700,
          7900,
          8200,
          8300,
          8500,
          8900,
          14900,
          15900,
          12900,
          13500,
          14900,
          13000,
          15900,
          16600,
          11600,
          13900,
          16700,
          17700,
          15900,
          17700,
          18900,
          17900,
          8000,
          8500,
          9300,
          9900,
          12900,
          15100,
          17900,
          12500,
          11900,
          11500,
          16900,
          13500,
          22900,
          10900,
          15900,
          21900,
          17999,
          12900,
          14000
         ],
         "yaxis": "y"
        }
       ],
       "layout": {
        "legend": {
         "tracegroupgap": 0
        },
        "margin": {
         "t": 60
        },
        "template": {
         "data": {
          "pie": [
           {
            "automargin": true,
            "type": "pie"
           }
          ],
          "scatter": [
           {
            "line": {
             "width": 3
            },
            "marker": {
             "size": 9
            },
            "type": "scatter"
           }
          ],
          "scatter3d": [
           {
            "line": {
             "width": 3
            },
            "marker": {
             "size": 9
            },
            "type": "scatter3d"
           }
          ],
          "scattergeo": [
           {
            "line": {
             "width": 3
            },
            "marker": {
             "size": 9
            },
            "type": "scattergeo"
           }
          ],
          "scattergl": [
           {
            "line": {
             "width": 3
            },
            "marker": {
             "size": 9
            },
            "type": "scattergl"
           }
          ],
          "scatterpolar": [
           {
            "line": {
             "width": 3
            },
            "marker": {
             "size": 9
            },
            "type": "scatterpolar"
           }
          ],
          "scatterpolargl": [
           {
            "line": {
             "width": 3
            },
            "marker": {
             "size": 9
            },
            "type": "scatterpolargl"
           }
          ],
          "scatterternary": [
           {
            "line": {
             "width": 3
            },
            "marker": {
             "size": 9
            },
            "type": "scatterternary"
           }
          ],
          "table": [
           {
            "cells": {
             "height": 30
            },
            "header": {
             "height": 36
            },
            "type": "table"
           }
          ]
         },
         "layout": {
          "font": {
           "size": 18
          },
          "xaxis": {
           "title": {
            "standoff": 15
           }
          },
          "yaxis": {
           "title": {
            "standoff": 15
           }
          }
         }
        },
        "xaxis": {
         "anchor": "y",
         "domain": [
          0,
          1
         ],
         "title": {
          "text": "year"
         }
        },
        "yaxis": {
         "anchor": "x",
         "domain": [
          0,
          1
         ],
         "title": {
          "text": "price_raw"
         }
        }
       }
      },
      "text/html": [
       "<div>\n",
       "        \n",
       "        \n",
       "            <div id=\"335724c7-c882-4a15-b4cc-4fe98c02d721\" class=\"plotly-graph-div\" style=\"height:525px; width:100%;\"></div>\n",
       "            <script type=\"text/javascript\">\n",
       "                require([\"plotly\"], function(Plotly) {\n",
       "                    window.PLOTLYENV=window.PLOTLYENV || {};\n",
       "                    \n",
       "                if (document.getElementById(\"335724c7-c882-4a15-b4cc-4fe98c02d721\")) {\n",
       "                    Plotly.newPlot(\n",
       "                        '335724c7-c882-4a15-b4cc-4fe98c02d721',\n",
       "                        [{\"hovertemplate\": \"year=%{x}<br>price_raw=%{y}<extra></extra>\", \"legendgroup\": \"\", \"marker\": {\"color\": \"#1F77B4\", \"symbol\": \"circle\"}, \"mode\": \"markers\", \"name\": \"\", \"showlegend\": false, \"type\": \"scatter\", \"x\": [2009, 2008, 2009, 2009, 2006, 2008, 2008, 2009, 2008, 2009, 2006, 2005, 2007, 2007, 2007, 2010, 2008, 2006, 2006, 2010, 2009, 2009, 2006, 2008, 2010, 2006, 2010, 2006, 2006, 2008, 2009, 2008, 2010, 2009, 2008, 2008, 2008, 2007, 2008, 2007, 2007, 2011, 2008, 2009, 2008, 2006, 2007, 2010, 2008, 2011, 2008, 2010, 2009, 2007, 2006, 2009, 2007, 2007, 2009, 2006, 2006, 2006, 2007, 2009, 2010, 2008, 2008, 2006, 2009, 2009, 2007, 2007, 2010, 2008, 2007, 2010, 2007, 2009, 2008, 2009, 2011, 2010, 2010, 2009, 2008, 2006, 2011, 2007, 2006, 2011, 2008, 2011, 2008, 2007, 2010, 2010, 2009, 2009, 2010, 2006, 2006, 2007, 2006, 2010, 2007, 2008, 2007, 2009, 2009, 2007, 2007, 2007, 2008, 2010, 2007, 2007, 2010, 2009, 2007, 2006, 2006, 2009, 2009, 2006, 2006, 2006, 2006, 2008, 2008, 2008, 2008, 2009, 2009, 2011, 2009, 2009, 2006, 2006, 2009, 2010, 2010, 2006, 2010, 2010, 2008, 2006, 2006, 2006, 2006, 2006, 2009, 2009, 2009, 2008, 2009, 2006, 2010, 2009, 2009, 2008, 2008, 2010, 2007, 2007, 2009, 2007, 2011, 2009, 2007, 2006, 2007, 2006, 2009, 2009, 2009, 2010, 2007, 2007, 2006, 2009, 2011, 2008, 2008, 2010, 2008, 2009, 2008, 2007, 2007, 2006, 2006, 2006, 2007, 2008, 2011, 2009, 2007, 2008, 2006, 2006, 2010, 2010, 2008, 2006, 2006, 2006, 2007, 2006, 2008, 2006, 2008, 2007, 2009, 2008, 2002, 2009, 2006, 2007, 2007, 2010, 2010, 2010, 2010, 2008, 2008, 2009, 2011, 2006, 2007, 2006, 2006, 2006, 2006, 2009, 2008, 2007, 2007, 2007, 2008, 2007, 2009, 2010, 2009, 2011, 2010, 2009, 2011, 2011, 2005, 2005, 2008, 2006, 2008, 2011, 2009, 2011, 2011, 2011, 2008, 2007, 2010, 2007, 2007, 2010, 2010, 2010, 2010, 2006, 2006, 2006, 2006, 2006, 2006, 2006, 2008, 2008, 2009, 2006, 2008, 2009, 2009, 2008, 2010, 2011, 2008, 2010, 2006, 2009, 2008, 2009, 2005, 2009, 2010, 2009, 2009, 2008, 2006, 2009, 2008, 2009, 2007, 2008, 2007, 2007, 2009, 2009, 2009, 2006, 2007, 2009, 2009, 2006, 2007, 2007, 2007, 2006, 2007, 2009, 2009, 2006, 2006, 2006, 2008, 2006, 2011, 2009, 2009, 2007, 2006, 2006, 2010, 2010, 2008, 2006, 2008, 2009, 2009, 2009, 2006, 2009, 2009, 2008, 2008, 2007, 2007, 2007, 2007, 2006, 2008, 2008, 2009, 2009, 2007, 2007, 2010, 2010, 2010, 2007, 2007, 2009, 2009, 2009, 2014, 2016, 2007, 2010, 2010, 2010, 2010, 2010, 2010, 2010, 2010, 2010, 2010, 2010, 2006, 2008, 2010, 2009, 2006, 2006, 2006, 2006, 2006, 2006, 2006, 2006, 2007, 2007, 2010, 2010, 2010, 2009, 2009, 2009, 2008, 2006, 2009, 2009, 2011, 2010, 2009, 2009, 2008, 2006, 2006, 2006, 2007, 2008, 2008, 2008, 2008, 2006, 2010, 2006, 2011, 2006, 2008, 2011, 2010, 2007, 2007], \"xaxis\": \"x\", \"y\": [6200.0, 4700.0, 19800.0, 14900.0, 9500.0, 13900.0, 14900.0, 15900.0, 16900.0, 6900.0, 16900.0, 16500.0, 14900.0, 15900.0, 16600.0, 17900.0, 14900.0, 15900.0, 11900.0, 18999.0, 16900.0, 18800.0, 9900.0, 9900.0, 22500.0, 14900.0, 15900.0, 12900.0, 13600.0, 15900.0, 13500.0, 14200.0, 19900.0, 14900.0, 12900.0, 13500.0, 13800.0, 13900.0, 14800.0, 10999.0, 7900.0, 17900.0, 18900.0, 13700.0, 15500.0, 9999.0, 9500.0, 18800.0, 11900.0, 19900.0, 14999.0, 21900.0, 13900.0, 17900.0, 16900.0, 18900.0, 16900.0, 9900.0, 15900.0, 12700.0, 13200.0, 10500.0, 21900.0, 19900.0, 16800.0, 10999.0, 11500.0, 11900.0, 8200.0, 18888.0, 9900.0, 16400.0, 17999.0, 17400.0, 15900.0, 4100.0, 13600.0, 17300.0, 15800.0, 15999.0, 19900.0, 16900.0, 22000.0, 21000.0, 16900.0, 16900.0, 17400.0, 18300.0, 13800.0, 20999.0, 15500.0, 21999.0, 9200.0, 4390.240234375, 12900.0, 14990.0, 17500.0, 16900.0, 16500.0, 14500.0, 14900.0, 15999.0, 11700.0, 10500.0, 10999.0, 12999.0, 8000.0, 12880.0, 16900.0, 8900.0, 9999.0, 12900.0, 11900.0, 22000.0, 14900.0, 15900.0, 18500.0, 17900.0, 10500.0, 15900.0, 16900.0, 16999.0, 18900.0, 12000.0, 13200.0, 12300.0, 14200.0, 12900.0, 13500.0, 13900.0, 11500.0, 14990.0, 15900.0, 19900.0, 18900.0, 21900.0, 13300.0, 13600.0, 14900.0, 15900.0, 16900.0, 11900.0, 16801.0, 17001.0, 16900.0, 11700.0, 14900.0, 13200.0, 14100.0, 15000.0, 18900.0, 19900.0, 20900.0, 16999.0, 17500.0, 9900.0, 16000.0, 18900.0, 20900.0, 8300.0, 12250.0, 13900.0, 11500.0, 15900.0, 13900.0, 13900.0, 15900.0, 18900.0, 13800.0, 10999.0, 11000.0, 10500.0, 15500.0, 15900.0, 18900.0, 15500.0, 16200.0, 16999.0, 13999.0, 18800.0, 15900.0, 18900.0, 12900.0, 19900.0, 12900.0, 18900.0, 15900.0, 14900.0, 15900.0, 10900.0, 11500.0, 8500.0, 10900.0, 11900.0, 25990.0, 18900.0, 12200.0, 6500.0, 13300.0, 9900.0, 19900.0, 20900.0, 14900.0, 12900.0, 16900.0, 13800.0, 13800.0, 13900.0, 13999.0, 13900.0, 13800.0, 15500.0, 19900.0, 15900.0, 8700.0, 20800.0, 12900.0, 14999.0, 15999.0, 17000.0, 17500.0, 17900.0, 18500.0, 14900.0, 2900.0, 17900.0, 20900.0, 10400.0, 16900.0, 11500.0, 13900.0, 11900.0, 12900.0, 17900.0, 18500.0, 14500.0, 15000.0, 15500.0, 16900.0, 15900.0, 14500.0, 15500.0, 14800.0, 15900.0, 15000.0, 8500.0, 18900.0, 19800.0, 11900.0, 12900.0, 15900.0, 11200.0, 4799.0, 17500.0, 15700.0, 17800.0, 17899.0, 17900.0, 13900.0, 20900.0, 17500.0, 12900.0, 17900.0, 17500.0, 16900.0, 17600.0, 16600.0, 15700.0, 11499.0, 13999.0, 14499.0, 14500.0, 12900.0, 13500.0, 16999.0, 17900.0, 10400.0, 15200.0, 16900.0, 18900.0, 19500.0, 16900.0, 17900.0, 16300.0, 16900.0, 18600.0, 14500.0, 18900.0, 16900.0, 14500.0, 5500.0, 13499.0, 10500.0, 16900.0, 17900.0, 19900.0, 10500.0, 15999.0, 15900.0, 15900.0, 13800.0, 15900.0, 10900.0, 11900.0, 14900.0, 15400.0, 15900.0, 12500.0, 17500.0, 15500.0, 14900.0, 14400.0, 12600.0, 13400.0, 15500.0, 9900.0, 16900.0, 19300.0, 19900.0, 17800.0, 18600.0, 13300.0, 17900.0, 15600.0, 21999.0, 12900.0, 14900.0, 6900.0, 9999.0, 10000.0, 16800.0, 16900.0, 13250.0, 9990.0, 17900.0, 13000.0, 14500.0, 15500.0, 16900.0, 5284.5498046875, 5609.759765625, 11900.0, 12500.0, 13500.0, 13900.0, 14500.0, 14900.0, 11900.0, 16400.0, 17900.0, 16700.0, 17700.0, 13900.0, 14700.0, 16800.0, 17500.0, 17800.0, 11999.0, 12999.0, 14500.0, 12000.0, 11900.0, 25900.0, 28900.0, 14900.0, 14600.0, 14900.0, 15300.0, 15600.0, 13900.0, 14200.0, 14900.0, 15500.0, 17500.0, 15200.0, 15900.0, 11900.0, 12900.0, 21999.0, 17800.0, 7400.0, 7500.0, 7700.0, 7900.0, 8200.0, 8300.0, 8500.0, 8900.0, 14900.0, 15900.0, 12900.0, 13500.0, 14900.0, 13000.0, 15900.0, 16600.0, 11600.0, 13900.0, 16700.0, 17700.0, 15900.0, 17700.0, 18900.0, 17900.0, 8000.0, 8500.0, 9300.0, 9900.0, 12900.0, 15100.0, 17900.0, 12500.0, 11900.0, 11500.0, 16900.0, 13500.0, 22900.0, 10900.0, 15900.0, 21900.0, 17999.0, 12900.0, 14000.0], \"yaxis\": \"y\"}],\n",
       "                        {\"legend\": {\"tracegroupgap\": 0}, \"margin\": {\"t\": 60}, \"template\": {\"data\": {\"pie\": [{\"automargin\": true, \"type\": \"pie\"}], \"scatter\": [{\"line\": {\"width\": 3}, \"marker\": {\"size\": 9}, \"type\": \"scatter\"}], \"scatter3d\": [{\"line\": {\"width\": 3}, \"marker\": {\"size\": 9}, \"type\": \"scatter3d\"}], \"scattergeo\": [{\"line\": {\"width\": 3}, \"marker\": {\"size\": 9}, \"type\": \"scattergeo\"}], \"scattergl\": [{\"line\": {\"width\": 3}, \"marker\": {\"size\": 9}, \"type\": \"scattergl\"}], \"scatterpolar\": [{\"line\": {\"width\": 3}, \"marker\": {\"size\": 9}, \"type\": \"scatterpolar\"}], \"scatterpolargl\": [{\"line\": {\"width\": 3}, \"marker\": {\"size\": 9}, \"type\": \"scatterpolargl\"}], \"scatterternary\": [{\"line\": {\"width\": 3}, \"marker\": {\"size\": 9}, \"type\": \"scatterternary\"}], \"table\": [{\"cells\": {\"height\": 30}, \"header\": {\"height\": 36}, \"type\": \"table\"}]}, \"layout\": {\"font\": {\"size\": 18}, \"xaxis\": {\"title\": {\"standoff\": 15}}, \"yaxis\": {\"title\": {\"standoff\": 15}}}}, \"xaxis\": {\"anchor\": \"y\", \"domain\": [0.0, 1.0], \"title\": {\"text\": \"year\"}}, \"yaxis\": {\"anchor\": \"x\", \"domain\": [0.0, 1.0], \"title\": {\"text\": \"price_raw\"}}},\n",
       "                        {\"responsive\": true}\n",
       "                    ).then(function(){\n",
       "                            \n",
       "var gd = document.getElementById('335724c7-c882-4a15-b4cc-4fe98c02d721');\n",
       "var x = new MutationObserver(function (mutations, observer) {{\n",
       "        var display = window.getComputedStyle(gd).display;\n",
       "        if (!display || display === 'none') {{\n",
       "            console.log([gd, 'removed!']);\n",
       "            Plotly.purge(gd);\n",
       "            observer.disconnect();\n",
       "        }}\n",
       "}});\n",
       "\n",
       "// Listen for the removal of the full notebook cells\n",
       "var notebookContainer = gd.closest('#notebook-container');\n",
       "if (notebookContainer) {{\n",
       "    x.observe(notebookContainer, {childList: true});\n",
       "}}\n",
       "\n",
       "// Listen for the clearing of the current output cell\n",
       "var outputEl = gd.closest('.output');\n",
       "if (outputEl) {{\n",
       "    x.observe(outputEl, {childList: true});\n",
       "}}\n",
       "\n",
       "                        })\n",
       "                };\n",
       "                });\n",
       "            </script>\n",
       "        </div>"
      ]
     },
     "metadata": {},
     "output_type": "display_data"
    },
    {
     "name": "stdout",
     "output_type": "stream",
     "text": [
      "Wall time: 307 ms\n"
     ]
    }
   ],
   "source": [
    "import plotly\n",
    "import plotly.express as px\n",
    "\n",
    "\n",
    "def px_to_file():\n",
    "    # Use directly Columns as argument. You can use tab completion for this!\n",
    "    plt_sca_year = px.scatter(df, x=df.year, y=df.price_raw, template=\"presentation\")\n",
    "    plt_sca_year.show()\n",
    "\n",
    "    #plotly.offline.plot(fig, \"file.html\")\n",
    "    pio.write_html(plt_sca_year, file='./img/plt_sca_year.html', full_html=False, include_plotlyjs='cdn', auto_open=False)\n",
    "    \n",
    "%time px_to_file() "
   ]
  },
  {
   "cell_type": "code",
   "execution_count": 446,
   "metadata": {},
   "outputs": [
    {
     "data": {
      "application/vnd.plotly.v1+json": {
       "config": {
        "plotlyServerURL": "https://plot.ly"
       },
       "data": [
        {
         "alignmentgroup": "True",
         "bingroup": "x",
         "hovertemplate": "price=%{x}<br>count=%{y}<extra></extra>",
         "legendgroup": "",
         "marker": {
          "color": "#1F77B4"
         },
         "name": "",
         "offsetgroup": "",
         "orientation": "v",
         "showlegend": false,
         "type": "histogram",
         "x": [
          6200,
          4700,
          19800,
          14900,
          9500,
          13900,
          13900,
          15900,
          16900,
          6900,
          16900,
          16500,
          14900,
          14900,
          14900,
          17900,
          14900,
          15900,
          11900,
          18999,
          16900,
          18800,
          9900,
          9900,
          22500,
          14900,
          15900,
          12900,
          12900,
          15900,
          13500,
          14200,
          19900,
          14900,
          12900,
          13500,
          13500,
          13900,
          14800,
          10999,
          7900,
          17900,
          18900,
          13700,
          15500,
          9999,
          9500,
          18800,
          11900,
          19900,
          21900,
          21900,
          13900,
          17900,
          16900,
          18900,
          16900,
          9900,
          15900,
          12700,
          12700,
          10500,
          21900,
          19900,
          16800,
          10999,
          10999,
          11900,
          8200,
          18888,
          9900,
          16400,
          17999,
          17400,
          15900,
          4100,
          13600,
          17300,
          15800,
          15999,
          19900,
          16900,
          22000,
          21000,
          16900,
          16900,
          17400,
          18300,
          13800,
          20999,
          15500,
          21999,
          9200,
          5400,
          12900,
          14990,
          16900,
          16900,
          16500,
          14500,
          14500,
          15999,
          11700,
          10500,
          10999,
          12999,
          8000,
          12880,
          16900,
          8900,
          8900,
          12900,
          11900,
          22000,
          14900,
          14900,
          18500,
          17900,
          10500,
          15900,
          16900,
          16999,
          18900,
          12000,
          13200,
          13200,
          13200,
          13900,
          13900,
          13900,
          11500,
          14990,
          15900,
          19900,
          18900,
          21900,
          13600,
          13600,
          14900,
          15900,
          15900,
          11900,
          17001,
          17001,
          16900,
          11700,
          14900,
          14900,
          14900,
          14900,
          18900,
          18900,
          18900,
          16999,
          17500,
          9900,
          16000,
          18900,
          20900,
          8300,
          12250,
          13900,
          11500,
          15900,
          13900,
          13900,
          15900,
          18900,
          13800,
          10999,
          11000,
          10500,
          15500,
          15500,
          18900,
          15500,
          16200,
          16200,
          13999,
          18800,
          15900,
          18900,
          18900,
          19900,
          12900,
          18900,
          15900,
          14900,
          14900,
          10900,
          11500,
          8500,
          10900,
          11900,
          25990,
          18900,
          12200,
          6500,
          13300,
          9900,
          20900,
          20900,
          14900,
          12900,
          16900,
          13800,
          13800,
          13900,
          13999,
          13900,
          13800,
          15500,
          19900,
          15900,
          8700,
          20800,
          12900,
          14999,
          14999,
          17900,
          17900,
          17900,
          17900,
          14900,
          2900,
          17900,
          20900,
          10400,
          16900,
          13900,
          13900,
          13900,
          13900,
          17900,
          18500,
          14500,
          14500,
          14500,
          16900,
          15900,
          14500,
          15500,
          14800,
          15900,
          15000,
          8500,
          18900,
          19800,
          11900,
          11900,
          15900,
          11200,
          4799,
          17500,
          15700,
          17800,
          17800,
          17800,
          13900,
          20900,
          17500,
          12900,
          17900,
          17500,
          16900,
          16900,
          16600,
          15700,
          11499,
          11499,
          11499,
          14500,
          12900,
          12900,
          16999,
          17900,
          10400,
          15200,
          16900,
          18900,
          18900,
          16900,
          17900,
          16300,
          16900,
          18600,
          14500,
          18900,
          16900,
          14500,
          5500,
          13499,
          10500,
          16900,
          17900,
          19900,
          10500,
          15999,
          15900,
          15900,
          13800,
          15900,
          10900,
          10900,
          14900,
          14900,
          14900,
          12500,
          17500,
          15500,
          14900,
          14400,
          12600,
          12600,
          15500,
          9900,
          16900,
          19300,
          19300,
          17800,
          17800,
          13300,
          17900,
          15600,
          21999,
          12900,
          14900,
          6900,
          9999,
          9999,
          16800,
          16900,
          13250,
          9990,
          17900,
          13000,
          13000,
          13000,
          16900,
          6500,
          6500,
          11900,
          11900,
          13500,
          13500,
          13500,
          13500,
          11900,
          16400,
          16400,
          16700,
          16700,
          13900,
          13900,
          17500,
          17500,
          17500,
          11999,
          11999,
          14500,
          28900,
          28900,
          28900,
          28900,
          14900,
          14600,
          14600,
          14600,
          14600,
          15200,
          15200,
          15200,
          15200,
          15200,
          15200,
          15200,
          11900,
          12900,
          21999,
          17800,
          7400,
          7400,
          7400,
          7400,
          7400,
          7400,
          7400,
          7400,
          14900,
          14900,
          12900,
          13500,
          13500,
          13000,
          15900,
          15900,
          11600,
          13900,
          16700,
          16700,
          15900,
          17700,
          18900,
          18900,
          8000,
          8500,
          8500,
          8500,
          12900,
          15100,
          17900,
          12500,
          11900,
          11500,
          16900,
          13500,
          22900,
          10900,
          15900,
          21900,
          17999,
          12900,
          12900
         ],
         "xaxis": "x",
         "yaxis": "y"
        }
       ],
       "layout": {
        "barmode": "relative",
        "legend": {
         "tracegroupgap": 0
        },
        "margin": {
         "t": 60
        },
        "template": {
         "data": {
          "pie": [
           {
            "automargin": true,
            "type": "pie"
           }
          ],
          "scatter": [
           {
            "line": {
             "width": 3
            },
            "marker": {
             "size": 9
            },
            "type": "scatter"
           }
          ],
          "scatter3d": [
           {
            "line": {
             "width": 3
            },
            "marker": {
             "size": 9
            },
            "type": "scatter3d"
           }
          ],
          "scattergeo": [
           {
            "line": {
             "width": 3
            },
            "marker": {
             "size": 9
            },
            "type": "scattergeo"
           }
          ],
          "scattergl": [
           {
            "line": {
             "width": 3
            },
            "marker": {
             "size": 9
            },
            "type": "scattergl"
           }
          ],
          "scatterpolar": [
           {
            "line": {
             "width": 3
            },
            "marker": {
             "size": 9
            },
            "type": "scatterpolar"
           }
          ],
          "scatterpolargl": [
           {
            "line": {
             "width": 3
            },
            "marker": {
             "size": 9
            },
            "type": "scatterpolargl"
           }
          ],
          "scatterternary": [
           {
            "line": {
             "width": 3
            },
            "marker": {
             "size": 9
            },
            "type": "scatterternary"
           }
          ],
          "table": [
           {
            "cells": {
             "height": 30
            },
            "header": {
             "height": 36
            },
            "type": "table"
           }
          ]
         },
         "layout": {
          "font": {
           "size": 18
          },
          "xaxis": {
           "title": {
            "standoff": 15
           }
          },
          "yaxis": {
           "title": {
            "standoff": 15
           }
          }
         }
        },
        "xaxis": {
         "anchor": "y",
         "domain": [
          0,
          1
         ],
         "title": {
          "text": "price"
         }
        },
        "yaxis": {
         "anchor": "x",
         "domain": [
          0,
          1
         ],
         "title": {
          "text": "count"
         }
        }
       }
      },
      "text/html": [
       "<div>\n",
       "        \n",
       "        \n",
       "            <div id=\"44fa66c0-3c6d-489e-8f51-422d70b730ac\" class=\"plotly-graph-div\" style=\"height:525px; width:100%;\"></div>\n",
       "            <script type=\"text/javascript\">\n",
       "                require([\"plotly\"], function(Plotly) {\n",
       "                    window.PLOTLYENV=window.PLOTLYENV || {};\n",
       "                    \n",
       "                if (document.getElementById(\"44fa66c0-3c6d-489e-8f51-422d70b730ac\")) {\n",
       "                    Plotly.newPlot(\n",
       "                        '44fa66c0-3c6d-489e-8f51-422d70b730ac',\n",
       "                        [{\"alignmentgroup\": \"True\", \"bingroup\": \"x\", \"hovertemplate\": \"price=%{x}<br>count=%{y}<extra></extra>\", \"legendgroup\": \"\", \"marker\": {\"color\": \"#1F77B4\"}, \"name\": \"\", \"offsetgroup\": \"\", \"orientation\": \"v\", \"showlegend\": false, \"type\": \"histogram\", \"x\": [6200.0, 4700.0, 19800.0, 14900.0, 9500.0, 13900.0, 13900.0, 15900.0, 16900.0, 6900.0, 16900.0, 16500.0, 14900.0, 14900.0, 14900.0, 17900.0, 14900.0, 15900.0, 11900.0, 18999.0, 16900.0, 18800.0, 9900.0, 9900.0, 22500.0, 14900.0, 15900.0, 12900.0, 12900.0, 15900.0, 13500.0, 14200.0, 19900.0, 14900.0, 12900.0, 13500.0, 13500.0, 13900.0, 14800.0, 10999.0, 7900.0, 17900.0, 18900.0, 13700.0, 15500.0, 9999.0, 9500.0, 18800.0, 11900.0, 19900.0, 21900.0, 21900.0, 13900.0, 17900.0, 16900.0, 18900.0, 16900.0, 9900.0, 15900.0, 12700.0, 12700.0, 10500.0, 21900.0, 19900.0, 16800.0, 10999.0, 10999.0, 11900.0, 8200.0, 18888.0, 9900.0, 16400.0, 17999.0, 17400.0, 15900.0, 4100.0, 13600.0, 17300.0, 15800.0, 15999.0, 19900.0, 16900.0, 22000.0, 21000.0, 16900.0, 16900.0, 17400.0, 18300.0, 13800.0, 20999.0, 15500.0, 21999.0, 9200.0, 5400.0, 12900.0, 14990.0, 16900.0, 16900.0, 16500.0, 14500.0, 14500.0, 15999.0, 11700.0, 10500.0, 10999.0, 12999.0, 8000.0, 12880.0, 16900.0, 8900.0, 8900.0, 12900.0, 11900.0, 22000.0, 14900.0, 14900.0, 18500.0, 17900.0, 10500.0, 15900.0, 16900.0, 16999.0, 18900.0, 12000.0, 13200.0, 13200.0, 13200.0, 13900.0, 13900.0, 13900.0, 11500.0, 14990.0, 15900.0, 19900.0, 18900.0, 21900.0, 13600.0, 13600.0, 14900.0, 15900.0, 15900.0, 11900.0, 17001.0, 17001.0, 16900.0, 11700.0, 14900.0, 14900.0, 14900.0, 14900.0, 18900.0, 18900.0, 18900.0, 16999.0, 17500.0, 9900.0, 16000.0, 18900.0, 20900.0, 8300.0, 12250.0, 13900.0, 11500.0, 15900.0, 13900.0, 13900.0, 15900.0, 18900.0, 13800.0, 10999.0, 11000.0, 10500.0, 15500.0, 15500.0, 18900.0, 15500.0, 16200.0, 16200.0, 13999.0, 18800.0, 15900.0, 18900.0, 18900.0, 19900.0, 12900.0, 18900.0, 15900.0, 14900.0, 14900.0, 10900.0, 11500.0, 8500.0, 10900.0, 11900.0, 25990.0, 18900.0, 12200.0, 6500.0, 13300.0, 9900.0, 20900.0, 20900.0, 14900.0, 12900.0, 16900.0, 13800.0, 13800.0, 13900.0, 13999.0, 13900.0, 13800.0, 15500.0, 19900.0, 15900.0, 8700.0, 20800.0, 12900.0, 14999.0, 14999.0, 17900.0, 17900.0, 17900.0, 17900.0, 14900.0, 2900.0, 17900.0, 20900.0, 10400.0, 16900.0, 13900.0, 13900.0, 13900.0, 13900.0, 17900.0, 18500.0, 14500.0, 14500.0, 14500.0, 16900.0, 15900.0, 14500.0, 15500.0, 14800.0, 15900.0, 15000.0, 8500.0, 18900.0, 19800.0, 11900.0, 11900.0, 15900.0, 11200.0, 4799.0, 17500.0, 15700.0, 17800.0, 17800.0, 17800.0, 13900.0, 20900.0, 17500.0, 12900.0, 17900.0, 17500.0, 16900.0, 16900.0, 16600.0, 15700.0, 11499.0, 11499.0, 11499.0, 14500.0, 12900.0, 12900.0, 16999.0, 17900.0, 10400.0, 15200.0, 16900.0, 18900.0, 18900.0, 16900.0, 17900.0, 16300.0, 16900.0, 18600.0, 14500.0, 18900.0, 16900.0, 14500.0, 5500.0, 13499.0, 10500.0, 16900.0, 17900.0, 19900.0, 10500.0, 15999.0, 15900.0, 15900.0, 13800.0, 15900.0, 10900.0, 10900.0, 14900.0, 14900.0, 14900.0, 12500.0, 17500.0, 15500.0, 14900.0, 14400.0, 12600.0, 12600.0, 15500.0, 9900.0, 16900.0, 19300.0, 19300.0, 17800.0, 17800.0, 13300.0, 17900.0, 15600.0, 21999.0, 12900.0, 14900.0, 6900.0, 9999.0, 9999.0, 16800.0, 16900.0, 13250.0, 9990.0, 17900.0, 13000.0, 13000.0, 13000.0, 16900.0, 6500.0, 6500.0, 11900.0, 11900.0, 13500.0, 13500.0, 13500.0, 13500.0, 11900.0, 16400.0, 16400.0, 16700.0, 16700.0, 13900.0, 13900.0, 17500.0, 17500.0, 17500.0, 11999.0, 11999.0, 14500.0, 28900.0, 28900.0, 28900.0, 28900.0, 14900.0, 14600.0, 14600.0, 14600.0, 14600.0, 15200.0, 15200.0, 15200.0, 15200.0, 15200.0, 15200.0, 15200.0, 11900.0, 12900.0, 21999.0, 17800.0, 7400.0, 7400.0, 7400.0, 7400.0, 7400.0, 7400.0, 7400.0, 7400.0, 14900.0, 14900.0, 12900.0, 13500.0, 13500.0, 13000.0, 15900.0, 15900.0, 11600.0, 13900.0, 16700.0, 16700.0, 15900.0, 17700.0, 18900.0, 18900.0, 8000.0, 8500.0, 8500.0, 8500.0, 12900.0, 15100.0, 17900.0, 12500.0, 11900.0, 11500.0, 16900.0, 13500.0, 22900.0, 10900.0, 15900.0, 21900.0, 17999.0, 12900.0, 12900.0], \"xaxis\": \"x\", \"yaxis\": \"y\"}],\n",
       "                        {\"barmode\": \"relative\", \"legend\": {\"tracegroupgap\": 0}, \"margin\": {\"t\": 60}, \"template\": {\"data\": {\"pie\": [{\"automargin\": true, \"type\": \"pie\"}], \"scatter\": [{\"line\": {\"width\": 3}, \"marker\": {\"size\": 9}, \"type\": \"scatter\"}], \"scatter3d\": [{\"line\": {\"width\": 3}, \"marker\": {\"size\": 9}, \"type\": \"scatter3d\"}], \"scattergeo\": [{\"line\": {\"width\": 3}, \"marker\": {\"size\": 9}, \"type\": \"scattergeo\"}], \"scattergl\": [{\"line\": {\"width\": 3}, \"marker\": {\"size\": 9}, \"type\": \"scattergl\"}], \"scatterpolar\": [{\"line\": {\"width\": 3}, \"marker\": {\"size\": 9}, \"type\": \"scatterpolar\"}], \"scatterpolargl\": [{\"line\": {\"width\": 3}, \"marker\": {\"size\": 9}, \"type\": \"scatterpolargl\"}], \"scatterternary\": [{\"line\": {\"width\": 3}, \"marker\": {\"size\": 9}, \"type\": \"scatterternary\"}], \"table\": [{\"cells\": {\"height\": 30}, \"header\": {\"height\": 36}, \"type\": \"table\"}]}, \"layout\": {\"font\": {\"size\": 18}, \"xaxis\": {\"title\": {\"standoff\": 15}}, \"yaxis\": {\"title\": {\"standoff\": 15}}}}, \"xaxis\": {\"anchor\": \"y\", \"domain\": [0.0, 1.0], \"title\": {\"text\": \"price\"}}, \"yaxis\": {\"anchor\": \"x\", \"domain\": [0.0, 1.0], \"title\": {\"text\": \"count\"}}},\n",
       "                        {\"responsive\": true}\n",
       "                    ).then(function(){\n",
       "                            \n",
       "var gd = document.getElementById('44fa66c0-3c6d-489e-8f51-422d70b730ac');\n",
       "var x = new MutationObserver(function (mutations, observer) {{\n",
       "        var display = window.getComputedStyle(gd).display;\n",
       "        if (!display || display === 'none') {{\n",
       "            console.log([gd, 'removed!']);\n",
       "            Plotly.purge(gd);\n",
       "            observer.disconnect();\n",
       "        }}\n",
       "}});\n",
       "\n",
       "// Listen for the removal of the full notebook cells\n",
       "var notebookContainer = gd.closest('#notebook-container');\n",
       "if (notebookContainer) {{\n",
       "    x.observe(notebookContainer, {childList: true});\n",
       "}}\n",
       "\n",
       "// Listen for the clearing of the current output cell\n",
       "var outputEl = gd.closest('.output');\n",
       "if (outputEl) {{\n",
       "    x.observe(outputEl, {childList: true});\n",
       "}}\n",
       "\n",
       "                        })\n",
       "                };\n",
       "                });\n",
       "            </script>\n",
       "        </div>"
      ]
     },
     "metadata": {},
     "output_type": "display_data"
    }
   ],
   "source": [
    "plt_price = px.histogram(df, x=df.price, template=\"presentation\")\n",
    "plt_price.show()\n",
    "\n",
    "pio.write_html(plt_price, file='./img/plt_price.html', full_html=False, include_plotlyjs='cdn', auto_open=False)"
   ]
  },
  {
   "cell_type": "code",
   "execution_count": 447,
   "metadata": {},
   "outputs": [
    {
     "data": {
      "application/vnd.plotly.v1+json": {
       "config": {
        "plotlyServerURL": "https://plot.ly"
       },
       "data": [
        {
         "alignmentgroup": "True",
         "bingroup": "x",
         "hovertemplate": "mileage=%{x}<br>count=%{y}<extra></extra>",
         "legendgroup": "",
         "marker": {
          "color": "#1F77B4"
         },
         "name": "",
         "offsetgroup": "",
         "orientation": "v",
         "showlegend": false,
         "type": "histogram",
         "x": [
          111000,
          45706,
          174000,
          187000,
          180000,
          153000,
          153000,
          182000,
          162000,
          134000,
          141117,
          155000,
          178560,
          178560,
          178560,
          106000,
          140112,
          171000,
          132000,
          159500,
          160000,
          165000,
          222527,
          174000,
          149000,
          172000,
          157922,
          77000,
          77000,
          162000,
          129547,
          180000,
          155000,
          123214,
          104000,
          187000,
          187000,
          189500,
          154000,
          259000,
          219124,
          139000,
          195000,
          178222,
          156669,
          230000,
          251000,
          166567,
          250000,
          104000,
          157000,
          172000,
          162500,
          159000,
          71000,
          163000,
          161300,
          195000,
          151000,
          197000,
          197000,
          220000,
          112000,
          101100,
          157000,
          270981,
          270981,
          159000,
          410000,
          90000,
          176000,
          200000,
          146250,
          145400,
          183000,
          372000,
          142137,
          98000,
          158000,
          213285,
          175000,
          269687,
          165441,
          143308,
          76000,
          126000,
          173453,
          184960,
          168000,
          99000,
          190000,
          149000,
          108000,
          410000,
          199000,
          199000,
          153500,
          154500,
          130500,
          112000,
          112000,
          200000,
          211000,
          162641,
          195000,
          132000,
          280900,
          189000,
          124100,
          119000,
          119000,
          149000,
          178254,
          147218,
          100000,
          100000,
          170000,
          110000,
          200000,
          145000,
          72000,
          188000,
          133000,
          122000,
          131500,
          131500,
          131500,
          171239,
          171239,
          171239,
          163700,
          128915,
          154000,
          120000,
          100000,
          145594,
          144000,
          145000,
          143000,
          138000,
          138000,
          180000,
          168690,
          168690,
          75000,
          65000,
          178206,
          178206,
          178206,
          178206,
          86500,
          86500,
          86500,
          154288,
          85000,
          177100,
          114000,
          164000,
          136000,
          249900,
          149987,
          178000,
          204000,
          163000,
          127300,
          112000,
          185000,
          82000,
          170000,
          213654,
          235900,
          208000,
          190000,
          190000,
          132000,
          190000,
          136367,
          136367,
          112000,
          129000,
          170000,
          83000,
          153000,
          105000,
          119000,
          96000,
          170000,
          130221,
          130221,
          169000,
          186000,
          340000,
          169000,
          179847,
          89000,
          94000,
          220400,
          320000,
          163000,
          203000,
          117000,
          117000,
          124500,
          138000,
          130000,
          176000,
          109000,
          176000,
          226000,
          150000,
          125000,
          170000,
          138000,
          130000,
          206261,
          74000,
          189000,
          164440,
          164440,
          109000,
          109000,
          109000,
          109000,
          112000,
          165000,
          110000,
          67522,
          232900,
          105700,
          72000,
          72000,
          72000,
          72000,
          186239,
          167000,
          210000,
          210000,
          210000,
          117000,
          168000,
          169540,
          147893,
          170000,
          196500,
          239000,
          194000,
          193413,
          124000,
          212000,
          212000,
          129000,
          133000,
          104734,
          117000,
          128000,
          190464,
          190464,
          190464,
          147245,
          47000,
          90500,
          177000,
          143000,
          219585,
          247000,
          247000,
          103000,
          156680,
          202910,
          202910,
          202910,
          95000,
          141203,
          141203,
          93000,
          154000,
          116000,
          9100,
          169000,
          133000,
          133000,
          104966,
          172000,
          260000,
          219000,
          94000,
          62000,
          119000,
          124000,
          181000,
          242605,
          222000,
          213000,
          150000,
          152145,
          105037,
          165000,
          155000,
          151000,
          165000,
          207000,
          152282,
          175000,
          175000,
          130000,
          130000,
          130000,
          160350,
          19200,
          171000,
          81000,
          152000,
          215000,
          215000,
          128000,
          277800,
          117000,
          157142,
          157142,
          82450,
          82450,
          170000,
          175000,
          112365,
          152000,
          165000,
          90200,
          128000,
          152000,
          152000,
          163135,
          189000,
          223000,
          185000,
          101420,
          163000,
          163000,
          163000,
          86000,
          390000,
          390000,
          212010,
          212010,
          164000,
          164000,
          164000,
          164000,
          141000,
          70000,
          70000,
          76000,
          76000,
          147000,
          147000,
          175000,
          175000,
          175000,
          116000,
          116000,
          196245,
          115000,
          115000,
          115000,
          68000,
          135200,
          205000,
          205000,
          205000,
          205000,
          150000,
          150000,
          150000,
          150000,
          150000,
          150000,
          150000,
          120566,
          163000,
          144263,
          102000,
          200000,
          200000,
          200000,
          200000,
          200000,
          200000,
          200000,
          200000,
          170000,
          170000,
          166000,
          193000,
          193000,
          73000,
          139957,
          139957,
          47000,
          150000,
          76000,
          76000,
          196500,
          197777,
          101200,
          101200,
          200000,
          252500,
          252500,
          252500,
          210000,
          131000,
          83000,
          119000,
          212010,
          187412,
          189000,
          175000,
          64000,
          169000,
          133246,
          128800,
          29300,
          100400,
          100400
         ],
         "xaxis": "x",
         "yaxis": "y"
        }
       ],
       "layout": {
        "barmode": "relative",
        "legend": {
         "tracegroupgap": 0
        },
        "margin": {
         "t": 60
        },
        "template": {
         "data": {
          "pie": [
           {
            "automargin": true,
            "type": "pie"
           }
          ],
          "scatter": [
           {
            "line": {
             "width": 3
            },
            "marker": {
             "size": 9
            },
            "type": "scatter"
           }
          ],
          "scatter3d": [
           {
            "line": {
             "width": 3
            },
            "marker": {
             "size": 9
            },
            "type": "scatter3d"
           }
          ],
          "scattergeo": [
           {
            "line": {
             "width": 3
            },
            "marker": {
             "size": 9
            },
            "type": "scattergeo"
           }
          ],
          "scattergl": [
           {
            "line": {
             "width": 3
            },
            "marker": {
             "size": 9
            },
            "type": "scattergl"
           }
          ],
          "scatterpolar": [
           {
            "line": {
             "width": 3
            },
            "marker": {
             "size": 9
            },
            "type": "scatterpolar"
           }
          ],
          "scatterpolargl": [
           {
            "line": {
             "width": 3
            },
            "marker": {
             "size": 9
            },
            "type": "scatterpolargl"
           }
          ],
          "scatterternary": [
           {
            "line": {
             "width": 3
            },
            "marker": {
             "size": 9
            },
            "type": "scatterternary"
           }
          ],
          "table": [
           {
            "cells": {
             "height": 30
            },
            "header": {
             "height": 36
            },
            "type": "table"
           }
          ]
         },
         "layout": {
          "font": {
           "size": 18
          },
          "xaxis": {
           "title": {
            "standoff": 15
           }
          },
          "yaxis": {
           "title": {
            "standoff": 15
           }
          }
         }
        },
        "xaxis": {
         "anchor": "y",
         "domain": [
          0,
          1
         ],
         "title": {
          "text": "mileage"
         }
        },
        "yaxis": {
         "anchor": "x",
         "domain": [
          0,
          1
         ],
         "title": {
          "text": "count"
         }
        }
       }
      },
      "text/html": [
       "<div>\n",
       "        \n",
       "        \n",
       "            <div id=\"500c8a91-a8be-4499-b953-80cc71232746\" class=\"plotly-graph-div\" style=\"height:525px; width:100%;\"></div>\n",
       "            <script type=\"text/javascript\">\n",
       "                require([\"plotly\"], function(Plotly) {\n",
       "                    window.PLOTLYENV=window.PLOTLYENV || {};\n",
       "                    \n",
       "                if (document.getElementById(\"500c8a91-a8be-4499-b953-80cc71232746\")) {\n",
       "                    Plotly.newPlot(\n",
       "                        '500c8a91-a8be-4499-b953-80cc71232746',\n",
       "                        [{\"alignmentgroup\": \"True\", \"bingroup\": \"x\", \"hovertemplate\": \"mileage=%{x}<br>count=%{y}<extra></extra>\", \"legendgroup\": \"\", \"marker\": {\"color\": \"#1F77B4\"}, \"name\": \"\", \"offsetgroup\": \"\", \"orientation\": \"v\", \"showlegend\": false, \"type\": \"histogram\", \"x\": [111000, 45706, 174000, 187000, 180000, 153000, 153000, 182000, 162000, 134000, 141117, 155000, 178560, 178560, 178560, 106000, 140112, 171000, 132000, 159500, 160000, 165000, 222527, 174000, 149000, 172000, 157922, 77000, 77000, 162000, 129547, 180000, 155000, 123214, 104000, 187000, 187000, 189500, 154000, 259000, 219124, 139000, 195000, 178222, 156669, 230000, 251000, 166567, 250000, 104000, 157000, 172000, 162500, 159000, 71000, 163000, 161300, 195000, 151000, 197000, 197000, 220000, 112000, 101100, 157000, 270981, 270981, 159000, 410000, 90000, 176000, 200000, 146250, 145400, 183000, 372000, 142137, 98000, 158000, 213285, 175000, 269687, 165441, 143308, 76000, 126000, 173453, 184960, 168000, 99000, 190000, 149000, 108000, 410000, 199000, 199000, 153500, 154500, 130500, 112000, 112000, 200000, 211000, 162641, 195000, 132000, 280900, 189000, 124100, 119000, 119000, 149000, 178254, 147218, 100000, 100000, 170000, 110000, 200000, 145000, 72000, 188000, 133000, 122000, 131500, 131500, 131500, 171239, 171239, 171239, 163700, 128915, 154000, 120000, 100000, 145594, 144000, 145000, 143000, 138000, 138000, 180000, 168690, 168690, 75000, 65000, 178206, 178206, 178206, 178206, 86500, 86500, 86500, 154288, 85000, 177100, 114000, 164000, 136000, 249900, 149987, 178000, 204000, 163000, 127300, 112000, 185000, 82000, 170000, 213654, 235900, 208000, 190000, 190000, 132000, 190000, 136367, 136367, 112000, 129000, 170000, 83000, 153000, 105000, 119000, 96000, 170000, 130221, 130221, 169000, 186000, 340000, 169000, 179847, 89000, 94000, 220400, 320000, 163000, 203000, 117000, 117000, 124500, 138000, 130000, 176000, 109000, 176000, 226000, 150000, 125000, 170000, 138000, 130000, 206261, 74000, 189000, 164440, 164440, 109000, 109000, 109000, 109000, 112000, 165000, 110000, 67522, 232900, 105700, 72000, 72000, 72000, 72000, 186239, 167000, 210000, 210000, 210000, 117000, 168000, 169540, 147893, 170000, 196500, 239000, 194000, 193413, 124000, 212000, 212000, 129000, 133000, 104734, 117000, 128000, 190464, 190464, 190464, 147245, 47000, 90500, 177000, 143000, 219585, 247000, 247000, 103000, 156680, 202910, 202910, 202910, 95000, 141203, 141203, 93000, 154000, 116000, 9100, 169000, 133000, 133000, 104966, 172000, 260000, 219000, 94000, 62000, 119000, 124000, 181000, 242605, 222000, 213000, 150000, 152145, 105037, 165000, 155000, 151000, 165000, 207000, 152282, 175000, 175000, 130000, 130000, 130000, 160350, 19200, 171000, 81000, 152000, 215000, 215000, 128000, 277800, 117000, 157142, 157142, 82450, 82450, 170000, 175000, 112365, 152000, 165000, 90200, 128000, 152000, 152000, 163135, 189000, 223000, 185000, 101420, 163000, 163000, 163000, 86000, 390000, 390000, 212010, 212010, 164000, 164000, 164000, 164000, 141000, 70000, 70000, 76000, 76000, 147000, 147000, 175000, 175000, 175000, 116000, 116000, 196245, 115000, 115000, 115000, 68000, 135200, 205000, 205000, 205000, 205000, 150000, 150000, 150000, 150000, 150000, 150000, 150000, 120566, 163000, 144263, 102000, 200000, 200000, 200000, 200000, 200000, 200000, 200000, 200000, 170000, 170000, 166000, 193000, 193000, 73000, 139957, 139957, 47000, 150000, 76000, 76000, 196500, 197777, 101200, 101200, 200000, 252500, 252500, 252500, 210000, 131000, 83000, 119000, 212010, 187412, 189000, 175000, 64000, 169000, 133246, 128800, 29300, 100400, 100400], \"xaxis\": \"x\", \"yaxis\": \"y\"}],\n",
       "                        {\"barmode\": \"relative\", \"legend\": {\"tracegroupgap\": 0}, \"margin\": {\"t\": 60}, \"template\": {\"data\": {\"pie\": [{\"automargin\": true, \"type\": \"pie\"}], \"scatter\": [{\"line\": {\"width\": 3}, \"marker\": {\"size\": 9}, \"type\": \"scatter\"}], \"scatter3d\": [{\"line\": {\"width\": 3}, \"marker\": {\"size\": 9}, \"type\": \"scatter3d\"}], \"scattergeo\": [{\"line\": {\"width\": 3}, \"marker\": {\"size\": 9}, \"type\": \"scattergeo\"}], \"scattergl\": [{\"line\": {\"width\": 3}, \"marker\": {\"size\": 9}, \"type\": \"scattergl\"}], \"scatterpolar\": [{\"line\": {\"width\": 3}, \"marker\": {\"size\": 9}, \"type\": \"scatterpolar\"}], \"scatterpolargl\": [{\"line\": {\"width\": 3}, \"marker\": {\"size\": 9}, \"type\": \"scatterpolargl\"}], \"scatterternary\": [{\"line\": {\"width\": 3}, \"marker\": {\"size\": 9}, \"type\": \"scatterternary\"}], \"table\": [{\"cells\": {\"height\": 30}, \"header\": {\"height\": 36}, \"type\": \"table\"}]}, \"layout\": {\"font\": {\"size\": 18}, \"xaxis\": {\"title\": {\"standoff\": 15}}, \"yaxis\": {\"title\": {\"standoff\": 15}}}}, \"xaxis\": {\"anchor\": \"y\", \"domain\": [0.0, 1.0], \"title\": {\"text\": \"mileage\"}}, \"yaxis\": {\"anchor\": \"x\", \"domain\": [0.0, 1.0], \"title\": {\"text\": \"count\"}}},\n",
       "                        {\"responsive\": true}\n",
       "                    ).then(function(){\n",
       "                            \n",
       "var gd = document.getElementById('500c8a91-a8be-4499-b953-80cc71232746');\n",
       "var x = new MutationObserver(function (mutations, observer) {{\n",
       "        var display = window.getComputedStyle(gd).display;\n",
       "        if (!display || display === 'none') {{\n",
       "            console.log([gd, 'removed!']);\n",
       "            Plotly.purge(gd);\n",
       "            observer.disconnect();\n",
       "        }}\n",
       "}});\n",
       "\n",
       "// Listen for the removal of the full notebook cells\n",
       "var notebookContainer = gd.closest('#notebook-container');\n",
       "if (notebookContainer) {{\n",
       "    x.observe(notebookContainer, {childList: true});\n",
       "}}\n",
       "\n",
       "// Listen for the clearing of the current output cell\n",
       "var outputEl = gd.closest('.output');\n",
       "if (outputEl) {{\n",
       "    x.observe(outputEl, {childList: true});\n",
       "}}\n",
       "\n",
       "                        })\n",
       "                };\n",
       "                });\n",
       "            </script>\n",
       "        </div>"
      ]
     },
     "metadata": {},
     "output_type": "display_data"
    }
   ],
   "source": [
    "plt_mileage = px.histogram(df, x=df.mileage, template=\"presentation\")\n",
    "plt_mileage.show()\n",
    "\n",
    "pio.write_html(plt_mileage, file='./img/plt_mileage.html', full_html=False, include_plotlyjs='cdn', auto_open=False)"
   ]
  },
  {
   "cell_type": "markdown",
   "metadata": {},
   "source": [
    "### Cena"
   ]
  },
  {
   "cell_type": "code",
   "execution_count": 449,
   "metadata": {},
   "outputs": [
    {
     "data": {
      "image/png": "[encoded data removed]",
      "text/plain": [
       "<Figure size 1296x504 with 1 Axes>"
      ]
     },
     "metadata": {},
     "output_type": "display_data"
    }
   ],
   "source": [
    "sns.set_style(\"darkgrid\")\n",
    "plt.figure(figsize=(18,7))\n",
    "chart = sns.distplot(df['price'], bins=20, kde=False, rug=True)\n",
    "chart.set(xlabel='Cena', ylabel='liczba ogłoszeń');"
   ]
  },
  {
   "cell_type": "code",
   "execution_count": 450,
   "metadata": {},
   "outputs": [
    {
     "data": {
      "image/png": "[encoded data removed]",
      "text/plain": [
       "<Figure size 1440x504 with 1 Axes>"
      ]
     },
     "metadata": {},
     "output_type": "display_data"
    }
   ],
   "source": [
    "plt.figure(figsize=(20, 7))\n",
    "plt.title('price vs year')  \n",
    "plt.xlabel('year')  \n",
    "plt.ylabel('price') \n",
    "sns.stripplot(x=\"year\", y=\"price_raw\", data=df);"
   ]
  },
  {
   "cell_type": "code",
   "execution_count": 451,
   "metadata": {},
   "outputs": [
    {
     "data": {
      "image/png": "[encoded data removed]",
      "text/plain": [
       "<Figure size 1080x504 with 1 Axes>"
      ]
     },
     "metadata": {},
     "output_type": "display_data"
    }
   ],
   "source": [
    "df.plot(x='year', y='price_raw', style='o', figsize=(15,7)) \n",
    "plt.title('price vs year')  \n",
    "plt.xlabel('year')  \n",
    "plt.ylabel('price')  \n",
    "plt.show()"
   ]
  },
  {
   "cell_type": "markdown",
   "metadata": {},
   "source": [
    "### przebieg"
   ]
  },
  {
   "cell_type": "code",
   "execution_count": 452,
   "metadata": {},
   "outputs": [
    {
     "data": {
      "image/png": "[encoded data removed]",
      "text/plain": [
       "<Figure size 1296x504 with 1 Axes>"
      ]
     },
     "metadata": {},
     "output_type": "display_data"
    }
   ],
   "source": [
    "sns.set_style(\"darkgrid\")\n",
    "plt.figure(figsize=(18,7))\n",
    "chart = sns.distplot(df['mileage'], bins=40, kde=False, rug=True)\n",
    "chart.set(xlabel='Przebieg', ylabel='liczba ogłoszeń');"
   ]
  },
  {
   "cell_type": "markdown",
   "metadata": {},
   "source": [
    "### Czas trwania ogłoszenia"
   ]
  },
  {
   "cell_type": "code",
   "execution_count": 453,
   "metadata": {},
   "outputs": [
    {
     "data": {
      "image/png": "[encoded data removed]",
      "text/plain": [
       "<Figure size 1440x360 with 1 Axes>"
      ]
     },
     "metadata": {},
     "output_type": "display_data"
    }
   ],
   "source": [
    "offer_duration = df['duration'].max()\n",
    "df['duration'].hist(bins=offer_duration,figsize=(20,5))\n",
    "plt.show()"
   ]
  },
  {
   "cell_type": "code",
   "execution_count": 454,
   "metadata": {},
   "outputs": [],
   "source": [
    "# counts = df['duration'].value_counts()\n",
    "\n",
    "# fig = plt.figure(figsize=(20,5))\n",
    "# axes = fig.add_axes([0.1 ,0.1 ,0.8, 0.8]) \n",
    "# axes.bar(counts.index, counts.values)\n",
    "\n",
    "# axes.set_xlabel('Województwo')\n",
    "# axes.set_ylabel('Liczba aut')\n",
    "# axes.set_title('Liczba ogłoszeń wg województw')\n",
    "\n",
    "# locs, labels = fig.xticks() \n",
    "\n",
    "# # for label in axes.get_xticklabels():\n",
    "# #     xticks(np.arange(30))\n",
    "# # #   label.set_rotation(45)\n",
    "# # #   label.set_ha('right')"
   ]
  },
  {
   "cell_type": "markdown",
   "metadata": {},
   "source": [
    "### Cena końcowa - 99 percentyl"
   ]
  },
  {
   "cell_type": "code",
   "execution_count": 455,
   "metadata": {},
   "outputs": [
    {
     "data": {
      "text/plain": [
       "25310.199999999917"
      ]
     },
     "execution_count": 455,
     "metadata": {},
     "output_type": "execute_result"
    }
   ],
   "source": [
    "filter_max = np.percentile(df['price'],99)\n",
    "filter_max"
   ]
  },
  {
   "cell_type": "code",
   "execution_count": 456,
   "metadata": {},
   "outputs": [
    {
     "data": {
      "image/png": "[encoded data removed]",
      "text/plain": [
       "<Figure size 1440x360 with 1 Axes>"
      ]
     },
     "metadata": {},
     "output_type": "display_data"
    }
   ],
   "source": [
    "df_filter = df[df['price'] < filter_max]\n",
    "df_filter['price'].hist(bins=50,figsize=(20,5))\n",
    "plt.show()"
   ]
  },
  {
   "cell_type": "markdown",
   "metadata": {},
   "source": [
    "### Przebieg"
   ]
  },
  {
   "cell_type": "code",
   "execution_count": 457,
   "metadata": {},
   "outputs": [
    {
     "data": {
      "image/png": "[encoded data removed]",
      "text/plain": [
       "<Figure size 1440x360 with 1 Axes>"
      ]
     },
     "metadata": {},
     "output_type": "display_data"
    }
   ],
   "source": [
    "df['mileage'].hist(bins=150,figsize=(20,5))\n",
    "plt.show()"
   ]
  },
  {
   "cell_type": "markdown",
   "metadata": {},
   "source": [
    "### Przebieg - 99 percentyl"
   ]
  },
  {
   "cell_type": "code",
   "execution_count": 458,
   "metadata": {},
   "outputs": [
    {
     "data": {
      "image/png": "[encoded data removed]",
      "text/plain": [
       "<Figure size 1440x360 with 1 Axes>"
      ]
     },
     "metadata": {},
     "output_type": "display_data"
    }
   ],
   "source": [
    "df_mileage = df[df['mileage'] < np.percentile(df['mileage'],99)]\n",
    "df_mileage['mileage'].hist(bins=150,figsize=(20,5))\n",
    "plt.show()"
   ]
  },
  {
   "cell_type": "code",
   "execution_count": 459,
   "metadata": {},
   "outputs": [
    {
     "data": {
      "text/plain": [
       "90"
      ]
     },
     "execution_count": 459,
     "metadata": {},
     "output_type": "execute_result"
    }
   ],
   "source": [
    "df[df['year'] == 2009 ].shape[0]"
   ]
  },
  {
   "cell_type": "code",
   "execution_count": 460,
   "metadata": {},
   "outputs": [
    {
     "name": "stdout",
     "output_type": "stream",
     "text": [
      "Wall time: 157 ms\n"
     ]
    },
    {
     "data": {
      "image/png": "[encoded data removed]",
      "text/plain": [
       "<Figure size 1440x360 with 1 Axes>"
      ]
     },
     "metadata": {},
     "output_type": "display_data"
    }
   ],
   "source": [
    "def plot_year():\n",
    "    year_list = df['year'].unique()\n",
    "\n",
    "    x = []\n",
    "    y = []\n",
    "    for i in year_list:\n",
    "        x.append(i)\n",
    "        y.append(df[df['year'] == i ].shape[0])\n",
    "    \n",
    "    sdf = pd.DataFrame(dict(x=x, y=y)).sort_values(by=['x'])\n",
    "\n",
    "    sns.set_style(\"darkgrid\")  \n",
    "    plt.figure(figsize=(20,5))\n",
    "    ax = sns.barplot(x=x, y=y, data=sdf, palette=(\"YlGnBu\"))\n",
    "    ax.set(xlabel='rocznik', ylabel='liczba ogłoszeń')\n",
    "    sns.set_context(\"talk\")\n",
    "    plt.savefig('sns.png')\n",
    "    \n",
    "%time plot_year()\n"
   ]
  },
  {
   "cell_type": "code",
   "execution_count": 461,
   "metadata": {},
   "outputs": [
    {
     "name": "stdout",
     "output_type": "stream",
     "text": [
      "Wall time: 368 ms\n"
     ]
    },
    {
     "data": {
      "image/png": "[encoded data removed]",
      "text/plain": [
       "<Figure size 1440x360 with 1 Axes>"
      ]
     },
     "metadata": {},
     "output_type": "display_data"
    }
   ],
   "source": [
    "# OTOMOTO\n",
    "# CZas ogłoszenia 15 / 30 dni\n",
    "\n",
    "def plot_duration():\n",
    "    year_list = df['duration'].unique()\n",
    "\n",
    "    x = []\n",
    "    y = []\n",
    "    for i in year_list:\n",
    "        x.append(i)\n",
    "        y.append(df[df['duration'] == i ].shape[0])\n",
    "    \n",
    "    sdf = pd.DataFrame(dict(x=x, y=y)).sort_values(by=['x'])\n",
    "\n",
    "    sns.set_style(\"darkgrid\")  \n",
    "    plt.figure(figsize=(20,5))\n",
    "    ax = sns.barplot(x=x, y=y, data=sdf, palette=(\"YlGnBu\"))\n",
    "    ax.set(xlabel='długość trwania ogłoszeń (w dniach)', ylabel='liczba ogłoszeń')\n",
    "    sns.set_context(\"talk\")\n",
    "    plt.savefig('sns_duration.png')\n",
    "    \n",
    "%time plot_duration()"
   ]
  },
  {
   "cell_type": "markdown",
   "metadata": {},
   "source": [
    "---"
   ]
  },
  {
   "cell_type": "code",
   "execution_count": 123,
   "metadata": {},
   "outputs": [
    {
     "data": {
      "text/plain": [
       "Index(['offer_id', 's_date', 'e_date', 'private_business', 'region', 'city',\n",
       "       'model', 'year', 'mileage', 'engine_capacity', 'vin', 'fuel_type',\n",
       "       'engine_power', 'gearbox', 'transmission', 'door_count', 'nr_seats',\n",
       "       'color', 'features', 'price', 'price_raw', 'currency', 'country_origin',\n",
       "       'registration', 'engine', 'duration', 'price_chng', 'f_',\n",
       "       'f_towing-hook', 'f_asr', 'f_electric-interior-mirror',\n",
       "       'f_central-lock', 'f_cd-changer', 'f_alloy-wheels', 'f_isofix',\n",
       "       'f_automatic-lights', 'f_system-start-stop', 'f_roof-bars',\n",
       "       'f_front-heated-seats', 'f_auxiliary-heating', 'f_abs',\n",
       "       'f_automatic-air-conditioning', 'f_electric-exterior-mirror',\n",
       "       'f_rear-passenger-airbags', 'f_rear-parking-sensors', 'f_usb-socket',\n",
       "       'f_mp3', 'f_velour-interior', 'f_aux-in', 'f_0', 'f_shift-paddles',\n",
       "       'f_sd-socket', 'f_front-electric-windows', 'f_driver-knee-airbag',\n",
       "       'f_cruise-control', 'f_front-airbags', 'f_park-assist',\n",
       "       'f_onboard-computer', 'f_heated-rearview-mirrors', 'f_cd',\n",
       "       'f_dual-air-conditioning', 'f_air-conditioning', 'f_alarm',\n",
       "       'f_electronic-rearview-mirrors', 'f_bluetooth', 'f_automatic-wipers',\n",
       "       'f_tinted-windows', 'f_leds', 'f_head-display',\n",
       "       'f_electric-adjustable-seats', 'f_fog-lights', 'f_side-window-airbags',\n",
       "       'f_daytime-lights', 'f_esp', 'f_front-side-airbags', 'f_dvd',\n",
       "       'f_electronic-immobiliser', 'f_original-radio', 'f_gps',\n",
       "       'f_heated-windshield', 'f_front-passenger-airbags',\n",
       "       'f_steering-whell-comands', 'f_rear-electric-windows',\n",
       "       'f_assisted-steering', 'origin_pl'],\n",
       "      dtype='object')"
      ]
     },
     "execution_count": 123,
     "metadata": {},
     "output_type": "execute_result"
    }
   ],
   "source": [
    "df.columns"
   ]
  },
  {
   "cell_type": "markdown",
   "metadata": {},
   "source": [
    "---"
   ]
  },
  {
   "cell_type": "markdown",
   "metadata": {},
   "source": [
    "Na podstawie powyższej analizy wytypowałem cechy do dalszych prac"
   ]
  },
  {
   "cell_type": "code",
   "execution_count": 146,
   "metadata": {},
   "outputs": [
    {
     "data": {
      "text/html": [
       "<div>\n",
       "<style scoped>\n",
       "    .dataframe tbody tr th:only-of-type {\n",
       "        vertical-align: middle;\n",
       "    }\n",
       "\n",
       "    .dataframe tbody tr th {\n",
       "        vertical-align: top;\n",
       "    }\n",
       "\n",
       "    .dataframe thead th {\n",
       "        text-align: right;\n",
       "    }\n",
       "</style>\n",
       "<table border=\"1\" class=\"dataframe\">\n",
       "  <thead>\n",
       "    <tr style=\"text-align: right;\">\n",
       "      <th></th>\n",
       "      <th>offer_id</th>\n",
       "      <th>s_date</th>\n",
       "      <th>e_date</th>\n",
       "      <th>private_business</th>\n",
       "      <th>region</th>\n",
       "      <th>year</th>\n",
       "      <th>mileage</th>\n",
       "      <th>fuel_type</th>\n",
       "      <th>door_count</th>\n",
       "      <th>color</th>\n",
       "      <th>...</th>\n",
       "      <th>f_0</th>\n",
       "      <th>f_central-lock</th>\n",
       "      <th>f_alloy-wheels</th>\n",
       "      <th>f_rear-parking-sensors</th>\n",
       "      <th>f_mp3</th>\n",
       "      <th>f_front-electric-windows</th>\n",
       "      <th>f_fog-lights</th>\n",
       "      <th>f_steering-whell-comands</th>\n",
       "      <th>price</th>\n",
       "      <th>price_raw</th>\n",
       "    </tr>\n",
       "  </thead>\n",
       "  <tbody>\n",
       "    <tr>\n",
       "      <th>57</th>\n",
       "      <td>6064879479</td>\n",
       "      <td>2020-04-17</td>\n",
       "      <td>2020-05-13</td>\n",
       "      <td>False</td>\n",
       "      <td>podkarpackie</td>\n",
       "      <td>2009</td>\n",
       "      <td>163000</td>\n",
       "      <td>petrol</td>\n",
       "      <td>5</td>\n",
       "      <td>blue</td>\n",
       "      <td>...</td>\n",
       "      <td>0</td>\n",
       "      <td>1</td>\n",
       "      <td>0</td>\n",
       "      <td>0</td>\n",
       "      <td>1</td>\n",
       "      <td>1</td>\n",
       "      <td>0</td>\n",
       "      <td>0</td>\n",
       "      <td>18900.0</td>\n",
       "      <td>18900.0</td>\n",
       "    </tr>\n",
       "    <tr>\n",
       "      <th>363</th>\n",
       "      <td>6073073125</td>\n",
       "      <td>2020-05-01</td>\n",
       "      <td>2020-05-12</td>\n",
       "      <td>False</td>\n",
       "      <td>lodzkie</td>\n",
       "      <td>2009</td>\n",
       "      <td>115000</td>\n",
       "      <td>petrol</td>\n",
       "      <td>5</td>\n",
       "      <td>red</td>\n",
       "      <td>...</td>\n",
       "      <td>0</td>\n",
       "      <td>1</td>\n",
       "      <td>0</td>\n",
       "      <td>1</td>\n",
       "      <td>0</td>\n",
       "      <td>1</td>\n",
       "      <td>0</td>\n",
       "      <td>1</td>\n",
       "      <td>28900.0</td>\n",
       "      <td>11900.0</td>\n",
       "    </tr>\n",
       "    <tr>\n",
       "      <th>386</th>\n",
       "      <td>6073587687</td>\n",
       "      <td>2020-04-17</td>\n",
       "      <td>2020-05-28</td>\n",
       "      <td>False</td>\n",
       "      <td>lubuskie</td>\n",
       "      <td>2006</td>\n",
       "      <td>200000</td>\n",
       "      <td>petrol</td>\n",
       "      <td>3</td>\n",
       "      <td>silver</td>\n",
       "      <td>...</td>\n",
       "      <td>1</td>\n",
       "      <td>0</td>\n",
       "      <td>0</td>\n",
       "      <td>0</td>\n",
       "      <td>0</td>\n",
       "      <td>0</td>\n",
       "      <td>0</td>\n",
       "      <td>0</td>\n",
       "      <td>7300.0</td>\n",
       "      <td>7900.0</td>\n",
       "    </tr>\n",
       "  </tbody>\n",
       "</table>\n",
       "<p>3 rows × 22 columns</p>\n",
       "</div>"
      ],
      "text/plain": [
       "       offer_id     s_date     e_date  private_business        region  year  \\\n",
       "57   6064879479 2020-04-17 2020-05-13             False  podkarpackie  2009   \n",
       "363  6073073125 2020-05-01 2020-05-12             False       lodzkie  2009   \n",
       "386  6073587687 2020-04-17 2020-05-28             False      lubuskie  2006   \n",
       "\n",
       "     mileage fuel_type  door_count   color  ...  f_0  f_central-lock  \\\n",
       "57    163000    petrol           5    blue  ...    0               1   \n",
       "363   115000    petrol           5     red  ...    0               1   \n",
       "386   200000    petrol           3  silver  ...    1               0   \n",
       "\n",
       "     f_alloy-wheels  f_rear-parking-sensors  f_mp3  f_front-electric-windows  \\\n",
       "57                0                       0      1                         1   \n",
       "363               0                       1      0                         1   \n",
       "386               0                       0      0                         0   \n",
       "\n",
       "     f_fog-lights  f_steering-whell-comands    price  price_raw  \n",
       "57              0                         0  18900.0    18900.0  \n",
       "363             0                         1  28900.0    11900.0  \n",
       "386             0                         0   7300.0     7900.0  \n",
       "\n",
       "[3 rows x 22 columns]"
      ]
     },
     "execution_count": 146,
     "metadata": {},
     "output_type": "execute_result"
    }
   ],
   "source": [
    "important_feats = ['offer_id', 's_date', 'e_date', 'private_business','region','year', \n",
    "                   'mileage', 'fuel_type', 'door_count', 'color','price','origin_pl',\n",
    "                   'f_0','f_central-lock','f_alloy-wheels','f_ac', 'f_rear-parking-sensors',\n",
    "                  'f_mp3','f_front-electric-windows', 'f_fog-lights', 'f_steering-whell-comands','price', 'price_raw']\n",
    "\n",
    "df_clean = df.filter(important_feats, axis=1).copy()\n",
    "\n",
    "df_clean.sample(3)"
   ]
  },
  {
   "cell_type": "markdown",
   "metadata": {},
   "source": [
    "## TODO: ML"
   ]
  },
  {
   "cell_type": "code",
   "execution_count": 148,
   "metadata": {},
   "outputs": [],
   "source": [
    "import random as rn\n",
    "import xgboost as xgb\n",
    "\n",
    "from sklearn.model_selection import train_test_split, KFold, StratifiedKFold, cross_val_score, cross_validate, cross_val_predict\n",
    "from sklearn.metrics import accuracy_score, recall_score, confusion_matrix, classification_report\n",
    "import scikitplot as skplt\n",
    "\n",
    "import joblib\n",
    "\n",
    "seed = 0\n",
    "np.random.seed(seed)\n",
    "rn.seed(seed)\n",
    "\n",
    "xgb_params = {\n",
    "    'max_depth' : 5, \n",
    "    'n_estimators' : 100, \n",
    "    'learning_rate' : 0.3, \n",
    "    'random_state' : 0\n",
    "}\n",
    "\n",
    "model = xgb.XGBRegressor(**xgb_params, objective ='reg:squarederror')"
   ]
  },
  {
   "cell_type": "code",
   "execution_count": 149,
   "metadata": {},
   "outputs": [
    {
     "data": {
      "text/plain": [
       "'1.0.2'"
      ]
     },
     "execution_count": 149,
     "metadata": {},
     "output_type": "execute_result"
    }
   ],
   "source": [
    "xgb.__version__"
   ]
  },
  {
   "cell_type": "code",
   "execution_count": 222,
   "metadata": {},
   "outputs": [
    {
     "name": "stdout",
     "output_type": "stream",
     "text": [
      "['private_business', 'year', 'mileage', 'door_count', 'origin_pl', 'f_0', 'f_central-lock', 'f_alloy-wheels', 'f_rear-parking-sensors', 'f_mp3', 'f_front-electric-windows', 'f_fog-lights', 'f_steering-whell-comands']\n",
      "Wall time: 184 ms\n"
     ]
    },
    {
     "data": {
      "image/png": "[encoded data removed]",
      "text/plain": [
       "<Figure size 1080x360 with 1 Axes>"
      ]
     },
     "metadata": {
      "needs_background": "light"
     },
     "output_type": "display_data"
    }
   ],
   "source": [
    "def get_feats(df):\n",
    "    feats = df.select_dtypes([np.number, np.bool]).columns\n",
    "    black_list = ['price', 'price_raw', 'offer_id']\n",
    "    return [x for x in feats if x not in black_list]\n",
    "\n",
    "# not used yet - categories have to be common with user predicteed car details\n",
    "def get_cat_feats(df):\n",
    "    cat_feats = df.select_dtypes(include=[np.object]).columns\n",
    "    black_list = ['features', 'model']\n",
    "    cat_feats_list =  [x for x in cat_feats if x not in black_list]\n",
    "\n",
    "    for cat_feat in cat_feats_list:\n",
    "        df['{0}_cat'.format(cat_feat)] = pd.factorize( df[cat_feat] )[0]\n",
    "\n",
    "    \n",
    "feats = get_feats(df_clean)\n",
    "print(feats)\n",
    "\n",
    "X = df_clean[feats].values\n",
    "y = df_clean['price'].values\n",
    "\n",
    "\n",
    "def simple_split_model(model, X,y):\n",
    "    #train and predict\n",
    "    X_train, X_test, y_train, y_test = train_test_split(X, y, test_size=0.2)\n",
    "    \n",
    "    model.fit(X_train, y_train)\n",
    "    y_pred = model.predict(X_test)\n",
    "    \n",
    "    skplt.estimators.plot_feature_importances(model, feature_names=feats, title='Features importance', x_tick_rotation=90, figsize=(15, 5));\n",
    "\n",
    "%time simple_split_model(model, X, y)"
   ]
  },
  {
   "cell_type": "code",
   "execution_count": 223,
   "metadata": {},
   "outputs": [
    {
     "data": {
      "text/html": [
       "<div>\n",
       "<style scoped>\n",
       "    .dataframe tbody tr th:only-of-type {\n",
       "        vertical-align: middle;\n",
       "    }\n",
       "\n",
       "    .dataframe tbody tr th {\n",
       "        vertical-align: top;\n",
       "    }\n",
       "\n",
       "    .dataframe thead th {\n",
       "        text-align: right;\n",
       "    }\n",
       "</style>\n",
       "<table border=\"1\" class=\"dataframe\">\n",
       "  <thead>\n",
       "    <tr style=\"text-align: right;\">\n",
       "      <th></th>\n",
       "      <th>private_business</th>\n",
       "      <th>year</th>\n",
       "      <th>mileage</th>\n",
       "      <th>door_count</th>\n",
       "      <th>origin_pl</th>\n",
       "      <th>f_0</th>\n",
       "      <th>f_central-lock</th>\n",
       "      <th>f_alloy-wheels</th>\n",
       "      <th>f_rear-parking-sensors</th>\n",
       "      <th>f_mp3</th>\n",
       "      <th>f_front-electric-windows</th>\n",
       "      <th>f_fog-lights</th>\n",
       "      <th>f_steering-whell-comands</th>\n",
       "    </tr>\n",
       "  </thead>\n",
       "  <tbody>\n",
       "    <tr>\n",
       "      <th>0</th>\n",
       "      <td>False</td>\n",
       "      <td>2009</td>\n",
       "      <td>111000</td>\n",
       "      <td>5</td>\n",
       "      <td>0</td>\n",
       "      <td>1</td>\n",
       "      <td>0</td>\n",
       "      <td>0</td>\n",
       "      <td>0</td>\n",
       "      <td>0</td>\n",
       "      <td>0</td>\n",
       "      <td>0</td>\n",
       "      <td>0</td>\n",
       "    </tr>\n",
       "  </tbody>\n",
       "</table>\n",
       "</div>"
      ],
      "text/plain": [
       "   private_business  year  mileage  door_count  origin_pl  f_0  \\\n",
       "0             False  2009   111000           5          0    1   \n",
       "\n",
       "   f_central-lock  f_alloy-wheels  f_rear-parking-sensors  f_mp3  \\\n",
       "0               0               0                       0      0   \n",
       "\n",
       "   f_front-electric-windows  f_fog-lights  f_steering-whell-comands  \n",
       "0                         0             0                         0  "
      ]
     },
     "execution_count": 223,
     "metadata": {},
     "output_type": "execute_result"
    }
   ],
   "source": [
    "df_clean[feats].head(1)"
   ]
  },
  {
   "cell_type": "code",
   "execution_count": 224,
   "metadata": {},
   "outputs": [
    {
     "data": {
      "text/plain": [
       "['./models/yaris_200527.pkl']"
      ]
     },
     "execution_count": 224,
     "metadata": {},
     "output_type": "execute_result"
    }
   ],
   "source": [
    "# save model\n",
    "joblib.dump(model, './models/yaris_200527.pkl') "
   ]
  },
  {
   "cell_type": "code",
   "execution_count": 225,
   "metadata": {},
   "outputs": [],
   "source": [
    "# https://xgboost.readthedocs.io/en/latest/tutorials/saving_model.html\n",
    "model.save_model('./models/yaris.json')\n"
   ]
  },
  {
   "cell_type": "code",
   "execution_count": 226,
   "metadata": {},
   "outputs": [
    {
     "data": {
      "text/html": [
       "<div>\n",
       "<style scoped>\n",
       "    .dataframe tbody tr th:only-of-type {\n",
       "        vertical-align: middle;\n",
       "    }\n",
       "\n",
       "    .dataframe tbody tr th {\n",
       "        vertical-align: top;\n",
       "    }\n",
       "\n",
       "    .dataframe thead th {\n",
       "        text-align: right;\n",
       "    }\n",
       "</style>\n",
       "<table border=\"1\" class=\"dataframe\">\n",
       "  <thead>\n",
       "    <tr style=\"text-align: right;\">\n",
       "      <th></th>\n",
       "      <th>private_business</th>\n",
       "      <th>year</th>\n",
       "      <th>mileage</th>\n",
       "      <th>door_count</th>\n",
       "      <th>origin_pl</th>\n",
       "      <th>f_0</th>\n",
       "      <th>f_central-lock</th>\n",
       "      <th>f_alloy-wheels</th>\n",
       "      <th>f_rear-parking-sensors</th>\n",
       "      <th>f_mp3</th>\n",
       "      <th>f_front-electric-windows</th>\n",
       "      <th>f_fog-lights</th>\n",
       "      <th>f_steering-whell-comands</th>\n",
       "    </tr>\n",
       "  </thead>\n",
       "  <tbody>\n",
       "    <tr>\n",
       "      <th>0</th>\n",
       "      <td>0</td>\n",
       "      <td>2008</td>\n",
       "      <td>142000</td>\n",
       "      <td>5</td>\n",
       "      <td>1</td>\n",
       "      <td>0</td>\n",
       "      <td>NaN</td>\n",
       "      <td>0</td>\n",
       "      <td>1</td>\n",
       "      <td>NaN</td>\n",
       "      <td>0</td>\n",
       "      <td>NaN</td>\n",
       "      <td>0</td>\n",
       "    </tr>\n",
       "  </tbody>\n",
       "</table>\n",
       "</div>"
      ],
      "text/plain": [
       "  private_business  year mileage door_count origin_pl f_0 f_central-lock  \\\n",
       "0                0  2008  142000          5         1   0            NaN   \n",
       "\n",
       "  f_alloy-wheels f_rear-parking-sensors f_mp3 f_front-electric-windows  \\\n",
       "0              0                      1   NaN                        0   \n",
       "\n",
       "  f_fog-lights f_steering-whell-comands  \n",
       "0          NaN                        0  "
      ]
     },
     "execution_count": 226,
     "metadata": {},
     "output_type": "execute_result"
    }
   ],
   "source": [
    "#['private_business', 'year', 'mileage', 'door_count', 'f_air-conditioning', 'f_alloy-wheels', 'f_steering-whell-comands', 'f_front-electric-windows']\n",
    "car_info = pd.DataFrame(columns = feats)\n",
    "\n",
    "car_details = {\n",
    "    'private_business' : \"{0:d}\".format(0),\n",
    "    'year' : \"{0:d}\".format(2008),\n",
    "    'mileage' : \"{0:d}\".format(142000), \n",
    "    'door_count' : \"{0:d}\".format(5), \n",
    "    'origin_pl' : \"{0:d}\".format(1),\n",
    "    'f_0' : \"{0:d}\".format(0),\n",
    "#     'f_ac' : \"{0:d}\".format(1), \n",
    "    'f_alloy-wheels': \"{0:d}\".format(0),\n",
    "    'f_rear-parking-sensors' : \"{0:d}\".format(1),\n",
    "    \n",
    "    'f_steering-whell-comands' : 0, \n",
    "    'f_front-electric-windows' : 0\n",
    "}\n",
    "\n",
    "car_info = car_info.append(car_details , ignore_index=True)\n",
    "car_info"
   ]
  },
  {
   "cell_type": "code",
   "execution_count": 227,
   "metadata": {},
   "outputs": [
    {
     "name": "stdout",
     "output_type": "stream",
     "text": [
      "Cena powinna wynosić:  17405.928 zł\n"
     ]
    }
   ],
   "source": [
    "y_pred = model.predict(car_info.values)\n",
    "print('Cena powinna wynosić: ', y_pred[0], 'zł')"
   ]
  },
  {
   "cell_type": "code",
   "execution_count": 228,
   "metadata": {},
   "outputs": [
    {
     "name": "stdout",
     "output_type": "stream",
     "text": [
      "Cena powinna wynosić:  17405.928 zł\n"
     ]
    }
   ],
   "source": [
    "#load model & predict\n",
    "loaded_model = joblib.load('./models/yaris_200527.pkl')\n",
    "result = loaded_model.predict(car_info.values)\n",
    "print('Cena powinna wynosić: ',result[0], 'zł')"
   ]
  },
  {
   "cell_type": "code",
   "execution_count": 193,
   "metadata": {},
   "outputs": [
    {
     "name": "stdout",
     "output_type": "stream",
     "text": [
      "(13,)\n"
     ]
    }
   ],
   "source": [
    "print(X[0].shape)"
   ]
  },
  {
   "cell_type": "code",
   "execution_count": 506,
   "metadata": {},
   "outputs": [
    {
     "name": "stdout",
     "output_type": "stream",
     "text": [
      "['private_business', 'year', 'mileage', 'door_count', 'f_air-conditioning', 'f_alloy-wheels', 'f_steering-whell-comands', 'f_front-electric-windows', 'region_cat', 'city_cat', 'fuel_type_cat']\n"
     ]
    }
   ],
   "source": [
    "get_cat_feats(df_clean)\n",
    "feats = get_feats(df_clean)\n",
    "print(feats)"
   ]
  }
 ],
 "metadata": {
  "kernelspec": {
   "display_name": "Python 3",
   "language": "python",
   "name": "python3"
  },
  "language_info": {
   "codemirror_mode": {
    "name": "ipython",
    "version": 3
   },
   "file_extension": ".py",
   "mimetype": "text/x-python",
   "name": "python",
   "nbconvert_exporter": "python",
   "pygments_lexer": "ipython3",
   "version": "3.7.7"
  }
 },
 "nbformat": 4,
 "nbformat_minor": 4
}
