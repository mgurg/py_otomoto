{
 "cells": [
  {
   "cell_type": "markdown",
   "metadata": {},
   "source": [
    "# Toyota Yaris II -  price prediction\n"
   ]
  },
  {
   "cell_type": "code",
   "execution_count": 55,
   "metadata": {},
   "outputs": [
    {
     "name": "stdout",
     "output_type": "stream",
     "text": [
      "Wall time: 27 ms\n"
     ]
    },
    {
     "data": {
      "text/html": [
       "<div>\n",
       "<style scoped>\n",
       "    .dataframe tbody tr th:only-of-type {\n",
       "        vertical-align: middle;\n",
       "    }\n",
       "\n",
       "    .dataframe tbody tr th {\n",
       "        vertical-align: top;\n",
       "    }\n",
       "\n",
       "    .dataframe thead th {\n",
       "        text-align: right;\n",
       "    }\n",
       "</style>\n",
       "<table border=\"1\" class=\"dataframe\">\n",
       "  <thead>\n",
       "    <tr style=\"text-align: right;\">\n",
       "      <th></th>\n",
       "      <th>offer_id</th>\n",
       "      <th>s_date</th>\n",
       "      <th>e_date</th>\n",
       "      <th>private_business</th>\n",
       "      <th>region</th>\n",
       "      <th>city</th>\n",
       "      <th>model</th>\n",
       "      <th>year</th>\n",
       "      <th>mileage</th>\n",
       "      <th>engine_capacity</th>\n",
       "      <th>...</th>\n",
       "      <th>transmission</th>\n",
       "      <th>door_count</th>\n",
       "      <th>nr_seats</th>\n",
       "      <th>color</th>\n",
       "      <th>features</th>\n",
       "      <th>price</th>\n",
       "      <th>price_raw</th>\n",
       "      <th>currency</th>\n",
       "      <th>country_origin</th>\n",
       "      <th>registration</th>\n",
       "    </tr>\n",
       "  </thead>\n",
       "  <tbody>\n",
       "    <tr>\n",
       "      <th>0</th>\n",
       "      <td>6005738641</td>\n",
       "      <td>2020-04-17</td>\n",
       "      <td>2020-04-24</td>\n",
       "      <td>business</td>\n",
       "      <td>malopolskie</td>\n",
       "      <td>krakow</td>\n",
       "      <td>yaris</td>\n",
       "      <td>2009</td>\n",
       "      <td>111000</td>\n",
       "      <td>1000</td>\n",
       "      <td>...</td>\n",
       "      <td>front-wheel</td>\n",
       "      <td>5</td>\n",
       "      <td>5</td>\n",
       "      <td>grey</td>\n",
       "      <td>0</td>\n",
       "      <td>6200</td>\n",
       "      <td>6200.0</td>\n",
       "      <td>0</td>\n",
       "      <td>f</td>\n",
       "      <td>0</td>\n",
       "    </tr>\n",
       "    <tr>\n",
       "      <th>1</th>\n",
       "      <td>6018694885</td>\n",
       "      <td>2020-04-17</td>\n",
       "      <td>2020-04-24</td>\n",
       "      <td>business</td>\n",
       "      <td>warminsko-mazurskie</td>\n",
       "      <td>ostroda</td>\n",
       "      <td>yaris</td>\n",
       "      <td>2008</td>\n",
       "      <td>45706</td>\n",
       "      <td>998</td>\n",
       "      <td>...</td>\n",
       "      <td>0</td>\n",
       "      <td>3</td>\n",
       "      <td>5</td>\n",
       "      <td>white</td>\n",
       "      <td>abs central-lock electronic-immobiliser front-...</td>\n",
       "      <td>4700</td>\n",
       "      <td>4700.0</td>\n",
       "      <td>0</td>\n",
       "      <td>pl</td>\n",
       "      <td>0</td>\n",
       "    </tr>\n",
       "    <tr>\n",
       "      <th>2</th>\n",
       "      <td>6025678407</td>\n",
       "      <td>2020-04-17</td>\n",
       "      <td>2020-04-24</td>\n",
       "      <td>business</td>\n",
       "      <td>mazowieckie</td>\n",
       "      <td>milanowek</td>\n",
       "      <td>yaris</td>\n",
       "      <td>2009</td>\n",
       "      <td>174000</td>\n",
       "      <td>1300</td>\n",
       "      <td>...</td>\n",
       "      <td>0</td>\n",
       "      <td>5</td>\n",
       "      <td>5</td>\n",
       "      <td>silver</td>\n",
       "      <td>abs cd central-lock front-electric-windows ele...</td>\n",
       "      <td>19800</td>\n",
       "      <td>19800.0</td>\n",
       "      <td>0</td>\n",
       "      <td>0</td>\n",
       "      <td>0</td>\n",
       "    </tr>\n",
       "  </tbody>\n",
       "</table>\n",
       "<p>3 rows × 24 columns</p>\n",
       "</div>"
      ],
      "text/plain": [
       "     offer_id      s_date      e_date private_business               region  \\\n",
       "0  6005738641  2020-04-17  2020-04-24         business          malopolskie   \n",
       "1  6018694885  2020-04-17  2020-04-24         business  warminsko-mazurskie   \n",
       "2  6025678407  2020-04-17  2020-04-24         business          mazowieckie   \n",
       "\n",
       "        city  model  year  mileage  engine_capacity  ... transmission  \\\n",
       "0     krakow  yaris  2009   111000             1000  ...  front-wheel   \n",
       "1    ostroda  yaris  2008    45706              998  ...            0   \n",
       "2  milanowek  yaris  2009   174000             1300  ...            0   \n",
       "\n",
       "  door_count  nr_seats   color  \\\n",
       "0          5         5    grey   \n",
       "1          3         5   white   \n",
       "2          5         5  silver   \n",
       "\n",
       "                                            features  price  price_raw  \\\n",
       "0                                                  0   6200     6200.0   \n",
       "1  abs central-lock electronic-immobiliser front-...   4700     4700.0   \n",
       "2  abs cd central-lock front-electric-windows ele...  19800    19800.0   \n",
       "\n",
       "  currency country_origin  registration  \n",
       "0        0              f             0  \n",
       "1        0             pl             0  \n",
       "2        0              0             0  \n",
       "\n",
       "[3 rows x 24 columns]"
      ]
     },
     "execution_count": 55,
     "metadata": {},
     "output_type": "execute_result"
    }
   ],
   "source": [
    "import pandas as pd\n",
    "import numpy as np\n",
    "import sqlite3\n",
    "\n",
    "import warnings\n",
    "warnings.filterwarnings(\"ignore\")\n",
    "\n",
    "%matplotlib inline\n",
    "import matplotlib.pyplot as plt\n",
    "import seaborn as sns\n",
    "\n",
    "def get_view_data():\n",
    "    sql_query = \"\"\"SELECT * FROM v_cars\"\"\"\n",
    "    conn = sqlite3.connect(\"pythonsqlite.db\")\n",
    "    data = pd.read_sql_query(sql_query, conn)\n",
    "    conn.close()\n",
    "    return data\n",
    "\n",
    "def get_data():\n",
    "    sql_query =\"\"\"\n",
    "SELECT \n",
    "    all_offers.offer_id,otomoto_all.s_date, otomoto_all.e_date, all_offers.private_business, all_offers.region,\n",
    "    all_offers.city, all_offers.model, all_offers.year, all_offers.mileage, all_offers.engine_capacity, all_offers.vin,\n",
    "    all_offers.fuel_type, all_offers.engine_power, all_offers.gearbox, all_offers.transmission, all_offers.door_count,\n",
    "    all_offers.nr_seats, all_offers.color, all_offers.features,otomoto_all.price, all_offers.price_raw, all_offers.currency, \n",
    "    all_offers.country_origin, all_offers.registration\n",
    "FROM \n",
    "    otomoto_all, all_offers\n",
    "WHERE \n",
    "    otomoto_all.uid = all_offers.uid; \n",
    "\"\"\"\n",
    "\n",
    "    conn = sqlite3.connect(\"pythonsqlite.db\")\n",
    "    data = pd.read_sql_query(sql_query, conn)\n",
    "    conn.close()\n",
    "    return data\n",
    "\n",
    "#%time df = get_data() #~13 ms\n",
    "%time df = get_view_data() #~13 ms\n",
    "\n",
    "#%time for i in range(3000): df = get_data()\n",
    "\n",
    "df.head(3)"
   ]
  },
  {
   "cell_type": "code",
   "execution_count": 56,
   "metadata": {},
   "outputs": [
    {
     "data": {
      "text/plain": [
       "Index(['offer_id', 's_date', 'e_date', 'private_business', 'region', 'city',\n",
       "       'model', 'year', 'mileage', 'engine_capacity', 'vin', 'fuel_type',\n",
       "       'engine_power', 'gearbox', 'transmission', 'door_count', 'nr_seats',\n",
       "       'color', 'features', 'price', 'price_raw', 'currency', 'country_origin',\n",
       "       'registration'],\n",
       "      dtype='object')"
      ]
     },
     "execution_count": 56,
     "metadata": {},
     "output_type": "execute_result"
    }
   ],
   "source": [
    "df.columns"
   ]
  },
  {
   "cell_type": "code",
   "execution_count": 57,
   "metadata": {},
   "outputs": [
    {
     "name": "stdout",
     "output_type": "stream",
     "text": [
      "Wall time: 12 ms\n"
     ]
    }
   ],
   "source": [
    "def optimize_df():\n",
    "    #df['offer_id'] = df['offer_id'].astype(np.uint32)\n",
    "    df['offer_id'] = pd.to_numeric (df['offer_id'], downcast='unsigned')\n",
    "    df['s_date'] = pd.to_datetime(df['s_date']) \n",
    "    df['e_date'] = pd.to_datetime(df['e_date']) \n",
    "    df['year'] = pd.to_numeric(df['year'], downcast='unsigned')\n",
    "    df['mileage'] = pd.to_numeric(df['mileage'], downcast='unsigned')\n",
    "    df['engine_capacity'] = pd.to_numeric(df['engine_capacity'], downcast='unsigned')\n",
    "    df['engine_power'] = pd.to_numeric(df['engine_power'], downcast='unsigned')\n",
    "    df['door_count'] = pd.to_numeric(df['door_count'], downcast='unsigned')\n",
    "    df['nr_seats'] = pd.to_numeric(df['nr_seats'], downcast='unsigned')\n",
    "    df['price'] = pd.to_numeric(df['price'], downcast='float')\n",
    "    df['price_raw'] = pd.to_numeric(df['price_raw'], downcast='float')\n",
    "    \n",
    "%time optimize_df()    "
   ]
  },
  {
   "cell_type": "code",
   "execution_count": 79,
   "metadata": {},
   "outputs": [
    {
     "name": "stdout",
     "output_type": "stream",
     "text": [
      "<class 'pandas.core.frame.DataFrame'>\n",
      "RangeIndex: 283 entries, 0 to 282\n",
      "Data columns (total 80 columns):\n",
      " #   Column                         Non-Null Count  Dtype         \n",
      "---  ------                         --------------  -----         \n",
      " 0   offer_id                       283 non-null    uint64        \n",
      " 1   s_date                         283 non-null    datetime64[ns]\n",
      " 2   e_date                         283 non-null    datetime64[ns]\n",
      " 3   private_business               283 non-null    object        \n",
      " 4   region                         283 non-null    object        \n",
      " 5   city                           283 non-null    object        \n",
      " 6   model                          283 non-null    object        \n",
      " 7   year                           283 non-null    uint16        \n",
      " 8   mileage                        283 non-null    uint32        \n",
      " 9   engine_capacity                283 non-null    uint16        \n",
      " 10  vin                            283 non-null    object        \n",
      " 11  fuel_type                      283 non-null    object        \n",
      " 12  engine_power                   283 non-null    uint8         \n",
      " 13  gearbox                        283 non-null    object        \n",
      " 14  transmission                   283 non-null    object        \n",
      " 15  door_count                     283 non-null    uint8         \n",
      " 16  nr_seats                       283 non-null    uint8         \n",
      " 17  color                          283 non-null    object        \n",
      " 18  features                       283 non-null    object        \n",
      " 19  price                          283 non-null    float32       \n",
      " 20  price_raw                      283 non-null    float32       \n",
      " 21  currency                       283 non-null    object        \n",
      " 22  country_origin                 283 non-null    object        \n",
      " 23  registration                   283 non-null    object        \n",
      " 24  duration                       283 non-null    uint16        \n",
      " 25  price_chng                     283 non-null    float32       \n",
      " 26  f_original-radio               283 non-null    int8          \n",
      " 27  f_system-start-stop            283 non-null    int8          \n",
      " 28  f_bluetooth                    283 non-null    int8          \n",
      " 29  f_isofix                       283 non-null    int8          \n",
      " 30  f_daytime-lights               283 non-null    int8          \n",
      " 31  f_automatic-wipers             283 non-null    int8          \n",
      " 32  f_heated-windshield            283 non-null    int8          \n",
      " 33  f_front-electric-windows       283 non-null    int8          \n",
      " 34  f_roof-bars                    283 non-null    int8          \n",
      " 35  f_onboard-computer             283 non-null    int8          \n",
      " 36  f_alarm                        283 non-null    int8          \n",
      " 37  f_front-side-airbags           283 non-null    int8          \n",
      " 38  f_gps                          283 non-null    int8          \n",
      " 39  f_asr                          283 non-null    int8          \n",
      " 40  f_aux-in                       283 non-null    int8          \n",
      " 41  f_alloy-wheels                 283 non-null    int8          \n",
      " 42  f_towing-hook                  283 non-null    int8          \n",
      " 43  f_electric-exterior-mirror     283 non-null    int8          \n",
      " 44  f_tinted-windows               283 non-null    int8          \n",
      " 45  f_head-display                 283 non-null    int8          \n",
      " 46  f_esp                          283 non-null    int8          \n",
      " 47  f_automatic-lights             283 non-null    int8          \n",
      " 48  f_front-airbags                283 non-null    int8          \n",
      " 49  f_front-heated-seats           283 non-null    int8          \n",
      " 50  f_velour-interior              283 non-null    int8          \n",
      " 51  f_side-window-airbags          283 non-null    int8          \n",
      " 52  f_electric-interior-mirror     283 non-null    int8          \n",
      " 53  f_rear-electric-windows        283 non-null    int8          \n",
      " 54  f_0                            283 non-null    int8          \n",
      " 55  f_cd-changer                   283 non-null    int8          \n",
      " 56  f_rear-passenger-airbags       283 non-null    int8          \n",
      " 57  f_usb-socket                   283 non-null    int8          \n",
      " 58  f_fog-lights                   283 non-null    int8          \n",
      " 59  f_leds                         283 non-null    int8          \n",
      " 60  f_abs                          283 non-null    int8          \n",
      " 61  f_driver-knee-airbag           283 non-null    int8          \n",
      " 62  f_electronic-immobiliser       283 non-null    int8          \n",
      " 63  f_sd-socket                    283 non-null    int8          \n",
      " 64  f_mp3                          283 non-null    int8          \n",
      " 65  f_steering-whell-comands       283 non-null    int8          \n",
      " 66  f_park-assist                  283 non-null    int8          \n",
      " 67  f_assisted-steering            283 non-null    int8          \n",
      " 68  f_shift-paddles                283 non-null    int8          \n",
      " 69  f_cd                           283 non-null    int8          \n",
      " 70  f_automatic-air-conditioning   283 non-null    int8          \n",
      " 71  f_air-conditioning             283 non-null    int8          \n",
      " 72  f_central-lock                 283 non-null    int8          \n",
      " 73  f_rear-parking-sensors         283 non-null    int8          \n",
      " 74  f_heated-rearview-mirrors      283 non-null    int8          \n",
      " 75  f_electric-adjustable-seats    283 non-null    int8          \n",
      " 76  f_cruise-control               283 non-null    int8          \n",
      " 77  f_dual-air-conditioning        283 non-null    int8          \n",
      " 78  f_front-passenger-airbags      283 non-null    int8          \n",
      " 79  f_electronic-rearview-mirrors  283 non-null    int8          \n",
      "dtypes: datetime64[ns](2), float32(3), int8(54), object(13), uint16(3), uint32(1), uint64(1), uint8(3)\n",
      "memory usage: 57.3+ KB\n"
     ]
    }
   ],
   "source": [
    "df.info()"
   ]
  },
  {
   "cell_type": "code",
   "execution_count": 59,
   "metadata": {},
   "outputs": [],
   "source": [
    "def check_missing():\n",
    "    for column in df.columns:\n",
    "        missing = column, df[column].isnull().sum()\n",
    "        if missing[1] == 0: continue\n",
    "\n",
    "        print(missing)\n",
    "        \n",
    "check_missing()"
   ]
  },
  {
   "cell_type": "code",
   "execution_count": 60,
   "metadata": {},
   "outputs": [
    {
     "data": {
      "image/png": "[encoded data removed]",
      "text/plain": [
       "<Figure size 1440x1080 with 9 Axes>"
      ]
     },
     "metadata": {
      "needs_background": "light"
     },
     "output_type": "display_data"
    }
   ],
   "source": [
    "df.hist(bins=50,figsize=(20,15))\n",
    "plt.show()"
   ]
  },
  {
   "cell_type": "markdown",
   "metadata": {},
   "source": [
    "## Feature engineering"
   ]
  },
  {
   "cell_type": "code",
   "execution_count": 61,
   "metadata": {},
   "outputs": [
    {
     "name": "stdout",
     "output_type": "stream",
     "text": [
      "Wall time: 4 ms\n"
     ]
    }
   ],
   "source": [
    "def general_features():\n",
    "    df['duration'] = (df['e_date'] - df['s_date']).dt.days.astype(np.uint16)\n",
    "    df['price_chng'] = (df['price'] - df['price_raw'])\n",
    "    #df['active'] = df['duration'].apply()\n",
    "    \n",
    "%time general_features()"
   ]
  },
  {
   "cell_type": "code",
   "execution_count": 62,
   "metadata": {},
   "outputs": [
    {
     "data": {
      "text/html": [
       "<div>\n",
       "<style scoped>\n",
       "    .dataframe tbody tr th:only-of-type {\n",
       "        vertical-align: middle;\n",
       "    }\n",
       "\n",
       "    .dataframe tbody tr th {\n",
       "        vertical-align: top;\n",
       "    }\n",
       "\n",
       "    .dataframe thead th {\n",
       "        text-align: right;\n",
       "    }\n",
       "</style>\n",
       "<table border=\"1\" class=\"dataframe\">\n",
       "  <thead>\n",
       "    <tr style=\"text-align: right;\">\n",
       "      <th></th>\n",
       "      <th>offer_id</th>\n",
       "      <th>s_date</th>\n",
       "      <th>e_date</th>\n",
       "      <th>private_business</th>\n",
       "      <th>region</th>\n",
       "      <th>city</th>\n",
       "      <th>model</th>\n",
       "      <th>year</th>\n",
       "      <th>mileage</th>\n",
       "      <th>engine_capacity</th>\n",
       "      <th>...</th>\n",
       "      <th>nr_seats</th>\n",
       "      <th>color</th>\n",
       "      <th>features</th>\n",
       "      <th>price</th>\n",
       "      <th>price_raw</th>\n",
       "      <th>currency</th>\n",
       "      <th>country_origin</th>\n",
       "      <th>registration</th>\n",
       "      <th>duration</th>\n",
       "      <th>price_chng</th>\n",
       "    </tr>\n",
       "  </thead>\n",
       "  <tbody>\n",
       "    <tr>\n",
       "      <th>117</th>\n",
       "      <td>6069204066</td>\n",
       "      <td>2020-04-17</td>\n",
       "      <td>2020-04-24</td>\n",
       "      <td>private</td>\n",
       "      <td>mazowieckie</td>\n",
       "      <td>pruszkow</td>\n",
       "      <td>yaris</td>\n",
       "      <td>2008</td>\n",
       "      <td>154288</td>\n",
       "      <td>1296</td>\n",
       "      <td>...</td>\n",
       "      <td>5</td>\n",
       "      <td>blue</td>\n",
       "      <td>abs cd central-lock front-electric-windows ele...</td>\n",
       "      <td>16999.0</td>\n",
       "      <td>16999.0</td>\n",
       "      <td>0</td>\n",
       "      <td>pl</td>\n",
       "      <td>LRY 84LR</td>\n",
       "      <td>7</td>\n",
       "      <td>0.0</td>\n",
       "    </tr>\n",
       "    <tr>\n",
       "      <th>30</th>\n",
       "      <td>6059503917</td>\n",
       "      <td>2020-04-17</td>\n",
       "      <td>2020-04-24</td>\n",
       "      <td>business</td>\n",
       "      <td>mazowieckie</td>\n",
       "      <td>otwock</td>\n",
       "      <td>yaris</td>\n",
       "      <td>2007</td>\n",
       "      <td>259000</td>\n",
       "      <td>1000</td>\n",
       "      <td>...</td>\n",
       "      <td>5</td>\n",
       "      <td>other</td>\n",
       "      <td>abs cd central-lock electronic-rearview-mirror...</td>\n",
       "      <td>10999.0</td>\n",
       "      <td>10999.0</td>\n",
       "      <td>0</td>\n",
       "      <td>pl</td>\n",
       "      <td>0</td>\n",
       "      <td>7</td>\n",
       "      <td>0.0</td>\n",
       "    </tr>\n",
       "    <tr>\n",
       "      <th>208</th>\n",
       "      <td>6071449892</td>\n",
       "      <td>2020-04-17</td>\n",
       "      <td>2020-04-24</td>\n",
       "      <td>business</td>\n",
       "      <td>warminsko-mazurskie</td>\n",
       "      <td>mragowo</td>\n",
       "      <td>yaris</td>\n",
       "      <td>2006</td>\n",
       "      <td>9100</td>\n",
       "      <td>998</td>\n",
       "      <td>...</td>\n",
       "      <td>5</td>\n",
       "      <td>black</td>\n",
       "      <td>abs cd central-lock front-electric-windows ele...</td>\n",
       "      <td>15200.0</td>\n",
       "      <td>15200.0</td>\n",
       "      <td>0</td>\n",
       "      <td>0</td>\n",
       "      <td>0</td>\n",
       "      <td>7</td>\n",
       "      <td>0.0</td>\n",
       "    </tr>\n",
       "  </tbody>\n",
       "</table>\n",
       "<p>3 rows × 26 columns</p>\n",
       "</div>"
      ],
      "text/plain": [
       "       offer_id     s_date     e_date private_business               region  \\\n",
       "117  6069204066 2020-04-17 2020-04-24          private          mazowieckie   \n",
       "30   6059503917 2020-04-17 2020-04-24         business          mazowieckie   \n",
       "208  6071449892 2020-04-17 2020-04-24         business  warminsko-mazurskie   \n",
       "\n",
       "         city  model  year  mileage  engine_capacity  ... nr_seats  color  \\\n",
       "117  pruszkow  yaris  2008   154288             1296  ...        5   blue   \n",
       "30     otwock  yaris  2007   259000             1000  ...        5  other   \n",
       "208   mragowo  yaris  2006     9100              998  ...        5  black   \n",
       "\n",
       "                                              features    price price_raw  \\\n",
       "117  abs cd central-lock front-electric-windows ele...  16999.0   16999.0   \n",
       "30   abs cd central-lock electronic-rearview-mirror...  10999.0   10999.0   \n",
       "208  abs cd central-lock front-electric-windows ele...  15200.0   15200.0   \n",
       "\n",
       "     currency  country_origin registration duration  price_chng  \n",
       "117         0              pl     LRY 84LR        7         0.0  \n",
       "30          0              pl            0        7         0.0  \n",
       "208         0               0            0        7         0.0  \n",
       "\n",
       "[3 rows x 26 columns]"
      ]
     },
     "execution_count": 62,
     "metadata": {},
     "output_type": "execute_result"
    }
   ],
   "source": [
    "df.sample(3)"
   ]
  },
  {
   "cell_type": "code",
   "execution_count": 63,
   "metadata": {},
   "outputs": [
    {
     "data": {
      "text/html": [
       "<div>\n",
       "<style scoped>\n",
       "    .dataframe tbody tr th:only-of-type {\n",
       "        vertical-align: middle;\n",
       "    }\n",
       "\n",
       "    .dataframe tbody tr th {\n",
       "        vertical-align: top;\n",
       "    }\n",
       "\n",
       "    .dataframe thead th {\n",
       "        text-align: right;\n",
       "    }\n",
       "</style>\n",
       "<table border=\"1\" class=\"dataframe\">\n",
       "  <thead>\n",
       "    <tr style=\"text-align: right;\">\n",
       "      <th></th>\n",
       "      <th>offer_id</th>\n",
       "      <th>s_date</th>\n",
       "      <th>e_date</th>\n",
       "      <th>private_business</th>\n",
       "      <th>region</th>\n",
       "      <th>city</th>\n",
       "      <th>model</th>\n",
       "      <th>year</th>\n",
       "      <th>mileage</th>\n",
       "      <th>engine_capacity</th>\n",
       "      <th>...</th>\n",
       "      <th>nr_seats</th>\n",
       "      <th>color</th>\n",
       "      <th>features</th>\n",
       "      <th>price</th>\n",
       "      <th>price_raw</th>\n",
       "      <th>currency</th>\n",
       "      <th>country_origin</th>\n",
       "      <th>registration</th>\n",
       "      <th>duration</th>\n",
       "      <th>price_chng</th>\n",
       "    </tr>\n",
       "  </thead>\n",
       "  <tbody>\n",
       "    <tr>\n",
       "      <th>76</th>\n",
       "      <td>6067672282</td>\n",
       "      <td>2020-04-17</td>\n",
       "      <td>2020-04-24</td>\n",
       "      <td>business</td>\n",
       "      <td>wielkopolskie</td>\n",
       "      <td>ostrzeszow</td>\n",
       "      <td>yaris</td>\n",
       "      <td>2007</td>\n",
       "      <td>410000</td>\n",
       "      <td>998</td>\n",
       "      <td>...</td>\n",
       "      <td>2</td>\n",
       "      <td>silver</td>\n",
       "      <td>abs cd central-lock electronic-immobiliser fro...</td>\n",
       "      <td>5400.0</td>\n",
       "      <td>4390.240234</td>\n",
       "      <td>0</td>\n",
       "      <td>pl</td>\n",
       "      <td>0</td>\n",
       "      <td>7</td>\n",
       "      <td>1009.759766</td>\n",
       "    </tr>\n",
       "    <tr>\n",
       "      <th>82</th>\n",
       "      <td>6067981935</td>\n",
       "      <td>2020-04-17</td>\n",
       "      <td>2020-04-24</td>\n",
       "      <td>business</td>\n",
       "      <td>zachodniopomorskie</td>\n",
       "      <td>bialogard</td>\n",
       "      <td>yaris</td>\n",
       "      <td>2006</td>\n",
       "      <td>112000</td>\n",
       "      <td>1298</td>\n",
       "      <td>...</td>\n",
       "      <td>5</td>\n",
       "      <td>black</td>\n",
       "      <td>abs cd central-lock front-electric-windows ele...</td>\n",
       "      <td>14500.0</td>\n",
       "      <td>14900.000000</td>\n",
       "      <td>0</td>\n",
       "      <td>0</td>\n",
       "      <td>0</td>\n",
       "      <td>7</td>\n",
       "      <td>-400.000000</td>\n",
       "    </tr>\n",
       "    <tr>\n",
       "      <th>203</th>\n",
       "      <td>6071362168</td>\n",
       "      <td>2020-04-17</td>\n",
       "      <td>2020-04-24</td>\n",
       "      <td>business</td>\n",
       "      <td>malopolskie</td>\n",
       "      <td>brzesko</td>\n",
       "      <td>yaris</td>\n",
       "      <td>2006</td>\n",
       "      <td>202910</td>\n",
       "      <td>1298</td>\n",
       "      <td>...</td>\n",
       "      <td>5</td>\n",
       "      <td>silver</td>\n",
       "      <td>abs cd central-lock front-electric-windows ele...</td>\n",
       "      <td>13999.0</td>\n",
       "      <td>14499.000000</td>\n",
       "      <td>0</td>\n",
       "      <td>d</td>\n",
       "      <td>0</td>\n",
       "      <td>7</td>\n",
       "      <td>-500.000000</td>\n",
       "    </tr>\n",
       "    <tr>\n",
       "      <th>210</th>\n",
       "      <td>6071457723</td>\n",
       "      <td>2020-04-17</td>\n",
       "      <td>2020-04-24</td>\n",
       "      <td>private</td>\n",
       "      <td>malopolskie</td>\n",
       "      <td>wieliczka</td>\n",
       "      <td>yaris</td>\n",
       "      <td>2009</td>\n",
       "      <td>133000</td>\n",
       "      <td>1329</td>\n",
       "      <td>...</td>\n",
       "      <td>0</td>\n",
       "      <td>red</td>\n",
       "      <td>abs cd central-lock front-electric-windows ele...</td>\n",
       "      <td>18900.0</td>\n",
       "      <td>19500.000000</td>\n",
       "      <td>0</td>\n",
       "      <td>0</td>\n",
       "      <td>0</td>\n",
       "      <td>7</td>\n",
       "      <td>-600.000000</td>\n",
       "    </tr>\n",
       "    <tr>\n",
       "      <th>233</th>\n",
       "      <td>6071895163</td>\n",
       "      <td>2020-04-17</td>\n",
       "      <td>2020-04-24</td>\n",
       "      <td>private</td>\n",
       "      <td>slaskie</td>\n",
       "      <td>myszkow</td>\n",
       "      <td>yaris</td>\n",
       "      <td>2009</td>\n",
       "      <td>130000</td>\n",
       "      <td>1329</td>\n",
       "      <td>...</td>\n",
       "      <td>5</td>\n",
       "      <td>black</td>\n",
       "      <td>abs cd central-lock front-electric-windows ele...</td>\n",
       "      <td>15400.0</td>\n",
       "      <td>15900.000000</td>\n",
       "      <td>0</td>\n",
       "      <td>d</td>\n",
       "      <td>0</td>\n",
       "      <td>7</td>\n",
       "      <td>-500.000000</td>\n",
       "    </tr>\n",
       "  </tbody>\n",
       "</table>\n",
       "<p>5 rows × 26 columns</p>\n",
       "</div>"
      ],
      "text/plain": [
       "       offer_id     s_date     e_date private_business              region  \\\n",
       "76   6067672282 2020-04-17 2020-04-24         business       wielkopolskie   \n",
       "82   6067981935 2020-04-17 2020-04-24         business  zachodniopomorskie   \n",
       "203  6071362168 2020-04-17 2020-04-24         business         malopolskie   \n",
       "210  6071457723 2020-04-17 2020-04-24          private         malopolskie   \n",
       "233  6071895163 2020-04-17 2020-04-24          private             slaskie   \n",
       "\n",
       "           city  model  year  mileage  engine_capacity  ... nr_seats   color  \\\n",
       "76   ostrzeszow  yaris  2007   410000              998  ...        2  silver   \n",
       "82    bialogard  yaris  2006   112000             1298  ...        5   black   \n",
       "203     brzesko  yaris  2006   202910             1298  ...        5  silver   \n",
       "210   wieliczka  yaris  2009   133000             1329  ...        0     red   \n",
       "233     myszkow  yaris  2009   130000             1329  ...        5   black   \n",
       "\n",
       "                                              features    price     price_raw  \\\n",
       "76   abs cd central-lock electronic-immobiliser fro...   5400.0   4390.240234   \n",
       "82   abs cd central-lock front-electric-windows ele...  14500.0  14900.000000   \n",
       "203  abs cd central-lock front-electric-windows ele...  13999.0  14499.000000   \n",
       "210  abs cd central-lock front-electric-windows ele...  18900.0  19500.000000   \n",
       "233  abs cd central-lock front-electric-windows ele...  15400.0  15900.000000   \n",
       "\n",
       "     currency  country_origin registration duration   price_chng  \n",
       "76          0              pl            0        7  1009.759766  \n",
       "82          0               0            0        7  -400.000000  \n",
       "203         0               d            0        7  -500.000000  \n",
       "210         0               0            0        7  -600.000000  \n",
       "233         0               d            0        7  -500.000000  \n",
       "\n",
       "[5 rows x 26 columns]"
      ]
     },
     "execution_count": 63,
     "metadata": {},
     "output_type": "execute_result"
    }
   ],
   "source": [
    "df[df['price_chng']!=0].head()"
   ]
  },
  {
   "cell_type": "code",
   "execution_count": 64,
   "metadata": {},
   "outputs": [
    {
     "name": "stdout",
     "output_type": "stream",
     "text": [
      "Wall time: 59 ms\n"
     ]
    },
    {
     "data": {
      "image/png": "[encoded data removed]",
      "text/plain": [
       "<Figure size 1440x1440 with 56 Axes>"
      ]
     },
     "metadata": {
      "needs_background": "light"
     },
     "output_type": "display_data"
    }
   ],
   "source": [
    "#car features\n",
    "def benefits_to_set(value):\n",
    "    if str(value) == 'nan': return set([\"nan\"])\n",
    "    return {attr.lower().strip() for attr in value}\n",
    "    \n",
    "def norm_name(name):\n",
    "    return 'f_{0}'.format( name.lower().strip() )\n",
    "\n",
    "def feature_columns(): \n",
    "    benefits_series = df['features'].str.split(' ').map(benefits_to_set)\n",
    "    all_benefits = {benefit for row in benefits_series for benefit in row}\n",
    "    \n",
    "    feat_names = [norm_name(x) for x in all_benefits]\n",
    "    \n",
    "    for benefit in all_benefits:\n",
    "        df[ norm_name(benefit) ] = benefits_series.map(lambda x: benefit in x).astype(np.int8)\n",
    "    \n",
    "    return feat_names\n",
    "\n",
    "%time f = feature_columns()\n",
    "\n",
    "\n",
    "df[f].hist(bins=2,figsize=(20,20))\n",
    "plt.show()"
   ]
  },
  {
   "cell_type": "code",
   "execution_count": 65,
   "metadata": {},
   "outputs": [],
   "source": [
    "#df.info()"
   ]
  },
  {
   "cell_type": "code",
   "execution_count": 66,
   "metadata": {},
   "outputs": [],
   "source": [
    "#df[ [norm_name(x) for x in all_benefits] ].sample(3)"
   ]
  },
  {
   "cell_type": "code",
   "execution_count": 67,
   "metadata": {},
   "outputs": [
    {
     "data": {
      "text/html": [
       "<div>\n",
       "<style scoped>\n",
       "    .dataframe tbody tr th:only-of-type {\n",
       "        vertical-align: middle;\n",
       "    }\n",
       "\n",
       "    .dataframe tbody tr th {\n",
       "        vertical-align: top;\n",
       "    }\n",
       "\n",
       "    .dataframe thead th {\n",
       "        text-align: right;\n",
       "    }\n",
       "</style>\n",
       "<table border=\"1\" class=\"dataframe\">\n",
       "  <thead>\n",
       "    <tr style=\"text-align: right;\">\n",
       "      <th></th>\n",
       "      <th>offer_id</th>\n",
       "      <th>s_date</th>\n",
       "      <th>e_date</th>\n",
       "      <th>private_business</th>\n",
       "      <th>region</th>\n",
       "      <th>city</th>\n",
       "      <th>model</th>\n",
       "      <th>year</th>\n",
       "      <th>mileage</th>\n",
       "      <th>engine_capacity</th>\n",
       "      <th>...</th>\n",
       "      <th>f_automatic-air-conditioning</th>\n",
       "      <th>f_air-conditioning</th>\n",
       "      <th>f_central-lock</th>\n",
       "      <th>f_rear-parking-sensors</th>\n",
       "      <th>f_heated-rearview-mirrors</th>\n",
       "      <th>f_electric-adjustable-seats</th>\n",
       "      <th>f_cruise-control</th>\n",
       "      <th>f_dual-air-conditioning</th>\n",
       "      <th>f_front-passenger-airbags</th>\n",
       "      <th>f_electronic-rearview-mirrors</th>\n",
       "    </tr>\n",
       "  </thead>\n",
       "  <tbody>\n",
       "    <tr>\n",
       "      <th>15</th>\n",
       "      <td>6056320484</td>\n",
       "      <td>2020-04-17</td>\n",
       "      <td>2020-04-24</td>\n",
       "      <td>private</td>\n",
       "      <td>podkarpackie</td>\n",
       "      <td>jaslo</td>\n",
       "      <td>yaris</td>\n",
       "      <td>2009</td>\n",
       "      <td>160000</td>\n",
       "      <td>1400</td>\n",
       "      <td>...</td>\n",
       "      <td>0</td>\n",
       "      <td>1</td>\n",
       "      <td>1</td>\n",
       "      <td>0</td>\n",
       "      <td>0</td>\n",
       "      <td>0</td>\n",
       "      <td>0</td>\n",
       "      <td>0</td>\n",
       "      <td>1</td>\n",
       "      <td>1</td>\n",
       "    </tr>\n",
       "    <tr>\n",
       "      <th>230</th>\n",
       "      <td>6071889980</td>\n",
       "      <td>2020-04-17</td>\n",
       "      <td>2020-04-24</td>\n",
       "      <td>business</td>\n",
       "      <td>podkarpackie</td>\n",
       "      <td>jaroslaw</td>\n",
       "      <td>yaris</td>\n",
       "      <td>2008</td>\n",
       "      <td>152282</td>\n",
       "      <td>998</td>\n",
       "      <td>...</td>\n",
       "      <td>0</td>\n",
       "      <td>1</td>\n",
       "      <td>1</td>\n",
       "      <td>1</td>\n",
       "      <td>0</td>\n",
       "      <td>0</td>\n",
       "      <td>0</td>\n",
       "      <td>0</td>\n",
       "      <td>1</td>\n",
       "      <td>1</td>\n",
       "    </tr>\n",
       "    <tr>\n",
       "      <th>9</th>\n",
       "      <td>6053382236</td>\n",
       "      <td>2020-04-17</td>\n",
       "      <td>2020-04-24</td>\n",
       "      <td>business</td>\n",
       "      <td>podkarpackie</td>\n",
       "      <td>stalowa-wola</td>\n",
       "      <td>yaris</td>\n",
       "      <td>2005</td>\n",
       "      <td>155000</td>\n",
       "      <td>1298</td>\n",
       "      <td>...</td>\n",
       "      <td>0</td>\n",
       "      <td>1</td>\n",
       "      <td>1</td>\n",
       "      <td>0</td>\n",
       "      <td>1</td>\n",
       "      <td>0</td>\n",
       "      <td>0</td>\n",
       "      <td>0</td>\n",
       "      <td>1</td>\n",
       "      <td>1</td>\n",
       "    </tr>\n",
       "  </tbody>\n",
       "</table>\n",
       "<p>3 rows × 80 columns</p>\n",
       "</div>"
      ],
      "text/plain": [
       "       offer_id     s_date     e_date private_business        region  \\\n",
       "15   6056320484 2020-04-17 2020-04-24          private  podkarpackie   \n",
       "230  6071889980 2020-04-17 2020-04-24         business  podkarpackie   \n",
       "9    6053382236 2020-04-17 2020-04-24         business  podkarpackie   \n",
       "\n",
       "             city  model  year  mileage  engine_capacity  ...  \\\n",
       "15          jaslo  yaris  2009   160000             1400  ...   \n",
       "230      jaroslaw  yaris  2008   152282              998  ...   \n",
       "9    stalowa-wola  yaris  2005   155000             1298  ...   \n",
       "\n",
       "    f_automatic-air-conditioning f_air-conditioning  f_central-lock  \\\n",
       "15                             0                  1               1   \n",
       "230                            0                  1               1   \n",
       "9                              0                  1               1   \n",
       "\n",
       "    f_rear-parking-sensors f_heated-rearview-mirrors  \\\n",
       "15                       0                         0   \n",
       "230                      1                         0   \n",
       "9                        0                         1   \n",
       "\n",
       "     f_electric-adjustable-seats  f_cruise-control f_dual-air-conditioning  \\\n",
       "15                             0                 0                       0   \n",
       "230                            0                 0                       0   \n",
       "9                              0                 0                       0   \n",
       "\n",
       "    f_front-passenger-airbags  f_electronic-rearview-mirrors  \n",
       "15                          1                              1  \n",
       "230                         1                              1  \n",
       "9                           1                              1  \n",
       "\n",
       "[3 rows x 80 columns]"
      ]
     },
     "execution_count": 67,
     "metadata": {},
     "output_type": "execute_result"
    }
   ],
   "source": [
    "df.sample(3)"
   ]
  },
  {
   "cell_type": "markdown",
   "metadata": {},
   "source": [
    "## Wizualizacja"
   ]
  },
  {
   "cell_type": "code",
   "execution_count": 68,
   "metadata": {},
   "outputs": [
    {
     "data": {
      "application/javascript": [
       "\n",
       "(function(root) {\n",
       "  function now() {\n",
       "    return new Date();\n",
       "  }\n",
       "\n",
       "  var force = true;\n",
       "\n",
       "  if (typeof root._bokeh_onload_callbacks === \"undefined\" || force === true) {\n",
       "    root._bokeh_onload_callbacks = [];\n",
       "    root._bokeh_is_loading = undefined;\n",
       "  }\n",
       "\n",
       "  var JS_MIME_TYPE = 'application/javascript';\n",
       "  var HTML_MIME_TYPE = 'text/html';\n",
       "  var EXEC_MIME_TYPE = 'application/vnd.bokehjs_exec.v0+json';\n",
       "  var CLASS_NAME = 'output_bokeh rendered_html';\n",
       "\n",
       "  /**\n",
       "   * Render data to the DOM node\n",
       "   */\n",
       "  function render(props, node) {\n",
       "    var script = document.createElement(\"script\");\n",
       "    node.appendChild(script);\n",
       "  }\n",
       "\n",
       "  /**\n",
       "   * Handle when an output is cleared or removed\n",
       "   */\n",
       "  function handleClearOutput(event, handle) {\n",
       "    var cell = handle.cell;\n",
       "\n",
       "    var id = cell.output_area._bokeh_element_id;\n",
       "    var server_id = cell.output_area._bokeh_server_id;\n",
       "    // Clean up Bokeh references\n",
       "    if (id != null && id in Bokeh.index) {\n",
       "      Bokeh.index[id].model.document.clear();\n",
       "      delete Bokeh.index[id];\n",
       "    }\n",
       "\n",
       "    if (server_id !== undefined) {\n",
       "      // Clean up Bokeh references\n",
       "      var cmd = \"from bokeh.io.state import curstate; print(curstate().uuid_to_server['\" + server_id + \"'].get_sessions()[0].document.roots[0]._id)\";\n",
       "      cell.notebook.kernel.execute(cmd, {\n",
       "        iopub: {\n",
       "          output: function(msg) {\n",
       "            var id = msg.content.text.trim();\n",
       "            if (id in Bokeh.index) {\n",
       "              Bokeh.index[id].model.document.clear();\n",
       "              delete Bokeh.index[id];\n",
       "            }\n",
       "          }\n",
       "        }\n",
       "      });\n",
       "      // Destroy server and session\n",
       "      var cmd = \"import bokeh.io.notebook as ion; ion.destroy_server('\" + server_id + \"')\";\n",
       "      cell.notebook.kernel.execute(cmd);\n",
       "    }\n",
       "  }\n",
       "\n",
       "  /**\n",
       "   * Handle when a new output is added\n",
       "   */\n",
       "  function handleAddOutput(event, handle) {\n",
       "    var output_area = handle.output_area;\n",
       "    var output = handle.output;\n",
       "\n",
       "    // limit handleAddOutput to display_data with EXEC_MIME_TYPE content only\n",
       "    if ((output.output_type != \"display_data\") || (!output.data.hasOwnProperty(EXEC_MIME_TYPE))) {\n",
       "      return\n",
       "    }\n",
       "\n",
       "    var toinsert = output_area.element.find(\".\" + CLASS_NAME.split(' ')[0]);\n",
       "\n",
       "    if (output.metadata[EXEC_MIME_TYPE][\"id\"] !== undefined) {\n",
       "      toinsert[toinsert.length - 1].firstChild.textContent = output.data[JS_MIME_TYPE];\n",
       "      // store reference to embed id on output_area\n",
       "      output_area._bokeh_element_id = output.metadata[EXEC_MIME_TYPE][\"id\"];\n",
       "    }\n",
       "    if (output.metadata[EXEC_MIME_TYPE][\"server_id\"] !== undefined) {\n",
       "      var bk_div = document.createElement(\"div\");\n",
       "      bk_div.innerHTML = output.data[HTML_MIME_TYPE];\n",
       "      var script_attrs = bk_div.children[0].attributes;\n",
       "      for (var i = 0; i < script_attrs.length; i++) {\n",
       "        toinsert[toinsert.length - 1].firstChild.setAttribute(script_attrs[i].name, script_attrs[i].value);\n",
       "        toinsert[toinsert.length - 1].firstChild.textContent = bk_div.children[0].textContent\n",
       "      }\n",
       "      // store reference to server id on output_area\n",
       "      output_area._bokeh_server_id = output.metadata[EXEC_MIME_TYPE][\"server_id\"];\n",
       "    }\n",
       "  }\n",
       "\n",
       "  function register_renderer(events, OutputArea) {\n",
       "\n",
       "    function append_mime(data, metadata, element) {\n",
       "      // create a DOM node to render to\n",
       "      var toinsert = this.create_output_subarea(\n",
       "        metadata,\n",
       "        CLASS_NAME,\n",
       "        EXEC_MIME_TYPE\n",
       "      );\n",
       "      this.keyboard_manager.register_events(toinsert);\n",
       "      // Render to node\n",
       "      var props = {data: data, metadata: metadata[EXEC_MIME_TYPE]};\n",
       "      render(props, toinsert[toinsert.length - 1]);\n",
       "      element.append(toinsert);\n",
       "      return toinsert\n",
       "    }\n",
       "\n",
       "    /* Handle when an output is cleared or removed */\n",
       "    events.on('clear_output.CodeCell', handleClearOutput);\n",
       "    events.on('delete.Cell', handleClearOutput);\n",
       "\n",
       "    /* Handle when a new output is added */\n",
       "    events.on('output_added.OutputArea', handleAddOutput);\n",
       "\n",
       "    /**\n",
       "     * Register the mime type and append_mime function with output_area\n",
       "     */\n",
       "    OutputArea.prototype.register_mime_type(EXEC_MIME_TYPE, append_mime, {\n",
       "      /* Is output safe? */\n",
       "      safe: true,\n",
       "      /* Index of renderer in `output_area.display_order` */\n",
       "      index: 0\n",
       "    });\n",
       "  }\n",
       "\n",
       "  // register the mime type if in Jupyter Notebook environment and previously unregistered\n",
       "  if (root.Jupyter !== undefined) {\n",
       "    var events = require('base/js/events');\n",
       "    var OutputArea = require('notebook/js/outputarea').OutputArea;\n",
       "\n",
       "    if (OutputArea.prototype.mime_types().indexOf(EXEC_MIME_TYPE) == -1) {\n",
       "      register_renderer(events, OutputArea);\n",
       "    }\n",
       "  }\n",
       "\n",
       "  \n",
       "  if (typeof (root._bokeh_timeout) === \"undefined\" || force === true) {\n",
       "    root._bokeh_timeout = Date.now() + 5000;\n",
       "    root._bokeh_failed_load = false;\n",
       "  }\n",
       "\n",
       "  var NB_LOAD_WARNING = {'data': {'text/html':\n",
       "     \"<div style='background-color: #fdd'>\\n\"+\n",
       "     \"<p>\\n\"+\n",
       "     \"BokehJS does not appear to have successfully loaded. If loading BokehJS from CDN, this \\n\"+\n",
       "     \"may be due to a slow or bad network connection. Possible fixes:\\n\"+\n",
       "     \"</p>\\n\"+\n",
       "     \"<ul>\\n\"+\n",
       "     \"<li>re-rerun `output_notebook()` to attempt to load from CDN again, or</li>\\n\"+\n",
       "     \"<li>use INLINE resources instead, as so:</li>\\n\"+\n",
       "     \"</ul>\\n\"+\n",
       "     \"<code>\\n\"+\n",
       "     \"from bokeh.resources import INLINE\\n\"+\n",
       "     \"output_notebook(resources=INLINE)\\n\"+\n",
       "     \"</code>\\n\"+\n",
       "     \"</div>\"}};\n",
       "\n",
       "  function display_loaded() {\n",
       "    var el = document.getElementById(null);\n",
       "    if (el != null) {\n",
       "      el.textContent = \"BokehJS is loading...\";\n",
       "    }\n",
       "    if (root.Bokeh !== undefined) {\n",
       "      if (el != null) {\n",
       "        el.textContent = \"BokehJS \" + root.Bokeh.version + \" successfully loaded.\";\n",
       "      }\n",
       "    } else if (Date.now() < root._bokeh_timeout) {\n",
       "      setTimeout(display_loaded, 100)\n",
       "    }\n",
       "  }\n",
       "\n",
       "\n",
       "  function run_callbacks() {\n",
       "    try {\n",
       "      root._bokeh_onload_callbacks.forEach(function(callback) {\n",
       "        if (callback != null)\n",
       "          callback();\n",
       "      });\n",
       "    } finally {\n",
       "      delete root._bokeh_onload_callbacks\n",
       "    }\n",
       "    console.debug(\"Bokeh: all callbacks have finished\");\n",
       "  }\n",
       "\n",
       "  function load_libs(css_urls, js_urls, callback) {\n",
       "    if (css_urls == null) css_urls = [];\n",
       "    if (js_urls == null) js_urls = [];\n",
       "\n",
       "    root._bokeh_onload_callbacks.push(callback);\n",
       "    if (root._bokeh_is_loading > 0) {\n",
       "      console.debug(\"Bokeh: BokehJS is being loaded, scheduling callback at\", now());\n",
       "      return null;\n",
       "    }\n",
       "    if (js_urls == null || js_urls.length === 0) {\n",
       "      run_callbacks();\n",
       "      return null;\n",
       "    }\n",
       "    console.debug(\"Bokeh: BokehJS not loaded, scheduling load and callback at\", now());\n",
       "    root._bokeh_is_loading = css_urls.length + js_urls.length;\n",
       "\n",
       "    function on_load() {\n",
       "      root._bokeh_is_loading--;\n",
       "      if (root._bokeh_is_loading === 0) {\n",
       "        console.debug(\"Bokeh: all BokehJS libraries/stylesheets loaded\");\n",
       "        run_callbacks()\n",
       "      }\n",
       "    }\n",
       "\n",
       "    function on_error() {\n",
       "      console.error(\"failed to load \" + url);\n",
       "    }\n",
       "\n",
       "    for (var i = 0; i < css_urls.length; i++) {\n",
       "      var url = css_urls[i];\n",
       "      const element = document.createElement(\"link\");\n",
       "      element.onload = on_load;\n",
       "      element.onerror = on_error;\n",
       "      element.rel = \"stylesheet\";\n",
       "      element.type = \"text/css\";\n",
       "      element.href = url;\n",
       "      console.debug(\"Bokeh: injecting link tag for BokehJS stylesheet: \", url);\n",
       "      document.body.appendChild(element);\n",
       "    }\n",
       "\n",
       "    const hashes = {\"https://cdn.bokeh.org/bokeh/release/bokeh-2.0.1.min.js\": \"JpP8FXbgAZLkfur7LiK3j9AGBhHNIvF742meBJrjO2ShJDhCG2I1uVvW+0DUtrmc\", \"https://cdn.bokeh.org/bokeh/release/bokeh-widgets-2.0.1.min.js\": \"xZlADit0Q04ISQEdKg2k3L4W9AwQBAuDs9nJL9fM/WwzL1tEU9VPNezOFX0nLEAz\", \"https://cdn.bokeh.org/bokeh/release/bokeh-tables-2.0.1.min.js\": \"4BuPRZkdMKSnj3zoxiNrQ86XgNw0rYmBOxe7nshquXwwcauupgBF2DHLVG1WuZlV\", \"https://cdn.bokeh.org/bokeh/release/bokeh-gl-2.0.1.min.js\": \"Dv1SQ87hmDqK6S5OhBf0bCuwAEvL5QYL0PuR/F1SPVhCS/r/abjkbpKDYL2zeM19\"};\n",
       "\n",
       "    for (var i = 0; i < js_urls.length; i++) {\n",
       "      var url = js_urls[i];\n",
       "      var element = document.createElement('script');\n",
       "      element.onload = on_load;\n",
       "      element.onerror = on_error;\n",
       "      element.async = false;\n",
       "      element.src = url;\n",
       "      if (url in hashes) {\n",
       "        element.crossOrigin = \"anonymous\";\n",
       "        element.integrity = \"sha384-\" + hashes[url];\n",
       "      }\n",
       "      console.debug(\"Bokeh: injecting script tag for BokehJS library: \", url);\n",
       "      document.head.appendChild(element);\n",
       "    }\n",
       "  };\n",
       "\n",
       "  function inject_raw_css(css) {\n",
       "    const element = document.createElement(\"style\");\n",
       "    element.appendChild(document.createTextNode(css));\n",
       "    document.body.appendChild(element);\n",
       "  }\n",
       "\n",
       "  \n",
       "  var js_urls = [\"https://cdn.bokeh.org/bokeh/release/bokeh-2.0.1.min.js\", \"https://cdn.bokeh.org/bokeh/release/bokeh-widgets-2.0.1.min.js\", \"https://cdn.bokeh.org/bokeh/release/bokeh-tables-2.0.1.min.js\", \"https://cdn.bokeh.org/bokeh/release/bokeh-gl-2.0.1.min.js\"];\n",
       "  var css_urls = [];\n",
       "  \n",
       "\n",
       "  var inline_js = [\n",
       "    function(Bokeh) {\n",
       "      Bokeh.set_log_level(\"info\");\n",
       "    },\n",
       "    function(Bokeh) {\n",
       "    \n",
       "    \n",
       "    }\n",
       "  ];\n",
       "\n",
       "  function run_inline_js() {\n",
       "    \n",
       "    if (root.Bokeh !== undefined || force === true) {\n",
       "      \n",
       "    for (var i = 0; i < inline_js.length; i++) {\n",
       "      inline_js[i].call(root, root.Bokeh);\n",
       "    }\n",
       "    } else if (Date.now() < root._bokeh_timeout) {\n",
       "      setTimeout(run_inline_js, 100);\n",
       "    } else if (!root._bokeh_failed_load) {\n",
       "      console.log(\"Bokeh: BokehJS failed to load within specified timeout.\");\n",
       "      root._bokeh_failed_load = true;\n",
       "    } else if (force !== true) {\n",
       "      var cell = $(document.getElementById(null)).parents('.cell').data().cell;\n",
       "      cell.output_area.append_execute_result(NB_LOAD_WARNING)\n",
       "    }\n",
       "\n",
       "  }\n",
       "\n",
       "  if (root._bokeh_is_loading === 0) {\n",
       "    console.debug(\"Bokeh: BokehJS loaded, going straight to plotting\");\n",
       "    run_inline_js();\n",
       "  } else {\n",
       "    load_libs(css_urls, js_urls, function() {\n",
       "      console.debug(\"Bokeh: BokehJS plotting callback run at\", now());\n",
       "      run_inline_js();\n",
       "    });\n",
       "  }\n",
       "}(window));"
      ],
      "application/vnd.bokehjs_load.v0+json": "\n(function(root) {\n  function now() {\n    return new Date();\n  }\n\n  var force = true;\n\n  if (typeof root._bokeh_onload_callbacks === \"undefined\" || force === true) {\n    root._bokeh_onload_callbacks = [];\n    root._bokeh_is_loading = undefined;\n  }\n\n  \n\n  \n  if (typeof (root._bokeh_timeout) === \"undefined\" || force === true) {\n    root._bokeh_timeout = Date.now() + 5000;\n    root._bokeh_failed_load = false;\n  }\n\n  var NB_LOAD_WARNING = {'data': {'text/html':\n     \"<div style='background-color: #fdd'>\\n\"+\n     \"<p>\\n\"+\n     \"BokehJS does not appear to have successfully loaded. If loading BokehJS from CDN, this \\n\"+\n     \"may be due to a slow or bad network connection. Possible fixes:\\n\"+\n     \"</p>\\n\"+\n     \"<ul>\\n\"+\n     \"<li>re-rerun `output_notebook()` to attempt to load from CDN again, or</li>\\n\"+\n     \"<li>use INLINE resources instead, as so:</li>\\n\"+\n     \"</ul>\\n\"+\n     \"<code>\\n\"+\n     \"from bokeh.resources import INLINE\\n\"+\n     \"output_notebook(resources=INLINE)\\n\"+\n     \"</code>\\n\"+\n     \"</div>\"}};\n\n  function display_loaded() {\n    var el = document.getElementById(null);\n    if (el != null) {\n      el.textContent = \"BokehJS is loading...\";\n    }\n    if (root.Bokeh !== undefined) {\n      if (el != null) {\n        el.textContent = \"BokehJS \" + root.Bokeh.version + \" successfully loaded.\";\n      }\n    } else if (Date.now() < root._bokeh_timeout) {\n      setTimeout(display_loaded, 100)\n    }\n  }\n\n\n  function run_callbacks() {\n    try {\n      root._bokeh_onload_callbacks.forEach(function(callback) {\n        if (callback != null)\n          callback();\n      });\n    } finally {\n      delete root._bokeh_onload_callbacks\n    }\n    console.debug(\"Bokeh: all callbacks have finished\");\n  }\n\n  function load_libs(css_urls, js_urls, callback) {\n    if (css_urls == null) css_urls = [];\n    if (js_urls == null) js_urls = [];\n\n    root._bokeh_onload_callbacks.push(callback);\n    if (root._bokeh_is_loading > 0) {\n      console.debug(\"Bokeh: BokehJS is being loaded, scheduling callback at\", now());\n      return null;\n    }\n    if (js_urls == null || js_urls.length === 0) {\n      run_callbacks();\n      return null;\n    }\n    console.debug(\"Bokeh: BokehJS not loaded, scheduling load and callback at\", now());\n    root._bokeh_is_loading = css_urls.length + js_urls.length;\n\n    function on_load() {\n      root._bokeh_is_loading--;\n      if (root._bokeh_is_loading === 0) {\n        console.debug(\"Bokeh: all BokehJS libraries/stylesheets loaded\");\n        run_callbacks()\n      }\n    }\n\n    function on_error() {\n      console.error(\"failed to load \" + url);\n    }\n\n    for (var i = 0; i < css_urls.length; i++) {\n      var url = css_urls[i];\n      const element = document.createElement(\"link\");\n      element.onload = on_load;\n      element.onerror = on_error;\n      element.rel = \"stylesheet\";\n      element.type = \"text/css\";\n      element.href = url;\n      console.debug(\"Bokeh: injecting link tag for BokehJS stylesheet: \", url);\n      document.body.appendChild(element);\n    }\n\n    const hashes = {\"https://cdn.bokeh.org/bokeh/release/bokeh-2.0.1.min.js\": \"JpP8FXbgAZLkfur7LiK3j9AGBhHNIvF742meBJrjO2ShJDhCG2I1uVvW+0DUtrmc\", \"https://cdn.bokeh.org/bokeh/release/bokeh-widgets-2.0.1.min.js\": \"xZlADit0Q04ISQEdKg2k3L4W9AwQBAuDs9nJL9fM/WwzL1tEU9VPNezOFX0nLEAz\", \"https://cdn.bokeh.org/bokeh/release/bokeh-tables-2.0.1.min.js\": \"4BuPRZkdMKSnj3zoxiNrQ86XgNw0rYmBOxe7nshquXwwcauupgBF2DHLVG1WuZlV\", \"https://cdn.bokeh.org/bokeh/release/bokeh-gl-2.0.1.min.js\": \"Dv1SQ87hmDqK6S5OhBf0bCuwAEvL5QYL0PuR/F1SPVhCS/r/abjkbpKDYL2zeM19\"};\n\n    for (var i = 0; i < js_urls.length; i++) {\n      var url = js_urls[i];\n      var element = document.createElement('script');\n      element.onload = on_load;\n      element.onerror = on_error;\n      element.async = false;\n      element.src = url;\n      if (url in hashes) {\n        element.crossOrigin = \"anonymous\";\n        element.integrity = \"sha384-\" + hashes[url];\n      }\n      console.debug(\"Bokeh: injecting script tag for BokehJS library: \", url);\n      document.head.appendChild(element);\n    }\n  };\n\n  function inject_raw_css(css) {\n    const element = document.createElement(\"style\");\n    element.appendChild(document.createTextNode(css));\n    document.body.appendChild(element);\n  }\n\n  \n  var js_urls = [\"https://cdn.bokeh.org/bokeh/release/bokeh-2.0.1.min.js\", \"https://cdn.bokeh.org/bokeh/release/bokeh-widgets-2.0.1.min.js\", \"https://cdn.bokeh.org/bokeh/release/bokeh-tables-2.0.1.min.js\", \"https://cdn.bokeh.org/bokeh/release/bokeh-gl-2.0.1.min.js\"];\n  var css_urls = [];\n  \n\n  var inline_js = [\n    function(Bokeh) {\n      Bokeh.set_log_level(\"info\");\n    },\n    function(Bokeh) {\n    \n    \n    }\n  ];\n\n  function run_inline_js() {\n    \n    if (root.Bokeh !== undefined || force === true) {\n      \n    for (var i = 0; i < inline_js.length; i++) {\n      inline_js[i].call(root, root.Bokeh);\n    }\n    } else if (Date.now() < root._bokeh_timeout) {\n      setTimeout(run_inline_js, 100);\n    } else if (!root._bokeh_failed_load) {\n      console.log(\"Bokeh: BokehJS failed to load within specified timeout.\");\n      root._bokeh_failed_load = true;\n    } else if (force !== true) {\n      var cell = $(document.getElementById(null)).parents('.cell').data().cell;\n      cell.output_area.append_execute_result(NB_LOAD_WARNING)\n    }\n\n  }\n\n  if (root._bokeh_is_loading === 0) {\n    console.debug(\"Bokeh: BokehJS loaded, going straight to plotting\");\n    run_inline_js();\n  } else {\n    load_libs(css_urls, js_urls, function() {\n      console.debug(\"Bokeh: BokehJS plotting callback run at\", now());\n      run_inline_js();\n    });\n  }\n}(window));"
     },
     "metadata": {},
     "output_type": "display_data"
    }
   ],
   "source": [
    "import pandas as pd\n",
    "import numpy as np\n",
    "\n",
    "%matplotlib inline\n",
    "import matplotlib.pyplot as plt\n",
    "import seaborn as sns\n",
    "\n",
    "from bokeh.plotting import figure \n",
    "import bokeh_catplot\n",
    "#from bokeh.charts import Histogram\n",
    "from bokeh.io import output_notebook, show\n",
    "\n",
    "\n",
    "output_notebook(resources=None, verbose=False, hide_banner=True)"
   ]
  },
  {
   "cell_type": "code",
   "execution_count": 69,
   "metadata": {},
   "outputs": [
    {
     "data": {
      "text/html": [
       "\n",
       "\n",
       "\n",
       "\n",
       "\n",
       "\n",
       "  <div class=\"bk-root\" id=\"b8ae0b49-4380-490b-aac3-73a7840f2a09\" data-root-id=\"1285\"></div>\n"
      ]
     },
     "metadata": {},
     "output_type": "display_data"
    },
    {
     "data": {
      "application/javascript": [
       "(function(root) {\n",
       "  function embed_document(root) {\n",
       "    \n",
       "  var docs_json = {\"56d06009-7032-4f96-8671-c1d082d97568\":{\"roots\":{\"references\":[{\"attributes\":{\"below\":[{\"id\":\"1293\"}],\"center\":[{\"id\":\"1296\"},{\"id\":\"1300\"},{\"id\":\"1327\"}],\"left\":[{\"id\":\"1297\"}],\"plot_height\":300,\"plot_width\":400,\"renderers\":[{\"id\":\"1318\"},{\"id\":\"1332\"}],\"title\":{\"id\":\"1321\"},\"toolbar\":{\"id\":\"1308\"},\"x_range\":{\"id\":\"1286\"},\"x_scale\":{\"id\":\"1289\"},\"y_range\":{\"id\":\"1284\"},\"y_scale\":{\"id\":\"1291\"}},\"id\":\"1285\",\"subtype\":\"Figure\",\"type\":\"Plot\"},{\"attributes\":{\"data\":{\"x\":{\"__ndarray__\":\"AAAAAACopkAAAAAAAKimQAAAAAAAUK5AAAAAAABQrkAAAAAAAPyyQAAAAAAA/LJAAAAAAADQtkAAAAAAANC2QAAAAAAApLpAAAAAAACkukAAAAAAAHi+QAAAAAAAeL5AAAAAAAAmwUAAAAAAACbBQAAAAAAAEMNAAAAAAAAQw0AAAAAAAPrEQAAAAAAA+sRAAAAAAADkxkAAAAAAAOTGQAAAAAAAzshAAAAAAADOyEAAAAAAALjKQAAAAAAAuMpAAAAAAACizEAAAAAAAKLMQAAAAAAAjM5AAAAAAACMzkAAAAAAADvQQAAAAAAAO9BAAAAAAAAw0UAAAAAAADDRQAAAAAAAJdJAAAAAAAAl0kAAAAAAABrTQAAAAAAAGtNAAAAAAAAP1EAAAAAAAA/UQAAAAAAABNVAAAAAAAAE1UAAAAAAAPnVQAAAAAAA+dVAAAAAAAD51UAAAAAAAKimQA==\",\"dtype\":\"float64\",\"shape\":[44]},\"y\":{\"__ndarray__\":\"AAAAAAAAAAAAAAAAAADwPwAAAAAAAPA/AAAAAAAACEAAAAAAAAAIQAAAAAAAAABAAAAAAAAAAEAAAAAAAADwPwAAAAAAAPA/AAAAAAAACEAAAAAAAAAIQAAAAAAAABhAAAAAAAAAGEAAAAAAAAAIQAAAAAAAAAhAAAAAAAAALkAAAAAAAAAuQAAAAAAAAChAAAAAAAAAKEAAAAAAAAAxQAAAAAAAADFAAAAAAAAAOEAAAAAAAAA4QAAAAAAAADxAAAAAAAAAPEAAAAAAAABBQAAAAAAAAEFAAAAAAACAQUAAAAAAAIBBQAAAAAAAgEFAAAAAAACAQUAAAAAAAAAzQAAAAAAAADNAAAAAAAAAM0AAAAAAAAAzQAAAAAAAACRAAAAAAAAAJEAAAAAAAAAgQAAAAAAAACBAAAAAAAAAIEAAAAAAAAAgQAAAAAAAAAAAAAAAAAAAAAAAAAAAAAAAAA==\",\"dtype\":\"float64\",\"shape\":[44]}},\"selected\":{\"id\":\"1373\"},\"selection_policy\":{\"id\":\"1374\"}},\"id\":\"1329\",\"type\":\"ColumnDataSource\"},{\"attributes\":{\"fill_alpha\":0.3,\"fill_color\":\"#1f77b3\",\"line_alpha\":0,\"line_color\":\"#1f77b3\",\"x\":{\"field\":\"x\"},\"y\":{\"field\":\"y\"}},\"id\":\"1330\",\"type\":\"Patch\"},{\"attributes\":{\"overlay\":{\"id\":\"1307\"}},\"id\":\"1303\",\"type\":\"BoxZoomTool\"},{\"attributes\":{\"text\":\"\"},\"id\":\"1321\",\"type\":\"Title\"},{\"attributes\":{},\"id\":\"1323\",\"type\":\"BasicTickFormatter\"},{\"attributes\":{\"data\":{\"x\":{\"__ndarray__\":\"AAAAAACopkAAAAAAAKimQAAAAAAAUK5AAAAAAABQrkAAAAAAAPyyQAAAAAAA/LJAAAAAAADQtkAAAAAAANC2QAAAAAAApLpAAAAAAACkukAAAAAAAHi+QAAAAAAAeL5AAAAAAAAmwUAAAAAAACbBQAAAAAAAEMNAAAAAAAAQw0AAAAAAAPrEQAAAAAAA+sRAAAAAAADkxkAAAAAAAOTGQAAAAAAAzshAAAAAAADOyEAAAAAAALjKQAAAAAAAuMpAAAAAAACizEAAAAAAAKLMQAAAAAAAjM5AAAAAAACMzkAAAAAAADvQQAAAAAAAO9BAAAAAAAAw0UAAAAAAADDRQAAAAAAAJdJAAAAAAAAl0kAAAAAAABrTQAAAAAAAGtNAAAAAAAAP1EAAAAAAAA/UQAAAAAAABNVAAAAAAAAE1UAAAAAAAPnVQAAAAAAA+dVA\",\"dtype\":\"float64\",\"shape\":[42]},\"y\":{\"__ndarray__\":\"AAAAAAAAAAAAAAAAAADwPwAAAAAAAPA/AAAAAAAACEAAAAAAAAAIQAAAAAAAAABAAAAAAAAAAEAAAAAAAADwPwAAAAAAAPA/AAAAAAAACEAAAAAAAAAIQAAAAAAAABhAAAAAAAAAGEAAAAAAAAAIQAAAAAAAAAhAAAAAAAAALkAAAAAAAAAuQAAAAAAAAChAAAAAAAAAKEAAAAAAAAAxQAAAAAAAADFAAAAAAAAAOEAAAAAAAAA4QAAAAAAAADxAAAAAAAAAPEAAAAAAAABBQAAAAAAAAEFAAAAAAACAQUAAAAAAAIBBQAAAAAAAgEFAAAAAAACAQUAAAAAAAAAzQAAAAAAAADNAAAAAAAAAM0AAAAAAAAAzQAAAAAAAACRAAAAAAAAAJEAAAAAAAAAgQAAAAAAAACBAAAAAAAAAIEAAAAAAAAAgQAAAAAAAAAAA\",\"dtype\":\"float64\",\"shape\":[42]}},\"selected\":{\"id\":\"1340\"},\"selection_policy\":{\"id\":\"1341\"}},\"id\":\"1315\",\"type\":\"ColumnDataSource\"},{\"attributes\":{},\"id\":\"1304\",\"type\":\"SaveTool\"},{\"attributes\":{},\"id\":\"1341\",\"type\":\"UnionRenderers\"},{\"attributes\":{\"items\":[{\"id\":\"1328\"}],\"visible\":false},\"id\":\"1327\",\"type\":\"Legend\"},{\"attributes\":{\"source\":{\"id\":\"1329\"}},\"id\":\"1333\",\"type\":\"CDSView\"},{\"attributes\":{\"data_source\":{\"id\":\"1329\"},\"glyph\":{\"id\":\"1330\"},\"hover_glyph\":null,\"muted_glyph\":null,\"nonselection_glyph\":{\"id\":\"1331\"},\"selection_glyph\":null,\"view\":{\"id\":\"1333\"}},\"id\":\"1332\",\"type\":\"GlyphRenderer\"},{\"attributes\":{\"data_source\":{\"id\":\"1315\"},\"glyph\":{\"id\":\"1316\"},\"hover_glyph\":null,\"muted_glyph\":null,\"nonselection_glyph\":{\"id\":\"1317\"},\"selection_glyph\":null,\"view\":{\"id\":\"1319\"}},\"id\":\"1318\",\"type\":\"GlyphRenderer\"},{\"attributes\":{},\"id\":\"1289\",\"type\":\"LinearScale\"},{\"attributes\":{},\"id\":\"1306\",\"type\":\"HelpTool\"},{\"attributes\":{},\"id\":\"1340\",\"type\":\"Selection\"},{\"attributes\":{\"axis_label\":\"price\",\"formatter\":{\"id\":\"1323\"},\"ticker\":{\"id\":\"1294\"}},\"id\":\"1293\",\"type\":\"LinearAxis\"},{\"attributes\":{\"bottom_units\":\"screen\",\"fill_alpha\":0.5,\"fill_color\":\"lightgrey\",\"left_units\":\"screen\",\"level\":\"overlay\",\"line_alpha\":1.0,\"line_color\":\"black\",\"line_dash\":[4,4],\"line_width\":2,\"render_mode\":\"css\",\"right_units\":\"screen\",\"top_units\":\"screen\"},\"id\":\"1307\",\"type\":\"BoxAnnotation\"},{\"attributes\":{\"start\":0},\"id\":\"1284\",\"type\":\"DataRange1d\"},{\"attributes\":{},\"id\":\"1301\",\"type\":\"PanTool\"},{\"attributes\":{},\"id\":\"1291\",\"type\":\"LinearScale\"},{\"attributes\":{},\"id\":\"1286\",\"type\":\"DataRange1d\"},{\"attributes\":{\"axis\":{\"id\":\"1297\"},\"dimension\":1,\"ticker\":null},\"id\":\"1300\",\"type\":\"Grid\"},{\"attributes\":{},\"id\":\"1373\",\"type\":\"Selection\"},{\"attributes\":{},\"id\":\"1325\",\"type\":\"BasicTickFormatter\"},{\"attributes\":{\"axis_label\":\"count\",\"formatter\":{\"id\":\"1325\"},\"ticker\":{\"id\":\"1298\"}},\"id\":\"1297\",\"type\":\"LinearAxis\"},{\"attributes\":{\"axis\":{\"id\":\"1293\"},\"ticker\":null},\"id\":\"1296\",\"type\":\"Grid\"},{\"attributes\":{\"label\":{\"value\":\" \"},\"renderers\":[{\"id\":\"1318\"},{\"id\":\"1332\"}]},\"id\":\"1328\",\"type\":\"LegendItem\"},{\"attributes\":{},\"id\":\"1305\",\"type\":\"ResetTool\"},{\"attributes\":{\"line_color\":\"#1f77b3\",\"line_width\":2,\"x\":{\"field\":\"x\"},\"y\":{\"field\":\"y\"}},\"id\":\"1316\",\"type\":\"Line\"},{\"attributes\":{\"source\":{\"id\":\"1315\"}},\"id\":\"1319\",\"type\":\"CDSView\"},{\"attributes\":{},\"id\":\"1302\",\"type\":\"WheelZoomTool\"},{\"attributes\":{},\"id\":\"1294\",\"type\":\"BasicTicker\"},{\"attributes\":{},\"id\":\"1374\",\"type\":\"UnionRenderers\"},{\"attributes\":{\"line_alpha\":0.1,\"line_color\":\"#1f77b3\",\"line_width\":2,\"x\":{\"field\":\"x\"},\"y\":{\"field\":\"y\"}},\"id\":\"1317\",\"type\":\"Line\"},{\"attributes\":{\"fill_alpha\":0.1,\"fill_color\":\"#1f77b3\",\"line_alpha\":0.1,\"line_color\":\"#1f77b3\",\"x\":{\"field\":\"x\"},\"y\":{\"field\":\"y\"}},\"id\":\"1331\",\"type\":\"Patch\"},{\"attributes\":{},\"id\":\"1298\",\"type\":\"BasicTicker\"},{\"attributes\":{\"active_drag\":\"auto\",\"active_inspect\":\"auto\",\"active_multi\":null,\"active_scroll\":\"auto\",\"active_tap\":\"auto\",\"tools\":[{\"id\":\"1301\"},{\"id\":\"1302\"},{\"id\":\"1303\"},{\"id\":\"1304\"},{\"id\":\"1305\"},{\"id\":\"1306\"}]},\"id\":\"1308\",\"type\":\"Toolbar\"}],\"root_ids\":[\"1285\"]},\"title\":\"Bokeh Application\",\"version\":\"2.0.1\"}};\n",
       "  var render_items = [{\"docid\":\"56d06009-7032-4f96-8671-c1d082d97568\",\"root_ids\":[\"1285\"],\"roots\":{\"1285\":\"b8ae0b49-4380-490b-aac3-73a7840f2a09\"}}];\n",
       "  root.Bokeh.embed.embed_items_notebook(docs_json, render_items);\n",
       "\n",
       "  }\n",
       "  if (root.Bokeh !== undefined) {\n",
       "    embed_document(root);\n",
       "  } else {\n",
       "    var attempts = 0;\n",
       "    var timer = setInterval(function(root) {\n",
       "      if (root.Bokeh !== undefined) {\n",
       "        clearInterval(timer);\n",
       "        embed_document(root);\n",
       "      } else {\n",
       "        attempts++;\n",
       "        if (attempts > 100) {\n",
       "          clearInterval(timer);\n",
       "          console.log(\"Bokeh: ERROR: Unable to run BokehJS code because BokehJS library is missing\");\n",
       "        }\n",
       "      }\n",
       "    }, 10, root)\n",
       "  }\n",
       "})(window);"
      ],
      "application/vnd.bokehjs_exec.v0+json": ""
     },
     "metadata": {
      "application/vnd.bokehjs_exec.v0+json": {
       "id": "1285"
      }
     },
     "output_type": "display_data"
    },
    {
     "name": "stdout",
     "output_type": "stream",
     "text": [
      "Wall time: 56 ms\n"
     ]
    }
   ],
   "source": [
    "def plot_bokeh():\n",
    "    p = figure(plot_width=400, plot_height=400)\n",
    "\n",
    "    # add a circle renderer with a size, color, and alpha\n",
    "    p.circle([1, 2, 3, 4, 5], [6, 7, 2, 4, 5], size=20, color=\"navy\", alpha=0.5)\n",
    "\n",
    "    \n",
    "    # show the results\n",
    "    show(p)\n",
    "\n",
    "def plot_hist():\n",
    "    # http://justinbois.github.io/bootcamp/2019/lessons/l23_high_level_plotting.html\n",
    "    # https://github.com/justinbois/bokeh-catplot\n",
    "    p = bokeh_catplot.histogram(data=df['price'],cats=None,val='price', bins=20)\n",
    "    show(p)\n",
    "#%time plot_bokeh() \n",
    "\n",
    "%time plot_hist()"
   ]
  },
  {
   "cell_type": "markdown",
   "metadata": {},
   "source": [
    "### Pojemność silnika"
   ]
  },
  {
   "cell_type": "code",
   "execution_count": 70,
   "metadata": {},
   "outputs": [
    {
     "data": {
      "image/png": "[encoded data removed]",
      "text/plain": [
       "<Figure size 1440x360 with 1 Axes>"
      ]
     },
     "metadata": {
      "needs_background": "light"
     },
     "output_type": "display_data"
    }
   ],
   "source": [
    "disp_counter = df['engine_capacity'].nunique()\n",
    "df['engine_capacity'].hist(bins=disp_counter,figsize=(20,5))\n",
    "plt.show()"
   ]
  },
  {
   "cell_type": "markdown",
   "metadata": {},
   "source": [
    "### Czas trwania ogłoszenia"
   ]
  },
  {
   "cell_type": "code",
   "execution_count": 71,
   "metadata": {},
   "outputs": [
    {
     "data": {
      "image/png": "[encoded data removed]",
      "text/plain": [
       "<Figure size 1440x360 with 1 Axes>"
      ]
     },
     "metadata": {
      "needs_background": "light"
     },
     "output_type": "display_data"
    }
   ],
   "source": [
    "offer_duration = df['duration'].max()\n",
    "df['duration'].hist(bins=offer_duration,figsize=(20,5))\n",
    "plt.show()"
   ]
  },
  {
   "cell_type": "markdown",
   "metadata": {},
   "source": [
    "### Cena końcowa"
   ]
  },
  {
   "cell_type": "code",
   "execution_count": 72,
   "metadata": {},
   "outputs": [
    {
     "data": {
      "image/png": "[encoded data removed]",
      "text/plain": [
       "<Figure size 1440x360 with 1 Axes>"
      ]
     },
     "metadata": {
      "needs_background": "light"
     },
     "output_type": "display_data"
    }
   ],
   "source": [
    "df['price'].hist(bins=50,figsize=(20,5))\n",
    "plt.show()"
   ]
  },
  {
   "cell_type": "code",
   "execution_count": 73,
   "metadata": {},
   "outputs": [
    {
     "data": {
      "text/plain": [
       "21999.18"
      ]
     },
     "execution_count": 73,
     "metadata": {},
     "output_type": "execute_result"
    }
   ],
   "source": [
    "filter_max = np.percentile(df['price'],99)\n",
    "filter_max"
   ]
  },
  {
   "cell_type": "markdown",
   "metadata": {},
   "source": [
    "### Cena końcowa - 99 percentyl"
   ]
  },
  {
   "cell_type": "code",
   "execution_count": 74,
   "metadata": {},
   "outputs": [
    {
     "data": {
      "image/png": "[encoded data removed]",
      "text/plain": [
       "<Figure size 1440x360 with 1 Axes>"
      ]
     },
     "metadata": {
      "needs_background": "light"
     },
     "output_type": "display_data"
    }
   ],
   "source": [
    "df_filter = df[df['price'] < filter_max]\n",
    "df_filter['price'].hist(bins=50,figsize=(20,5))\n",
    "plt.show()"
   ]
  },
  {
   "cell_type": "markdown",
   "metadata": {},
   "source": [
    "### Przebieg"
   ]
  },
  {
   "cell_type": "code",
   "execution_count": 75,
   "metadata": {},
   "outputs": [
    {
     "data": {
      "image/png": "[encoded data removed]",
      "text/plain": [
       "<Figure size 1440x360 with 1 Axes>"
      ]
     },
     "metadata": {
      "needs_background": "light"
     },
     "output_type": "display_data"
    }
   ],
   "source": [
    "df['mileage'].hist(bins=150,figsize=(20,5))\n",
    "plt.show()"
   ]
  },
  {
   "cell_type": "markdown",
   "metadata": {},
   "source": [
    "### Przebieg - 99 percentyl"
   ]
  },
  {
   "cell_type": "code",
   "execution_count": 76,
   "metadata": {},
   "outputs": [
    {
     "data": {
      "image/png": "[encoded data removed]",
      "text/plain": [
       "<Figure size 1440x360 with 1 Axes>"
      ]
     },
     "metadata": {
      "needs_background": "light"
     },
     "output_type": "display_data"
    }
   ],
   "source": [
    "df_mileage = df[df['mileage'] < np.percentile(df['mileage'],99)]\n",
    "df_mileage['mileage'].hist(bins=150,figsize=(20,5))\n",
    "plt.show()"
   ]
  },
  {
   "cell_type": "code",
   "execution_count": 77,
   "metadata": {},
   "outputs": [
    {
     "data": {
      "image/png": "[encoded data removed]",
      "text/plain": [
       "<Figure size 1440x360 with 1 Axes>"
      ]
     },
     "metadata": {
      "needs_background": "light"
     },
     "output_type": "display_data"
    }
   ],
   "source": [
    "offer_year = df['year'].nunique()*2\n",
    "df['year'].hist(bins=offer_year,figsize=(20,5))\n",
    "plt.show()"
   ]
  },
  {
   "cell_type": "code",
   "execution_count": 78,
   "metadata": {},
   "outputs": [],
   "source": [
    "#x=[2009,2010,2011]\n",
    "#y=[200,300,400]\n",
    "#df = pd.DataFrame(dict(x=x, y=y))\n",
    "\n",
    "#print(type(df))\n",
    "\n",
    "#ax = sns.barplot(x=x, y=y)"
   ]
  },
  {
   "cell_type": "code",
   "execution_count": 88,
   "metadata": {},
   "outputs": [
    {
     "data": {
      "text/plain": [
       "63"
      ]
     },
     "execution_count": 88,
     "metadata": {},
     "output_type": "execute_result"
    }
   ],
   "source": [
    "df[df['year'] == 2009 ].shape[0]"
   ]
  },
  {
   "cell_type": "code",
   "execution_count": 87,
   "metadata": {},
   "outputs": [
    {
     "name": "stdout",
     "output_type": "stream",
     "text": [
      "Wall time: 143 ms\n"
     ]
    },
    {
     "data": {
      "image/png": "[encoded data removed]",
      "text/plain": [
       "<Figure size 1440x360 with 1 Axes>"
      ]
     },
     "metadata": {},
     "output_type": "display_data"
    }
   ],
   "source": [
    "def plot_year():\n",
    "    year_list = df['year'].unique()\n",
    "\n",
    "    x = []\n",
    "    y = []\n",
    "    for i in year_list:\n",
    "        x.append(i)\n",
    "        y.append(df[df['year'] == i ].shape[0])\n",
    "    \n",
    "    sdf = pd.DataFrame(dict(x=x, y=y)).sort_values(by=['x'])\n",
    "\n",
    "    sns.set_style(\"darkgrid\")  \n",
    "    plt.figure(figsize=(20,5))\n",
    "    ax = sns.barplot(x=x, y=y, data=sdf, palette=(\"YlGnBu\"))\n",
    "    ax.set(xlabel='rocznik', ylabel='liczba ogłoszeń')\n",
    "    sns.set_context(\"talk\")\n",
    "    plt.savefig('sns.png')\n",
    "    \n",
    "%time plot_year()\n"
   ]
  },
  {
   "cell_type": "code",
   "execution_count": null,
   "metadata": {},
   "outputs": [],
   "source": []
  },
  {
   "cell_type": "markdown",
   "metadata": {},
   "source": [
    "## ML"
   ]
  },
  {
   "cell_type": "code",
   "execution_count": 78,
   "metadata": {},
   "outputs": [],
   "source": [
    "np.random.seed(0)\n",
    "import xgboost as xgb\n",
    "\n",
    "from sklearn.model_selection import train_test_split, KFold, StratifiedKFold, cross_val_score, cross_validate, cross_val_predict\n",
    "from sklearn.metrics import accuracy_score, recall_score, confusion_matrix, classification_report\n",
    "import scikitplot as skplt\n",
    "\n",
    "xgb_params = {\n",
    "    'max_depth' : 5, \n",
    "    'n_estimators' : 100, \n",
    "    'learning_rate' : 0.3, \n",
    "    'random_state' : 0\n",
    "}\n",
    "\n",
    "model = xgb.XGBRegressor(**xgb_params)"
   ]
  },
  {
   "cell_type": "code",
   "execution_count": 79,
   "metadata": {},
   "outputs": [
    {
     "name": "stdout",
     "output_type": "stream",
     "text": [
      "['year', 'mileage', 'engine_capacity', 'engine_power', 'door_count', 'nr_seats', 'duration', 'price_chng', 'f_onboard-computer', 'f_0', 'f_asr', 'f_esp', 'f_head-display', 'f_park-assist', 'f_roof-bars', 'f_bluetooth', 'f_daytime-lights', 'f_electric-interior-mirror', 'f_sd-socket', 'f_side-window-airbags', 'f_heated-rearview-mirrors', 'f_automatic-air-conditioning', 'f_aux-in', 'f_automatic-wipers', 'f_front-electric-windows', 'f_front-passenger-airbags', 'f_gps', 'f_front-heated-seats', 'f_isofix', 'f_central-lock', 'f_driver-knee-airbag', 'f_alarm', 'f_alloy-wheels', 'f_heated-windshield', 'f_electronic-rearview-mirrors', 'f_electronic-immobiliser', 'f_assisted-steering', 'f_leds', 'f_fog-lights', 'f_rear-electric-windows', 'f_shift-paddles', 'f_velour-interior', 'f_electric-adjustable-seats', 'f_cd-changer', 'f_mp3', 'f_front-airbags', 'f_rear-parking-sensors', 'f_cd', 'f_rear-passenger-airbags', 'f_steering-whell-comands', 'f_tinted-windows', 'f_system-start-stop', 'f_dual-air-conditioning', 'f_original-radio', 'f_cruise-control', 'f_usb-socket', 'f_air-conditioning', 'f_abs', 'f_towing-hook', 'f_front-side-airbags', 'f_electric-exterior-mirror', 'f_automatic-lights']\n",
      "[13:02:09] WARNING: src/objective/regression_obj.cu:152: reg:linear is now deprecated in favor of reg:squarederror.\n",
      "Wall time: 165 ms\n"
     ]
    },
    {
     "data": {
      "image/png": "[encoded data removed]",
      "text/plain": [
       "<Figure size 1080x360 with 1 Axes>"
      ]
     },
     "metadata": {
      "needs_background": "light"
     },
     "output_type": "display_data"
    }
   ],
   "source": [
    "def get_feats(df):\n",
    "    feats = df.select_dtypes([np.number, np.bool]).columns\n",
    "    black_list = ['price', 'price_raw', 'offer_id']\n",
    "    return [x for x in feats if x not in black_list]\n",
    "\n",
    "def get_cat_feats(df):\n",
    "    cat_feats = df.select_dtypes(include=[np.object]).columns\n",
    "    black_list = ['features', 'model']\n",
    "    cat_feats_list =  [x for x in cat_feats if x not in black_list]\n",
    "\n",
    "    for cat_feat in cat_feats_list:\n",
    "        df['{0}_cat'.format(cat_feat)] = pd.factorize( df[cat_feat] )[0]\n",
    "\n",
    "    \n",
    "feats = get_feats(df)\n",
    "print(feats)\n",
    "\n",
    "X = df[feats].values\n",
    "y = df['price'].values\n",
    "\n",
    "\n",
    "def simple_split_model(model, X,y):\n",
    "    #train and predict\n",
    "    X_train, X_test, y_train, y_test = train_test_split(X, y, test_size=0.2)\n",
    "    \n",
    "    model.fit(X_train, y_train)\n",
    "    y_pred = model.predict(X_test)\n",
    "    \n",
    "    #print(confusion_matrix(y_test.astype(int), y_pred.astype(int)))\n",
    "    #print(classification_report(y_test.astype(int), y_pred.astype(int)))   \n",
    "    #print(mean_squared_error(y_test.astype(int), y_pred.astype(int)))\n",
    "    \n",
    "    skplt.estimators.plot_feature_importances(model, feature_names=feats, title='Features importance', x_tick_rotation=90, figsize=(15, 5));\n",
    "    #skplt.estimators.plot_learning_curve(model, X_train, y_train,'Learning Curve',cv=5);\n",
    "    #xgb.plot_importance(model.get_booster(), importance_type='gain')\n",
    "\n",
    "%time simple_split_model(model, X, y)"
   ]
  },
  {
   "cell_type": "code",
   "execution_count": 80,
   "metadata": {},
   "outputs": [
    {
     "name": "stdout",
     "output_type": "stream",
     "text": [
      "['year', 'mileage', 'engine_capacity', 'engine_power', 'door_count', 'nr_seats', 'duration', 'price_chng', 'f_onboard-computer', 'f_0', 'f_asr', 'f_esp', 'f_head-display', 'f_park-assist', 'f_roof-bars', 'f_bluetooth', 'f_daytime-lights', 'f_electric-interior-mirror', 'f_sd-socket', 'f_side-window-airbags', 'f_heated-rearview-mirrors', 'f_automatic-air-conditioning', 'f_aux-in', 'f_automatic-wipers', 'f_front-electric-windows', 'f_front-passenger-airbags', 'f_gps', 'f_front-heated-seats', 'f_isofix', 'f_central-lock', 'f_driver-knee-airbag', 'f_alarm', 'f_alloy-wheels', 'f_heated-windshield', 'f_electronic-rearview-mirrors', 'f_electronic-immobiliser', 'f_assisted-steering', 'f_leds', 'f_fog-lights', 'f_rear-electric-windows', 'f_shift-paddles', 'f_velour-interior', 'f_electric-adjustable-seats', 'f_cd-changer', 'f_mp3', 'f_front-airbags', 'f_rear-parking-sensors', 'f_cd', 'f_rear-passenger-airbags', 'f_steering-whell-comands', 'f_tinted-windows', 'f_system-start-stop', 'f_dual-air-conditioning', 'f_original-radio', 'f_cruise-control', 'f_usb-socket', 'f_air-conditioning', 'f_abs', 'f_towing-hook', 'f_front-side-airbags', 'f_electric-exterior-mirror', 'f_automatic-lights', 'private_business_cat', 'region_cat', 'city_cat', 'vin_cat', 'fuel_type_cat', 'gearbox_cat', 'transmission_cat', 'color_cat', 'currency_cat', 'country_origin_cat', 'registration_cat']\n"
     ]
    }
   ],
   "source": [
    "get_cat_feats(df)\n",
    "feats = get_feats(df)\n",
    "print(feats)"
   ]
  },
  {
   "cell_type": "code",
   "execution_count": null,
   "metadata": {},
   "outputs": [],
   "source": []
  }
 ],
 "metadata": {
  "kernelspec": {
   "display_name": "Python 3",
   "language": "python",
   "name": "python3"
  },
  "language_info": {
   "codemirror_mode": {
    "name": "ipython",
    "version": 3
   },
   "file_extension": ".py",
   "mimetype": "text/x-python",
   "name": "python",
   "nbconvert_exporter": "python",
   "pygments_lexer": "ipython3",
   "version": "3.7.7"
  }
 },
 "nbformat": 4,
 "nbformat_minor": 2
}
