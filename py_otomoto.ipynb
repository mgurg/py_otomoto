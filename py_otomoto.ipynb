{
 "cells": [
  {
   "cell_type": "markdown",
   "metadata": {},
   "source": [
    "## Test field"
   ]
  },
  {
   "cell_type": "code",
   "execution_count": 4,
   "metadata": {},
   "outputs": [
    {
     "name": "stdout",
     "output_type": "stream",
     "text": [
      "abs cd central-lock front-electric-windows electronic-rearview-mirrors electronic-immobiliser front-airbags front-passenger-airbags original-radio assisted-steering alarm electric-exterior-mirror electric-interior-mirror air-conditioning onboard-computer front-side-airbags rear-passenger-airbags roof-bars fog-lights velour-interior\n"
     ]
    }
   ],
   "source": [
    "mylist = ['abs', 'cd', 'central-lock', 'front-electric-windows', 'electronic-rearview-mirrors', 'electronic-immobiliser', 'front-airbags', 'front-passenger-airbags', 'original-radio', 'assisted-steering', 'alarm', 'electric-exterior-mirror', 'electric-interior-mirror', 'air-conditioning', 'onboard-computer', 'front-side-airbags', 'rear-passenger-airbags', 'roof-bars', 'fog-lights', 'velour-interior']\n",
    "print(' '.join(mylist))"
   ]
  },
  {
   "cell_type": "code",
   "execution_count": 3,
   "metadata": {},
   "outputs": [
    {
     "name": "stdout",
     "output_type": "stream",
     "text": [
      "toyota yaris 1 3 serwisowany\n",
      "['abs', 'cd', 'central-lock', 'front-electric-windows', 'electronic-rearview-mirrors', 'electronic-immobiliser', 'front-airbags', 'front-passenger-airbags', 'original-radio', 'assisted-steering', 'esp', 'isofix', 'air-conditioning', 'onboard-computer', 'side-window-airbags', 'heated-rearview-mirrors', 'driver-knee-airbag', 'front-side-airbags', 'rear-passenger-airbags', 'alarm', 'mp3', 'rear-parking-sensors']\n"
     ]
    },
    {
     "data": {
      "text/html": [
       "<div>\n",
       "<style scoped>\n",
       "    .dataframe tbody tr th:only-of-type {\n",
       "        vertical-align: middle;\n",
       "    }\n",
       "\n",
       "    .dataframe tbody tr th {\n",
       "        vertical-align: top;\n",
       "    }\n",
       "\n",
       "    .dataframe thead th {\n",
       "        text-align: right;\n",
       "    }\n",
       "</style>\n",
       "<table border=\"1\" class=\"dataframe\">\n",
       "  <thead>\n",
       "    <tr style=\"text-align: right;\">\n",
       "      <th></th>\n",
       "      <th>title</th>\n",
       "      <th>offer_seek</th>\n",
       "      <th>private_business</th>\n",
       "      <th>category</th>\n",
       "      <th>region</th>\n",
       "      <th>subregion</th>\n",
       "      <th>ad_id</th>\n",
       "      <th>city</th>\n",
       "      <th>make</th>\n",
       "      <th>model</th>\n",
       "      <th>...</th>\n",
       "      <th>door_count</th>\n",
       "      <th>nr_seats</th>\n",
       "      <th>color</th>\n",
       "      <th>features</th>\n",
       "      <th>price</th>\n",
       "      <th>price_raw</th>\n",
       "      <th>country_origin</th>\n",
       "      <th>user_status</th>\n",
       "      <th>sponsor_financing</th>\n",
       "      <th>env</th>\n",
       "    </tr>\n",
       "  </thead>\n",
       "  <tbody>\n",
       "    <tr>\n",
       "      <td>0</td>\n",
       "      <td>toyota yaris 1 3 serwisowany</td>\n",
       "      <td>offer</td>\n",
       "      <td>private</td>\n",
       "      <td>osobowe</td>\n",
       "      <td>slaskie</td>\n",
       "      <td>raciborz</td>\n",
       "      <td>6036867722</td>\n",
       "      <td>raciborz</td>\n",
       "      <td>[toyota]</td>\n",
       "      <td>[yaris]</td>\n",
       "      <td>...</td>\n",
       "      <td>[5]</td>\n",
       "      <td>[5]</td>\n",
       "      <td>[red]</td>\n",
       "      <td>[abs, cd, central-lock, front-electric-windows...</td>\n",
       "      <td>[10000-15000]</td>\n",
       "      <td>14900</td>\n",
       "      <td>[d]</td>\n",
       "      <td>0</td>\n",
       "      <td>false</td>\n",
       "      <td>prod</td>\n",
       "    </tr>\n",
       "  </tbody>\n",
       "</table>\n",
       "<p>1 rows × 28 columns</p>\n",
       "</div>"
      ],
      "text/plain": [
       "                          title offer_seek private_business category   region  \\\n",
       "0  toyota yaris 1 3 serwisowany      offer          private  osobowe  slaskie   \n",
       "\n",
       "  subregion       ad_id      city      make    model  ... door_count nr_seats  \\\n",
       "0  raciborz  6036867722  raciborz  [toyota]  [yaris]  ...        [5]      [5]   \n",
       "\n",
       "   color                                           features          price  \\\n",
       "0  [red]  [abs, cd, central-lock, front-electric-windows...  [10000-15000]   \n",
       "\n",
       "  price_raw country_origin user_status sponsor_financing   env  \n",
       "0     14900            [d]           0             false  prod  \n",
       "\n",
       "[1 rows x 28 columns]"
      ]
     },
     "execution_count": 3,
     "metadata": {},
     "output_type": "execute_result"
    }
   ],
   "source": [
    "import json \n",
    "import pandas as pd \n",
    "from pandas.io.json import json_normalize \n",
    "\n",
    "def flatten_json(y):\n",
    "    out = {}\n",
    "\n",
    "    def flatten(x, name=''):\n",
    "        if type(x) is dict:\n",
    "            for a in x:\n",
    "                flatten(x[a], name + a + '_')\n",
    "        elif type(x) is list:\n",
    "            i = 0\n",
    "            for a in x:\n",
    "                flatten(a, name + str(i) + '_')\n",
    "                i += 1\n",
    "        else:\n",
    "            out[name[:-1]] = x\n",
    "\n",
    "    flatten(y)\n",
    "    return out\n",
    "\n",
    "with open(\"y.json\") as f:\n",
    "    d = json.load(f)\n",
    "\n",
    "print(d['title'])    \n",
    "print(d['features'])\n",
    "    \n",
    "flat = flatten_json(d)\n",
    "\n",
    "\n",
    "yaris = json_normalize(d)\n",
    "yaris.head(3)"
   ]
  },
  {
   "cell_type": "code",
   "execution_count": null,
   "metadata": {},
   "outputs": [],
   "source": []
  },
  {
   "cell_type": "code",
   "execution_count": 17,
   "metadata": {},
   "outputs": [
    {
     "data": {
      "text/plain": [
       "list"
      ]
     },
     "execution_count": 17,
     "metadata": {},
     "output_type": "execute_result"
    }
   ],
   "source": [
    "type(yaris['features'].values[0])"
   ]
  },
  {
   "cell_type": "code",
   "execution_count": 18,
   "metadata": {},
   "outputs": [
    {
     "data": {
      "text/plain": [
       "['abs',\n",
       " 'cd',\n",
       " 'central-lock',\n",
       " 'front-electric-windows',\n",
       " 'electronic-rearview-mirrors',\n",
       " 'electronic-immobiliser',\n",
       " 'front-airbags',\n",
       " 'front-passenger-airbags',\n",
       " 'original-radio',\n",
       " 'assisted-steering',\n",
       " 'esp',\n",
       " 'isofix',\n",
       " 'air-conditioning',\n",
       " 'onboard-computer',\n",
       " 'side-window-airbags',\n",
       " 'heated-rearview-mirrors',\n",
       " 'driver-knee-airbag',\n",
       " 'front-side-airbags',\n",
       " 'rear-passenger-airbags',\n",
       " 'alarm',\n",
       " 'mp3',\n",
       " 'rear-parking-sensors']"
      ]
     },
     "execution_count": 18,
     "metadata": {},
     "output_type": "execute_result"
    }
   ],
   "source": [
    "yaris['features'].values[0]"
   ]
  },
  {
   "cell_type": "code",
   "execution_count": 19,
   "metadata": {},
   "outputs": [
    {
     "data": {
      "text/plain": [
       "Index(['title', 'offer_seek', 'private_business', 'category', 'region',\n",
       "       'subregion', 'ad_id', 'city', 'make', 'model', 'year', 'mileage',\n",
       "       'engine_capacity', 'fuel_type', 'engine_power', 'gearbox',\n",
       "       'transmission', 'body_type', 'door_count', 'nr_seats', 'color',\n",
       "       'features', 'price', 'price_raw', 'country_origin', 'user_status',\n",
       "       'sponsor_financing', 'env'],\n",
       "      dtype='object')"
      ]
     },
     "execution_count": 19,
     "metadata": {},
     "output_type": "execute_result"
    }
   ],
   "source": [
    "yaris.columns"
   ]
  },
  {
   "cell_type": "markdown",
   "metadata": {},
   "source": [
    "## py_otomoto"
   ]
  },
  {
   "cell_type": "code",
   "execution_count": 1,
   "metadata": {},
   "outputs": [],
   "source": [
    "import pandas as pd\n",
    "import numpy as np\n",
    "%matplotlib inline\n",
    "import matplotlib.pyplot as plt\n",
    "import seaborn as sns"
   ]
  },
  {
   "cell_type": "code",
   "execution_count": 2,
   "metadata": {},
   "outputs": [
    {
     "data": {
      "text/html": [
       "<div>\n",
       "<style scoped>\n",
       "    .dataframe tbody tr th:only-of-type {\n",
       "        vertical-align: middle;\n",
       "    }\n",
       "\n",
       "    .dataframe tbody tr th {\n",
       "        vertical-align: top;\n",
       "    }\n",
       "\n",
       "    .dataframe thead th {\n",
       "        text-align: right;\n",
       "    }\n",
       "</style>\n",
       "<table border=\"1\" class=\"dataframe\">\n",
       "  <thead>\n",
       "    <tr style=\"text-align: right;\">\n",
       "      <th></th>\n",
       "      <th>offer_id</th>\n",
       "      <th>city</th>\n",
       "      <th>region</th>\n",
       "      <th>model</th>\n",
       "      <th>year</th>\n",
       "      <th>mileage</th>\n",
       "      <th>fuel_type</th>\n",
       "      <th>displacement</th>\n",
       "      <th>price</th>\n",
       "      <th>currency</th>\n",
       "      <th>pub_date</th>\n",
       "      <th>duration</th>\n",
       "      <th>end_price</th>\n",
       "    </tr>\n",
       "  </thead>\n",
       "  <tbody>\n",
       "    <tr>\n",
       "      <td>0</td>\n",
       "      <td>6069449316</td>\n",
       "      <td>Prudnik</td>\n",
       "      <td>Opolskie</td>\n",
       "      <td>Toyota Yaris II</td>\n",
       "      <td>2009</td>\n",
       "      <td>153000</td>\n",
       "      <td>Diesel</td>\n",
       "      <td>-1</td>\n",
       "      <td>12999</td>\n",
       "      <td>PLN</td>\n",
       "      <td>2019-12-31</td>\n",
       "      <td>7</td>\n",
       "      <td>12999</td>\n",
       "    </tr>\n",
       "    <tr>\n",
       "      <td>1</td>\n",
       "      <td>6068202189</td>\n",
       "      <td>Włocławek</td>\n",
       "      <td>Kujawsko-pomorskie</td>\n",
       "      <td>Toyota Yaris II</td>\n",
       "      <td>2008</td>\n",
       "      <td>110000</td>\n",
       "      <td>Benzyna</td>\n",
       "      <td>1298</td>\n",
       "      <td>17600</td>\n",
       "      <td>PLN</td>\n",
       "      <td>2019-12-31</td>\n",
       "      <td>21</td>\n",
       "      <td>16900</td>\n",
       "    </tr>\n",
       "    <tr>\n",
       "      <td>2</td>\n",
       "      <td>6067206317</td>\n",
       "      <td>Łódź</td>\n",
       "      <td>Łódzkie</td>\n",
       "      <td>Toyota Yaris II</td>\n",
       "      <td>2010</td>\n",
       "      <td>167938</td>\n",
       "      <td>Diesel</td>\n",
       "      <td>1364</td>\n",
       "      <td>13999</td>\n",
       "      <td>PLN</td>\n",
       "      <td>2019-12-31</td>\n",
       "      <td>31</td>\n",
       "      <td>13900</td>\n",
       "    </tr>\n",
       "  </tbody>\n",
       "</table>\n",
       "</div>"
      ],
      "text/plain": [
       "     offer_id       city              region            model  year  mileage  \\\n",
       "0  6069449316    Prudnik            Opolskie  Toyota Yaris II  2009   153000   \n",
       "1  6068202189  Włocławek  Kujawsko-pomorskie  Toyota Yaris II  2008   110000   \n",
       "2  6067206317       Łódź             Łódzkie  Toyota Yaris II  2010   167938   \n",
       "\n",
       "  fuel_type  displacement  price currency    pub_date  duration  end_price  \n",
       "0    Diesel            -1  12999      PLN  2019-12-31         7      12999  \n",
       "1   Benzyna          1298  17600      PLN  2019-12-31        21      16900  \n",
       "2    Diesel          1364  13999      PLN  2019-12-31        31      13900  "
      ]
     },
     "execution_count": 2,
     "metadata": {},
     "output_type": "execute_result"
    }
   ],
   "source": [
    "df = pd.read_csv('my_df.csv')\n",
    "df.head(3)"
   ]
  },
  {
   "cell_type": "code",
   "execution_count": 3,
   "metadata": {},
   "outputs": [
    {
     "data": {
      "image/png": "[encoded data removed]",
      "text/plain": [
       "<Figure size 1440x1080 with 9 Axes>"
      ]
     },
     "metadata": {
      "needs_background": "light"
     },
     "output_type": "display_data"
    }
   ],
   "source": [
    "df.hist(bins=50,figsize=(20,15))\n",
    "plt.show()"
   ]
  },
  {
   "cell_type": "markdown",
   "metadata": {},
   "source": [
    "### Pojemność silnika"
   ]
  },
  {
   "cell_type": "code",
   "execution_count": 4,
   "metadata": {},
   "outputs": [
    {
     "data": {
      "image/png": "[encoded data removed]",
      "text/plain": [
       "<Figure size 1440x360 with 1 Axes>"
      ]
     },
     "metadata": {
      "needs_background": "light"
     },
     "output_type": "display_data"
    }
   ],
   "source": [
    "disp_counter = df['displacement'].nunique()\n",
    "df['displacement'].hist(bins=disp_counter,figsize=(20,5))\n",
    "plt.show()"
   ]
  },
  {
   "cell_type": "markdown",
   "metadata": {},
   "source": [
    "### Czas trwania ogłoszenia"
   ]
  },
  {
   "cell_type": "code",
   "execution_count": 5,
   "metadata": {},
   "outputs": [
    {
     "data": {
      "image/png": "[encoded data removed]",
      "text/plain": [
       "<Figure size 1440x360 with 1 Axes>"
      ]
     },
     "metadata": {
      "needs_background": "light"
     },
     "output_type": "display_data"
    }
   ],
   "source": [
    "offer_duration = df['duration'].max()\n",
    "df['duration'].hist(bins=offer_duration,figsize=(20,5))\n",
    "plt.show()"
   ]
  },
  {
   "cell_type": "markdown",
   "metadata": {},
   "source": [
    "### Cena końcowa"
   ]
  },
  {
   "cell_type": "code",
   "execution_count": 6,
   "metadata": {},
   "outputs": [
    {
     "data": {
      "image/png": "[encoded data removed]",
      "text/plain": [
       "<Figure size 1440x360 with 1 Axes>"
      ]
     },
     "metadata": {
      "needs_background": "light"
     },
     "output_type": "display_data"
    }
   ],
   "source": [
    "df['end_price'].hist(bins=150,figsize=(20,5))\n",
    "plt.show()"
   ]
  },
  {
   "cell_type": "code",
   "execution_count": 7,
   "metadata": {},
   "outputs": [
    {
     "data": {
      "text/plain": [
       "23684.00000000006"
      ]
     },
     "execution_count": 7,
     "metadata": {},
     "output_type": "execute_result"
    }
   ],
   "source": [
    "filter_max = np.percentile(df['end_price'],99)\n",
    "filter_max"
   ]
  },
  {
   "cell_type": "markdown",
   "metadata": {},
   "source": [
    "### Cena końcowa - 99 percentyl"
   ]
  },
  {
   "cell_type": "code",
   "execution_count": 8,
   "metadata": {},
   "outputs": [
    {
     "data": {
      "image/png": "[encoded data removed]",
      "text/plain": [
       "<Figure size 1440x360 with 1 Axes>"
      ]
     },
     "metadata": {
      "needs_background": "light"
     },
     "output_type": "display_data"
    }
   ],
   "source": [
    "df_filter = df[df['end_price'] < filter_max]\n",
    "df_filter['end_price'].hist(bins=150,figsize=(20,5))\n",
    "plt.show()"
   ]
  },
  {
   "cell_type": "markdown",
   "metadata": {},
   "source": [
    "### Przebieg"
   ]
  },
  {
   "cell_type": "code",
   "execution_count": 9,
   "metadata": {},
   "outputs": [
    {
     "data": {
      "image/png": "[encoded data removed]",
      "text/plain": [
       "<Figure size 1440x360 with 1 Axes>"
      ]
     },
     "metadata": {
      "needs_background": "light"
     },
     "output_type": "display_data"
    }
   ],
   "source": [
    "df['mileage'].hist(bins=150,figsize=(20,5))\n",
    "plt.show()"
   ]
  },
  {
   "cell_type": "markdown",
   "metadata": {},
   "source": [
    "### Przebieg - 99 percentyl"
   ]
  },
  {
   "cell_type": "code",
   "execution_count": 10,
   "metadata": {},
   "outputs": [
    {
     "data": {
      "image/png": "[encoded data removed]",
      "text/plain": [
       "<Figure size 1440x360 with 1 Axes>"
      ]
     },
     "metadata": {
      "needs_background": "light"
     },
     "output_type": "display_data"
    }
   ],
   "source": [
    "df_mileage = df[df['mileage'] < np.percentile(df['mileage'],99)]\n",
    "df_mileage['mileage'].hist(bins=150,figsize=(20,5))\n",
    "plt.show()"
   ]
  },
  {
   "cell_type": "code",
   "execution_count": 11,
   "metadata": {},
   "outputs": [
    {
     "data": {
      "image/png": "[encoded data removed]",
      "text/plain": [
       "<Figure size 1440x360 with 1 Axes>"
      ]
     },
     "metadata": {
      "needs_background": "light"
     },
     "output_type": "display_data"
    }
   ],
   "source": [
    "offer_year = df['year'].nunique()*2\n",
    "df['year'].hist(bins=offer_year,figsize=(20,5))\n",
    "plt.show()"
   ]
  },
  {
   "cell_type": "code",
   "execution_count": 12,
   "metadata": {},
   "outputs": [],
   "source": [
    "# TODO:\n",
    "# Różnica price - endprice\n"
   ]
  }
 ],
 "metadata": {
  "kernelspec": {
   "display_name": "Python 3",
   "language": "python",
   "name": "python3"
  },
  "language_info": {
   "codemirror_mode": {
    "name": "ipython",
    "version": 3
   },
   "file_extension": ".py",
   "mimetype": "text/x-python",
   "name": "python",
   "nbconvert_exporter": "python",
   "pygments_lexer": "ipython3",
   "version": "3.7.4"
  }
 },
 "nbformat": 4,
 "nbformat_minor": 2
}
